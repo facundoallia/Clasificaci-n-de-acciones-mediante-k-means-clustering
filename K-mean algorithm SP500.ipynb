{
 "cells": [
  {
   "cell_type": "markdown",
   "metadata": {},
   "source": [
    "# Stock classification using k-means clustering\n",
    "\n",
    "First we import the libraries that we are going to need to carry out the analysis:"
   ]
  },
  {
   "cell_type": "code",
   "execution_count": 65,
   "metadata": {},
   "outputs": [],
   "source": [
    "import numpy as np \n",
    "import pandas as pd\n",
    "import pandas_datareader as dr\n",
    "import yfinance as yf\n",
    "\n",
    "from pylab import plot,show\n",
    "from matplotlib import pyplot as plt\n",
    "import plotly.express as px\n",
    "\n",
    "from numpy.random import rand\n",
    "from scipy.cluster.vq import kmeans,vq\n",
    "from math import sqrt\n",
    "from sklearn.cluster import KMeans \n",
    "from sklearn import preprocessing"
   ]
  },
  {
   "cell_type": "markdown",
   "metadata": {},
   "source": [
    "## Load Data\n",
    "The S&P 500 consists of 500 companies representing all the sectors of the economy. The index covers only large-cap companies listed on the U.S. market, either the New York Stock Exchange or the Nasdaq. Because the S&P 500 represents the largest publicly traded companies in the U.S., it is considered one of the most widely quoted stock market indexes.\n",
    "\n",
    "By the following script we can scrape the web to collect the tickers for all the individual stocks within the S&P 500:"
   ]
  },
  {
   "cell_type": "code",
   "execution_count": 32,
   "metadata": {},
   "outputs": [],
   "source": [
    "# Define the url\n",
    "sp500_url = 'https://en.wikipedia.org/wiki/List_of_S%26P_500_companies'\n",
    "\n",
    "# Read in the url and scrape ticker data\n",
    "data_table = pd.read_html(sp500_url)\n",
    "tickers = data_table[0]['Symbol'].values.tolist()\n",
    "tickers = [s.replace('\\n', '') for s in tickers]\n",
    "tickers = [s.replace('.', '-') for s in tickers]\n",
    "tickers = [s.replace(' ', '') for s in tickers]\n"
   ]
  },
  {
   "cell_type": "code",
   "execution_count": null,
   "metadata": {},
   "outputs": [],
   "source": [
    "# Download prices\n",
    "prices_list = []\n",
    "for ticker in tickers:\n",
    "    try:\n",
    "        prices = dr.DataReader(ticker,'yahoo','01/01/2020')['Adj Close']\n",
    "        prices = pd.DataFrame(prices)\n",
    "        prices.columns = [ticker]\n",
    "        prices_list.append(prices)\n",
    "    except:\n",
    "        pass\n",
    "    prices_df = pd.concat(prices_list,axis=1)\n",
    "prices_df.sort_index(inplace=True)\n",
    "\n",
    "prices_df.head()"
   ]
  },
  {
   "cell_type": "markdown",
   "metadata": {},
   "source": [
    "We obtain a dataframe with 737 entries, with the adjusted closing prices from 2020-01-02 to 2022-12-02 of the 500 companies analyzed."
   ]
  },
  {
   "cell_type": "code",
   "execution_count": 4,
   "metadata": {},
   "outputs": [
    {
     "name": "stdout",
     "output_type": "stream",
     "text": [
      "<class 'pandas.core.frame.DataFrame'>\n",
      "DatetimeIndex: 737 entries, 2020-01-02 to 2022-12-02\n",
      "Columns: 500 entries, MMM to ZTS\n",
      "dtypes: float64(500)\n",
      "memory usage: 2.8 MB\n"
     ]
    }
   ],
   "source": [
    "prices_df.info()"
   ]
  },
  {
   "cell_type": "markdown",
   "metadata": {},
   "source": [
    "Calculate average annual percentage return and volatilities over a theoretical one year period"
   ]
  },
  {
   "cell_type": "code",
   "execution_count": 85,
   "metadata": {},
   "outputs": [
    {
     "data": {
      "text/html": [
       "<div>\n",
       "<style scoped>\n",
       "    .dataframe tbody tr th:only-of-type {\n",
       "        vertical-align: middle;\n",
       "    }\n",
       "\n",
       "    .dataframe tbody tr th {\n",
       "        vertical-align: top;\n",
       "    }\n",
       "\n",
       "    .dataframe thead th {\n",
       "        text-align: right;\n",
       "    }\n",
       "</style>\n",
       "<table border=\"1\" class=\"dataframe\">\n",
       "  <thead>\n",
       "    <tr style=\"text-align: right;\">\n",
       "      <th></th>\n",
       "      <th>Returns</th>\n",
       "      <th>Volatility</th>\n",
       "    </tr>\n",
       "  </thead>\n",
       "  <tbody>\n",
       "    <tr>\n",
       "      <th>MMM</th>\n",
       "      <td>-0.039995</td>\n",
       "      <td>0.289597</td>\n",
       "    </tr>\n",
       "    <tr>\n",
       "      <th>AOS</th>\n",
       "      <td>0.153573</td>\n",
       "      <td>0.329671</td>\n",
       "    </tr>\n",
       "    <tr>\n",
       "      <th>ABT</th>\n",
       "      <td>0.136395</td>\n",
       "      <td>0.302041</td>\n",
       "    </tr>\n",
       "    <tr>\n",
       "      <th>ABBV</th>\n",
       "      <td>0.290401</td>\n",
       "      <td>0.268504</td>\n",
       "    </tr>\n",
       "    <tr>\n",
       "      <th>ABMD</th>\n",
       "      <td>0.395636</td>\n",
       "      <td>0.510413</td>\n",
       "    </tr>\n",
       "  </tbody>\n",
       "</table>\n",
       "</div>"
      ],
      "text/plain": [
       "       Returns  Volatility\n",
       "MMM  -0.039995    0.289597\n",
       "AOS   0.153573    0.329671\n",
       "ABT   0.136395    0.302041\n",
       "ABBV  0.290401    0.268504\n",
       "ABMD  0.395636    0.510413"
      ]
     },
     "execution_count": 85,
     "metadata": {},
     "output_type": "execute_result"
    }
   ],
   "source": [
    "# Create an empity dataframe\n",
    "returns = pd.DataFrame()\n",
    "\n",
    "# Define the column Returns\n",
    "returns['Returns'] = prices_df.pct_change().mean() * 252\n",
    "\n",
    "# Define the column Volatility\n",
    "returns['Volatility'] = prices_df.pct_change().std() * sqrt(252)\n",
    "\n",
    "returns.head()"
   ]
  },
  {
   "cell_type": "markdown",
   "metadata": {},
   "source": [
    "## Determine the optimal number of clusters\n",
    "The Elbow curve method is a technique used to determine the optimal number of clusters for a K-means clustering. The method works by plotting the sum of squared errors (SSE) for different values of k (number of clusters). The optimal number of clusters is the value of k at which the SSE starts to decrease at a slower rate. The optimal number of clusters is determined by finding the elbow or the point at which the SSE reaches its minimum value. In this case, the optimal number of clusters is 4."
   ]
  },
  {
   "cell_type": "code",
   "execution_count": 86,
   "metadata": {},
   "outputs": [
    {
     "data": {
      "text/plain": [
       "Text(0.5, 1.0, 'Elbow curve')"
      ]
     },
     "execution_count": 86,
     "metadata": {},
     "output_type": "execute_result"
    },
    {
     "data": {
      "image/png": "[encoded data removed]",
      "text/plain": [
       "<Figure size 1500x500 with 1 Axes>"
      ]
     },
     "metadata": {},
     "output_type": "display_data"
    }
   ],
   "source": [
    "# Format the data as a numpy array to feed into the K-Means algorithm\n",
    "data = np.asarray([np.asarray(returns['Returns']),np.asarray(returns['Volatility'])]).T\n",
    "X = data\n",
    "distorsions = []\n",
    "for k in range(2, 20):\n",
    "    k_means = KMeans(n_clusters=k)\n",
    "    k_means.fit(X)\n",
    "    distorsions.append(k_means.inertia_)\n",
    "fig = plt.figure(figsize=(15, 5))\n",
    "\n",
    "plt.plot(range(2, 20), distorsions)\n",
    "plt.grid(True)\n",
    "plt.title('Elbow curve')"
   ]
  },
  {
   "cell_type": "markdown",
   "metadata": {},
   "source": [
    "## K-means clustering\n",
    "K-means clustering is an unsupervised learning algorithm used to group data points into clusters. In the context of creating 4 clusters of stocks using K-means algorithm, the algorithm will iteratively assign data points to clusters based on their similarity of characteristics, or \"features\", such as returns and volatility. The algorithm initially assigns the data points randomly to the clusters, and then calculates the centroid of each cluster, which is the mean of all the data points within the cluster. The algorithm then compares the data points to the centroid and reassigns them to clusters accordingly. This process is repeated until the centroid of each cluster remains relatively stable, at which point the algorithm stops and each cluster is assigned a label. The end result is a set of 4 clusters, each containing stocks that have similar returns and volatilities."
   ]
  },
  {
   "cell_type": "code",
   "execution_count": 87,
   "metadata": {},
   "outputs": [],
   "source": [
    "# Computing K-Means with K = 4 (4 clusters)\n",
    "centroids,_ = kmeans(data,4)\n",
    "\n",
    "# Assign each sample to a cluster\n",
    "idx,_ = vq(data,centroids)"
   ]
  },
  {
   "cell_type": "code",
   "execution_count": 89,
   "metadata": {},
   "outputs": [
    {
     "data": {
      "text/html": [
       "<div>\n",
       "<style scoped>\n",
       "    .dataframe tbody tr th:only-of-type {\n",
       "        vertical-align: middle;\n",
       "    }\n",
       "\n",
       "    .dataframe tbody tr th {\n",
       "        vertical-align: top;\n",
       "    }\n",
       "\n",
       "    .dataframe thead th {\n",
       "        text-align: right;\n",
       "    }\n",
       "</style>\n",
       "<table border=\"1\" class=\"dataframe\">\n",
       "  <thead>\n",
       "    <tr style=\"text-align: right;\">\n",
       "      <th></th>\n",
       "      <th>Ticker</th>\n",
       "      <th>Cluster</th>\n",
       "    </tr>\n",
       "  </thead>\n",
       "  <tbody>\n",
       "    <tr>\n",
       "      <th>0</th>\n",
       "      <td>MMM</td>\n",
       "      <td>2</td>\n",
       "    </tr>\n",
       "    <tr>\n",
       "      <th>1</th>\n",
       "      <td>AOS</td>\n",
       "      <td>3</td>\n",
       "    </tr>\n",
       "    <tr>\n",
       "      <th>2</th>\n",
       "      <td>ABT</td>\n",
       "      <td>2</td>\n",
       "    </tr>\n",
       "    <tr>\n",
       "      <th>3</th>\n",
       "      <td>ABBV</td>\n",
       "      <td>3</td>\n",
       "    </tr>\n",
       "    <tr>\n",
       "      <th>4</th>\n",
       "      <td>ABMD</td>\n",
       "      <td>0</td>\n",
       "    </tr>\n",
       "    <tr>\n",
       "      <th>...</th>\n",
       "      <td>...</td>\n",
       "      <td>...</td>\n",
       "    </tr>\n",
       "    <tr>\n",
       "      <th>498</th>\n",
       "      <td>YUM</td>\n",
       "      <td>2</td>\n",
       "    </tr>\n",
       "    <tr>\n",
       "      <th>499</th>\n",
       "      <td>ZBRA</td>\n",
       "      <td>2</td>\n",
       "    </tr>\n",
       "    <tr>\n",
       "      <th>500</th>\n",
       "      <td>ZBH</td>\n",
       "      <td>2</td>\n",
       "    </tr>\n",
       "    <tr>\n",
       "      <th>501</th>\n",
       "      <td>ZION</td>\n",
       "      <td>1</td>\n",
       "    </tr>\n",
       "    <tr>\n",
       "      <th>502</th>\n",
       "      <td>ZTS</td>\n",
       "      <td>2</td>\n",
       "    </tr>\n",
       "  </tbody>\n",
       "</table>\n",
       "<p>503 rows × 2 columns</p>\n",
       "</div>"
      ],
      "text/plain": [
       "    Ticker  Cluster\n",
       "0      MMM        2\n",
       "1      AOS        3\n",
       "2      ABT        2\n",
       "3     ABBV        3\n",
       "4     ABMD        0\n",
       "..     ...      ...\n",
       "498    YUM        2\n",
       "499   ZBRA        2\n",
       "500    ZBH        2\n",
       "501   ZION        1\n",
       "502    ZTS        2\n",
       "\n",
       "[503 rows x 2 columns]"
      ]
     },
     "execution_count": 89,
     "metadata": {},
     "output_type": "execute_result"
    }
   ],
   "source": [
    "# Create a dataframe with the tickers and the clusters that's belong to\n",
    "details = [(name,cluster) for name, cluster in zip(returns.index,idx)]\n",
    "details_df = pd.DataFrame(details)\n",
    "\n",
    "# Rename columns\n",
    "details_df.columns = ['Ticker','Cluster']\n",
    "\n",
    "# Print dataframe\n",
    "details_df"
   ]
  },
  {
   "cell_type": "code",
   "execution_count": 90,
   "metadata": {},
   "outputs": [
    {
     "data": {
      "text/html": [
       "<div>\n",
       "<style scoped>\n",
       "    .dataframe tbody tr th:only-of-type {\n",
       "        vertical-align: middle;\n",
       "    }\n",
       "\n",
       "    .dataframe tbody tr th {\n",
       "        vertical-align: top;\n",
       "    }\n",
       "\n",
       "    .dataframe thead th {\n",
       "        text-align: right;\n",
       "    }\n",
       "</style>\n",
       "<table border=\"1\" class=\"dataframe\">\n",
       "  <thead>\n",
       "    <tr style=\"text-align: right;\">\n",
       "      <th></th>\n",
       "      <th>Ticker</th>\n",
       "      <th>Returns</th>\n",
       "      <th>Volatility</th>\n",
       "      <th>Cluster</th>\n",
       "    </tr>\n",
       "  </thead>\n",
       "  <tbody>\n",
       "    <tr>\n",
       "      <th>0</th>\n",
       "      <td>MMM</td>\n",
       "      <td>-0.039995</td>\n",
       "      <td>0.289597</td>\n",
       "      <td>2</td>\n",
       "    </tr>\n",
       "    <tr>\n",
       "      <th>1</th>\n",
       "      <td>AOS</td>\n",
       "      <td>0.153573</td>\n",
       "      <td>0.329671</td>\n",
       "      <td>3</td>\n",
       "    </tr>\n",
       "    <tr>\n",
       "      <th>2</th>\n",
       "      <td>ABT</td>\n",
       "      <td>0.136395</td>\n",
       "      <td>0.302041</td>\n",
       "      <td>2</td>\n",
       "    </tr>\n",
       "    <tr>\n",
       "      <th>3</th>\n",
       "      <td>ABBV</td>\n",
       "      <td>0.290401</td>\n",
       "      <td>0.268504</td>\n",
       "      <td>3</td>\n",
       "    </tr>\n",
       "    <tr>\n",
       "      <th>4</th>\n",
       "      <td>ABMD</td>\n",
       "      <td>0.395636</td>\n",
       "      <td>0.510413</td>\n",
       "      <td>0</td>\n",
       "    </tr>\n",
       "    <tr>\n",
       "      <th>...</th>\n",
       "      <td>...</td>\n",
       "      <td>...</td>\n",
       "      <td>...</td>\n",
       "      <td>...</td>\n",
       "    </tr>\n",
       "    <tr>\n",
       "      <th>498</th>\n",
       "      <td>YUM</td>\n",
       "      <td>0.143062</td>\n",
       "      <td>0.311993</td>\n",
       "      <td>2</td>\n",
       "    </tr>\n",
       "    <tr>\n",
       "      <th>499</th>\n",
       "      <td>ZBRA</td>\n",
       "      <td>0.111862</td>\n",
       "      <td>0.427071</td>\n",
       "      <td>2</td>\n",
       "    </tr>\n",
       "    <tr>\n",
       "      <th>500</th>\n",
       "      <td>ZBH</td>\n",
       "      <td>0.017178</td>\n",
       "      <td>0.370376</td>\n",
       "      <td>2</td>\n",
       "    </tr>\n",
       "    <tr>\n",
       "      <th>501</th>\n",
       "      <td>ZION</td>\n",
       "      <td>0.119896</td>\n",
       "      <td>0.459492</td>\n",
       "      <td>1</td>\n",
       "    </tr>\n",
       "    <tr>\n",
       "      <th>502</th>\n",
       "      <td>ZTS</td>\n",
       "      <td>0.109322</td>\n",
       "      <td>0.315721</td>\n",
       "      <td>2</td>\n",
       "    </tr>\n",
       "  </tbody>\n",
       "</table>\n",
       "<p>503 rows × 4 columns</p>\n",
       "</div>"
      ],
      "text/plain": [
       "    Ticker   Returns  Volatility  Cluster\n",
       "0      MMM -0.039995    0.289597        2\n",
       "1      AOS  0.153573    0.329671        3\n",
       "2      ABT  0.136395    0.302041        2\n",
       "3     ABBV  0.290401    0.268504        3\n",
       "4     ABMD  0.395636    0.510413        0\n",
       "..     ...       ...         ...      ...\n",
       "498    YUM  0.143062    0.311993        2\n",
       "499   ZBRA  0.111862    0.427071        2\n",
       "500    ZBH  0.017178    0.370376        2\n",
       "501   ZION  0.119896    0.459492        1\n",
       "502    ZTS  0.109322    0.315721        2\n",
       "\n",
       "[503 rows x 4 columns]"
      ]
     },
     "execution_count": 90,
     "metadata": {},
     "output_type": "execute_result"
    }
   ],
   "source": [
    "# Create another dataframe with the tickers and data from each stock\n",
    "clusters_df = returns.reset_index()\n",
    "\n",
    "# Bring the clusters information from the dataframe 'details_df'\n",
    "clusters_df['Cluster'] = details_df['Cluster']\n",
    "\n",
    "# Rename columns\n",
    "clusters_df.columns = ['Ticker', 'Returns', 'Volatility', 'Cluster']\n",
    "\n",
    "# Print dataframe\n",
    "clusters_df"
   ]
  },
  {
   "cell_type": "code",
   "execution_count": 91,
   "metadata": {},
   "outputs": [
    {
     "data": {
      "application/vnd.plotly.v1+json": {
       "config": {
        "plotlyServerURL": "https://plot.ly"
       },
       "data": [
        {
         "customdata": [
          [
           "MMM"
          ],
          [
           "AOS"
          ],
          [
           "ABT"
          ],
          [
           "ABBV"
          ],
          [
           "ABMD"
          ],
          [
           "ACN"
          ],
          [
           "ATVI"
          ],
          [
           "ADM"
          ],
          [
           "ADBE"
          ],
          [
           "ADP"
          ],
          [
           "AAP"
          ],
          [
           "AES"
          ],
          [
           "AFL"
          ],
          [
           "A"
          ],
          [
           "APD"
          ],
          [
           "AKAM"
          ],
          [
           "ALK"
          ],
          [
           "ALB"
          ],
          [
           "ARE"
          ],
          [
           "ALGN"
          ],
          [
           "ALLE"
          ],
          [
           "LNT"
          ],
          [
           "ALL"
          ],
          [
           "GOOGL"
          ],
          [
           "GOOG"
          ],
          [
           "MO"
          ],
          [
           "AMZN"
          ],
          [
           "AMCR"
          ],
          [
           "AMD"
          ],
          [
           "AEE"
          ],
          [
           "AAL"
          ],
          [
           "AEP"
          ],
          [
           "AXP"
          ],
          [
           "AIG"
          ],
          [
           "AMT"
          ],
          [
           "AWK"
          ],
          [
           "AMP"
          ],
          [
           "ABC"
          ],
          [
           "AME"
          ],
          [
           "AMGN"
          ],
          [
           "APH"
          ],
          [
           "ADI"
          ],
          [
           "ANSS"
          ],
          [
           "AON"
          ],
          [
           "APA"
          ],
          [
           "AAPL"
          ],
          [
           "AMAT"
          ],
          [
           "APTV"
          ],
          [
           "ACGL"
          ],
          [
           "ANET"
          ],
          [
           "AJG"
          ],
          [
           "AIZ"
          ],
          [
           "T"
          ],
          [
           "ATO"
          ],
          [
           "ADSK"
          ],
          [
           "AZO"
          ],
          [
           "AVB"
          ],
          [
           "AVY"
          ],
          [
           "BKR"
          ],
          [
           "BALL"
          ],
          [
           "BAC"
          ],
          [
           "BBWI"
          ],
          [
           "BAX"
          ],
          [
           "BDX"
          ],
          [
           "WRB"
          ],
          [
           "BRK-B"
          ],
          [
           "BBY"
          ],
          [
           "BIO"
          ],
          [
           "TECH"
          ],
          [
           "BIIB"
          ],
          [
           "BLK"
          ],
          [
           "BK"
          ],
          [
           "BA"
          ],
          [
           "BKNG"
          ],
          [
           "BWA"
          ],
          [
           "BXP"
          ],
          [
           "BSX"
          ],
          [
           "BMY"
          ],
          [
           "AVGO"
          ],
          [
           "BR"
          ],
          [
           "BRO"
          ],
          [
           "BF-B"
          ],
          [
           "CHRW"
          ],
          [
           "CDNS"
          ],
          [
           "CZR"
          ],
          [
           "CPT"
          ],
          [
           "CPB"
          ],
          [
           "COF"
          ],
          [
           "CAH"
          ],
          [
           "KMX"
          ],
          [
           "CCL"
          ],
          [
           "CARR"
          ],
          [
           "CTLT"
          ],
          [
           "CAT"
          ],
          [
           "CBOE"
          ],
          [
           "CBRE"
          ],
          [
           "CDW"
          ],
          [
           "CE"
          ],
          [
           "CNC"
          ],
          [
           "CNP"
          ],
          [
           "CDAY"
          ],
          [
           "CF"
          ],
          [
           "CRL"
          ],
          [
           "SCHW"
          ],
          [
           "CHTR"
          ],
          [
           "CVX"
          ],
          [
           "CMG"
          ],
          [
           "CB"
          ],
          [
           "CHD"
          ],
          [
           "CI"
          ],
          [
           "CINF"
          ],
          [
           "CTAS"
          ],
          [
           "CSCO"
          ],
          [
           "C"
          ],
          [
           "CFG"
          ],
          [
           "CLX"
          ],
          [
           "CME"
          ],
          [
           "CMS"
          ],
          [
           "KO"
          ],
          [
           "CTSH"
          ],
          [
           "CL"
          ],
          [
           "CMCSA"
          ],
          [
           "CMA"
          ],
          [
           "CAG"
          ],
          [
           "COP"
          ],
          [
           "ED"
          ],
          [
           "STZ"
          ],
          [
           "CEG"
          ],
          [
           "COO"
          ],
          [
           "CPRT"
          ],
          [
           "GLW"
          ],
          [
           "CTVA"
          ],
          [
           "CSGP"
          ],
          [
           "COST"
          ],
          [
           "CTRA"
          ],
          [
           "CCI"
          ],
          [
           "CSX"
          ],
          [
           "CMI"
          ],
          [
           "CVS"
          ],
          [
           "DHI"
          ],
          [
           "DHR"
          ],
          [
           "DRI"
          ],
          [
           "DVA"
          ],
          [
           "DE"
          ],
          [
           "DAL"
          ],
          [
           "XRAY"
          ],
          [
           "DVN"
          ],
          [
           "DXCM"
          ],
          [
           "FANG"
          ],
          [
           "DLR"
          ],
          [
           "DFS"
          ],
          [
           "DISH"
          ],
          [
           "DIS"
          ],
          [
           "DG"
          ],
          [
           "DLTR"
          ],
          [
           "D"
          ],
          [
           "DPZ"
          ],
          [
           "DOV"
          ],
          [
           "DOW"
          ],
          [
           "DTE"
          ],
          [
           "DUK"
          ],
          [
           "DD"
          ],
          [
           "DXC"
          ],
          [
           "EMN"
          ],
          [
           "ETN"
          ],
          [
           "EBAY"
          ],
          [
           "ECL"
          ],
          [
           "EIX"
          ],
          [
           "EW"
          ],
          [
           "EA"
          ],
          [
           "ELV"
          ],
          [
           "LLY"
          ],
          [
           "EMR"
          ],
          [
           "ENPH"
          ],
          [
           "ETR"
          ],
          [
           "EOG"
          ],
          [
           "EPAM"
          ],
          [
           "EQT"
          ],
          [
           "EFX"
          ],
          [
           "EQIX"
          ],
          [
           "EQR"
          ],
          [
           "ESS"
          ],
          [
           "EL"
          ],
          [
           "ETSY"
          ],
          [
           "RE"
          ],
          [
           "EVRG"
          ],
          [
           "ES"
          ],
          [
           "EXC"
          ],
          [
           "EXPE"
          ],
          [
           "EXPD"
          ],
          [
           "EXR"
          ],
          [
           "XOM"
          ],
          [
           "FFIV"
          ],
          [
           "FDS"
          ],
          [
           "FAST"
          ],
          [
           "FRT"
          ],
          [
           "FDX"
          ],
          [
           "FITB"
          ],
          [
           "FRC"
          ],
          [
           "FE"
          ],
          [
           "FIS"
          ],
          [
           "FISV"
          ],
          [
           "FLT"
          ],
          [
           "FMC"
          ],
          [
           "F"
          ],
          [
           "FTNT"
          ],
          [
           "FTV"
          ],
          [
           "FBHS"
          ],
          [
           "FOXA"
          ],
          [
           "FOX"
          ],
          [
           "BEN"
          ],
          [
           "FCX"
          ],
          [
           "GRMN"
          ],
          [
           "IT"
          ],
          [
           "GEN"
          ],
          [
           "GNRC"
          ],
          [
           "GD"
          ],
          [
           "GE"
          ],
          [
           "GIS"
          ],
          [
           "GM"
          ],
          [
           "GPC"
          ],
          [
           "GILD"
          ],
          [
           "GL"
          ],
          [
           "GPN"
          ],
          [
           "GS"
          ],
          [
           "HAL"
          ],
          [
           "HIG"
          ],
          [
           "HAS"
          ],
          [
           "HCA"
          ],
          [
           "PEAK"
          ],
          [
           "HSIC"
          ],
          [
           "HSY"
          ],
          [
           "HES"
          ],
          [
           "HPE"
          ],
          [
           "HLT"
          ],
          [
           "HOLX"
          ],
          [
           "HD"
          ],
          [
           "HON"
          ],
          [
           "HRL"
          ],
          [
           "HST"
          ],
          [
           "HWM"
          ],
          [
           "HPQ"
          ],
          [
           "HUM"
          ],
          [
           "HBAN"
          ],
          [
           "HII"
          ],
          [
           "IBM"
          ],
          [
           "IEX"
          ],
          [
           "IDXX"
          ],
          [
           "ITW"
          ],
          [
           "ILMN"
          ],
          [
           "INCY"
          ],
          [
           "IR"
          ],
          [
           "INTC"
          ],
          [
           "ICE"
          ],
          [
           "IP"
          ],
          [
           "IPG"
          ],
          [
           "IFF"
          ],
          [
           "INTU"
          ],
          [
           "ISRG"
          ],
          [
           "IVZ"
          ],
          [
           "INVH"
          ],
          [
           "IQV"
          ],
          [
           "IRM"
          ],
          [
           "JBHT"
          ],
          [
           "JKHY"
          ],
          [
           "J"
          ],
          [
           "JNJ"
          ],
          [
           "JCI"
          ],
          [
           "JPM"
          ],
          [
           "JNPR"
          ],
          [
           "K"
          ],
          [
           "KDP"
          ],
          [
           "KEY"
          ],
          [
           "KEYS"
          ],
          [
           "KMB"
          ],
          [
           "KIM"
          ],
          [
           "KMI"
          ],
          [
           "KLAC"
          ],
          [
           "KHC"
          ],
          [
           "KR"
          ],
          [
           "LHX"
          ],
          [
           "LH"
          ],
          [
           "LRCX"
          ],
          [
           "LW"
          ],
          [
           "LVS"
          ],
          [
           "LDOS"
          ],
          [
           "LEN"
          ],
          [
           "LNC"
          ],
          [
           "LIN"
          ],
          [
           "LYV"
          ],
          [
           "LKQ"
          ],
          [
           "LMT"
          ],
          [
           "L"
          ],
          [
           "LOW"
          ],
          [
           "LUMN"
          ],
          [
           "LYB"
          ],
          [
           "MTB"
          ],
          [
           "MRO"
          ],
          [
           "MPC"
          ],
          [
           "MKTX"
          ],
          [
           "MAR"
          ],
          [
           "MMC"
          ],
          [
           "MLM"
          ],
          [
           "MAS"
          ],
          [
           "MA"
          ],
          [
           "MTCH"
          ],
          [
           "MKC"
          ],
          [
           "MCD"
          ],
          [
           "MCK"
          ],
          [
           "MDT"
          ],
          [
           "MRK"
          ],
          [
           "META"
          ],
          [
           "MET"
          ],
          [
           "MTD"
          ],
          [
           "MGM"
          ],
          [
           "MCHP"
          ],
          [
           "MU"
          ],
          [
           "MSFT"
          ],
          [
           "MAA"
          ],
          [
           "MRNA"
          ],
          [
           "MHK"
          ],
          [
           "MOH"
          ],
          [
           "TAP"
          ],
          [
           "MDLZ"
          ],
          [
           "MPWR"
          ],
          [
           "MNST"
          ],
          [
           "MCO"
          ],
          [
           "MS"
          ],
          [
           "MOS"
          ],
          [
           "MSI"
          ],
          [
           "MSCI"
          ],
          [
           "NDAQ"
          ],
          [
           "NTAP"
          ],
          [
           "NFLX"
          ],
          [
           "NWL"
          ],
          [
           "NEM"
          ],
          [
           "NWSA"
          ],
          [
           "NWS"
          ],
          [
           "NEE"
          ],
          [
           "NKE"
          ],
          [
           "NI"
          ],
          [
           "NDSN"
          ],
          [
           "NSC"
          ],
          [
           "NTRS"
          ],
          [
           "NOC"
          ],
          [
           "NCLH"
          ],
          [
           "NRG"
          ],
          [
           "NUE"
          ],
          [
           "NVDA"
          ],
          [
           "NVR"
          ],
          [
           "NXPI"
          ],
          [
           "ORLY"
          ],
          [
           "OXY"
          ],
          [
           "ODFL"
          ],
          [
           "OMC"
          ],
          [
           "ON"
          ],
          [
           "OKE"
          ],
          [
           "ORCL"
          ],
          [
           "OGN"
          ],
          [
           "OTIS"
          ],
          [
           "PCAR"
          ],
          [
           "PKG"
          ],
          [
           "PARA"
          ],
          [
           "PH"
          ],
          [
           "PAYX"
          ],
          [
           "PAYC"
          ],
          [
           "PYPL"
          ],
          [
           "PNR"
          ],
          [
           "PEP"
          ],
          [
           "PKI"
          ],
          [
           "PFE"
          ],
          [
           "PCG"
          ],
          [
           "PM"
          ],
          [
           "PSX"
          ],
          [
           "PNW"
          ],
          [
           "PXD"
          ],
          [
           "PNC"
          ],
          [
           "POOL"
          ],
          [
           "PPG"
          ],
          [
           "PPL"
          ],
          [
           "PFG"
          ],
          [
           "PG"
          ],
          [
           "PGR"
          ],
          [
           "PLD"
          ],
          [
           "PRU"
          ],
          [
           "PEG"
          ],
          [
           "PTC"
          ],
          [
           "PSA"
          ],
          [
           "PHM"
          ],
          [
           "QRVO"
          ],
          [
           "PWR"
          ],
          [
           "QCOM"
          ],
          [
           "DGX"
          ],
          [
           "RL"
          ],
          [
           "RJF"
          ],
          [
           "RTX"
          ],
          [
           "O"
          ],
          [
           "REG"
          ],
          [
           "REGN"
          ],
          [
           "RF"
          ],
          [
           "RSG"
          ],
          [
           "RMD"
          ],
          [
           "RHI"
          ],
          [
           "ROK"
          ],
          [
           "ROL"
          ],
          [
           "ROP"
          ],
          [
           "ROST"
          ],
          [
           "RCL"
          ],
          [
           "SPGI"
          ],
          [
           "CRM"
          ],
          [
           "SBAC"
          ],
          [
           "SLB"
          ],
          [
           "STX"
          ],
          [
           "SEE"
          ],
          [
           "SRE"
          ],
          [
           "NOW"
          ],
          [
           "SHW"
          ],
          [
           "SBNY"
          ],
          [
           "SPG"
          ],
          [
           "SWKS"
          ],
          [
           "SJM"
          ],
          [
           "SNA"
          ],
          [
           "SEDG"
          ],
          [
           "SO"
          ],
          [
           "LUV"
          ],
          [
           "SWK"
          ],
          [
           "SBUX"
          ],
          [
           "STT"
          ],
          [
           "STE"
          ],
          [
           "SYK"
          ],
          [
           "SIVB"
          ],
          [
           "SYF"
          ],
          [
           "SNPS"
          ],
          [
           "SYY"
          ],
          [
           "TMUS"
          ],
          [
           "TROW"
          ],
          [
           "TTWO"
          ],
          [
           "TPR"
          ],
          [
           "TRGP"
          ],
          [
           "TGT"
          ],
          [
           "TEL"
          ],
          [
           "TDY"
          ],
          [
           "TFX"
          ],
          [
           "TER"
          ],
          [
           "TSLA"
          ],
          [
           "TXN"
          ],
          [
           "TXT"
          ],
          [
           "TMO"
          ],
          [
           "TJX"
          ],
          [
           "TSCO"
          ],
          [
           "TT"
          ],
          [
           "TDG"
          ],
          [
           "TRV"
          ],
          [
           "TRMB"
          ],
          [
           "TFC"
          ],
          [
           "TYL"
          ],
          [
           "TSN"
          ],
          [
           "USB"
          ],
          [
           "UDR"
          ],
          [
           "ULTA"
          ],
          [
           "UNP"
          ],
          [
           "UAL"
          ],
          [
           "UPS"
          ],
          [
           "URI"
          ],
          [
           "UNH"
          ],
          [
           "UHS"
          ],
          [
           "VLO"
          ],
          [
           "VTR"
          ],
          [
           "VRSN"
          ],
          [
           "VRSK"
          ],
          [
           "VZ"
          ],
          [
           "VRTX"
          ],
          [
           "VFC"
          ],
          [
           "VTRS"
          ],
          [
           "VICI"
          ],
          [
           "V"
          ],
          [
           "VNO"
          ],
          [
           "VMC"
          ],
          [
           "WAB"
          ],
          [
           "WBA"
          ],
          [
           "WMT"
          ],
          [
           "WBD"
          ],
          [
           "WM"
          ],
          [
           "WAT"
          ],
          [
           "WEC"
          ],
          [
           "WFC"
          ],
          [
           "WELL"
          ],
          [
           "WST"
          ],
          [
           "WDC"
          ],
          [
           "WRK"
          ],
          [
           "WY"
          ],
          [
           "WHR"
          ],
          [
           "WMB"
          ],
          [
           "WTW"
          ],
          [
           "GWW"
          ],
          [
           "WYNN"
          ],
          [
           "XEL"
          ],
          [
           "XYL"
          ],
          [
           "YUM"
          ],
          [
           "ZBRA"
          ],
          [
           "ZBH"
          ],
          [
           "ZION"
          ],
          [
           "ZTS"
          ]
         ],
         "hovertemplate": "Returns=%{x}<br>Volatility=%{y}<br>Ticker=%{customdata[0]}<br>Cluster=%{marker.color}<extra></extra>",
         "legendgroup": "",
         "marker": {
          "color": [
           2,
           3,
           2,
           3,
           0,
           3,
           3,
           3,
           2,
           3,
           2,
           3,
           3,
           3,
           3,
           2,
           1,
           0,
           2,
           1,
           2,
           2,
           2,
           3,
           3,
           2,
           2,
           3,
           1,
           2,
           1,
           2,
           1,
           1,
           2,
           3,
           3,
           3,
           3,
           2,
           3,
           3,
           2,
           3,
           0,
           3,
           3,
           1,
           3,
           3,
           3,
           2,
           2,
           2,
           1,
           3,
           2,
           3,
           1,
           2,
           2,
           0,
           2,
           2,
           3,
           2,
           1,
           2,
           3,
           1,
           3,
           2,
           1,
           2,
           2,
           2,
           2,
           2,
           3,
           2,
           3,
           2,
           3,
           3,
           0,
           2,
           2,
           1,
           3,
           1,
           1,
           0,
           1,
           3,
           2,
           3,
           3,
           2,
           3,
           3,
           1,
           0,
           3,
           3,
           2,
           3,
           3,
           3,
           2,
           3,
           2,
           3,
           2,
           2,
           1,
           2,
           2,
           2,
           2,
           2,
           2,
           2,
           1,
           2,
           0,
           2,
           3,
           0,
           2,
           3,
           2,
           3,
           3,
           3,
           3,
           2,
           3,
           3,
           3,
           3,
           3,
           1,
           2,
           3,
           1,
           2,
           0,
           0,
           0,
           2,
           1,
           1,
           2,
           3,
           3,
           2,
           3,
           2,
           1,
           2,
           2,
           2,
           1,
           2,
           3,
           3,
           2,
           2,
           2,
           2,
           3,
           3,
           3,
           0,
           2,
           0,
           0,
           0,
           3,
           2,
           2,
           2,
           2,
           0,
           3,
           2,
           2,
           3,
           1,
           3,
           3,
           3,
           2,
           3,
           3,
           1,
           3,
           1,
           2,
           2,
           2,
           2,
           2,
           3,
           1,
           0,
           2,
           2,
           2,
           2,
           1,
           0,
           2,
           3,
           2,
           1,
           3,
           1,
           3,
           1,
           3,
           3,
           2,
           2,
           3,
           0,
           3,
           2,
           3,
           2,
           2,
           3,
           0,
           2,
           3,
           3,
           3,
           2,
           2,
           1,
           1,
           3,
           3,
           1,
           2,
           2,
           3,
           3,
           2,
           2,
           2,
           3,
           2,
           2,
           2,
           3,
           2,
           3,
           3,
           1,
           2,
           3,
           3,
           3,
           3,
           3,
           2,
           3,
           2,
           3,
           2,
           3,
           1,
           3,
           2,
           1,
           2,
           0,
           3,
           3,
           2,
           3,
           1,
           2,
           1,
           2,
           1,
           1,
           3,
           1,
           3,
           2,
           2,
           3,
           2,
           1,
           1,
           0,
           0,
           2,
           1,
           3,
           3,
           2,
           2,
           1,
           2,
           3,
           3,
           2,
           2,
           2,
           3,
           3,
           1,
           1,
           1,
           3,
           3,
           0,
           1,
           3,
           2,
           2,
           0,
           3,
           3,
           3,
           0,
           3,
           3,
           3,
           2,
           1,
           2,
           2,
           3,
           3,
           3,
           2,
           2,
           3,
           3,
           2,
           3,
           1,
           2,
           0,
           0,
           3,
           1,
           3,
           0,
           3,
           2,
           0,
           1,
           3,
           2,
           3,
           3,
           3,
           1,
           3,
           3,
           1,
           1,
           2,
           3,
           3,
           3,
           1,
           3,
           1,
           2,
           1,
           2,
           3,
           2,
           2,
           3,
           2,
           3,
           3,
           1,
           2,
           3,
           3,
           1,
           1,
           0,
           3,
           3,
           1,
           3,
           2,
           2,
           1,
           3,
           1,
           3,
           3,
           3,
           3,
           3,
           2,
           1,
           1,
           3,
           2,
           2,
           1,
           2,
           3,
           2,
           1,
           3,
           1,
           1,
           2,
           3,
           3,
           0,
           2,
           2,
           2,
           2,
           1,
           2,
           2,
           1,
           1,
           3,
           1,
           3,
           2,
           2,
           1,
           0,
           3,
           3,
           2,
           2,
           1,
           0,
           3,
           3,
           3,
           3,
           3,
           3,
           1,
           3,
           3,
           2,
           2,
           2,
           2,
           2,
           3,
           2,
           1,
           3,
           0,
           3,
           1,
           1,
           1,
           2,
           2,
           2,
           3,
           2,
           2,
           3,
           2,
           2,
           3,
           3,
           2,
           2,
           2,
           3,
           3,
           2,
           2,
           1,
           3,
           1,
           1,
           1,
           1,
           3,
           2,
           3,
           1,
           2,
           3,
           2,
           2,
           2,
           1,
           2
          ],
          "coloraxis": "coloraxis",
          "symbol": "circle"
         },
         "mode": "markers",
         "name": "",
         "orientation": "v",
         "showlegend": false,
         "type": "scatter",
         "x": [
          -0.03999484658952257,
          0.15357333359319025,
          0.13639500665522597,
          0.29040090573078253,
          0.3956361600980072,
          0.18965785630794085,
          0.1499084437138286,
          0.31265838160069864,
          0.09546337136216855,
          0.23038879790619016,
          0.07558209439654062,
          0.24647677647424068,
          0.20426223270104238,
          0.26049680160038696,
          0.18528887147274606,
          0.07399256539363333,
          0.03292112951806728,
          0.6261134794621396,
          0.06254037867436808,
          0.04693597986618878,
          0.042605299305867775,
          0.07858952100650453,
          0.13063501377305606,
          0.19134992977033252,
          0.19245350820936308,
          0.10452114614892687,
          0.07383561737654522,
          0.1558850073140183,
          0.30039437621854,
          0.11974088787660842,
          0.016937709266423368,
          0.07956749787862166,
          0.19137534896620173,
          0.21531693402396332,
          0.06202278486230207,
          0.1511148462539825,
          0.36363612014165,
          0.3087807160485372,
          0.18246493701131095,
          0.12915023402904846,
          0.1932483039128156,
          0.21226843399540504,
          0.0776523977997553,
          0.18913943281380374,
          0.6220082066468647,
          0.30754086052206053,
          0.33011273728977475,
          0.18282825337133138,
          0.1925310407637213,
          0.42224949206086815,
          0.3157808051360805,
          0.07174111336807,
          -0.020808008974844798,
          0.08896025519807527,
          0.12491531006861747,
          0.317512380571252,
          0.03172456721519359,
          0.21912187914398218,
          0.22459517948567165,
          0.02729898895739126,
          0.11433311571974117,
          0.64927246975454,
          -0.10480723180136102,
          0.03309549292234874,
          0.24551917738983375,
          0.1444567730299567,
          0.1252366526223526,
          0.10806763736973211,
          0.22373671990786287,
          0.15638605171094436,
          0.20829581074837666,
          0.058328098777580904,
          -0.014503129656384346,
          0.09640057787724741,
          0.0935841450961883,
          -0.10080464208062868,
          0.06506714194059013,
          0.1411294599985557,
          0.2930154319829227,
          0.12292799723757401,
          0.19623815274109066,
          0.09503546889097461,
          0.14616704017949259,
          0.3844801199429556,
          0.3581989367001171,
          0.12886024490764128,
          0.10417262958038673,
          0.13433478753558692,
          0.25823095688797254,
          0.03816697989426948,
          -0.15435251175535528,
          0.5894340822015729,
          0.08529618553684766,
          0.24375262133748515,
          0.07932923589754665,
          0.18541808791376038,
          0.175699737239608,
          0.07450184450700051,
          0.19418434248503258,
          0.14948773250294228,
          0.13688751437741592,
          0.4267855256213272,
          0.21700321165166345,
          0.2831949103865747,
          -0.022170552190691653,
          0.2778955499258994,
          0.2958873895337328,
          0.19406725978429043,
          0.10393454282587107,
          0.24275192081429126,
          0.12747788744102312,
          0.2616878887473175,
          0.08942189955122692,
          -0.05148146797247293,
          0.1823069172580779,
          0.05927480201341065,
          0.025417829817953153,
          0.05461334953012187,
          0.11701521698072985,
          0.07743709539254928,
          0.09249219277677921,
          -0.01877249516636303,
          0.16925491086779954,
          0.10329285352838591,
          0.3827894585020462,
          0.1033103393685033,
          0.17490708723500326,
          1.018139722673318,
          0.053544457955442534,
          0.18636998841174673,
          0.13645495453767348,
          0.3730309633376012,
          0.18106515689053443,
          0.23475204722771853,
          0.2650447829061593,
          0.07036798890068205,
          0.15752455695841897,
          0.18781134176620562,
          0.1783252480364649,
          0.28899905153251704,
          0.2463617867504137,
          0.2553578664872705,
          0.07429648016358943,
          0.39803193145713495,
          0.0010866036595350726,
          -0.12174024987422376,
          0.6313696805360527,
          0.38818568347437854,
          0.4503879711318029,
          0.05926055637759011,
          0.25951071270461884,
          -0.12662853037441144,
          -0.06331826313569755,
          0.19964350375089768,
          0.2521386362765216,
          -0.025610149222927356,
          0.1580913471715503,
          0.1394315390287763,
          0.12211196530337076,
          0.09262894328043313,
          0.10600247350102937,
          0.13301430241349493,
          0.14860263127518808,
          0.13849900708196566,
          0.26599272411102076,
          0.14956641024516973,
          -0.005145066763604736,
          0.04118035558275253,
          0.06571476135104315,
          0.11742457883914681,
          0.2639496719706799,
          0.42942608828088313,
          0.16673736087880336,
          1.17297796633435,
          0.07642304289566561,
          0.3707599365946676,
          0.3903819320842827,
          0.6912562235797928,
          0.19371060742486837,
          0.12821322502762542,
          0.013013692628486697,
          -0.021768172090036425,
          0.1258363182442726,
          0.632310632955844,
          0.14578695007159795,
          0.05239330309701489,
          0.0746217752456591,
          0.16899279508705328,
          0.1355257774823402,
          0.18123354895015475,
          0.22906493450733617,
          0.28355637411064244,
          0.09491369897104637,
          0.2545812203845937,
          0.17425166683538337,
          0.08276432507237762,
          0.1529762162164299,
          0.19823093234610822,
          0.10676084341317557,
          0.052175707604922475,
          -0.12550208957047534,
          0.032879036202058606,
          -0.05469536394644184,
          0.18732269314396008,
          0.2635286148613832,
          0.4287476992263945,
          0.07893947629760742,
          0.09318791435246618,
          0.04121107600371208,
          0.020879943850696664,
          0.14772139130738307,
          0.5654285665250829,
          0.046701922807983354,
          0.3572878524431867,
          0.06326581573881983,
          0.15837287098927658,
          0.18644321796626695,
          0.07422435189709804,
          0.22993546916899218,
          0.1473870062236988,
          0.28301476325941527,
          0.1680590425141573,
          0.12157594783981461,
          -0.10256724496492406,
          0.2538786142619954,
          0.39775399475917256,
          0.19312374673884916,
          -0.07639458177561152,
          0.2759227119495794,
          0.026125766766483545,
          0.12975549053841584,
          0.21851764272261154,
          0.4472231260323461,
          0.12242315861195319,
          0.16486266451781043,
          0.1948449507317495,
          0.20890776526377322,
          0.13269754958732136,
          0.07083661859357396,
          0.13511922305298218,
          0.21383923939103966,
          0.24035228797833755,
          0.21508403113212723,
          0.14693506263246717,
          0.05364712288668583,
          0.13419657487901027,
          0.16606281034540163,
          0.24265609192865167,
          0.14085916914894211,
          -0.031123937118483044,
          0.04733188761115473,
          0.22541111293797939,
          -0.14556537555632496,
          0.10778746715560382,
          0.05440216508683106,
          0.2571173248291273,
          0.019901953312832246,
          0.240320621471776,
          0.18805768488260494,
          0.20461949102127283,
          0.11102374318302884,
          0.1858696479444945,
          0.32287797903787374,
          0.21561749440793027,
          0.14486532274017094,
          0.1727512869061105,
          0.11366868127012467,
          0.24265339331128397,
          0.0810353580124188,
          0.1712074237754625,
          0.0892544668372542,
          0.1537434460450637,
          0.13882468734398584,
          0.2489357648657327,
          0.05953519353525346,
          0.2039628966068054,
          0.09412560797995423,
          0.39634833322931695,
          0.15460787683536256,
          0.24180410535465174,
          0.10600355438049251,
          0.19433020960172964,
          0.30103300010392303,
          0.11529580529908527,
          0.015568487294475871,
          0.10338728964248332,
          0.29800447608527547,
          0.11818131531641805,
          0.2185746670355687,
          0.1607508744032571,
          0.2524686689529543,
          0.14324466669246638,
          0.10958806614831801,
          0.2843485554360269,
          -0.1265938138557777,
          0.1223873756286982,
          0.1277998500831147,
          0.5401470882249879,
          0.41686244983823995,
          -0.022065519962817953,
          0.1468935409255548,
          0.20111074910080926,
          0.18459122100146044,
          0.08779224715728695,
          0.13423880810453728,
          -0.03990336061514465,
          0.061628489291653425,
          0.16159981335365564,
          0.4113685128249803,
          -0.06198308829526428,
          0.1336010819193384,
          -0.05804004112093744,
          0.2510138240682247,
          0.26994774308154174,
          0.2598725290939911,
          0.2612558228527735,
          0.11709709351803221,
          0.22457896829187246,
          0.1610720530458549,
          1.1293446136676795,
          0.05524297600951582,
          0.3940141986907679,
          0.087329003597018,
          0.12078731661591394,
          0.41731309501497915,
          0.21217672029417983,
          0.15168985027976012,
          0.3247384754604183,
          0.48079605417888294,
          0.24454162672531696,
          0.3187567967973502,
          0.2956878750026755,
          0.11833853140538649,
          0.1321271094268153,
          -0.0071485472507261255,
          0.1319383742616845,
          0.17892091593354753,
          0.17861964588823306,
          0.1914456148889193,
          0.10745288069230982,
          0.08181205127726454,
          0.19819025951463895,
          0.16199441387976216,
          0.03905095477803244,
          0.20941675272318608,
          0.014022524640759648,
          0.12888346363068673,
          0.47939105025040196,
          0.5115752894958095,
          0.17341114297747978,
          0.2265786759470174,
          0.2831452172710514,
          0.5056006860811443,
          0.36605778585253884,
          0.0905505216614766,
          0.56738065899886,
          0.22249194544300455,
          0.21829856972749942,
          -0.07522554856062456,
          0.2630798522395801,
          0.15222683292213274,
          0.15298429876945654,
          -0.04688285936810886,
          0.22079026052349823,
          0.21163209041973527,
          0.21867592875328543,
          -0.005440058523890814,
          0.08208609111847383,
          0.15507868973728225,
          0.18043538940337273,
          0.18276114966231458,
          0.25937532112439576,
          0.1511381360907858,
          0.1496598130236732,
          0.04113200161468075,
          0.3455890201981254,
          0.11620207390922366,
          0.23555438478925783,
          0.08977051234908533,
          0.023875033185988596,
          0.2987403246557873,
          0.1165512783389629,
          0.2741168407099374,
          0.17381776460825601,
          0.18827926246476948,
          0.07992168183687567,
          0.2577247290309265,
          0.18017395032527087,
          0.1831488293266168,
          0.05503708568005538,
          0.5365579528699498,
          0.23450021458729053,
          0.18358890975987327,
          0.12170153712157741,
          0.3334916819460812,
          0.11254299071934747,
          0.07056937220343439,
          0.15255531096134,
          0.3077763032688832,
          0.2547529033246248,
          0.19940071651956376,
          0.21225899801895415,
          0.15807492869074366,
          0.17343258661231503,
          0.2638050511550289,
          0.11715936175256514,
          0.11668089294003646,
          0.06778346926274141,
          0.15475462073442997,
          0.04754815698648583,
          0.13233637512490917,
          0.28604122261168835,
          0.06567194483457589,
          0.19875651366598665,
          0.11495506657516256,
          0.2347254789657944,
          0.16814183298377539,
          0.1662828162111611,
          0.15212446552921519,
          0.025191329524628263,
          0.20028194923848652,
          0.2102016463057546,
          0.648550638860842,
          0.10547088018156714,
          -0.0016047276474134907,
          -0.12745113665362848,
          0.13080093185973996,
          0.10840126136560638,
          0.13819930993255683,
          0.12184278200424105,
          0.12105138823388821,
          0.161728908248672,
          0.38193095549804656,
          0.13019286992885437,
          0.2791595335248847,
          0.10142644733059851,
          0.038007255335614956,
          0.31762343658685893,
          0.5394326418596709,
          0.17442917524890095,
          0.1711186010241447,
          0.13142802903976683,
          -0.08146745643675729,
          0.22573328809062707,
          0.9144047143843699,
          0.1843431424585188,
          0.26567401894538295,
          0.23863541252191134,
          0.17270308082880545,
          0.3673673075843606,
          0.25656940444398474,
          0.1519033116058442,
          0.18486892481505462,
          0.22172635792423062,
          0.05585055612877645,
          0.10068926066714745,
          -0.026238769259045232,
          0.020795178533818324,
          0.05053673509298795,
          0.32305426453317143,
          0.12041347489494739,
          0.023365548459805197,
          0.24103712887312576,
          0.38548361664888114,
          0.2738088408615492,
          0.08263646525040881,
          0.3079274023485071,
          0.11704685014931014,
          0.06351325891353406,
          0.12027191028499616,
          -0.10456780458589071,
          0.19593402123121265,
          -0.2589248012658629,
          -0.12187486690047251,
          0.23270772123886418,
          0.10605250207840891,
          -0.1719888043774051,
          0.17553575907679025,
          0.17036159289497133,
          -0.03125748594865573,
          0.13130947521997047,
          -0.19022471245093378,
          0.18071090872300946,
          0.18924101586819553,
          0.08869657553200781,
          0.06892232749361994,
          0.10994859259907397,
          0.23100241371543678,
          -0.05711362057680086,
          0.08592456589483498,
          0.17590990027575631,
          0.12176960451814453,
          0.27999410551875853,
          0.11520358685594105,
          0.25621540403043574,
          0.03648025325982736,
          0.0901219782175811,
          0.1941962597644178,
          0.14306200887806086,
          0.11186155594368102,
          0.017177648892020496,
          0.1198956120273656,
          0.10932180499949522
         ],
         "xaxis": "x",
         "y": [
          0.28959705903905025,
          0.32967120758626334,
          0.30204059286912793,
          0.2685037367723534,
          0.5104126525635765,
          0.3274817395383535,
          0.3397750334075733,
          0.3191447889099624,
          0.4186629596988279,
          0.32532904882921826,
          0.37847446247081074,
          0.43182511298100806,
          0.38484567311947127,
          0.3187345774422123,
          0.32838718972754455,
          0.3175446821657041,
          0.5645866255399414,
          0.5416348992841709,
          0.32042767531920197,
          0.5877663977732936,
          0.3505111238249276,
          0.2872529820414705,
          0.3277683964630941,
          0.34624891394566026,
          0.34466890540557016,
          0.28483417774471453,
          0.39175332698881865,
          0.3408176895161305,
          0.5584425133332968,
          0.30067476810543986,
          0.742254765449748,
          0.2788351931606085,
          0.4579278197652981,
          0.4882273786252383,
          0.3366127031849875,
          0.31888166656230243,
          0.47702784081175825,
          0.3116076741618908,
          0.32363996143434115,
          0.2818733584984675,
          0.31646866275083935,
          0.39423350833437515,
          0.4042999981612365,
          0.31244870077697334,
          0.8558297970594878,
          0.37054936309753334,
          0.5178107779228662,
          0.5511770297861325,
          0.39432899230378715,
          0.4270064783719373,
          0.30186436303531905,
          0.35077363372467035,
          0.28410890108577014,
          0.3010569491683124,
          0.45024105871961967,
          0.32453330708956224,
          0.35206775949565716,
          0.3696136209887893,
          0.5330370256687746,
          0.35649816079034613,
          0.41755185541786394,
          0.7161965257094262,
          0.2971375915991204,
          0.27604235505991775,
          0.342694103162647,
          0.25745561507199066,
          0.4444236870014558,
          0.36695683984257244,
          0.37818069540382704,
          0.576934236443241,
          0.3754183497107967,
          0.36890273556605063,
          0.6147239745718686,
          0.43634963385920555,
          0.414851800900244,
          0.4102886027797101,
          0.33194849981538077,
          0.23320907653628759,
          0.40390518943457887,
          0.29540911903805034,
          0.31292883836547114,
          0.295660302543996,
          0.305468054415145,
          0.406762280944343,
          0.8991475594784536,
          0.33236471710683324,
          0.2634500598786925,
          0.5213795318998703,
          0.34604471772312345,
          0.49295301080897164,
          0.8872134506285072,
          0.4354546100405346,
          0.4694611045984723,
          0.3581018891270811,
          0.3305029745826299,
          0.4440633471012523,
          0.3699504871962809,
          0.41843247800742966,
          0.4068918091696972,
          0.38886305681295025,
          0.5251332032281729,
          0.4938302447455461,
          0.4237732178240814,
          0.41602843665053224,
          0.32757658674312057,
          0.42837513456020543,
          0.40612985689181197,
          0.341182661751202,
          0.25853057261415474,
          0.3787623041066441,
          0.4202754242992251,
          0.3676238480317196,
          0.31831766487111895,
          0.46334253649572826,
          0.5264960834356838,
          0.2997167358210186,
          0.3355710436890152,
          0.28284694069087796,
          0.2484601202024468,
          0.3671165775741567,
          0.2361959546586931,
          0.31478345832086224,
          0.5304972359850048,
          0.27042657625956246,
          0.5321882607150792,
          0.28928681493186603,
          0.32111524337313113,
          0.4901252928043858,
          0.3294678333101805,
          0.35310574524117383,
          0.3802360460428385,
          0.3732929819481135,
          0.40054773168479146,
          0.27215567967691573,
          0.4660450770547278,
          0.32664844947652627,
          0.33905869860708304,
          0.33257664760789546,
          0.30296294015936026,
          0.46963699567445333,
          0.30946576608280807,
          0.5531264085429318,
          0.3879774300096481,
          0.37815127406610377,
          0.5817796510511937,
          0.3855703397051806,
          0.7134171458128237,
          0.501762044726387,
          0.7323829015306661,
          0.3448330191111334,
          0.5767128419600095,
          0.5591934203011787,
          0.38365498236440787,
          0.289504756307547,
          0.42295967252793315,
          0.31494989048563815,
          0.3559742217598936,
          0.3372283676029817,
          0.43556855759044266,
          0.3208284162773139,
          0.2883362094932288,
          0.39364135608324563,
          0.6779529884551954,
          0.39779525993661624,
          0.3650152181176959,
          0.3669330458907838,
          0.3669875130401534,
          0.3289945342319975,
          0.37274404825368856,
          0.29884215651732277,
          0.3853824676214998,
          0.34721048426332457,
          0.37418167543676795,
          0.8290653339368971,
          0.32947519167756517,
          0.5701561715225524,
          0.6200390542663049,
          0.6794508628492484,
          0.37216074174682207,
          0.3458436737688836,
          0.3553598991269606,
          0.3559304448031362,
          0.3732896140223188,
          0.6989255605201997,
          0.36260593393661344,
          0.3342943069581518,
          0.3202727535036978,
          0.3404361932817904,
          0.5624958045094941,
          0.2909860097588738,
          0.3337649511058077,
          0.40764538261426025,
          0.3576762435388068,
          0.33336123955945157,
          0.3053508469541503,
          0.45162911351016904,
          0.42272066158243954,
          0.5116607266814516,
          0.39742886170674496,
          0.35695079758167375,
          0.40335287148140486,
          0.35670767147359506,
          0.40323311576580645,
          0.3807780153854047,
          0.49646949835733467,
          0.4944148306066623,
          0.3421563701798041,
          0.4375539843601758,
          0.3966044451524483,
          0.38345035857393744,
          0.4382417572284971,
          0.6016531915325541,
          0.3124161548255607,
          0.39857590434036033,
          0.40954988647085416,
          0.5677660377315338,
          0.29078449896860764,
          0.4592195329811558,
          0.247252724827393,
          0.49147751399720413,
          0.3595951197553992,
          0.28629662493337366,
          0.3686896975451357,
          0.4368015690599806,
          0.37901826293700974,
          0.6676516029366113,
          0.44480829020111423,
          0.397716357375763,
          0.4588264271409198,
          0.3951519072118745,
          0.33436514359143255,
          0.26331489952369086,
          0.5885490202509693,
          0.4129695484189332,
          0.40722916884622934,
          0.3522569422179096,
          0.3333732016317758,
          0.32076486796027986,
          0.24610208853738838,
          0.5012187145717171,
          0.5298447994295613,
          0.44060134195875617,
          0.3743366717037666,
          0.4680235984041307,
          0.335503459691487,
          0.3056934644306279,
          0.2944083355385746,
          0.38132072947724177,
          0.307064967322202,
          0.46146038448696913,
          0.34316491412684974,
          0.39264858729324714,
          0.42403572506539877,
          0.2933874927957227,
          0.37518107921769084,
          0.4246617438756971,
          0.34795967115600945,
          0.42569251830545457,
          0.40182842037555766,
          0.5465162729349332,
          0.35184114193288074,
          0.3805202128683433,
          0.3745281672494258,
          0.345157413677558,
          0.30194628768978793,
          0.33185979472450644,
          0.22020759292726355,
          0.3359187839190254,
          0.3829966808529445,
          0.3150020257502494,
          0.25002404224800695,
          0.2741991619574313,
          0.5208151448469831,
          0.34895247377626526,
          0.2431576467896093,
          0.5091318494341637,
          0.3903514844938182,
          0.508932658808625,
          0.31919627011479024,
          0.3248549706149561,
          0.3193446165394414,
          0.3686853926099353,
          0.5416473647539369,
          0.4218923385868994,
          0.5335600850537534,
          0.3290307630114408,
          0.5157300935542393,
          0.680115745011727,
          0.3058376566304337,
          0.5501275244381124,
          0.4579498805057989,
          0.3077814424715791,
          0.3892427237678519,
          0.3796421005830073,
          0.5050398627643041,
          0.4908402063048149,
          0.46426454348207624,
          0.7072629851265821,
          0.561703035784915,
          0.3960264309003271,
          0.48152658383818914,
          0.2764338055971613,
          0.4066740231422853,
          0.344362509895318,
          0.37967002167239644,
          0.5454637893288414,
          0.2852056863374068,
          0.2753447651562569,
          0.3259861567901011,
          0.3070679103961487,
          0.2581605888208665,
          0.48814769240454253,
          0.4107856834769829,
          0.3464633325020982,
          0.6655001865746746,
          0.49721111923052314,
          0.49181374097056213,
          0.3494219089754852,
          0.3299356664480675,
          0.8544835492898439,
          0.5467459787199883,
          0.39977402942425094,
          0.3614408332096533,
          0.24963093027602068,
          0.5561283445218713,
          0.29772225517967,
          0.37385212142257296,
          0.4142181872904633,
          0.6085274718921143,
          0.3312444655531886,
          0.41127556369917767,
          0.31237987128483685,
          0.40063876937896714,
          0.5198558396271915,
          0.44606022135813145,
          0.3822607451116809,
          0.38971137799379946,
          0.3962506541030043,
          0.3282031704983812,
          0.373969644055397,
          0.31756544035547724,
          0.35569359847637194,
          0.34958778852929845,
          0.3949384196971125,
          0.3158431432823721,
          0.9424576095341491,
          0.40256169958363935,
          0.4632306818207661,
          0.5595932970626933,
          0.43822238952271253,
          0.49388954579248234,
          0.3212806179051802,
          0.7909048448096266,
          0.37227301313672795,
          0.3709886210202493,
          0.6328740673933057,
          0.6080630889779078,
          0.34057398702994734,
          0.3619995209858545,
          0.30050066835770095,
          0.2975475031375927,
          0.3394050284866415,
          0.6294501778553021,
          0.4222326944719971,
          0.3428795420410864,
          0.5341273277180257,
          0.506404957370032,
          0.37047644240988437,
          0.2562521590491976,
          0.3502974067697403,
          0.300514829442278,
          0.5155656368764665,
          0.2899718467549375,
          0.5102464941594619,
          0.32304928973015906,
          0.5586299485094783,
          0.4078585673455433,
          0.4025329045836985,
          0.3534139135137862,
          0.320139007623273,
          0.45423744187175247,
          0.2437437996266902,
          0.2878436596835115,
          0.35170027049783203,
          0.45444383581836667,
          0.29482124794240544,
          0.413399430136954,
          0.29119290932944186,
          0.5022875681393177,
          0.48022038283279034,
          0.4094457604259664,
          0.4551547753517258,
          0.30779672585677065,
          0.4934470692641039,
          0.41551305333149074,
          0.39194182010018624,
          0.37861477552068223,
          0.4659441180496921,
          0.35316377438912405,
          0.4973522786884165,
          0.2608317638680701,
          0.3711356059911247,
          0.39256470682153816,
          0.3802568832645546,
          0.32036252865388465,
          0.3031341733853484,
          0.46126182892822604,
          0.8199438061329942,
          0.34625306901863095,
          0.44283181703990254,
          0.33609761220959006,
          0.5859211105842362,
          0.41768833077419454,
          0.3985908420766216,
          0.32754649826838067,
          0.48101951754212074,
          0.34039710934758693,
          0.5648352838393759,
          0.5983391157434031,
          0.4618135507314052,
          0.2658262907424561,
          0.35483267394918805,
          0.7334536354235611,
          0.31266968766350217,
          0.4631968968758634,
          0.46065647027339107,
          0.362455108673996,
          0.450169078276927,
          0.31899397768615945,
          0.35940647179816515,
          0.5668843629085712,
          0.5424969123447616,
          0.3922752867116007,
          0.4652802403661985,
          0.3242504423073856,
          0.3995729593332919,
          0.3922062182172279,
          0.5999182061347255,
          0.7387539555345007,
          0.37099501181500216,
          0.36579285186032806,
          0.37109793826958065,
          0.3690415336170431,
          0.4992824838031268,
          0.7185223491382331,
          0.34813562291252703,
          0.4698408483390573,
          0.3177368151771417,
          0.38665275588048986,
          0.34186592642928554,
          0.3434304561697839,
          0.49045851988475386,
          0.3365423340949629,
          0.4307347873850269,
          0.46029061334766813,
          0.3537664310786524,
          0.3515139650697851,
          0.41065865872510227,
          0.35988695570663953,
          0.474473890430349,
          0.3115677303010259,
          0.7295647385759083,
          0.3324931220280899,
          0.5083663802086059,
          0.3337672782930947,
          0.4733970549262047,
          0.5778386799496259,
          0.5450270136723222,
          0.3292090111883406,
          0.3058186430639626,
          0.21079768638557403,
          0.3583227697257952,
          0.44950409653078655,
          0.41046769954027973,
          0.4239902934440893,
          0.33760408201267794,
          0.5002646851732877,
          0.3917645880392154,
          0.4028771540110398,
          0.3710523484440282,
          0.25903076677923903,
          0.5608535049720025,
          0.2559473594430556,
          0.3343848417769083,
          0.3043075761497729,
          0.45379450366992974,
          0.49219411084676223,
          0.36273152998950003,
          0.5438830949039303,
          0.4777345601641574,
          0.4700017836421764,
          0.45860081382895596,
          0.43067566746263847,
          0.3148179010466421,
          0.32457489594003675,
          0.652643347360315,
          0.2863509386477756,
          0.3599854472224598,
          0.3119927984685176,
          0.4270707852293673,
          0.3703755799063696,
          0.4594915952834818,
          0.315720776319138
         ],
         "yaxis": "y"
        }
       ],
       "layout": {
        "coloraxis": {
         "colorbar": {
          "title": {
           "text": "Cluster"
          }
         },
         "colorscale": [
          [
           0,
           "#0d0887"
          ],
          [
           0.1111111111111111,
           "#46039f"
          ],
          [
           0.2222222222222222,
           "#7201a8"
          ],
          [
           0.3333333333333333,
           "#9c179e"
          ],
          [
           0.4444444444444444,
           "#bd3786"
          ],
          [
           0.5555555555555556,
           "#d8576b"
          ],
          [
           0.6666666666666666,
           "#ed7953"
          ],
          [
           0.7777777777777778,
           "#fb9f3a"
          ],
          [
           0.8888888888888888,
           "#fdca26"
          ],
          [
           1,
           "#f0f921"
          ]
         ],
         "showscale": false
        },
        "legend": {
         "tracegroupgap": 0
        },
        "margin": {
         "t": 60
        },
        "template": {
         "data": {
          "bar": [
           {
            "error_x": {
             "color": "#2a3f5f"
            },
            "error_y": {
             "color": "#2a3f5f"
            },
            "marker": {
             "line": {
              "color": "#E5ECF6",
              "width": 0.5
             },
             "pattern": {
              "fillmode": "overlay",
              "size": 10,
              "solidity": 0.2
             }
            },
            "type": "bar"
           }
          ],
          "barpolar": [
           {
            "marker": {
             "line": {
              "color": "#E5ECF6",
              "width": 0.5
             },
             "pattern": {
              "fillmode": "overlay",
              "size": 10,
              "solidity": 0.2
             }
            },
            "type": "barpolar"
           }
          ],
          "carpet": [
           {
            "aaxis": {
             "endlinecolor": "#2a3f5f",
             "gridcolor": "white",
             "linecolor": "white",
             "minorgridcolor": "white",
             "startlinecolor": "#2a3f5f"
            },
            "baxis": {
             "endlinecolor": "#2a3f5f",
             "gridcolor": "white",
             "linecolor": "white",
             "minorgridcolor": "white",
             "startlinecolor": "#2a3f5f"
            },
            "type": "carpet"
           }
          ],
          "choropleth": [
           {
            "colorbar": {
             "outlinewidth": 0,
             "ticks": ""
            },
            "type": "choropleth"
           }
          ],
          "contour": [
           {
            "colorbar": {
             "outlinewidth": 0,
             "ticks": ""
            },
            "colorscale": [
             [
              0,
              "#0d0887"
             ],
             [
              0.1111111111111111,
              "#46039f"
             ],
             [
              0.2222222222222222,
              "#7201a8"
             ],
             [
              0.3333333333333333,
              "#9c179e"
             ],
             [
              0.4444444444444444,
              "#bd3786"
             ],
             [
              0.5555555555555556,
              "#d8576b"
             ],
             [
              0.6666666666666666,
              "#ed7953"
             ],
             [
              0.7777777777777778,
              "#fb9f3a"
             ],
             [
              0.8888888888888888,
              "#fdca26"
             ],
             [
              1,
              "#f0f921"
             ]
            ],
            "type": "contour"
           }
          ],
          "contourcarpet": [
           {
            "colorbar": {
             "outlinewidth": 0,
             "ticks": ""
            },
            "type": "contourcarpet"
           }
          ],
          "heatmap": [
           {
            "colorbar": {
             "outlinewidth": 0,
             "ticks": ""
            },
            "colorscale": [
             [
              0,
              "#0d0887"
             ],
             [
              0.1111111111111111,
              "#46039f"
             ],
             [
              0.2222222222222222,
              "#7201a8"
             ],
             [
              0.3333333333333333,
              "#9c179e"
             ],
             [
              0.4444444444444444,
              "#bd3786"
             ],
             [
              0.5555555555555556,
              "#d8576b"
             ],
             [
              0.6666666666666666,
              "#ed7953"
             ],
             [
              0.7777777777777778,
              "#fb9f3a"
             ],
             [
              0.8888888888888888,
              "#fdca26"
             ],
             [
              1,
              "#f0f921"
             ]
            ],
            "type": "heatmap"
           }
          ],
          "heatmapgl": [
           {
            "colorbar": {
             "outlinewidth": 0,
             "ticks": ""
            },
            "colorscale": [
             [
              0,
              "#0d0887"
             ],
             [
              0.1111111111111111,
              "#46039f"
             ],
             [
              0.2222222222222222,
              "#7201a8"
             ],
             [
              0.3333333333333333,
              "#9c179e"
             ],
             [
              0.4444444444444444,
              "#bd3786"
             ],
             [
              0.5555555555555556,
              "#d8576b"
             ],
             [
              0.6666666666666666,
              "#ed7953"
             ],
             [
              0.7777777777777778,
              "#fb9f3a"
             ],
             [
              0.8888888888888888,
              "#fdca26"
             ],
             [
              1,
              "#f0f921"
             ]
            ],
            "type": "heatmapgl"
           }
          ],
          "histogram": [
           {
            "marker": {
             "pattern": {
              "fillmode": "overlay",
              "size": 10,
              "solidity": 0.2
             }
            },
            "type": "histogram"
           }
          ],
          "histogram2d": [
           {
            "colorbar": {
             "outlinewidth": 0,
             "ticks": ""
            },
            "colorscale": [
             [
              0,
              "#0d0887"
             ],
             [
              0.1111111111111111,
              "#46039f"
             ],
             [
              0.2222222222222222,
              "#7201a8"
             ],
             [
              0.3333333333333333,
              "#9c179e"
             ],
             [
              0.4444444444444444,
              "#bd3786"
             ],
             [
              0.5555555555555556,
              "#d8576b"
             ],
             [
              0.6666666666666666,
              "#ed7953"
             ],
             [
              0.7777777777777778,
              "#fb9f3a"
             ],
             [
              0.8888888888888888,
              "#fdca26"
             ],
             [
              1,
              "#f0f921"
             ]
            ],
            "type": "histogram2d"
           }
          ],
          "histogram2dcontour": [
           {
            "colorbar": {
             "outlinewidth": 0,
             "ticks": ""
            },
            "colorscale": [
             [
              0,
              "#0d0887"
             ],
             [
              0.1111111111111111,
              "#46039f"
             ],
             [
              0.2222222222222222,
              "#7201a8"
             ],
             [
              0.3333333333333333,
              "#9c179e"
             ],
             [
              0.4444444444444444,
              "#bd3786"
             ],
             [
              0.5555555555555556,
              "#d8576b"
             ],
             [
              0.6666666666666666,
              "#ed7953"
             ],
             [
              0.7777777777777778,
              "#fb9f3a"
             ],
             [
              0.8888888888888888,
              "#fdca26"
             ],
             [
              1,
              "#f0f921"
             ]
            ],
            "type": "histogram2dcontour"
           }
          ],
          "mesh3d": [
           {
            "colorbar": {
             "outlinewidth": 0,
             "ticks": ""
            },
            "type": "mesh3d"
           }
          ],
          "parcoords": [
           {
            "line": {
             "colorbar": {
              "outlinewidth": 0,
              "ticks": ""
             }
            },
            "type": "parcoords"
           }
          ],
          "pie": [
           {
            "automargin": true,
            "type": "pie"
           }
          ],
          "scatter": [
           {
            "fillpattern": {
             "fillmode": "overlay",
             "size": 10,
             "solidity": 0.2
            },
            "type": "scatter"
           }
          ],
          "scatter3d": [
           {
            "line": {
             "colorbar": {
              "outlinewidth": 0,
              "ticks": ""
             }
            },
            "marker": {
             "colorbar": {
              "outlinewidth": 0,
              "ticks": ""
             }
            },
            "type": "scatter3d"
           }
          ],
          "scattercarpet": [
           {
            "marker": {
             "colorbar": {
              "outlinewidth": 0,
              "ticks": ""
             }
            },
            "type": "scattercarpet"
           }
          ],
          "scattergeo": [
           {
            "marker": {
             "colorbar": {
              "outlinewidth": 0,
              "ticks": ""
             }
            },
            "type": "scattergeo"
           }
          ],
          "scattergl": [
           {
            "marker": {
             "colorbar": {
              "outlinewidth": 0,
              "ticks": ""
             }
            },
            "type": "scattergl"
           }
          ],
          "scattermapbox": [
           {
            "marker": {
             "colorbar": {
              "outlinewidth": 0,
              "ticks": ""
             }
            },
            "type": "scattermapbox"
           }
          ],
          "scatterpolar": [
           {
            "marker": {
             "colorbar": {
              "outlinewidth": 0,
              "ticks": ""
             }
            },
            "type": "scatterpolar"
           }
          ],
          "scatterpolargl": [
           {
            "marker": {
             "colorbar": {
              "outlinewidth": 0,
              "ticks": ""
             }
            },
            "type": "scatterpolargl"
           }
          ],
          "scatterternary": [
           {
            "marker": {
             "colorbar": {
              "outlinewidth": 0,
              "ticks": ""
             }
            },
            "type": "scatterternary"
           }
          ],
          "surface": [
           {
            "colorbar": {
             "outlinewidth": 0,
             "ticks": ""
            },
            "colorscale": [
             [
              0,
              "#0d0887"
             ],
             [
              0.1111111111111111,
              "#46039f"
             ],
             [
              0.2222222222222222,
              "#7201a8"
             ],
             [
              0.3333333333333333,
              "#9c179e"
             ],
             [
              0.4444444444444444,
              "#bd3786"
             ],
             [
              0.5555555555555556,
              "#d8576b"
             ],
             [
              0.6666666666666666,
              "#ed7953"
             ],
             [
              0.7777777777777778,
              "#fb9f3a"
             ],
             [
              0.8888888888888888,
              "#fdca26"
             ],
             [
              1,
              "#f0f921"
             ]
            ],
            "type": "surface"
           }
          ],
          "table": [
           {
            "cells": {
             "fill": {
              "color": "#EBF0F8"
             },
             "line": {
              "color": "white"
             }
            },
            "header": {
             "fill": {
              "color": "#C8D4E3"
             },
             "line": {
              "color": "white"
             }
            },
            "type": "table"
           }
          ]
         },
         "layout": {
          "annotationdefaults": {
           "arrowcolor": "#2a3f5f",
           "arrowhead": 0,
           "arrowwidth": 1
          },
          "autotypenumbers": "strict",
          "coloraxis": {
           "colorbar": {
            "outlinewidth": 0,
            "ticks": ""
           }
          },
          "colorscale": {
           "diverging": [
            [
             0,
             "#8e0152"
            ],
            [
             0.1,
             "#c51b7d"
            ],
            [
             0.2,
             "#de77ae"
            ],
            [
             0.3,
             "#f1b6da"
            ],
            [
             0.4,
             "#fde0ef"
            ],
            [
             0.5,
             "#f7f7f7"
            ],
            [
             0.6,
             "#e6f5d0"
            ],
            [
             0.7,
             "#b8e186"
            ],
            [
             0.8,
             "#7fbc41"
            ],
            [
             0.9,
             "#4d9221"
            ],
            [
             1,
             "#276419"
            ]
           ],
           "sequential": [
            [
             0,
             "#0d0887"
            ],
            [
             0.1111111111111111,
             "#46039f"
            ],
            [
             0.2222222222222222,
             "#7201a8"
            ],
            [
             0.3333333333333333,
             "#9c179e"
            ],
            [
             0.4444444444444444,
             "#bd3786"
            ],
            [
             0.5555555555555556,
             "#d8576b"
            ],
            [
             0.6666666666666666,
             "#ed7953"
            ],
            [
             0.7777777777777778,
             "#fb9f3a"
            ],
            [
             0.8888888888888888,
             "#fdca26"
            ],
            [
             1,
             "#f0f921"
            ]
           ],
           "sequentialminus": [
            [
             0,
             "#0d0887"
            ],
            [
             0.1111111111111111,
             "#46039f"
            ],
            [
             0.2222222222222222,
             "#7201a8"
            ],
            [
             0.3333333333333333,
             "#9c179e"
            ],
            [
             0.4444444444444444,
             "#bd3786"
            ],
            [
             0.5555555555555556,
             "#d8576b"
            ],
            [
             0.6666666666666666,
             "#ed7953"
            ],
            [
             0.7777777777777778,
             "#fb9f3a"
            ],
            [
             0.8888888888888888,
             "#fdca26"
            ],
            [
             1,
             "#f0f921"
            ]
           ]
          },
          "colorway": [
           "#636efa",
           "#EF553B",
           "#00cc96",
           "#ab63fa",
           "#FFA15A",
           "#19d3f3",
           "#FF6692",
           "#B6E880",
           "#FF97FF",
           "#FECB52"
          ],
          "font": {
           "color": "#2a3f5f"
          },
          "geo": {
           "bgcolor": "white",
           "lakecolor": "white",
           "landcolor": "#E5ECF6",
           "showlakes": true,
           "showland": true,
           "subunitcolor": "white"
          },
          "hoverlabel": {
           "align": "left"
          },
          "hovermode": "closest",
          "mapbox": {
           "style": "light"
          },
          "paper_bgcolor": "white",
          "plot_bgcolor": "#E5ECF6",
          "polar": {
           "angularaxis": {
            "gridcolor": "white",
            "linecolor": "white",
            "ticks": ""
           },
           "bgcolor": "#E5ECF6",
           "radialaxis": {
            "gridcolor": "white",
            "linecolor": "white",
            "ticks": ""
           }
          },
          "scene": {
           "xaxis": {
            "backgroundcolor": "#E5ECF6",
            "gridcolor": "white",
            "gridwidth": 2,
            "linecolor": "white",
            "showbackground": true,
            "ticks": "",
            "zerolinecolor": "white"
           },
           "yaxis": {
            "backgroundcolor": "#E5ECF6",
            "gridcolor": "white",
            "gridwidth": 2,
            "linecolor": "white",
            "showbackground": true,
            "ticks": "",
            "zerolinecolor": "white"
           },
           "zaxis": {
            "backgroundcolor": "#E5ECF6",
            "gridcolor": "white",
            "gridwidth": 2,
            "linecolor": "white",
            "showbackground": true,
            "ticks": "",
            "zerolinecolor": "white"
           }
          },
          "shapedefaults": {
           "line": {
            "color": "#2a3f5f"
           }
          },
          "ternary": {
           "aaxis": {
            "gridcolor": "white",
            "linecolor": "white",
            "ticks": ""
           },
           "baxis": {
            "gridcolor": "white",
            "linecolor": "white",
            "ticks": ""
           },
           "bgcolor": "#E5ECF6",
           "caxis": {
            "gridcolor": "white",
            "linecolor": "white",
            "ticks": ""
           }
          },
          "title": {
           "x": 0.05
          },
          "xaxis": {
           "automargin": true,
           "gridcolor": "white",
           "linecolor": "white",
           "ticks": "",
           "title": {
            "standoff": 15
           },
           "zerolinecolor": "white",
           "zerolinewidth": 2
          },
          "yaxis": {
           "automargin": true,
           "gridcolor": "white",
           "linecolor": "white",
           "ticks": "",
           "title": {
            "standoff": 15
           },
           "zerolinecolor": "white",
           "zerolinewidth": 2
          }
         }
        },
        "xaxis": {
         "anchor": "y",
         "domain": [
          0,
          1
         ],
         "title": {
          "text": "Returns"
         }
        },
        "yaxis": {
         "anchor": "x",
         "domain": [
          0,
          1
         ],
         "title": {
          "text": "Volatility"
         }
        }
       }
      }
     },
     "metadata": {},
     "output_type": "display_data"
    }
   ],
   "source": [
    "# Plot the clusters created using Plotly\n",
    "fig = px.scatter(clusters_df, x=\"Returns\", y=\"Volatility\", color=\"Cluster\", hover_data=[\"Ticker\"])\n",
    "fig.update(layout_coloraxis_showscale=False)\n",
    "fig.show()"
   ]
  },
  {
   "cell_type": "markdown",
   "metadata": {},
   "source": [
    "In this case, four outliers have been detected in a scatter plot when using the K-Mean algorithm. Outliers are data points that are significantly different from the rest of the data points in the dataset. They can often lead to inaccurate results when using an algorithm, as they don’t fit into the same pattern as the other data points. Therefore, it is important to segregate and remove the outliers to improve the accuracy of the model.\n",
    "\n",
    "Removing outliers can help the algorithm focus on the most representative data points and reduce the effect of outliers on the results. This can help to increase the accuracy of the model and ensure that the data points are correctly clustered."
   ]
  },
  {
   "cell_type": "code",
   "execution_count": 92,
   "metadata": {},
   "outputs": [],
   "source": [
    "# Identify and remove the outliers stocks\n",
    "returns.drop('MRNA',inplace=True)\n",
    "returns.drop('ENPH',inplace=True)\n",
    "returns.drop('TSLA',inplace=True)\n",
    "returns.drop('CEG',inplace=True)\n",
    "\n",
    "# Recreate data to feed into the algorithm\n",
    "data = np.asarray([np.asarray(returns['Returns']),np.asarray(returns['Volatility'])]).T"
   ]
  },
  {
   "cell_type": "markdown",
   "metadata": {},
   "source": [
    "Once the outliers have been eliminated, we repeat the steps performed for clustering using the K-means algorithm to obtain more accurate clusters."
   ]
  },
  {
   "cell_type": "code",
   "execution_count": 93,
   "metadata": {},
   "outputs": [],
   "source": [
    "# Computing K-Means with K = 4 (4 clusters)\n",
    "centroids,_ = kmeans(data,4)\n",
    "\n",
    "# Assign each sample to a cluster\n",
    "idx,_ = vq(data,centroids)"
   ]
  },
  {
   "cell_type": "code",
   "execution_count": 94,
   "metadata": {},
   "outputs": [],
   "source": [
    "# Create a dataframe with the tickers and the clusters that's belong to\n",
    "details = [(name,cluster) for name, cluster in zip(returns.index,idx)]\n",
    "details_df = pd.DataFrame(details)\n",
    "\n",
    "# Rename columns\n",
    "details_df.columns = ['Ticker','Cluster']\n",
    "\n",
    "# Create another dataframe with the tickers and data from each stock\n",
    "clusters_df = returns.reset_index()\n",
    "\n",
    "# Bring the clusters information from the dataframe 'details_df'\n",
    "clusters_df['Cluster'] = details_df['Cluster']\n",
    "\n",
    "# Rename columns\n",
    "clusters_df.columns = ['Ticker', 'Returns', 'Volatility', 'Cluster']"
   ]
  },
  {
   "cell_type": "code",
   "execution_count": 95,
   "metadata": {},
   "outputs": [
    {
     "data": {
      "application/vnd.plotly.v1+json": {
       "config": {
        "plotlyServerURL": "https://plot.ly"
       },
       "data": [
        {
         "customdata": [
          [
           "MMM"
          ],
          [
           "AOS"
          ],
          [
           "ABT"
          ],
          [
           "ABBV"
          ],
          [
           "ABMD"
          ],
          [
           "ACN"
          ],
          [
           "ATVI"
          ],
          [
           "ADM"
          ],
          [
           "ADBE"
          ],
          [
           "ADP"
          ],
          [
           "AAP"
          ],
          [
           "AES"
          ],
          [
           "AFL"
          ],
          [
           "A"
          ],
          [
           "APD"
          ],
          [
           "AKAM"
          ],
          [
           "ALK"
          ],
          [
           "ALB"
          ],
          [
           "ARE"
          ],
          [
           "ALGN"
          ],
          [
           "ALLE"
          ],
          [
           "LNT"
          ],
          [
           "ALL"
          ],
          [
           "GOOGL"
          ],
          [
           "GOOG"
          ],
          [
           "MO"
          ],
          [
           "AMZN"
          ],
          [
           "AMCR"
          ],
          [
           "AMD"
          ],
          [
           "AEE"
          ],
          [
           "AAL"
          ],
          [
           "AEP"
          ],
          [
           "AXP"
          ],
          [
           "AIG"
          ],
          [
           "AMT"
          ],
          [
           "AWK"
          ],
          [
           "AMP"
          ],
          [
           "ABC"
          ],
          [
           "AME"
          ],
          [
           "AMGN"
          ],
          [
           "APH"
          ],
          [
           "ADI"
          ],
          [
           "ANSS"
          ],
          [
           "AON"
          ],
          [
           "APA"
          ],
          [
           "AAPL"
          ],
          [
           "AMAT"
          ],
          [
           "APTV"
          ],
          [
           "ACGL"
          ],
          [
           "ANET"
          ],
          [
           "AJG"
          ],
          [
           "AIZ"
          ],
          [
           "T"
          ],
          [
           "ATO"
          ],
          [
           "ADSK"
          ],
          [
           "AZO"
          ],
          [
           "AVB"
          ],
          [
           "AVY"
          ],
          [
           "BKR"
          ],
          [
           "BALL"
          ],
          [
           "BAC"
          ],
          [
           "BBWI"
          ],
          [
           "BAX"
          ],
          [
           "BDX"
          ],
          [
           "WRB"
          ],
          [
           "BRK-B"
          ],
          [
           "BBY"
          ],
          [
           "BIO"
          ],
          [
           "TECH"
          ],
          [
           "BIIB"
          ],
          [
           "BLK"
          ],
          [
           "BK"
          ],
          [
           "BA"
          ],
          [
           "BKNG"
          ],
          [
           "BWA"
          ],
          [
           "BXP"
          ],
          [
           "BSX"
          ],
          [
           "BMY"
          ],
          [
           "AVGO"
          ],
          [
           "BR"
          ],
          [
           "BRO"
          ],
          [
           "BF-B"
          ],
          [
           "CHRW"
          ],
          [
           "CDNS"
          ],
          [
           "CZR"
          ],
          [
           "CPT"
          ],
          [
           "CPB"
          ],
          [
           "COF"
          ],
          [
           "CAH"
          ],
          [
           "KMX"
          ],
          [
           "CCL"
          ],
          [
           "CARR"
          ],
          [
           "CTLT"
          ],
          [
           "CAT"
          ],
          [
           "CBOE"
          ],
          [
           "CBRE"
          ],
          [
           "CDW"
          ],
          [
           "CE"
          ],
          [
           "CNC"
          ],
          [
           "CNP"
          ],
          [
           "CDAY"
          ],
          [
           "CF"
          ],
          [
           "CRL"
          ],
          [
           "SCHW"
          ],
          [
           "CHTR"
          ],
          [
           "CVX"
          ],
          [
           "CMG"
          ],
          [
           "CB"
          ],
          [
           "CHD"
          ],
          [
           "CI"
          ],
          [
           "CINF"
          ],
          [
           "CTAS"
          ],
          [
           "CSCO"
          ],
          [
           "C"
          ],
          [
           "CFG"
          ],
          [
           "CLX"
          ],
          [
           "CME"
          ],
          [
           "CMS"
          ],
          [
           "KO"
          ],
          [
           "CTSH"
          ],
          [
           "CL"
          ],
          [
           "CMCSA"
          ],
          [
           "CMA"
          ],
          [
           "CAG"
          ],
          [
           "COP"
          ],
          [
           "ED"
          ],
          [
           "STZ"
          ],
          [
           "COO"
          ],
          [
           "CPRT"
          ],
          [
           "GLW"
          ],
          [
           "CTVA"
          ],
          [
           "CSGP"
          ],
          [
           "COST"
          ],
          [
           "CTRA"
          ],
          [
           "CCI"
          ],
          [
           "CSX"
          ],
          [
           "CMI"
          ],
          [
           "CVS"
          ],
          [
           "DHI"
          ],
          [
           "DHR"
          ],
          [
           "DRI"
          ],
          [
           "DVA"
          ],
          [
           "DE"
          ],
          [
           "DAL"
          ],
          [
           "XRAY"
          ],
          [
           "DVN"
          ],
          [
           "DXCM"
          ],
          [
           "FANG"
          ],
          [
           "DLR"
          ],
          [
           "DFS"
          ],
          [
           "DISH"
          ],
          [
           "DIS"
          ],
          [
           "DG"
          ],
          [
           "DLTR"
          ],
          [
           "D"
          ],
          [
           "DPZ"
          ],
          [
           "DOV"
          ],
          [
           "DOW"
          ],
          [
           "DTE"
          ],
          [
           "DUK"
          ],
          [
           "DD"
          ],
          [
           "DXC"
          ],
          [
           "EMN"
          ],
          [
           "ETN"
          ],
          [
           "EBAY"
          ],
          [
           "ECL"
          ],
          [
           "EIX"
          ],
          [
           "EW"
          ],
          [
           "EA"
          ],
          [
           "ELV"
          ],
          [
           "LLY"
          ],
          [
           "EMR"
          ],
          [
           "ETR"
          ],
          [
           "EOG"
          ],
          [
           "EPAM"
          ],
          [
           "EQT"
          ],
          [
           "EFX"
          ],
          [
           "EQIX"
          ],
          [
           "EQR"
          ],
          [
           "ESS"
          ],
          [
           "EL"
          ],
          [
           "ETSY"
          ],
          [
           "RE"
          ],
          [
           "EVRG"
          ],
          [
           "ES"
          ],
          [
           "EXC"
          ],
          [
           "EXPE"
          ],
          [
           "EXPD"
          ],
          [
           "EXR"
          ],
          [
           "XOM"
          ],
          [
           "FFIV"
          ],
          [
           "FDS"
          ],
          [
           "FAST"
          ],
          [
           "FRT"
          ],
          [
           "FDX"
          ],
          [
           "FITB"
          ],
          [
           "FRC"
          ],
          [
           "FE"
          ],
          [
           "FIS"
          ],
          [
           "FISV"
          ],
          [
           "FLT"
          ],
          [
           "FMC"
          ],
          [
           "F"
          ],
          [
           "FTNT"
          ],
          [
           "FTV"
          ],
          [
           "FBHS"
          ],
          [
           "FOXA"
          ],
          [
           "FOX"
          ],
          [
           "BEN"
          ],
          [
           "FCX"
          ],
          [
           "GRMN"
          ],
          [
           "IT"
          ],
          [
           "GEN"
          ],
          [
           "GNRC"
          ],
          [
           "GD"
          ],
          [
           "GE"
          ],
          [
           "GIS"
          ],
          [
           "GM"
          ],
          [
           "GPC"
          ],
          [
           "GILD"
          ],
          [
           "GL"
          ],
          [
           "GPN"
          ],
          [
           "GS"
          ],
          [
           "HAL"
          ],
          [
           "HIG"
          ],
          [
           "HAS"
          ],
          [
           "HCA"
          ],
          [
           "PEAK"
          ],
          [
           "HSIC"
          ],
          [
           "HSY"
          ],
          [
           "HES"
          ],
          [
           "HPE"
          ],
          [
           "HLT"
          ],
          [
           "HOLX"
          ],
          [
           "HD"
          ],
          [
           "HON"
          ],
          [
           "HRL"
          ],
          [
           "HST"
          ],
          [
           "HWM"
          ],
          [
           "HPQ"
          ],
          [
           "HUM"
          ],
          [
           "HBAN"
          ],
          [
           "HII"
          ],
          [
           "IBM"
          ],
          [
           "IEX"
          ],
          [
           "IDXX"
          ],
          [
           "ITW"
          ],
          [
           "ILMN"
          ],
          [
           "INCY"
          ],
          [
           "IR"
          ],
          [
           "INTC"
          ],
          [
           "ICE"
          ],
          [
           "IP"
          ],
          [
           "IPG"
          ],
          [
           "IFF"
          ],
          [
           "INTU"
          ],
          [
           "ISRG"
          ],
          [
           "IVZ"
          ],
          [
           "INVH"
          ],
          [
           "IQV"
          ],
          [
           "IRM"
          ],
          [
           "JBHT"
          ],
          [
           "JKHY"
          ],
          [
           "J"
          ],
          [
           "JNJ"
          ],
          [
           "JCI"
          ],
          [
           "JPM"
          ],
          [
           "JNPR"
          ],
          [
           "K"
          ],
          [
           "KDP"
          ],
          [
           "KEY"
          ],
          [
           "KEYS"
          ],
          [
           "KMB"
          ],
          [
           "KIM"
          ],
          [
           "KMI"
          ],
          [
           "KLAC"
          ],
          [
           "KHC"
          ],
          [
           "KR"
          ],
          [
           "LHX"
          ],
          [
           "LH"
          ],
          [
           "LRCX"
          ],
          [
           "LW"
          ],
          [
           "LVS"
          ],
          [
           "LDOS"
          ],
          [
           "LEN"
          ],
          [
           "LNC"
          ],
          [
           "LIN"
          ],
          [
           "LYV"
          ],
          [
           "LKQ"
          ],
          [
           "LMT"
          ],
          [
           "L"
          ],
          [
           "LOW"
          ],
          [
           "LUMN"
          ],
          [
           "LYB"
          ],
          [
           "MTB"
          ],
          [
           "MRO"
          ],
          [
           "MPC"
          ],
          [
           "MKTX"
          ],
          [
           "MAR"
          ],
          [
           "MMC"
          ],
          [
           "MLM"
          ],
          [
           "MAS"
          ],
          [
           "MA"
          ],
          [
           "MTCH"
          ],
          [
           "MKC"
          ],
          [
           "MCD"
          ],
          [
           "MCK"
          ],
          [
           "MDT"
          ],
          [
           "MRK"
          ],
          [
           "META"
          ],
          [
           "MET"
          ],
          [
           "MTD"
          ],
          [
           "MGM"
          ],
          [
           "MCHP"
          ],
          [
           "MU"
          ],
          [
           "MSFT"
          ],
          [
           "MAA"
          ],
          [
           "MHK"
          ],
          [
           "MOH"
          ],
          [
           "TAP"
          ],
          [
           "MDLZ"
          ],
          [
           "MPWR"
          ],
          [
           "MNST"
          ],
          [
           "MCO"
          ],
          [
           "MS"
          ],
          [
           "MOS"
          ],
          [
           "MSI"
          ],
          [
           "MSCI"
          ],
          [
           "NDAQ"
          ],
          [
           "NTAP"
          ],
          [
           "NFLX"
          ],
          [
           "NWL"
          ],
          [
           "NEM"
          ],
          [
           "NWSA"
          ],
          [
           "NWS"
          ],
          [
           "NEE"
          ],
          [
           "NKE"
          ],
          [
           "NI"
          ],
          [
           "NDSN"
          ],
          [
           "NSC"
          ],
          [
           "NTRS"
          ],
          [
           "NOC"
          ],
          [
           "NCLH"
          ],
          [
           "NRG"
          ],
          [
           "NUE"
          ],
          [
           "NVDA"
          ],
          [
           "NVR"
          ],
          [
           "NXPI"
          ],
          [
           "ORLY"
          ],
          [
           "OXY"
          ],
          [
           "ODFL"
          ],
          [
           "OMC"
          ],
          [
           "ON"
          ],
          [
           "OKE"
          ],
          [
           "ORCL"
          ],
          [
           "OGN"
          ],
          [
           "OTIS"
          ],
          [
           "PCAR"
          ],
          [
           "PKG"
          ],
          [
           "PARA"
          ],
          [
           "PH"
          ],
          [
           "PAYX"
          ],
          [
           "PAYC"
          ],
          [
           "PYPL"
          ],
          [
           "PNR"
          ],
          [
           "PEP"
          ],
          [
           "PKI"
          ],
          [
           "PFE"
          ],
          [
           "PCG"
          ],
          [
           "PM"
          ],
          [
           "PSX"
          ],
          [
           "PNW"
          ],
          [
           "PXD"
          ],
          [
           "PNC"
          ],
          [
           "POOL"
          ],
          [
           "PPG"
          ],
          [
           "PPL"
          ],
          [
           "PFG"
          ],
          [
           "PG"
          ],
          [
           "PGR"
          ],
          [
           "PLD"
          ],
          [
           "PRU"
          ],
          [
           "PEG"
          ],
          [
           "PTC"
          ],
          [
           "PSA"
          ],
          [
           "PHM"
          ],
          [
           "QRVO"
          ],
          [
           "PWR"
          ],
          [
           "QCOM"
          ],
          [
           "DGX"
          ],
          [
           "RL"
          ],
          [
           "RJF"
          ],
          [
           "RTX"
          ],
          [
           "O"
          ],
          [
           "REG"
          ],
          [
           "REGN"
          ],
          [
           "RF"
          ],
          [
           "RSG"
          ],
          [
           "RMD"
          ],
          [
           "RHI"
          ],
          [
           "ROK"
          ],
          [
           "ROL"
          ],
          [
           "ROP"
          ],
          [
           "ROST"
          ],
          [
           "RCL"
          ],
          [
           "SPGI"
          ],
          [
           "CRM"
          ],
          [
           "SBAC"
          ],
          [
           "SLB"
          ],
          [
           "STX"
          ],
          [
           "SEE"
          ],
          [
           "SRE"
          ],
          [
           "NOW"
          ],
          [
           "SHW"
          ],
          [
           "SBNY"
          ],
          [
           "SPG"
          ],
          [
           "SWKS"
          ],
          [
           "SJM"
          ],
          [
           "SNA"
          ],
          [
           "SEDG"
          ],
          [
           "SO"
          ],
          [
           "LUV"
          ],
          [
           "SWK"
          ],
          [
           "SBUX"
          ],
          [
           "STT"
          ],
          [
           "STE"
          ],
          [
           "SYK"
          ],
          [
           "SIVB"
          ],
          [
           "SYF"
          ],
          [
           "SNPS"
          ],
          [
           "SYY"
          ],
          [
           "TMUS"
          ],
          [
           "TROW"
          ],
          [
           "TTWO"
          ],
          [
           "TPR"
          ],
          [
           "TRGP"
          ],
          [
           "TGT"
          ],
          [
           "TEL"
          ],
          [
           "TDY"
          ],
          [
           "TFX"
          ],
          [
           "TER"
          ],
          [
           "TXN"
          ],
          [
           "TXT"
          ],
          [
           "TMO"
          ],
          [
           "TJX"
          ],
          [
           "TSCO"
          ],
          [
           "TT"
          ],
          [
           "TDG"
          ],
          [
           "TRV"
          ],
          [
           "TRMB"
          ],
          [
           "TFC"
          ],
          [
           "TYL"
          ],
          [
           "TSN"
          ],
          [
           "USB"
          ],
          [
           "UDR"
          ],
          [
           "ULTA"
          ],
          [
           "UNP"
          ],
          [
           "UAL"
          ],
          [
           "UPS"
          ],
          [
           "URI"
          ],
          [
           "UNH"
          ],
          [
           "UHS"
          ],
          [
           "VLO"
          ],
          [
           "VTR"
          ],
          [
           "VRSN"
          ],
          [
           "VRSK"
          ],
          [
           "VZ"
          ],
          [
           "VRTX"
          ],
          [
           "VFC"
          ],
          [
           "VTRS"
          ],
          [
           "VICI"
          ],
          [
           "V"
          ],
          [
           "VNO"
          ],
          [
           "VMC"
          ],
          [
           "WAB"
          ],
          [
           "WBA"
          ],
          [
           "WMT"
          ],
          [
           "WBD"
          ],
          [
           "WM"
          ],
          [
           "WAT"
          ],
          [
           "WEC"
          ],
          [
           "WFC"
          ],
          [
           "WELL"
          ],
          [
           "WST"
          ],
          [
           "WDC"
          ],
          [
           "WRK"
          ],
          [
           "WY"
          ],
          [
           "WHR"
          ],
          [
           "WMB"
          ],
          [
           "WTW"
          ],
          [
           "GWW"
          ],
          [
           "WYNN"
          ],
          [
           "XEL"
          ],
          [
           "XYL"
          ],
          [
           "YUM"
          ],
          [
           "ZBRA"
          ],
          [
           "ZBH"
          ],
          [
           "ZION"
          ],
          [
           "ZTS"
          ]
         ],
         "hovertemplate": "Returns=%{x}<br>Volatility=%{y}<br>Ticker=%{customdata[0]}<br>Cluster=%{marker.color}<extra></extra>",
         "legendgroup": "",
         "marker": {
          "color": [
           0,
           2,
           2,
           2,
           1,
           2,
           2,
           2,
           0,
           2,
           0,
           2,
           2,
           2,
           2,
           0,
           3,
           1,
           0,
           3,
           0,
           0,
           2,
           2,
           2,
           0,
           0,
           2,
           1,
           0,
           3,
           0,
           2,
           3,
           0,
           2,
           1,
           2,
           2,
           0,
           2,
           2,
           0,
           2,
           1,
           2,
           1,
           3,
           2,
           1,
           2,
           0,
           0,
           0,
           3,
           2,
           0,
           2,
           3,
           0,
           0,
           1,
           0,
           0,
           2,
           2,
           3,
           0,
           2,
           3,
           2,
           0,
           3,
           3,
           0,
           0,
           0,
           2,
           2,
           0,
           2,
           0,
           2,
           1,
           1,
           0,
           0,
           3,
           2,
           3,
           3,
           1,
           3,
           2,
           0,
           2,
           2,
           0,
           2,
           2,
           3,
           1,
           2,
           2,
           0,
           2,
           2,
           2,
           0,
           2,
           2,
           2,
           0,
           0,
           3,
           0,
           0,
           0,
           0,
           0,
           0,
           0,
           3,
           0,
           1,
           0,
           2,
           0,
           2,
           2,
           2,
           2,
           2,
           2,
           0,
           2,
           2,
           2,
           2,
           2,
           3,
           0,
           2,
           3,
           0,
           1,
           1,
           1,
           0,
           3,
           3,
           0,
           2,
           2,
           0,
           2,
           2,
           3,
           0,
           0,
           2,
           3,
           2,
           2,
           2,
           0,
           0,
           0,
           0,
           2,
           1,
           2,
           0,
           1,
           1,
           1,
           2,
           0,
           0,
           0,
           0,
           1,
           2,
           0,
           0,
           2,
           3,
           2,
           2,
           2,
           0,
           2,
           2,
           3,
           2,
           3,
           0,
           0,
           0,
           0,
           0,
           2,
           2,
           1,
           0,
           3,
           0,
           0,
           2,
           1,
           0,
           2,
           0,
           3,
           2,
           3,
           2,
           3,
           2,
           2,
           0,
           0,
           2,
           1,
           2,
           0,
           2,
           0,
           0,
           2,
           1,
           0,
           2,
           2,
           2,
           2,
           0,
           3,
           3,
           2,
           2,
           3,
           0,
           2,
           2,
           2,
           2,
           0,
           0,
           2,
           0,
           0,
           0,
           2,
           0,
           2,
           2,
           3,
           0,
           2,
           2,
           2,
           2,
           2,
           0,
           2,
           0,
           2,
           0,
           2,
           3,
           2,
           0,
           3,
           0,
           1,
           2,
           2,
           0,
           2,
           1,
           0,
           3,
           0,
           1,
           3,
           2,
           3,
           2,
           2,
           0,
           2,
           3,
           3,
           3,
           1,
           1,
           0,
           3,
           2,
           2,
           0,
           2,
           3,
           0,
           2,
           2,
           0,
           0,
           3,
           2,
           2,
           1,
           2,
           3,
           2,
           2,
           3,
           1,
           0,
           0,
           1,
           2,
           2,
           2,
           1,
           2,
           2,
           2,
           0,
           3,
           0,
           2,
           2,
           2,
           2,
           0,
           0,
           2,
           2,
           0,
           2,
           3,
           2,
           1,
           1,
           2,
           3,
           2,
           1,
           2,
           0,
           1,
           3,
           2,
           0,
           2,
           2,
           2,
           3,
           2,
           2,
           3,
           3,
           0,
           2,
           2,
           2,
           3,
           2,
           3,
           0,
           1,
           0,
           2,
           0,
           0,
           2,
           0,
           2,
           2,
           2,
           0,
           2,
           2,
           3,
           3,
           1,
           2,
           2,
           3,
           2,
           0,
           0,
           3,
           2,
           2,
           2,
           2,
           2,
           2,
           2,
           0,
           3,
           3,
           2,
           0,
           2,
           1,
           0,
           2,
           0,
           2,
           2,
           3,
           3,
           3,
           2,
           2,
           1,
           0,
           3,
           0,
           2,
           3,
           2,
           0,
           3,
           3,
           2,
           3,
           2,
           0,
           0,
           1,
           1,
           2,
           2,
           2,
           0,
           3,
           2,
           2,
           2,
           2,
           2,
           2,
           3,
           2,
           2,
           3,
           0,
           0,
           0,
           0,
           1,
           0,
           3,
           2,
           1,
           2,
           3,
           1,
           3,
           0,
           0,
           0,
           2,
           0,
           0,
           2,
           0,
           3,
           2,
           2,
           0,
           0,
           3,
           2,
           2,
           0,
           3,
           3,
           2,
           3,
           3,
           3,
           3,
           2,
           0,
           2,
           3,
           0,
           2,
           2,
           0,
           0,
           3,
           0
          ],
          "coloraxis": "coloraxis",
          "symbol": "circle"
         },
         "mode": "markers",
         "name": "",
         "orientation": "v",
         "showlegend": false,
         "type": "scatter",
         "x": [
          -0.03999484658952257,
          0.15357333359319025,
          0.13639500665522597,
          0.29040090573078253,
          0.3956361600980072,
          0.18965785630794085,
          0.1499084437138286,
          0.31265838160069864,
          0.09546337136216855,
          0.23038879790619016,
          0.07558209439654062,
          0.24647677647424068,
          0.20426223270104238,
          0.26049680160038696,
          0.18528887147274606,
          0.07399256539363333,
          0.03292112951806728,
          0.6261134794621396,
          0.06254037867436808,
          0.04693597986618878,
          0.042605299305867775,
          0.07858952100650453,
          0.13063501377305606,
          0.19134992977033252,
          0.19245350820936308,
          0.10452114614892687,
          0.07383561737654522,
          0.1558850073140183,
          0.30039437621854,
          0.11974088787660842,
          0.016937709266423368,
          0.07956749787862166,
          0.19137534896620173,
          0.21531693402396332,
          0.06202278486230207,
          0.1511148462539825,
          0.36363612014165,
          0.3087807160485372,
          0.18246493701131095,
          0.12915023402904846,
          0.1932483039128156,
          0.21226843399540504,
          0.0776523977997553,
          0.18913943281380374,
          0.6220082066468647,
          0.30754086052206053,
          0.33011273728977475,
          0.18282825337133138,
          0.1925310407637213,
          0.42224949206086815,
          0.3157808051360805,
          0.07174111336807,
          -0.020808008974844798,
          0.08896025519807527,
          0.12491531006861747,
          0.317512380571252,
          0.03172456721519359,
          0.21912187914398218,
          0.22459517948567165,
          0.02729898895739126,
          0.11433311571974117,
          0.64927246975454,
          -0.10480723180136102,
          0.03309549292234874,
          0.24551917738983375,
          0.1444567730299567,
          0.1252366526223526,
          0.10806763736973211,
          0.22373671990786287,
          0.15638605171094436,
          0.20829581074837666,
          0.058328098777580904,
          -0.014503129656384346,
          0.09640057787724741,
          0.0935841450961883,
          -0.10080464208062868,
          0.06506714194059013,
          0.1411294599985557,
          0.2930154319829227,
          0.12292799723757401,
          0.19623815274109066,
          0.09503546889097461,
          0.14616704017949259,
          0.3844801199429556,
          0.3581989367001171,
          0.12886024490764128,
          0.10417262958038673,
          0.13433478753558692,
          0.25823095688797254,
          0.03816697989426948,
          -0.15435251175535528,
          0.5894340822015729,
          0.08529618553684766,
          0.24375262133748515,
          0.07932923589754665,
          0.18541808791376038,
          0.175699737239608,
          0.07450184450700051,
          0.19418434248503258,
          0.14948773250294228,
          0.13688751437741592,
          0.4267855256213272,
          0.21700321165166345,
          0.2831949103865747,
          -0.022170552190691653,
          0.2778955499258994,
          0.2958873895337328,
          0.19406725978429043,
          0.10393454282587107,
          0.24275192081429126,
          0.12747788744102312,
          0.2616878887473175,
          0.08942189955122692,
          -0.05148146797247293,
          0.1823069172580779,
          0.05927480201341065,
          0.025417829817953153,
          0.05461334953012187,
          0.11701521698072985,
          0.07743709539254928,
          0.09249219277677921,
          -0.01877249516636303,
          0.16925491086779954,
          0.10329285352838591,
          0.3827894585020462,
          0.1033103393685033,
          0.17490708723500326,
          0.053544457955442534,
          0.18636998841174673,
          0.13645495453767348,
          0.3730309633376012,
          0.18106515689053443,
          0.23475204722771853,
          0.2650447829061593,
          0.07036798890068205,
          0.15752455695841897,
          0.18781134176620562,
          0.1783252480364649,
          0.28899905153251704,
          0.2463617867504137,
          0.2553578664872705,
          0.07429648016358943,
          0.39803193145713495,
          0.0010866036595350726,
          -0.12174024987422376,
          0.6313696805360527,
          0.38818568347437854,
          0.4503879711318029,
          0.05926055637759011,
          0.25951071270461884,
          -0.12662853037441144,
          -0.06331826313569755,
          0.19964350375089768,
          0.2521386362765216,
          -0.025610149222927356,
          0.1580913471715503,
          0.1394315390287763,
          0.12211196530337076,
          0.09262894328043313,
          0.10600247350102937,
          0.13301430241349493,
          0.14860263127518808,
          0.13849900708196566,
          0.26599272411102076,
          0.14956641024516973,
          -0.005145066763604736,
          0.04118035558275253,
          0.06571476135104315,
          0.11742457883914681,
          0.2639496719706799,
          0.42942608828088313,
          0.16673736087880336,
          0.07642304289566561,
          0.3707599365946676,
          0.3903819320842827,
          0.6912562235797928,
          0.19371060742486837,
          0.12821322502762542,
          0.013013692628486697,
          -0.021768172090036425,
          0.1258363182442726,
          0.632310632955844,
          0.14578695007159795,
          0.05239330309701489,
          0.0746217752456591,
          0.16899279508705328,
          0.1355257774823402,
          0.18123354895015475,
          0.22906493450733617,
          0.28355637411064244,
          0.09491369897104637,
          0.2545812203845937,
          0.17425166683538337,
          0.08276432507237762,
          0.1529762162164299,
          0.19823093234610822,
          0.10676084341317557,
          0.052175707604922475,
          -0.12550208957047534,
          0.032879036202058606,
          -0.05469536394644184,
          0.18732269314396008,
          0.2635286148613832,
          0.4287476992263945,
          0.07893947629760742,
          0.09318791435246618,
          0.04121107600371208,
          0.020879943850696664,
          0.14772139130738307,
          0.5654285665250829,
          0.046701922807983354,
          0.3572878524431867,
          0.06326581573881983,
          0.15837287098927658,
          0.18644321796626695,
          0.07422435189709804,
          0.22993546916899218,
          0.1473870062236988,
          0.28301476325941527,
          0.1680590425141573,
          0.12157594783981461,
          -0.10256724496492406,
          0.2538786142619954,
          0.39775399475917256,
          0.19312374673884916,
          -0.07639458177561152,
          0.2759227119495794,
          0.026125766766483545,
          0.12975549053841584,
          0.21851764272261154,
          0.4472231260323461,
          0.12242315861195319,
          0.16486266451781043,
          0.1948449507317495,
          0.20890776526377322,
          0.13269754958732136,
          0.07083661859357396,
          0.13511922305298218,
          0.21383923939103966,
          0.24035228797833755,
          0.21508403113212723,
          0.14693506263246717,
          0.05364712288668583,
          0.13419657487901027,
          0.16606281034540163,
          0.24265609192865167,
          0.14085916914894211,
          -0.031123937118483044,
          0.04733188761115473,
          0.22541111293797939,
          -0.14556537555632496,
          0.10778746715560382,
          0.05440216508683106,
          0.2571173248291273,
          0.019901953312832246,
          0.240320621471776,
          0.18805768488260494,
          0.20461949102127283,
          0.11102374318302884,
          0.1858696479444945,
          0.32287797903787374,
          0.21561749440793027,
          0.14486532274017094,
          0.1727512869061105,
          0.11366868127012467,
          0.24265339331128397,
          0.0810353580124188,
          0.1712074237754625,
          0.0892544668372542,
          0.1537434460450637,
          0.13882468734398584,
          0.2489357648657327,
          0.05953519353525346,
          0.2039628966068054,
          0.09412560797995423,
          0.39634833322931695,
          0.15460787683536256,
          0.24180410535465174,
          0.10600355438049251,
          0.19433020960172964,
          0.30103300010392303,
          0.11529580529908527,
          0.015568487294475871,
          0.10338728964248332,
          0.29800447608527547,
          0.11818131531641805,
          0.2185746670355687,
          0.1607508744032571,
          0.2524686689529543,
          0.14324466669246638,
          0.10958806614831801,
          0.2843485554360269,
          -0.1265938138557777,
          0.1223873756286982,
          0.1277998500831147,
          0.5401470882249879,
          0.41686244983823995,
          -0.022065519962817953,
          0.1468935409255548,
          0.20111074910080926,
          0.18459122100146044,
          0.08779224715728695,
          0.13423880810453728,
          -0.03990336061514465,
          0.061628489291653425,
          0.16159981335365564,
          0.4113685128249803,
          -0.06198308829526428,
          0.1336010819193384,
          -0.05804004112093744,
          0.2510138240682247,
          0.26994774308154174,
          0.2598725290939911,
          0.2612558228527735,
          0.11709709351803221,
          0.22457896829187246,
          0.1610720530458549,
          0.05524297600951582,
          0.3940141986907679,
          0.087329003597018,
          0.12078731661591394,
          0.41731309501497915,
          0.21217672029417983,
          0.15168985027976012,
          0.3247384754604183,
          0.48079605417888294,
          0.24454162672531696,
          0.3187567967973502,
          0.2956878750026755,
          0.11833853140538649,
          0.1321271094268153,
          -0.0071485472507261255,
          0.1319383742616845,
          0.17892091593354753,
          0.17861964588823306,
          0.1914456148889193,
          0.10745288069230982,
          0.08181205127726454,
          0.19819025951463895,
          0.16199441387976216,
          0.03905095477803244,
          0.20941675272318608,
          0.014022524640759648,
          0.12888346363068673,
          0.47939105025040196,
          0.5115752894958095,
          0.17341114297747978,
          0.2265786759470174,
          0.2831452172710514,
          0.5056006860811443,
          0.36605778585253884,
          0.0905505216614766,
          0.56738065899886,
          0.22249194544300455,
          0.21829856972749942,
          -0.07522554856062456,
          0.2630798522395801,
          0.15222683292213274,
          0.15298429876945654,
          -0.04688285936810886,
          0.22079026052349823,
          0.21163209041973527,
          0.21867592875328543,
          -0.005440058523890814,
          0.08208609111847383,
          0.15507868973728225,
          0.18043538940337273,
          0.18276114966231458,
          0.25937532112439576,
          0.1511381360907858,
          0.1496598130236732,
          0.04113200161468075,
          0.3455890201981254,
          0.11620207390922366,
          0.23555438478925783,
          0.08977051234908533,
          0.023875033185988596,
          0.2987403246557873,
          0.1165512783389629,
          0.2741168407099374,
          0.17381776460825601,
          0.18827926246476948,
          0.07992168183687567,
          0.2577247290309265,
          0.18017395032527087,
          0.1831488293266168,
          0.05503708568005538,
          0.5365579528699498,
          0.23450021458729053,
          0.18358890975987327,
          0.12170153712157741,
          0.3334916819460812,
          0.11254299071934747,
          0.07056937220343439,
          0.15255531096134,
          0.3077763032688832,
          0.2547529033246248,
          0.19940071651956376,
          0.21225899801895415,
          0.15807492869074366,
          0.17343258661231503,
          0.2638050511550289,
          0.11715936175256514,
          0.11668089294003646,
          0.06778346926274141,
          0.15475462073442997,
          0.04754815698648583,
          0.13233637512490917,
          0.28604122261168835,
          0.06567194483457589,
          0.19875651366598665,
          0.11495506657516256,
          0.2347254789657944,
          0.16814183298377539,
          0.1662828162111611,
          0.15212446552921519,
          0.025191329524628263,
          0.20028194923848652,
          0.2102016463057546,
          0.648550638860842,
          0.10547088018156714,
          -0.0016047276474134907,
          -0.12745113665362848,
          0.13080093185973996,
          0.10840126136560638,
          0.13819930993255683,
          0.12184278200424105,
          0.12105138823388821,
          0.161728908248672,
          0.38193095549804656,
          0.13019286992885437,
          0.2791595335248847,
          0.10142644733059851,
          0.038007255335614956,
          0.31762343658685893,
          0.5394326418596709,
          0.17442917524890095,
          0.1711186010241447,
          0.13142802903976683,
          -0.08146745643675729,
          0.22573328809062707,
          0.1843431424585188,
          0.26567401894538295,
          0.23863541252191134,
          0.17270308082880545,
          0.3673673075843606,
          0.25656940444398474,
          0.1519033116058442,
          0.18486892481505462,
          0.22172635792423062,
          0.05585055612877645,
          0.10068926066714745,
          -0.026238769259045232,
          0.020795178533818324,
          0.05053673509298795,
          0.32305426453317143,
          0.12041347489494739,
          0.023365548459805197,
          0.24103712887312576,
          0.38548361664888114,
          0.2738088408615492,
          0.08263646525040881,
          0.3079274023485071,
          0.11704685014931014,
          0.06351325891353406,
          0.12027191028499616,
          -0.10456780458589071,
          0.19593402123121265,
          -0.2589248012658629,
          -0.12187486690047251,
          0.23270772123886418,
          0.10605250207840891,
          -0.1719888043774051,
          0.17553575907679025,
          0.17036159289497133,
          -0.03125748594865573,
          0.13130947521997047,
          -0.19022471245093378,
          0.18071090872300946,
          0.18924101586819553,
          0.08869657553200781,
          0.06892232749361994,
          0.10994859259907397,
          0.23100241371543678,
          -0.05711362057680086,
          0.08592456589483498,
          0.17590990027575631,
          0.12176960451814453,
          0.27999410551875853,
          0.11520358685594105,
          0.25621540403043574,
          0.03648025325982736,
          0.0901219782175811,
          0.1941962597644178,
          0.14306200887806086,
          0.11186155594368102,
          0.017177648892020496,
          0.1198956120273656,
          0.10932180499949522
         ],
         "xaxis": "x",
         "y": [
          0.28959705903905025,
          0.32967120758626334,
          0.30204059286912793,
          0.2685037367723534,
          0.5104126525635765,
          0.3274817395383535,
          0.3397750334075733,
          0.3191447889099624,
          0.4186629596988279,
          0.32532904882921826,
          0.37847446247081074,
          0.43182511298100806,
          0.38484567311947127,
          0.3187345774422123,
          0.32838718972754455,
          0.3175446821657041,
          0.5645866255399414,
          0.5416348992841709,
          0.32042767531920197,
          0.5877663977732936,
          0.3505111238249276,
          0.2872529820414705,
          0.3277683964630941,
          0.34624891394566026,
          0.34466890540557016,
          0.28483417774471453,
          0.39175332698881865,
          0.3408176895161305,
          0.5584425133332968,
          0.30067476810543986,
          0.742254765449748,
          0.2788351931606085,
          0.4579278197652981,
          0.4882273786252383,
          0.3366127031849875,
          0.31888166656230243,
          0.47702784081175825,
          0.3116076741618908,
          0.32363996143434115,
          0.2818733584984675,
          0.31646866275083935,
          0.39423350833437515,
          0.4042999981612365,
          0.31244870077697334,
          0.8558297970594878,
          0.37054936309753334,
          0.5178107779228662,
          0.5511770297861325,
          0.39432899230378715,
          0.4270064783719373,
          0.30186436303531905,
          0.35077363372467035,
          0.28410890108577014,
          0.3010569491683124,
          0.45024105871961967,
          0.32453330708956224,
          0.35206775949565716,
          0.3696136209887893,
          0.5330370256687746,
          0.35649816079034613,
          0.41755185541786394,
          0.7161965257094262,
          0.2971375915991204,
          0.27604235505991775,
          0.342694103162647,
          0.25745561507199066,
          0.4444236870014558,
          0.36695683984257244,
          0.37818069540382704,
          0.576934236443241,
          0.3754183497107967,
          0.36890273556605063,
          0.6147239745718686,
          0.43634963385920555,
          0.414851800900244,
          0.4102886027797101,
          0.33194849981538077,
          0.23320907653628759,
          0.40390518943457887,
          0.29540911903805034,
          0.31292883836547114,
          0.295660302543996,
          0.305468054415145,
          0.406762280944343,
          0.8991475594784536,
          0.33236471710683324,
          0.2634500598786925,
          0.5213795318998703,
          0.34604471772312345,
          0.49295301080897164,
          0.8872134506285072,
          0.4354546100405346,
          0.4694611045984723,
          0.3581018891270811,
          0.3305029745826299,
          0.4440633471012523,
          0.3699504871962809,
          0.41843247800742966,
          0.4068918091696972,
          0.38886305681295025,
          0.5251332032281729,
          0.4938302447455461,
          0.4237732178240814,
          0.41602843665053224,
          0.32757658674312057,
          0.42837513456020543,
          0.40612985689181197,
          0.341182661751202,
          0.25853057261415474,
          0.3787623041066441,
          0.4202754242992251,
          0.3676238480317196,
          0.31831766487111895,
          0.46334253649572826,
          0.5264960834356838,
          0.2997167358210186,
          0.3355710436890152,
          0.28284694069087796,
          0.2484601202024468,
          0.3671165775741567,
          0.2361959546586931,
          0.31478345832086224,
          0.5304972359850048,
          0.27042657625956246,
          0.5321882607150792,
          0.28928681493186603,
          0.32111524337313113,
          0.3294678333101805,
          0.35310574524117383,
          0.3802360460428385,
          0.3732929819481135,
          0.40054773168479146,
          0.27215567967691573,
          0.4660450770547278,
          0.32664844947652627,
          0.33905869860708304,
          0.33257664760789546,
          0.30296294015936026,
          0.46963699567445333,
          0.30946576608280807,
          0.5531264085429318,
          0.3879774300096481,
          0.37815127406610377,
          0.5817796510511937,
          0.3855703397051806,
          0.7134171458128237,
          0.501762044726387,
          0.7323829015306661,
          0.3448330191111334,
          0.5767128419600095,
          0.5591934203011787,
          0.38365498236440787,
          0.289504756307547,
          0.42295967252793315,
          0.31494989048563815,
          0.3559742217598936,
          0.3372283676029817,
          0.43556855759044266,
          0.3208284162773139,
          0.2883362094932288,
          0.39364135608324563,
          0.6779529884551954,
          0.39779525993661624,
          0.3650152181176959,
          0.3669330458907838,
          0.3669875130401534,
          0.3289945342319975,
          0.37274404825368856,
          0.29884215651732277,
          0.3853824676214998,
          0.34721048426332457,
          0.37418167543676795,
          0.32947519167756517,
          0.5701561715225524,
          0.6200390542663049,
          0.6794508628492484,
          0.37216074174682207,
          0.3458436737688836,
          0.3553598991269606,
          0.3559304448031362,
          0.3732896140223188,
          0.6989255605201997,
          0.36260593393661344,
          0.3342943069581518,
          0.3202727535036978,
          0.3404361932817904,
          0.5624958045094941,
          0.2909860097588738,
          0.3337649511058077,
          0.40764538261426025,
          0.3576762435388068,
          0.33336123955945157,
          0.3053508469541503,
          0.45162911351016904,
          0.42272066158243954,
          0.5116607266814516,
          0.39742886170674496,
          0.35695079758167375,
          0.40335287148140486,
          0.35670767147359506,
          0.40323311576580645,
          0.3807780153854047,
          0.49646949835733467,
          0.4944148306066623,
          0.3421563701798041,
          0.4375539843601758,
          0.3966044451524483,
          0.38345035857393744,
          0.4382417572284971,
          0.6016531915325541,
          0.3124161548255607,
          0.39857590434036033,
          0.40954988647085416,
          0.5677660377315338,
          0.29078449896860764,
          0.4592195329811558,
          0.247252724827393,
          0.49147751399720413,
          0.3595951197553992,
          0.28629662493337366,
          0.3686896975451357,
          0.4368015690599806,
          0.37901826293700974,
          0.6676516029366113,
          0.44480829020111423,
          0.397716357375763,
          0.4588264271409198,
          0.3951519072118745,
          0.33436514359143255,
          0.26331489952369086,
          0.5885490202509693,
          0.4129695484189332,
          0.40722916884622934,
          0.3522569422179096,
          0.3333732016317758,
          0.32076486796027986,
          0.24610208853738838,
          0.5012187145717171,
          0.5298447994295613,
          0.44060134195875617,
          0.3743366717037666,
          0.4680235984041307,
          0.335503459691487,
          0.3056934644306279,
          0.2944083355385746,
          0.38132072947724177,
          0.307064967322202,
          0.46146038448696913,
          0.34316491412684974,
          0.39264858729324714,
          0.42403572506539877,
          0.2933874927957227,
          0.37518107921769084,
          0.4246617438756971,
          0.34795967115600945,
          0.42569251830545457,
          0.40182842037555766,
          0.5465162729349332,
          0.35184114193288074,
          0.3805202128683433,
          0.3745281672494258,
          0.345157413677558,
          0.30194628768978793,
          0.33185979472450644,
          0.22020759292726355,
          0.3359187839190254,
          0.3829966808529445,
          0.3150020257502494,
          0.25002404224800695,
          0.2741991619574313,
          0.5208151448469831,
          0.34895247377626526,
          0.2431576467896093,
          0.5091318494341637,
          0.3903514844938182,
          0.508932658808625,
          0.31919627011479024,
          0.3248549706149561,
          0.3193446165394414,
          0.3686853926099353,
          0.5416473647539369,
          0.4218923385868994,
          0.5335600850537534,
          0.3290307630114408,
          0.5157300935542393,
          0.680115745011727,
          0.3058376566304337,
          0.5501275244381124,
          0.4579498805057989,
          0.3077814424715791,
          0.3892427237678519,
          0.3796421005830073,
          0.5050398627643041,
          0.4908402063048149,
          0.46426454348207624,
          0.7072629851265821,
          0.561703035784915,
          0.3960264309003271,
          0.48152658383818914,
          0.2764338055971613,
          0.4066740231422853,
          0.344362509895318,
          0.37967002167239644,
          0.5454637893288414,
          0.2852056863374068,
          0.2753447651562569,
          0.3259861567901011,
          0.3070679103961487,
          0.2581605888208665,
          0.48814769240454253,
          0.4107856834769829,
          0.3464633325020982,
          0.6655001865746746,
          0.49721111923052314,
          0.49181374097056213,
          0.3494219089754852,
          0.3299356664480675,
          0.5467459787199883,
          0.39977402942425094,
          0.3614408332096533,
          0.24963093027602068,
          0.5561283445218713,
          0.29772225517967,
          0.37385212142257296,
          0.4142181872904633,
          0.6085274718921143,
          0.3312444655531886,
          0.41127556369917767,
          0.31237987128483685,
          0.40063876937896714,
          0.5198558396271915,
          0.44606022135813145,
          0.3822607451116809,
          0.38971137799379946,
          0.3962506541030043,
          0.3282031704983812,
          0.373969644055397,
          0.31756544035547724,
          0.35569359847637194,
          0.34958778852929845,
          0.3949384196971125,
          0.3158431432823721,
          0.9424576095341491,
          0.40256169958363935,
          0.4632306818207661,
          0.5595932970626933,
          0.43822238952271253,
          0.49388954579248234,
          0.3212806179051802,
          0.7909048448096266,
          0.37227301313672795,
          0.3709886210202493,
          0.6328740673933057,
          0.6080630889779078,
          0.34057398702994734,
          0.3619995209858545,
          0.30050066835770095,
          0.2975475031375927,
          0.3394050284866415,
          0.6294501778553021,
          0.4222326944719971,
          0.3428795420410864,
          0.5341273277180257,
          0.506404957370032,
          0.37047644240988437,
          0.2562521590491976,
          0.3502974067697403,
          0.300514829442278,
          0.5155656368764665,
          0.2899718467549375,
          0.5102464941594619,
          0.32304928973015906,
          0.5586299485094783,
          0.4078585673455433,
          0.4025329045836985,
          0.3534139135137862,
          0.320139007623273,
          0.45423744187175247,
          0.2437437996266902,
          0.2878436596835115,
          0.35170027049783203,
          0.45444383581836667,
          0.29482124794240544,
          0.413399430136954,
          0.29119290932944186,
          0.5022875681393177,
          0.48022038283279034,
          0.4094457604259664,
          0.4551547753517258,
          0.30779672585677065,
          0.4934470692641039,
          0.41551305333149074,
          0.39194182010018624,
          0.37861477552068223,
          0.4659441180496921,
          0.35316377438912405,
          0.4973522786884165,
          0.2608317638680701,
          0.3711356059911247,
          0.39256470682153816,
          0.3802568832645546,
          0.32036252865388465,
          0.3031341733853484,
          0.46126182892822604,
          0.8199438061329942,
          0.34625306901863095,
          0.44283181703990254,
          0.33609761220959006,
          0.5859211105842362,
          0.41768833077419454,
          0.3985908420766216,
          0.32754649826838067,
          0.48101951754212074,
          0.34039710934758693,
          0.5648352838393759,
          0.5983391157434031,
          0.4618135507314052,
          0.2658262907424561,
          0.35483267394918805,
          0.7334536354235611,
          0.31266968766350217,
          0.4631968968758634,
          0.46065647027339107,
          0.362455108673996,
          0.450169078276927,
          0.31899397768615945,
          0.35940647179816515,
          0.5668843629085712,
          0.5424969123447616,
          0.3922752867116007,
          0.4652802403661985,
          0.3242504423073856,
          0.3995729593332919,
          0.3922062182172279,
          0.5999182061347255,
          0.7387539555345007,
          0.37099501181500216,
          0.36579285186032806,
          0.37109793826958065,
          0.3690415336170431,
          0.4992824838031268,
          0.34813562291252703,
          0.4698408483390573,
          0.3177368151771417,
          0.38665275588048986,
          0.34186592642928554,
          0.3434304561697839,
          0.49045851988475386,
          0.3365423340949629,
          0.4307347873850269,
          0.46029061334766813,
          0.3537664310786524,
          0.3515139650697851,
          0.41065865872510227,
          0.35988695570663953,
          0.474473890430349,
          0.3115677303010259,
          0.7295647385759083,
          0.3324931220280899,
          0.5083663802086059,
          0.3337672782930947,
          0.4733970549262047,
          0.5778386799496259,
          0.5450270136723222,
          0.3292090111883406,
          0.3058186430639626,
          0.21079768638557403,
          0.3583227697257952,
          0.44950409653078655,
          0.41046769954027973,
          0.4239902934440893,
          0.33760408201267794,
          0.5002646851732877,
          0.3917645880392154,
          0.4028771540110398,
          0.3710523484440282,
          0.25903076677923903,
          0.5608535049720025,
          0.2559473594430556,
          0.3343848417769083,
          0.3043075761497729,
          0.45379450366992974,
          0.49219411084676223,
          0.36273152998950003,
          0.5438830949039303,
          0.4777345601641574,
          0.4700017836421764,
          0.45860081382895596,
          0.43067566746263847,
          0.3148179010466421,
          0.32457489594003675,
          0.652643347360315,
          0.2863509386477756,
          0.3599854472224598,
          0.3119927984685176,
          0.4270707852293673,
          0.3703755799063696,
          0.4594915952834818,
          0.315720776319138
         ],
         "yaxis": "y"
        }
       ],
       "layout": {
        "coloraxis": {
         "colorbar": {
          "title": {
           "text": "Cluster"
          }
         },
         "colorscale": [
          [
           0,
           "#0d0887"
          ],
          [
           0.1111111111111111,
           "#46039f"
          ],
          [
           0.2222222222222222,
           "#7201a8"
          ],
          [
           0.3333333333333333,
           "#9c179e"
          ],
          [
           0.4444444444444444,
           "#bd3786"
          ],
          [
           0.5555555555555556,
           "#d8576b"
          ],
          [
           0.6666666666666666,
           "#ed7953"
          ],
          [
           0.7777777777777778,
           "#fb9f3a"
          ],
          [
           0.8888888888888888,
           "#fdca26"
          ],
          [
           1,
           "#f0f921"
          ]
         ],
         "showscale": false
        },
        "legend": {
         "tracegroupgap": 0
        },
        "margin": {
         "t": 60
        },
        "template": {
         "data": {
          "bar": [
           {
            "error_x": {
             "color": "#2a3f5f"
            },
            "error_y": {
             "color": "#2a3f5f"
            },
            "marker": {
             "line": {
              "color": "#E5ECF6",
              "width": 0.5
             },
             "pattern": {
              "fillmode": "overlay",
              "size": 10,
              "solidity": 0.2
             }
            },
            "type": "bar"
           }
          ],
          "barpolar": [
           {
            "marker": {
             "line": {
              "color": "#E5ECF6",
              "width": 0.5
             },
             "pattern": {
              "fillmode": "overlay",
              "size": 10,
              "solidity": 0.2
             }
            },
            "type": "barpolar"
           }
          ],
          "carpet": [
           {
            "aaxis": {
             "endlinecolor": "#2a3f5f",
             "gridcolor": "white",
             "linecolor": "white",
             "minorgridcolor": "white",
             "startlinecolor": "#2a3f5f"
            },
            "baxis": {
             "endlinecolor": "#2a3f5f",
             "gridcolor": "white",
             "linecolor": "white",
             "minorgridcolor": "white",
             "startlinecolor": "#2a3f5f"
            },
            "type": "carpet"
           }
          ],
          "choropleth": [
           {
            "colorbar": {
             "outlinewidth": 0,
             "ticks": ""
            },
            "type": "choropleth"
           }
          ],
          "contour": [
           {
            "colorbar": {
             "outlinewidth": 0,
             "ticks": ""
            },
            "colorscale": [
             [
              0,
              "#0d0887"
             ],
             [
              0.1111111111111111,
              "#46039f"
             ],
             [
              0.2222222222222222,
              "#7201a8"
             ],
             [
              0.3333333333333333,
              "#9c179e"
             ],
             [
              0.4444444444444444,
              "#bd3786"
             ],
             [
              0.5555555555555556,
              "#d8576b"
             ],
             [
              0.6666666666666666,
              "#ed7953"
             ],
             [
              0.7777777777777778,
              "#fb9f3a"
             ],
             [
              0.8888888888888888,
              "#fdca26"
             ],
             [
              1,
              "#f0f921"
             ]
            ],
            "type": "contour"
           }
          ],
          "contourcarpet": [
           {
            "colorbar": {
             "outlinewidth": 0,
             "ticks": ""
            },
            "type": "contourcarpet"
           }
          ],
          "heatmap": [
           {
            "colorbar": {
             "outlinewidth": 0,
             "ticks": ""
            },
            "colorscale": [
             [
              0,
              "#0d0887"
             ],
             [
              0.1111111111111111,
              "#46039f"
             ],
             [
              0.2222222222222222,
              "#7201a8"
             ],
             [
              0.3333333333333333,
              "#9c179e"
             ],
             [
              0.4444444444444444,
              "#bd3786"
             ],
             [
              0.5555555555555556,
              "#d8576b"
             ],
             [
              0.6666666666666666,
              "#ed7953"
             ],
             [
              0.7777777777777778,
              "#fb9f3a"
             ],
             [
              0.8888888888888888,
              "#fdca26"
             ],
             [
              1,
              "#f0f921"
             ]
            ],
            "type": "heatmap"
           }
          ],
          "heatmapgl": [
           {
            "colorbar": {
             "outlinewidth": 0,
             "ticks": ""
            },
            "colorscale": [
             [
              0,
              "#0d0887"
             ],
             [
              0.1111111111111111,
              "#46039f"
             ],
             [
              0.2222222222222222,
              "#7201a8"
             ],
             [
              0.3333333333333333,
              "#9c179e"
             ],
             [
              0.4444444444444444,
              "#bd3786"
             ],
             [
              0.5555555555555556,
              "#d8576b"
             ],
             [
              0.6666666666666666,
              "#ed7953"
             ],
             [
              0.7777777777777778,
              "#fb9f3a"
             ],
             [
              0.8888888888888888,
              "#fdca26"
             ],
             [
              1,
              "#f0f921"
             ]
            ],
            "type": "heatmapgl"
           }
          ],
          "histogram": [
           {
            "marker": {
             "pattern": {
              "fillmode": "overlay",
              "size": 10,
              "solidity": 0.2
             }
            },
            "type": "histogram"
           }
          ],
          "histogram2d": [
           {
            "colorbar": {
             "outlinewidth": 0,
             "ticks": ""
            },
            "colorscale": [
             [
              0,
              "#0d0887"
             ],
             [
              0.1111111111111111,
              "#46039f"
             ],
             [
              0.2222222222222222,
              "#7201a8"
             ],
             [
              0.3333333333333333,
              "#9c179e"
             ],
             [
              0.4444444444444444,
              "#bd3786"
             ],
             [
              0.5555555555555556,
              "#d8576b"
             ],
             [
              0.6666666666666666,
              "#ed7953"
             ],
             [
              0.7777777777777778,
              "#fb9f3a"
             ],
             [
              0.8888888888888888,
              "#fdca26"
             ],
             [
              1,
              "#f0f921"
             ]
            ],
            "type": "histogram2d"
           }
          ],
          "histogram2dcontour": [
           {
            "colorbar": {
             "outlinewidth": 0,
             "ticks": ""
            },
            "colorscale": [
             [
              0,
              "#0d0887"
             ],
             [
              0.1111111111111111,
              "#46039f"
             ],
             [
              0.2222222222222222,
              "#7201a8"
             ],
             [
              0.3333333333333333,
              "#9c179e"
             ],
             [
              0.4444444444444444,
              "#bd3786"
             ],
             [
              0.5555555555555556,
              "#d8576b"
             ],
             [
              0.6666666666666666,
              "#ed7953"
             ],
             [
              0.7777777777777778,
              "#fb9f3a"
             ],
             [
              0.8888888888888888,
              "#fdca26"
             ],
             [
              1,
              "#f0f921"
             ]
            ],
            "type": "histogram2dcontour"
           }
          ],
          "mesh3d": [
           {
            "colorbar": {
             "outlinewidth": 0,
             "ticks": ""
            },
            "type": "mesh3d"
           }
          ],
          "parcoords": [
           {
            "line": {
             "colorbar": {
              "outlinewidth": 0,
              "ticks": ""
             }
            },
            "type": "parcoords"
           }
          ],
          "pie": [
           {
            "automargin": true,
            "type": "pie"
           }
          ],
          "scatter": [
           {
            "fillpattern": {
             "fillmode": "overlay",
             "size": 10,
             "solidity": 0.2
            },
            "type": "scatter"
           }
          ],
          "scatter3d": [
           {
            "line": {
             "colorbar": {
              "outlinewidth": 0,
              "ticks": ""
             }
            },
            "marker": {
             "colorbar": {
              "outlinewidth": 0,
              "ticks": ""
             }
            },
            "type": "scatter3d"
           }
          ],
          "scattercarpet": [
           {
            "marker": {
             "colorbar": {
              "outlinewidth": 0,
              "ticks": ""
             }
            },
            "type": "scattercarpet"
           }
          ],
          "scattergeo": [
           {
            "marker": {
             "colorbar": {
              "outlinewidth": 0,
              "ticks": ""
             }
            },
            "type": "scattergeo"
           }
          ],
          "scattergl": [
           {
            "marker": {
             "colorbar": {
              "outlinewidth": 0,
              "ticks": ""
             }
            },
            "type": "scattergl"
           }
          ],
          "scattermapbox": [
           {
            "marker": {
             "colorbar": {
              "outlinewidth": 0,
              "ticks": ""
             }
            },
            "type": "scattermapbox"
           }
          ],
          "scatterpolar": [
           {
            "marker": {
             "colorbar": {
              "outlinewidth": 0,
              "ticks": ""
             }
            },
            "type": "scatterpolar"
           }
          ],
          "scatterpolargl": [
           {
            "marker": {
             "colorbar": {
              "outlinewidth": 0,
              "ticks": ""
             }
            },
            "type": "scatterpolargl"
           }
          ],
          "scatterternary": [
           {
            "marker": {
             "colorbar": {
              "outlinewidth": 0,
              "ticks": ""
             }
            },
            "type": "scatterternary"
           }
          ],
          "surface": [
           {
            "colorbar": {
             "outlinewidth": 0,
             "ticks": ""
            },
            "colorscale": [
             [
              0,
              "#0d0887"
             ],
             [
              0.1111111111111111,
              "#46039f"
             ],
             [
              0.2222222222222222,
              "#7201a8"
             ],
             [
              0.3333333333333333,
              "#9c179e"
             ],
             [
              0.4444444444444444,
              "#bd3786"
             ],
             [
              0.5555555555555556,
              "#d8576b"
             ],
             [
              0.6666666666666666,
              "#ed7953"
             ],
             [
              0.7777777777777778,
              "#fb9f3a"
             ],
             [
              0.8888888888888888,
              "#fdca26"
             ],
             [
              1,
              "#f0f921"
             ]
            ],
            "type": "surface"
           }
          ],
          "table": [
           {
            "cells": {
             "fill": {
              "color": "#EBF0F8"
             },
             "line": {
              "color": "white"
             }
            },
            "header": {
             "fill": {
              "color": "#C8D4E3"
             },
             "line": {
              "color": "white"
             }
            },
            "type": "table"
           }
          ]
         },
         "layout": {
          "annotationdefaults": {
           "arrowcolor": "#2a3f5f",
           "arrowhead": 0,
           "arrowwidth": 1
          },
          "autotypenumbers": "strict",
          "coloraxis": {
           "colorbar": {
            "outlinewidth": 0,
            "ticks": ""
           }
          },
          "colorscale": {
           "diverging": [
            [
             0,
             "#8e0152"
            ],
            [
             0.1,
             "#c51b7d"
            ],
            [
             0.2,
             "#de77ae"
            ],
            [
             0.3,
             "#f1b6da"
            ],
            [
             0.4,
             "#fde0ef"
            ],
            [
             0.5,
             "#f7f7f7"
            ],
            [
             0.6,
             "#e6f5d0"
            ],
            [
             0.7,
             "#b8e186"
            ],
            [
             0.8,
             "#7fbc41"
            ],
            [
             0.9,
             "#4d9221"
            ],
            [
             1,
             "#276419"
            ]
           ],
           "sequential": [
            [
             0,
             "#0d0887"
            ],
            [
             0.1111111111111111,
             "#46039f"
            ],
            [
             0.2222222222222222,
             "#7201a8"
            ],
            [
             0.3333333333333333,
             "#9c179e"
            ],
            [
             0.4444444444444444,
             "#bd3786"
            ],
            [
             0.5555555555555556,
             "#d8576b"
            ],
            [
             0.6666666666666666,
             "#ed7953"
            ],
            [
             0.7777777777777778,
             "#fb9f3a"
            ],
            [
             0.8888888888888888,
             "#fdca26"
            ],
            [
             1,
             "#f0f921"
            ]
           ],
           "sequentialminus": [
            [
             0,
             "#0d0887"
            ],
            [
             0.1111111111111111,
             "#46039f"
            ],
            [
             0.2222222222222222,
             "#7201a8"
            ],
            [
             0.3333333333333333,
             "#9c179e"
            ],
            [
             0.4444444444444444,
             "#bd3786"
            ],
            [
             0.5555555555555556,
             "#d8576b"
            ],
            [
             0.6666666666666666,
             "#ed7953"
            ],
            [
             0.7777777777777778,
             "#fb9f3a"
            ],
            [
             0.8888888888888888,
             "#fdca26"
            ],
            [
             1,
             "#f0f921"
            ]
           ]
          },
          "colorway": [
           "#636efa",
           "#EF553B",
           "#00cc96",
           "#ab63fa",
           "#FFA15A",
           "#19d3f3",
           "#FF6692",
           "#B6E880",
           "#FF97FF",
           "#FECB52"
          ],
          "font": {
           "color": "#2a3f5f"
          },
          "geo": {
           "bgcolor": "white",
           "lakecolor": "white",
           "landcolor": "#E5ECF6",
           "showlakes": true,
           "showland": true,
           "subunitcolor": "white"
          },
          "hoverlabel": {
           "align": "left"
          },
          "hovermode": "closest",
          "mapbox": {
           "style": "light"
          },
          "paper_bgcolor": "white",
          "plot_bgcolor": "#E5ECF6",
          "polar": {
           "angularaxis": {
            "gridcolor": "white",
            "linecolor": "white",
            "ticks": ""
           },
           "bgcolor": "#E5ECF6",
           "radialaxis": {
            "gridcolor": "white",
            "linecolor": "white",
            "ticks": ""
           }
          },
          "scene": {
           "xaxis": {
            "backgroundcolor": "#E5ECF6",
            "gridcolor": "white",
            "gridwidth": 2,
            "linecolor": "white",
            "showbackground": true,
            "ticks": "",
            "zerolinecolor": "white"
           },
           "yaxis": {
            "backgroundcolor": "#E5ECF6",
            "gridcolor": "white",
            "gridwidth": 2,
            "linecolor": "white",
            "showbackground": true,
            "ticks": "",
            "zerolinecolor": "white"
           },
           "zaxis": {
            "backgroundcolor": "#E5ECF6",
            "gridcolor": "white",
            "gridwidth": 2,
            "linecolor": "white",
            "showbackground": true,
            "ticks": "",
            "zerolinecolor": "white"
           }
          },
          "shapedefaults": {
           "line": {
            "color": "#2a3f5f"
           }
          },
          "ternary": {
           "aaxis": {
            "gridcolor": "white",
            "linecolor": "white",
            "ticks": ""
           },
           "baxis": {
            "gridcolor": "white",
            "linecolor": "white",
            "ticks": ""
           },
           "bgcolor": "#E5ECF6",
           "caxis": {
            "gridcolor": "white",
            "linecolor": "white",
            "ticks": ""
           }
          },
          "title": {
           "x": 0.05
          },
          "xaxis": {
           "automargin": true,
           "gridcolor": "white",
           "linecolor": "white",
           "ticks": "",
           "title": {
            "standoff": 15
           },
           "zerolinecolor": "white",
           "zerolinewidth": 2
          },
          "yaxis": {
           "automargin": true,
           "gridcolor": "white",
           "linecolor": "white",
           "ticks": "",
           "title": {
            "standoff": 15
           },
           "zerolinecolor": "white",
           "zerolinewidth": 2
          }
         }
        },
        "xaxis": {
         "anchor": "y",
         "domain": [
          0,
          1
         ],
         "title": {
          "text": "Returns"
         }
        },
        "yaxis": {
         "anchor": "x",
         "domain": [
          0,
          1
         ],
         "title": {
          "text": "Volatility"
         }
        }
       }
      }
     },
     "metadata": {},
     "output_type": "display_data"
    }
   ],
   "source": [
    "# Plot the clusters created using Plotly\n",
    "fig = px.scatter(clusters_df, x=\"Returns\", y=\"Volatility\", color=\"Cluster\", hover_data=[\"Ticker\"])\n",
    "fig.update(layout_coloraxis_showscale=False)\n",
    "fig.show()"
   ]
  },
  {
   "cell_type": "markdown",
   "metadata": {},
   "source": [
    "The graph shows 4 clusters that were generated using a K-means algorithm with 2 variables: average annualized return and average annualized volatility. These variables are used to measure the risk and return of a stock. The 4 clusters represent 4 groups of actions with different levels of risk and return in the period under study.\n",
    "\n",
    "Clustering is useful for identifying peer groups among stocks, thus allowing differentiation between stocks with different levels of risk and return. This is useful for investors looking to diversify their investment portfolios, as it allows them to identify groups of stocks with different levels of risk and return.\n",
    "\n",
    "Investors could use the 4 clusters to select a mix of stocks with different levels of risk and return based on their investment objectives. This will help them diversify their portfolio and reduce the risk of their investment, since they will be investing in a variety of assets with different levels of risk."
   ]
  },
  {
   "cell_type": "markdown",
   "metadata": {},
   "source": [
    "# Clustering by P/E and dividend rate\n",
    "\n",
    "It is possible to apply a clustering similar to the one performed previously, exchanging the variables Annualized Average Return and Annualized Average Volatility for PER (Price-Earnings Ratio) and Dividend Rate. In this way we could differentiate between “value” companies and “growth” companies."
   ]
  },
  {
   "cell_type": "code",
   "execution_count": 35,
   "metadata": {},
   "outputs": [
    {
     "data": {
      "text/html": [
       "<div>\n",
       "<style scoped>\n",
       "    .dataframe tbody tr th:only-of-type {\n",
       "        vertical-align: middle;\n",
       "    }\n",
       "\n",
       "    .dataframe tbody tr th {\n",
       "        vertical-align: top;\n",
       "    }\n",
       "\n",
       "    .dataframe thead th {\n",
       "        text-align: right;\n",
       "    }\n",
       "</style>\n",
       "<table border=\"1\" class=\"dataframe\">\n",
       "  <thead>\n",
       "    <tr style=\"text-align: right;\">\n",
       "      <th></th>\n",
       "      <th>Ticker</th>\n",
       "      <th>trailingPE</th>\n",
       "      <th>dividendRate</th>\n",
       "      <th>marketCap</th>\n",
       "    </tr>\n",
       "  </thead>\n",
       "  <tbody>\n",
       "    <tr>\n",
       "      <th>0</th>\n",
       "      <td>MMM</td>\n",
       "      <td>10.870855</td>\n",
       "      <td>5.96</td>\n",
       "      <td>6.886072e+10</td>\n",
       "    </tr>\n",
       "    <tr>\n",
       "      <th>1</th>\n",
       "      <td>AOS</td>\n",
       "      <td>18.907642</td>\n",
       "      <td>1.20</td>\n",
       "      <td>9.155210e+09</td>\n",
       "    </tr>\n",
       "    <tr>\n",
       "      <th>2</th>\n",
       "      <td>ABT</td>\n",
       "      <td>23.444696</td>\n",
       "      <td>1.88</td>\n",
       "      <td>1.856913e+11</td>\n",
       "    </tr>\n",
       "    <tr>\n",
       "      <th>3</th>\n",
       "      <td>ABBV</td>\n",
       "      <td>21.829334</td>\n",
       "      <td>5.92</td>\n",
       "      <td>2.895356e+11</td>\n",
       "    </tr>\n",
       "    <tr>\n",
       "      <th>4</th>\n",
       "      <td>ABMD</td>\n",
       "      <td>64.828476</td>\n",
       "      <td>NaN</td>\n",
       "      <td>1.704222e+10</td>\n",
       "    </tr>\n",
       "    <tr>\n",
       "      <th>...</th>\n",
       "      <td>...</td>\n",
       "      <td>...</td>\n",
       "      <td>...</td>\n",
       "      <td>...</td>\n",
       "    </tr>\n",
       "    <tr>\n",
       "      <th>498</th>\n",
       "      <td>YUM</td>\n",
       "      <td>34.93447</td>\n",
       "      <td>2.28</td>\n",
       "      <td>3.828903e+10</td>\n",
       "    </tr>\n",
       "    <tr>\n",
       "      <th>499</th>\n",
       "      <td>ZBRA</td>\n",
       "      <td>27.188234</td>\n",
       "      <td>NaN</td>\n",
       "      <td>1.358536e+10</td>\n",
       "    </tr>\n",
       "    <tr>\n",
       "      <th>500</th>\n",
       "      <td>ZBH</td>\n",
       "      <td>na</td>\n",
       "      <td>0.96</td>\n",
       "      <td>2.535934e+10</td>\n",
       "    </tr>\n",
       "    <tr>\n",
       "      <th>501</th>\n",
       "      <td>ZION</td>\n",
       "      <td>9.583248</td>\n",
       "      <td>1.64</td>\n",
       "      <td>7.375666e+09</td>\n",
       "    </tr>\n",
       "    <tr>\n",
       "      <th>502</th>\n",
       "      <td>ZTS</td>\n",
       "      <td>44.75146</td>\n",
       "      <td>1.30</td>\n",
       "      <td>7.241194e+10</td>\n",
       "    </tr>\n",
       "  </tbody>\n",
       "</table>\n",
       "<p>503 rows × 4 columns</p>\n",
       "</div>"
      ],
      "text/plain": [
       "    Ticker trailingPE  dividendRate     marketCap\n",
       "0      MMM  10.870855          5.96  6.886072e+10\n",
       "1      AOS  18.907642          1.20  9.155210e+09\n",
       "2      ABT  23.444696          1.88  1.856913e+11\n",
       "3     ABBV  21.829334          5.92  2.895356e+11\n",
       "4     ABMD  64.828476           NaN  1.704222e+10\n",
       "..     ...        ...           ...           ...\n",
       "498    YUM   34.93447          2.28  3.828903e+10\n",
       "499   ZBRA  27.188234           NaN  1.358536e+10\n",
       "500    ZBH         na          0.96  2.535934e+10\n",
       "501   ZION   9.583248          1.64  7.375666e+09\n",
       "502    ZTS   44.75146          1.30  7.241194e+10\n",
       "\n",
       "[503 rows x 4 columns]"
      ]
     },
     "execution_count": 35,
     "metadata": {},
     "output_type": "execute_result"
    }
   ],
   "source": [
    "# Download trailingPE, dividendRate and marketCap\n",
    "trailingPE_list = []\n",
    "dividendRate_list = []\n",
    "marketCap_list = []\n",
    "\n",
    "for t in tickers:\n",
    "   \n",
    "    tick = yf.Ticker(t)\n",
    "    ticker_info = tick.info\n",
    "\n",
    "    try:\n",
    "        trailingPE = ticker_info['trailingPE']\n",
    "        trailingPE_list.append(trailingPE)\n",
    "    except:\n",
    "        trailingPE_list.append('na')\n",
    "\n",
    "    try:\n",
    "        dividendRate = ticker_info['dividendRate']\n",
    "        dividendRate_list.append(dividendRate)\n",
    "    except:\n",
    "        dividendRate_list.append('na')\n",
    "\n",
    "    try:\n",
    "        marketCap = ticker_info['marketCap']\n",
    "        marketCap_list.append(marketCap)\n",
    "    except:\n",
    "        marketCap_list.append('na')\n",
    "        \n",
    "sp_features_df = pd.DataFrame()\n",
    "sp_features_df['Ticker'] = tickers\n",
    "\n",
    "sp_features_df['trailingPE'] = trailingPE_list\n",
    "sp_features_df['dividendRate'] = dividendRate_list\n",
    "sp_features_df['marketCap'] = marketCap_list\n",
    "\n",
    "sp_features_df"
   ]
  },
  {
   "cell_type": "code",
   "execution_count": 43,
   "metadata": {},
   "outputs": [
    {
     "name": "stdout",
     "output_type": "stream",
     "text": [
      "<class 'pandas.core.frame.DataFrame'>\n",
      "Int64Index: 425 entries, 0 to 502\n",
      "Data columns (total 4 columns):\n",
      " #   Column        Non-Null Count  Dtype  \n",
      "---  ------        --------------  -----  \n",
      " 0   Ticker        425 non-null    object \n",
      " 1   trailingPE    425 non-null    float64\n",
      " 2   dividendRate  425 non-null    float64\n",
      " 3   marketCap     425 non-null    float64\n",
      "dtypes: float64(3), object(1)\n",
      "memory usage: 16.6+ KB\n"
     ]
    }
   ],
   "source": [
    "# Shares with 'na' as dividend rate has no dividend so we have to assign 0 as dividend rate in this cases\n",
    "sp_features_df[\"dividendRate\"] = sp_features_df[\"dividendRate\"].fillna(0)\n",
    "\n",
    "# filter shares with 'na' as trailingPE \n",
    "df_mask = sp_features_df['trailingPE'] != 'na' \n",
    "sp_features_df = sp_features_df[df_mask]\n",
    "\n",
    "# Convert trailingPE numbers to float type\n",
    "sp_features_df['trailingPE'] = sp_features_df['trailingPE'].astype(float)\n",
    "\n",
    "# Removes the rows that contains NULL values \n",
    "sp_features_df=sp_features_df.dropna()\n",
    "\n",
    "# Print dataframe info\n",
    "sp_features_df.info()"
   ]
  },
  {
   "cell_type": "code",
   "execution_count": 58,
   "metadata": {},
   "outputs": [
    {
     "data": {
      "text/plain": [
       "Text(0.5, 1.0, 'Elbow curve')"
      ]
     },
     "execution_count": 58,
     "metadata": {},
     "output_type": "execute_result"
    },
    {
     "data": {
      "image/png": "[encoded data removed]",
      "text/plain": [
       "<Figure size 1500x500 with 1 Axes>"
      ]
     },
     "metadata": {},
     "output_type": "display_data"
    }
   ],
   "source": [
    "# Format the data as a numpy array to feed into the K-Means algorithm\n",
    "data = np.asarray([np.asarray(sp_features_df['trailingPE']),np.asarray(sp_features_df['dividendRate'])]).T\n",
    "X = data\n",
    "distorsions = []\n",
    "for k in range(2, 20):\n",
    "    k_means = KMeans(n_clusters=k)\n",
    "    k_means.fit(X)\n",
    "    distorsions.append(k_means.inertia_)\n",
    "fig = plt.figure(figsize=(15, 5))\n",
    "\n",
    "plt.plot(range(2, 20), distorsions)\n",
    "plt.grid(True)\n",
    "plt.title('Elbow curve')"
   ]
  },
  {
   "cell_type": "markdown",
   "metadata": {},
   "source": [
    "The optimal number of clusters is 3."
   ]
  },
  {
   "cell_type": "code",
   "execution_count": 63,
   "metadata": {},
   "outputs": [
    {
     "data": {
      "text/html": [
       "<div>\n",
       "<style scoped>\n",
       "    .dataframe tbody tr th:only-of-type {\n",
       "        vertical-align: middle;\n",
       "    }\n",
       "\n",
       "    .dataframe tbody tr th {\n",
       "        vertical-align: top;\n",
       "    }\n",
       "\n",
       "    .dataframe thead th {\n",
       "        text-align: right;\n",
       "    }\n",
       "</style>\n",
       "<table border=\"1\" class=\"dataframe\">\n",
       "  <thead>\n",
       "    <tr style=\"text-align: right;\">\n",
       "      <th></th>\n",
       "      <th>Ticker</th>\n",
       "      <th>Cluster</th>\n",
       "    </tr>\n",
       "  </thead>\n",
       "  <tbody>\n",
       "    <tr>\n",
       "      <th>0</th>\n",
       "      <td>0</td>\n",
       "      <td>0</td>\n",
       "    </tr>\n",
       "    <tr>\n",
       "      <th>1</th>\n",
       "      <td>1</td>\n",
       "      <td>0</td>\n",
       "    </tr>\n",
       "    <tr>\n",
       "      <th>2</th>\n",
       "      <td>2</td>\n",
       "      <td>0</td>\n",
       "    </tr>\n",
       "    <tr>\n",
       "      <th>3</th>\n",
       "      <td>3</td>\n",
       "      <td>0</td>\n",
       "    </tr>\n",
       "    <tr>\n",
       "      <th>4</th>\n",
       "      <td>4</td>\n",
       "      <td>1</td>\n",
       "    </tr>\n",
       "    <tr>\n",
       "      <th>...</th>\n",
       "      <td>...</td>\n",
       "      <td>...</td>\n",
       "    </tr>\n",
       "    <tr>\n",
       "      <th>420</th>\n",
       "      <td>497</td>\n",
       "      <td>1</td>\n",
       "    </tr>\n",
       "    <tr>\n",
       "      <th>421</th>\n",
       "      <td>498</td>\n",
       "      <td>0</td>\n",
       "    </tr>\n",
       "    <tr>\n",
       "      <th>422</th>\n",
       "      <td>499</td>\n",
       "      <td>0</td>\n",
       "    </tr>\n",
       "    <tr>\n",
       "      <th>423</th>\n",
       "      <td>501</td>\n",
       "      <td>0</td>\n",
       "    </tr>\n",
       "    <tr>\n",
       "      <th>424</th>\n",
       "      <td>502</td>\n",
       "      <td>0</td>\n",
       "    </tr>\n",
       "  </tbody>\n",
       "</table>\n",
       "<p>425 rows × 2 columns</p>\n",
       "</div>"
      ],
      "text/plain": [
       "     Ticker  Cluster\n",
       "0         0        0\n",
       "1         1        0\n",
       "2         2        0\n",
       "3         3        0\n",
       "4         4        1\n",
       "..      ...      ...\n",
       "420     497        1\n",
       "421     498        0\n",
       "422     499        0\n",
       "423     501        0\n",
       "424     502        0\n",
       "\n",
       "[425 rows x 2 columns]"
      ]
     },
     "execution_count": 63,
     "metadata": {},
     "output_type": "execute_result"
    }
   ],
   "source": [
    "# Computing K-Means with K = 3 (3 clusters)\n",
    "centroids,_ = kmeans(data,3)\n",
    "\n",
    "# Assign each sample to a cluster\n",
    "idx,_ = vq(data,centroids)\n",
    "\n",
    "# Create the clusters from the numpy array 'data'\n",
    "cluster_1 = data[idx==0,0],data[idx==0,1]\n",
    "cluster_2 = data[idx==1,0],data[idx==1,1]\n",
    "cluster_3 = data[idx==2,0],data[idx==2,1]\n",
    "\n",
    "# Create a dataframe with the tickers and the clusters that's belong to\n",
    "details = [(name,cluster) for name, cluster in zip(sp_features_df.index,idx)]\n",
    "details_df = pd.DataFrame(details)\n",
    "\n",
    "# Rename columns\n",
    "details_df.columns = ['Ticker','Cluster']\n",
    "details_df"
   ]
  },
  {
   "cell_type": "code",
   "execution_count": 64,
   "metadata": {},
   "outputs": [
    {
     "data": {
      "application/vnd.plotly.v1+json": {
       "config": {
        "plotlyServerURL": "https://plot.ly"
       },
       "data": [
        {
         "customdata": [
          [
           "MMM"
          ],
          [
           "AOS"
          ],
          [
           "ABT"
          ],
          [
           "ABBV"
          ],
          [
           "ABMD"
          ],
          [
           "ACN"
          ],
          [
           "ATVI"
          ],
          [
           "ADM"
          ],
          [
           "ADBE"
          ],
          [
           "ADP"
          ],
          [
           "AAP"
          ],
          [
           "AFL"
          ],
          [
           "A"
          ],
          [
           "APD"
          ],
          [
           "AKAM"
          ],
          [
           "ALK"
          ],
          [
           "ALB"
          ],
          [
           "ARE"
          ],
          [
           "ALGN"
          ],
          [
           "ALLE"
          ],
          [
           "LNT"
          ],
          [
           "ALL"
          ],
          [
           "GOOGL"
          ],
          [
           "GOOG"
          ],
          [
           "MO"
          ],
          [
           "AMZN"
          ],
          [
           "AMCR"
          ],
          [
           "AMD"
          ],
          [
           "AEE"
          ],
          [
           "AEP"
          ],
          [
           "AXP"
          ],
          [
           "AIG"
          ],
          [
           "AMT"
          ],
          [
           "AWK"
          ],
          [
           "AMP"
          ],
          [
           "ABC"
          ],
          [
           "AME"
          ],
          [
           "AMGN"
          ],
          [
           "APH"
          ],
          [
           "ADI"
          ],
          [
           "ANSS"
          ],
          [
           "AON"
          ],
          [
           "APA"
          ],
          [
           "AAPL"
          ],
          [
           "AMAT"
          ],
          [
           "APTV"
          ],
          [
           "ACGL"
          ],
          [
           "ANET"
          ],
          [
           "AJG"
          ],
          [
           "AIZ"
          ],
          [
           "ATO"
          ],
          [
           "ADSK"
          ],
          [
           "AZO"
          ],
          [
           "AVB"
          ],
          [
           "AVY"
          ],
          [
           "BKR"
          ],
          [
           "BAC"
          ],
          [
           "BBWI"
          ],
          [
           "BAX"
          ],
          [
           "BDX"
          ],
          [
           "WRB"
          ],
          [
           "BRK-B"
          ],
          [
           "BBY"
          ],
          [
           "BIO"
          ],
          [
           "TECH"
          ],
          [
           "BIIB"
          ],
          [
           "BLK"
          ],
          [
           "BK"
          ],
          [
           "BKNG"
          ],
          [
           "BWA"
          ],
          [
           "BXP"
          ],
          [
           "BSX"
          ],
          [
           "AVGO"
          ],
          [
           "BR"
          ],
          [
           "BRO"
          ],
          [
           "BF-B"
          ],
          [
           "CHRW"
          ],
          [
           "CDNS"
          ],
          [
           "CPT"
          ],
          [
           "CPB"
          ],
          [
           "COF"
          ],
          [
           "CAH"
          ],
          [
           "KMX"
          ],
          [
           "CARR"
          ],
          [
           "CTLT"
          ],
          [
           "CAT"
          ],
          [
           "CBOE"
          ],
          [
           "CBRE"
          ],
          [
           "CDW"
          ],
          [
           "CE"
          ],
          [
           "CNC"
          ],
          [
           "CF"
          ],
          [
           "CRL"
          ],
          [
           "SCHW"
          ],
          [
           "CHTR"
          ],
          [
           "CMG"
          ],
          [
           "CB"
          ],
          [
           "CHD"
          ],
          [
           "CI"
          ],
          [
           "CINF"
          ],
          [
           "CTAS"
          ],
          [
           "CSCO"
          ],
          [
           "C"
          ],
          [
           "CFG"
          ],
          [
           "CLX"
          ],
          [
           "CME"
          ],
          [
           "CMS"
          ],
          [
           "KO"
          ],
          [
           "CTSH"
          ],
          [
           "CL"
          ],
          [
           "CMCSA"
          ],
          [
           "CMA"
          ],
          [
           "CAG"
          ],
          [
           "ED"
          ],
          [
           "STZ"
          ],
          [
           "COO"
          ],
          [
           "CPRT"
          ],
          [
           "GLW"
          ],
          [
           "CTVA"
          ],
          [
           "CSGP"
          ],
          [
           "COST"
          ],
          [
           "CTRA"
          ],
          [
           "CCI"
          ],
          [
           "CSX"
          ],
          [
           "CMI"
          ],
          [
           "CVS"
          ],
          [
           "DHI"
          ],
          [
           "DHR"
          ],
          [
           "DVA"
          ],
          [
           "DE"
          ],
          [
           "DXCM"
          ],
          [
           "DLR"
          ],
          [
           "DFS"
          ],
          [
           "DISH"
          ],
          [
           "DG"
          ],
          [
           "DLTR"
          ],
          [
           "DPZ"
          ],
          [
           "DOV"
          ],
          [
           "DOW"
          ],
          [
           "DTE"
          ],
          [
           "DUK"
          ],
          [
           "EMN"
          ],
          [
           "ETN"
          ],
          [
           "EBAY"
          ],
          [
           "EIX"
          ],
          [
           "EW"
          ],
          [
           "EA"
          ],
          [
           "LLY"
          ],
          [
           "EMR"
          ],
          [
           "ENPH"
          ],
          [
           "ETR"
          ],
          [
           "EPAM"
          ],
          [
           "EFX"
          ],
          [
           "EQIX"
          ],
          [
           "EQR"
          ],
          [
           "ESS"
          ],
          [
           "EL"
          ],
          [
           "ETSY"
          ],
          [
           "RE"
          ],
          [
           "EVRG"
          ],
          [
           "ES"
          ],
          [
           "EXC"
          ],
          [
           "EXPD"
          ],
          [
           "EXR"
          ],
          [
           "FFIV"
          ],
          [
           "FDS"
          ],
          [
           "FAST"
          ],
          [
           "FRT"
          ],
          [
           "FDX"
          ],
          [
           "FITB"
          ],
          [
           "FRC"
          ],
          [
           "FE"
          ],
          [
           "FIS"
          ],
          [
           "FISV"
          ],
          [
           "FLT"
          ],
          [
           "FMC"
          ],
          [
           "F"
          ],
          [
           "FTNT"
          ],
          [
           "FTV"
          ],
          [
           "FBHS"
          ],
          [
           "FOXA"
          ],
          [
           "FOX"
          ],
          [
           "BEN"
          ],
          [
           "FCX"
          ],
          [
           "GRMN"
          ],
          [
           "IT"
          ],
          [
           "GNRC"
          ],
          [
           "GD"
          ],
          [
           "GIS"
          ],
          [
           "GM"
          ],
          [
           "GPC"
          ],
          [
           "GILD"
          ],
          [
           "GL"
          ],
          [
           "GPN"
          ],
          [
           "GS"
          ],
          [
           "HIG"
          ],
          [
           "HAS"
          ],
          [
           "HCA"
          ],
          [
           "PEAK"
          ],
          [
           "HSIC"
          ],
          [
           "HSY"
          ],
          [
           "HOLX"
          ],
          [
           "HD"
          ],
          [
           "HON"
          ],
          [
           "HRL"
          ],
          [
           "HWM"
          ],
          [
           "HPQ"
          ],
          [
           "HUM"
          ],
          [
           "HBAN"
          ],
          [
           "HII"
          ],
          [
           "IBM"
          ],
          [
           "IEX"
          ],
          [
           "IDXX"
          ],
          [
           "ITW"
          ],
          [
           "ILMN"
          ],
          [
           "INTC"
          ],
          [
           "ICE"
          ],
          [
           "IP"
          ],
          [
           "IPG"
          ],
          [
           "IFF"
          ],
          [
           "INTU"
          ],
          [
           "ISRG"
          ],
          [
           "IVZ"
          ],
          [
           "INVH"
          ],
          [
           "IQV"
          ],
          [
           "IRM"
          ],
          [
           "JBHT"
          ],
          [
           "JKHY"
          ],
          [
           "J"
          ],
          [
           "JNJ"
          ],
          [
           "JCI"
          ],
          [
           "JPM"
          ],
          [
           "JNPR"
          ],
          [
           "K"
          ],
          [
           "KDP"
          ],
          [
           "KEY"
          ],
          [
           "KEYS"
          ],
          [
           "KMB"
          ],
          [
           "KIM"
          ],
          [
           "KMI"
          ],
          [
           "KLAC"
          ],
          [
           "KHC"
          ],
          [
           "KR"
          ],
          [
           "LHX"
          ],
          [
           "LH"
          ],
          [
           "LRCX"
          ],
          [
           "LW"
          ],
          [
           "LDOS"
          ],
          [
           "LEN"
          ],
          [
           "LNC"
          ],
          [
           "LIN"
          ],
          [
           "LKQ"
          ],
          [
           "LMT"
          ],
          [
           "LOW"
          ],
          [
           "LYB"
          ],
          [
           "MTB"
          ],
          [
           "MKTX"
          ],
          [
           "MMC"
          ],
          [
           "MLM"
          ],
          [
           "MAS"
          ],
          [
           "MA"
          ],
          [
           "MTCH"
          ],
          [
           "MKC"
          ],
          [
           "MCD"
          ],
          [
           "MDT"
          ],
          [
           "MRK"
          ],
          [
           "MET"
          ],
          [
           "MTD"
          ],
          [
           "MCHP"
          ],
          [
           "MU"
          ],
          [
           "MSFT"
          ],
          [
           "MAA"
          ],
          [
           "MHK"
          ],
          [
           "MOH"
          ],
          [
           "MDLZ"
          ],
          [
           "MPWR"
          ],
          [
           "MNST"
          ],
          [
           "MCO"
          ],
          [
           "MS"
          ],
          [
           "MOS"
          ],
          [
           "MSI"
          ],
          [
           "MSCI"
          ],
          [
           "NDAQ"
          ],
          [
           "NTAP"
          ],
          [
           "NFLX"
          ],
          [
           "NWL"
          ],
          [
           "NEM"
          ],
          [
           "NWSA"
          ],
          [
           "NEE"
          ],
          [
           "NKE"
          ],
          [
           "NDSN"
          ],
          [
           "NSC"
          ],
          [
           "NTRS"
          ],
          [
           "NOC"
          ],
          [
           "NRG"
          ],
          [
           "NUE"
          ],
          [
           "NVDA"
          ],
          [
           "NVR"
          ],
          [
           "NXPI"
          ],
          [
           "ORLY"
          ],
          [
           "ODFL"
          ],
          [
           "OMC"
          ],
          [
           "ON"
          ],
          [
           "OKE"
          ],
          [
           "ORCL"
          ],
          [
           "OGN"
          ],
          [
           "OTIS"
          ],
          [
           "PCAR"
          ],
          [
           "PKG"
          ],
          [
           "PH"
          ],
          [
           "PAYX"
          ],
          [
           "PAYC"
          ],
          [
           "PYPL"
          ],
          [
           "PNR"
          ],
          [
           "PEP"
          ],
          [
           "PKI"
          ],
          [
           "PFE"
          ],
          [
           "PM"
          ],
          [
           "PNW"
          ],
          [
           "PNC"
          ],
          [
           "POOL"
          ],
          [
           "PPG"
          ],
          [
           "PPL"
          ],
          [
           "PFG"
          ],
          [
           "PG"
          ],
          [
           "PGR"
          ],
          [
           "PLD"
          ],
          [
           "PEG"
          ],
          [
           "PTC"
          ],
          [
           "PSA"
          ],
          [
           "PHM"
          ],
          [
           "QRVO"
          ],
          [
           "PWR"
          ],
          [
           "QCOM"
          ],
          [
           "DGX"
          ],
          [
           "RJF"
          ],
          [
           "RTX"
          ],
          [
           "O"
          ],
          [
           "REG"
          ],
          [
           "REGN"
          ],
          [
           "RF"
          ],
          [
           "RSG"
          ],
          [
           "RMD"
          ],
          [
           "RHI"
          ],
          [
           "ROK"
          ],
          [
           "ROL"
          ],
          [
           "ROP"
          ],
          [
           "ROST"
          ],
          [
           "SPGI"
          ],
          [
           "CRM"
          ],
          [
           "SBAC"
          ],
          [
           "STX"
          ],
          [
           "SEE"
          ],
          [
           "SRE"
          ],
          [
           "NOW"
          ],
          [
           "SHW"
          ],
          [
           "SBNY"
          ],
          [
           "SPG"
          ],
          [
           "SWKS"
          ],
          [
           "SJM"
          ],
          [
           "SNA"
          ],
          [
           "SEDG"
          ],
          [
           "SO"
          ],
          [
           "SWK"
          ],
          [
           "STT"
          ],
          [
           "STE"
          ],
          [
           "SYK"
          ],
          [
           "SIVB"
          ],
          [
           "SYF"
          ],
          [
           "SNPS"
          ],
          [
           "TMUS"
          ],
          [
           "TROW"
          ],
          [
           "TTWO"
          ],
          [
           "TGT"
          ],
          [
           "TEL"
          ],
          [
           "TDY"
          ],
          [
           "TFX"
          ],
          [
           "TER"
          ],
          [
           "TSLA"
          ],
          [
           "TXN"
          ],
          [
           "TXT"
          ],
          [
           "TMO"
          ],
          [
           "TJX"
          ],
          [
           "TSCO"
          ],
          [
           "TT"
          ],
          [
           "TDG"
          ],
          [
           "TRV"
          ],
          [
           "TRMB"
          ],
          [
           "TFC"
          ],
          [
           "TYL"
          ],
          [
           "TSN"
          ],
          [
           "USB"
          ],
          [
           "UDR"
          ],
          [
           "ULTA"
          ],
          [
           "UNP"
          ],
          [
           "UPS"
          ],
          [
           "URI"
          ],
          [
           "UNH"
          ],
          [
           "UHS"
          ],
          [
           "VTR"
          ],
          [
           "VRSN"
          ],
          [
           "VRSK"
          ],
          [
           "VZ"
          ],
          [
           "VRTX"
          ],
          [
           "VICI"
          ],
          [
           "VMC"
          ],
          [
           "WAB"
          ],
          [
           "WMT"
          ],
          [
           "WM"
          ],
          [
           "WAT"
          ],
          [
           "WEC"
          ],
          [
           "WFC"
          ],
          [
           "WELL"
          ],
          [
           "WST"
          ],
          [
           "WDC"
          ],
          [
           "WY"
          ],
          [
           "WHR"
          ],
          [
           "WMB"
          ],
          [
           "GWW"
          ],
          [
           "XEL"
          ],
          [
           "XYL"
          ],
          [
           "YUM"
          ],
          [
           "ZBRA"
          ],
          [
           "ZION"
          ],
          [
           "ZTS"
          ]
         ],
         "hovertemplate": "dividendRate=%{x}<br>trailingPE=%{y}<br>Ticker=%{customdata[0]}<br>Cluster=%{marker.color}<extra></extra>",
         "legendgroup": "",
         "marker": {
          "color": [
           0,
           0,
           0,
           0,
           1,
           0,
           0,
           0,
           0,
           0,
           0,
           0,
           0,
           0,
           1,
           0,
           0,
           0,
           0,
           0,
           0,
           0,
           0,
           0,
           1,
           0,
           0,
           0,
           0,
           0,
           0,
           0,
           0,
           0,
           0,
           0,
           0,
           0,
           0,
           0,
           0,
           0,
           0,
           1,
           0,
           0,
           0,
           0,
           0,
           0,
           0,
           0,
           1,
           0,
           0,
           0,
           0,
           0,
           0,
           0,
           0,
           0,
           0,
           0,
           2,
           0,
           0,
           1,
           0,
           0,
           0,
           0,
           1,
           0,
           0,
           0,
           0,
           0,
           0,
           0,
           0,
           0,
           0,
           1,
           0,
           0,
           0,
           1,
           0,
           0,
           0,
           0,
           0,
           0,
           0,
           0,
           0,
           0,
           0,
           0,
           0,
           0,
           0,
           0,
           0,
           0,
           0,
           0,
           0,
           1,
           0,
           1,
           0,
           0,
           0,
           0,
           0,
           0,
           1,
           0,
           0,
           0,
           0,
           0,
           0,
           0,
           0,
           1,
           0,
           0,
           1,
           2,
           0,
           1,
           1,
           0,
           1,
           1,
           0,
           0,
           0,
           0,
           0,
           0,
           1,
           0,
           0,
           0,
           1,
           1,
           0,
           0,
           0,
           0,
           0,
           0,
           0,
           0,
           0,
           1,
           0,
           0,
           0,
           2,
           0,
           1,
           0,
           0,
           0,
           0,
           0,
           0,
           0,
           0,
           0,
           0,
           0,
           1,
           0,
           0,
           0,
           0,
           0,
           0,
           1,
           0,
           0,
           0,
           0,
           0,
           1,
           0,
           0,
           1,
           1,
           0,
           1,
           0,
           0,
           0,
           0,
           0,
           1,
           0,
           0,
           0,
           1,
           0,
           0,
           0,
           0,
           1,
           0,
           0,
           0,
           0,
           0,
           0,
           0,
           0,
           0,
           0,
           0,
           1,
           1,
           0,
           0,
           0,
           0,
           0,
           1,
           1,
           0,
           0,
           1,
           0,
           0,
           0,
           1,
           0,
           0,
           0,
           0,
           1,
           1,
           0,
           0,
           0,
           0,
           0,
           0,
           1,
           0,
           0,
           0,
           0,
           0,
           0,
           1,
           0,
           0,
           0,
           0,
           0,
           0,
           0,
           0,
           0,
           0,
           0,
           0,
           0,
           0,
           0,
           0,
           0,
           0,
           1,
           0,
           1,
           0,
           0,
           0,
           1,
           0,
           0,
           0,
           0,
           1,
           0,
           0,
           1,
           0,
           0,
           0,
           2,
           0,
           0,
           1,
           0,
           0,
           2,
           0,
           0,
           0,
           0,
           0,
           0,
           1,
           0,
           0,
           0,
           1,
           0,
           0,
           1,
           1,
           0,
           0,
           0,
           0,
           1,
           0,
           0,
           0,
           2,
           0,
           1,
           0,
           0,
           0,
           1,
           0,
           0,
           1,
           0,
           0,
           0,
           0,
           0,
           0,
           0,
           0,
           0,
           0,
           0,
           0,
           0,
           0,
           0,
           0,
           0,
           0,
           0,
           0,
           0,
           0,
           0,
           0,
           1,
           0,
           0,
           0,
           null,
           null,
           null,
           null,
           null,
           null,
           null,
           null,
           null,
           null,
           null,
           null,
           null,
           null,
           null,
           null,
           null,
           null,
           null,
           null,
           null,
           null,
           null,
           null,
           null,
           null,
           null,
           null,
           null,
           null,
           null,
           null,
           null,
           null,
           null,
           null,
           null,
           null,
           null,
           null,
           null,
           null,
           null,
           null,
           null,
           null,
           null,
           null,
           null,
           null,
           null,
           null,
           null,
           null,
           null,
           null,
           null,
           null,
           null,
           null,
           null,
           null
          ],
          "coloraxis": "coloraxis",
          "symbol": "circle"
         },
         "mode": "markers",
         "name": "",
         "orientation": "v",
         "showlegend": false,
         "type": "scatter",
         "x": [
          5.96,
          1.2,
          1.88,
          5.92,
          0,
          4.48,
          0.47,
          1.6,
          0,
          5,
          6,
          1.68,
          0.9,
          6.48,
          0,
          0,
          1.58,
          4.72,
          0,
          1.64,
          1.71,
          3.4,
          0,
          0,
          3.76,
          0,
          0.49,
          0,
          2.36,
          3.32,
          2.08,
          1.28,
          5.88,
          2.62,
          5,
          1.94,
          0.88,
          7.76,
          0.84,
          3.04,
          0,
          2.24,
          1,
          0.92,
          1.04,
          0,
          0,
          0,
          2.04,
          2.72,
          2.72,
          0,
          0,
          6.36,
          3,
          0.72,
          0.88,
          0.8,
          1.16,
          3.48,
          0.4,
          0,
          3.52,
          0,
          1.28,
          0,
          19.52,
          1.48,
          0,
          0.68,
          3.92,
          0,
          16.4,
          2.9,
          0.46,
          0.75,
          2.2,
          0,
          3.65,
          1.48,
          2.4,
          1.98,
          0,
          0.6,
          0,
          4.8,
          2,
          0,
          2,
          2.8,
          0,
          1.6,
          0,
          0.88,
          0,
          0,
          3.32,
          1.05,
          4.48,
          2.76,
          4.2,
          1.52,
          2.04,
          1.68,
          4.72,
          4,
          1.84,
          1.76,
          1.08,
          1.88,
          1.08,
          2.72,
          1.32,
          3.16,
          3.2,
          0.06,
          0,
          1.08,
          0.6,
          0,
          3.6,
          2.6,
          6.26,
          0.4,
          6.28,
          2.2,
          0.9,
          1,
          0,
          4.52,
          0,
          4.88,
          2.4,
          0,
          2.2,
          0,
          4.4,
          2.02,
          2.8,
          3.54,
          4.02,
          3.04,
          3.24,
          0.88,
          2.8,
          0,
          0.76,
          3.92,
          2.06,
          0,
          4.04,
          0,
          1.56,
          12.4,
          2.5,
          8.8,
          2.4,
          0,
          6.6,
          2.29,
          2.55,
          1.35,
          1.34,
          6,
          0,
          3.56,
          1.24,
          4.32,
          4.6,
          1.32,
          1.08,
          1.56,
          1.88,
          0,
          0,
          2.12,
          0.6,
          0,
          0.28,
          1.12,
          0.5,
          0.5,
          1.16,
          0.6,
          2.92,
          0,
          0,
          5.04,
          2.16,
          0.36,
          3.58,
          2.92,
          0.83,
          1,
          10,
          1.54,
          2.8,
          2.24,
          1.2,
          0,
          4.14,
          0,
          7.6,
          4.12,
          1.04,
          0.16,
          1,
          3.15,
          0.62,
          4.72,
          6.6,
          2.4,
          0,
          5.24,
          0,
          1.46,
          1.52,
          1.85,
          1.16,
          3.24,
          3.12,
          0,
          0.75,
          0.88,
          0,
          2.47,
          1.6,
          1.96,
          0.92,
          4.52,
          1.4,
          4,
          0.84,
          2.36,
          0.8,
          0.78,
          0,
          4.64,
          0.88,
          1.11,
          5.2,
          1.6,
          1.04,
          4.48,
          2.88,
          6.9,
          0.98,
          1.44,
          1.5,
          1.8,
          4.68,
          1,
          12,
          4.2,
          4.76,
          4.8,
          2.8,
          2.36,
          2.64,
          1.12,
          1.96,
          0,
          1.48,
          6.08,
          2.72,
          2.76,
          2,
          0,
          1.2,
          0.46,
          2.72,
          5,
          0,
          0,
          1.54,
          3,
          0,
          2.8,
          3.1,
          0.6,
          3.16,
          5,
          0.8,
          2,
          0,
          0.92,
          2.2,
          0.2,
          1.7,
          1.22,
          2.6,
          4.96,
          3,
          6.92,
          1.4,
          2,
          0.16,
          0,
          3.38,
          0,
          1.2,
          2.8,
          0,
          3.74,
          1.28,
          1.12,
          1.16,
          1.48,
          5,
          5.32,
          3.16,
          0,
          0,
          0.84,
          4.6,
          0.28,
          1.6,
          5.08,
          3.46,
          6,
          4,
          2.48,
          0.9,
          2.56,
          3.65,
          0.4,
          3.16,
          2.16,
          0,
          8,
          0.6,
          0,
          0.28,
          3,
          2.64,
          1.36,
          2.2,
          2.98,
          2.5,
          0,
          0.8,
          1.98,
          1.76,
          1.72,
          4.48,
          0.52,
          2.48,
          1.24,
          3.4,
          0,
          2.84,
          2.8,
          0.8,
          4.58,
          0,
          2.4,
          2.24,
          7,
          2.48,
          4.08,
          5.68,
          0,
          2.72,
          3.2,
          2.52,
          1.88,
          2.78,
          0,
          0.92,
          0,
          0,
          4.8,
          0,
          4.32,
          2.24,
          0,
          1.36,
          0.44,
          0,
          4.96,
          0.08,
          1.2,
          1.18,
          3.68,
          2.68,
          0,
          3.72,
          0,
          2.08,
          0,
          1.84,
          1.92,
          1.52,
          0,
          5.2,
          6.08,
          0,
          6.6,
          0.8,
          1.8,
          0,
          1.24,
          2.61,
          0,
          1.56,
          1.6,
          0.6,
          2.24,
          2.6,
          0,
          2.91,
          1.2,
          2.44,
          0.72,
          0,
          0.72,
          7,
          1.7,
          6.88,
          1.95,
          1.2,
          2.28,
          0,
          1.64,
          1.3
         ],
         "xaxis": "x",
         "y": [
          10.870855,
          18.907642,
          23.444696,
          21.829334,
          64.828476,
          26.648926,
          35.73239,
          12.531034,
          31.240564,
          35.80748,
          18.657692,
          9.090792,
          36.208138,
          30.962303,
          27.978191,
          112.92683,
          19.559515,
          44.123497,
          27.808668,
          22.234217,
          20.793234,
          40.595013,
          19.473896,
          19.54016,
          17.980545,
          78.79464,
          22.090908,
          43.918747,
          21.877193,
          19.993776,
          15.516549,
          3.6589558,
          33.786964,
          21.33517,
          13.397168,
          21.059702,
          28.59305,
          22.735956,
          26.442566,
          31.71619,
          42.789474,
          24.003117,
          4.150426,
          23.389526,
          14.073924,
          85.22222,
          18.859814,
          16.150187,
          45.011482,
          18.491348,
          22.817177,
          35.773895,
          31.06172,
          29.171473,
          25.43348,
          157.66666,
          14.163091,
          7.4255357,
          24.884058,
          46.497337,
          18.546484,
          0.0046533984,
          12.175438,
          2.94093,
          18.3466,
          15.109118,
          20.583344,
          11.427047,
          1418.1874,
          17.521368,
          22.323196,
          58.725616,
          60.80953,
          32.39096,
          31.352083,
          38.76316,
          21.537594,
          69.94018,
          102.34821,
          19.936043,
          6.146555,
          16.875666,
          14.511062,
          17.256317,
          26.714684,
          36.503036,
          30.685946,
          30.847048,
          33.89725,
          5.8743415,
          20.523048,
          69.047615,
          29.334724,
          34.767036,
          20.978354,
          105.68946,
          17.670511,
          26.116884,
          14.357144,
          5.672006,
          49.54247,
          20.330544,
          6.1709423,
          11.038742,
          20.41823,
          33.75047,
          20.31281,
          37.988026,
          23.206226,
          24.826366,
          13.743083,
          10.692183,
          15.45679,
          29.743902,
          23.982567,
          6.8992114,
          27.689655,
          23.602837,
          28.910084,
          13.810986,
          49.203396,
          29.351534,
          65.522675,
          8.829697,
          20.464613,
          18.52279,
          9.727568,
          41.682373,
          11.412892,
          40.096066,
          22.445726,
          69.12988,
          11.679974,
          3.7271085,
          23.112053,
          25.679646,
          29.978085,
          27.411259,
          19.285984,
          15.745346,
          58.470043,
          23.58271,
          45.217766,
          10.514188,
          30.550669,
          53.573017,
          31.498146,
          55.170662,
          27.308249,
          460.2229,
          14.691932,
          60.74107,
          39.3551,
          150.76163,
          34.799774,
          32.58413,
          62.76145,
          50.170937,
          16.022457,
          21.496325,
          23.76338,
          21.328358,
          27.07371,
          35.29518,
          33.242764,
          45.234062,
          33.2053,
          65.88272,
          15.237298,
          11.8442335,
          18.542643,
          16.8436,
          278.92,
          78.644196,
          22.83005,
          30.295998,
          13.360161,
          17.2023,
          14.209739,
          13.720668,
          12.267511,
          11.567076,
          17.073172,
          31.421568,
          17.28237,
          117.49999,
          13.233685,
          21.30793,
          20.728333,
          8.780601,
          500.43835,
          366.5,
          16.14218,
          50.076923,
          9.014606,
          16.006824,
          20.421442,
          17.681961,
          22.541485,
          28.626198,
          34.607143,
          10.192255,
          26.587105,
          32.637783,
          28.91358,
          57.29198,
          12.036565,
          19.407146,
          12.854642,
          13.752043,
          24.673803,
          45.92927,
          61.906113,
          31.796528,
          48.126163,
          6.4183125,
          28.242521,
          6.9636707,
          29.46799,
          32.694702,
          59.481155,
          27.398148,
          12.105951,
          87.94444,
          99.938095,
          45.979813,
          34.630676,
          47.315628,
          38.138298,
          31.10758,
          45.902775,
          10.437851,
          52.10697,
          20.129477,
          35.87619,
          9.705882,
          52.487385,
          20.397419,
          9.352244,
          22.540474,
          32.180702,
          89.18552,
          14.168197,
          29.113653,
          8.706403,
          18.733723,
          50.461987,
          25.112385,
          8.782333,
          11.563467,
          70.41206,
          21.548336,
          19.529516,
          26.052904,
          11.748751,
          14.130244,
          35.63125,
          39.302856,
          30.328423,
          16.188566,
          53.3185,
          88.790985,
          29.721733,
          39.438396,
          34.121292,
          39.33911,
          13.253521,
          58.362106,
          59.72973,
          19.089615,
          33.404198,
          68.76203,
          1.9250295,
          27.546783,
          25.488636,
          103.96,
          38.42424,
          27.304966,
          11.446697,
          17.72947,
          48.838535,
          64.5282,
          10.895935,
          23.902994,
          36.979305,
          9.068278,
          14.785064,
          23.044304,
          40.36967,
          50.45816,
          49.689426,
          26.854519,
          15.790693,
          19.584238,
          16.753624,
          28.387455,
          23.169563,
          18.524036,
          108.57523,
          31.137548,
          45.763466,
          16.880264,
          88.72773,
          24.584461,
          18.88251,
          4.3765693,
          28.292248,
          25.528196,
          26.432074,
          24.615189,
          41.31164,
          127.10163,
          20.403955,
          18.06139,
          33.622734,
          21.128038,
          29.121265,
          18.348076,
          16.028748,
          7.934998,
          29.875046,
          26.334263,
          15.340314,
          15.270408,
          27.44622,
          11.908528,
          63.14049,
          16.117022,
          64.465706,
          43.07497,
          7.7839584,
          23.021408,
          48.726383,
          17.153086,
          11.3027315,
          15.5028715,
          44.877274,
          64.78306,
          251.5,
          24.491152,
          14.201183,
          45.331123,
          69.58453,
          25.57133,
          18.924675,
          62.238094,
          46.024815,
          485.5417,
          34.621975,
          30.42694,
          233.74898,
          13.1918125,
          16.380007,
          12.837733,
          512.0395,
          32.763702,
          10.48518,
          32.941505,
          12.768549,
          18.26237,
          19.036531,
          124.78298,
          21.534592,
          7.8961806,
          12.250412,
          36.50229,
          63.831974,
          6.5911856,
          9.735806,
          70.92324,
          56.437473,
          10.303159,
          23.722181,
          17.945602,
          37.30472,
          38.702003,
          40.049217,
          20.552525,
          180.18036,
          26.403149,
          39.153805,
          27.702414,
          1133.7142,
          30.073408,
          31.125494,
          92.458145,
          17.040318,
          37.767742,
          9.884379,
          71.25,
          11.579423,
          11.332805,
          201.78572,
          149.70418,
          27.324963,
          29.567715,
          27.37369,
          30.664091,
          10.850576,
          38.48718,
          35.7505,
          42.236656,
          8.086366,
          29.721666,
          14.966534,
          40.590786,
          46.026585,
          31.55579,
          45.23497,
          40.38158,
          24.041319,
          29.807693,
          38.92694,
          42.203667,
          29.650043,
          17.456388,
          6.617839,
          35.30591,
          41.185158,
          23.911694,
          79.15,
          34.93447,
          27.188234,
          9.583248,
          44.75146
         ],
         "yaxis": "y"
        }
       ],
       "layout": {
        "coloraxis": {
         "colorbar": {
          "title": {
           "text": "Cluster"
          }
         },
         "colorscale": [
          [
           0,
           "#0d0887"
          ],
          [
           0.1111111111111111,
           "#46039f"
          ],
          [
           0.2222222222222222,
           "#7201a8"
          ],
          [
           0.3333333333333333,
           "#9c179e"
          ],
          [
           0.4444444444444444,
           "#bd3786"
          ],
          [
           0.5555555555555556,
           "#d8576b"
          ],
          [
           0.6666666666666666,
           "#ed7953"
          ],
          [
           0.7777777777777778,
           "#fb9f3a"
          ],
          [
           0.8888888888888888,
           "#fdca26"
          ],
          [
           1,
           "#f0f921"
          ]
         ],
         "showscale": false
        },
        "legend": {
         "tracegroupgap": 0
        },
        "margin": {
         "t": 60
        },
        "template": {
         "data": {
          "bar": [
           {
            "error_x": {
             "color": "#2a3f5f"
            },
            "error_y": {
             "color": "#2a3f5f"
            },
            "marker": {
             "line": {
              "color": "#E5ECF6",
              "width": 0.5
             },
             "pattern": {
              "fillmode": "overlay",
              "size": 10,
              "solidity": 0.2
             }
            },
            "type": "bar"
           }
          ],
          "barpolar": [
           {
            "marker": {
             "line": {
              "color": "#E5ECF6",
              "width": 0.5
             },
             "pattern": {
              "fillmode": "overlay",
              "size": 10,
              "solidity": 0.2
             }
            },
            "type": "barpolar"
           }
          ],
          "carpet": [
           {
            "aaxis": {
             "endlinecolor": "#2a3f5f",
             "gridcolor": "white",
             "linecolor": "white",
             "minorgridcolor": "white",
             "startlinecolor": "#2a3f5f"
            },
            "baxis": {
             "endlinecolor": "#2a3f5f",
             "gridcolor": "white",
             "linecolor": "white",
             "minorgridcolor": "white",
             "startlinecolor": "#2a3f5f"
            },
            "type": "carpet"
           }
          ],
          "choropleth": [
           {
            "colorbar": {
             "outlinewidth": 0,
             "ticks": ""
            },
            "type": "choropleth"
           }
          ],
          "contour": [
           {
            "colorbar": {
             "outlinewidth": 0,
             "ticks": ""
            },
            "colorscale": [
             [
              0,
              "#0d0887"
             ],
             [
              0.1111111111111111,
              "#46039f"
             ],
             [
              0.2222222222222222,
              "#7201a8"
             ],
             [
              0.3333333333333333,
              "#9c179e"
             ],
             [
              0.4444444444444444,
              "#bd3786"
             ],
             [
              0.5555555555555556,
              "#d8576b"
             ],
             [
              0.6666666666666666,
              "#ed7953"
             ],
             [
              0.7777777777777778,
              "#fb9f3a"
             ],
             [
              0.8888888888888888,
              "#fdca26"
             ],
             [
              1,
              "#f0f921"
             ]
            ],
            "type": "contour"
           }
          ],
          "contourcarpet": [
           {
            "colorbar": {
             "outlinewidth": 0,
             "ticks": ""
            },
            "type": "contourcarpet"
           }
          ],
          "heatmap": [
           {
            "colorbar": {
             "outlinewidth": 0,
             "ticks": ""
            },
            "colorscale": [
             [
              0,
              "#0d0887"
             ],
             [
              0.1111111111111111,
              "#46039f"
             ],
             [
              0.2222222222222222,
              "#7201a8"
             ],
             [
              0.3333333333333333,
              "#9c179e"
             ],
             [
              0.4444444444444444,
              "#bd3786"
             ],
             [
              0.5555555555555556,
              "#d8576b"
             ],
             [
              0.6666666666666666,
              "#ed7953"
             ],
             [
              0.7777777777777778,
              "#fb9f3a"
             ],
             [
              0.8888888888888888,
              "#fdca26"
             ],
             [
              1,
              "#f0f921"
             ]
            ],
            "type": "heatmap"
           }
          ],
          "heatmapgl": [
           {
            "colorbar": {
             "outlinewidth": 0,
             "ticks": ""
            },
            "colorscale": [
             [
              0,
              "#0d0887"
             ],
             [
              0.1111111111111111,
              "#46039f"
             ],
             [
              0.2222222222222222,
              "#7201a8"
             ],
             [
              0.3333333333333333,
              "#9c179e"
             ],
             [
              0.4444444444444444,
              "#bd3786"
             ],
             [
              0.5555555555555556,
              "#d8576b"
             ],
             [
              0.6666666666666666,
              "#ed7953"
             ],
             [
              0.7777777777777778,
              "#fb9f3a"
             ],
             [
              0.8888888888888888,
              "#fdca26"
             ],
             [
              1,
              "#f0f921"
             ]
            ],
            "type": "heatmapgl"
           }
          ],
          "histogram": [
           {
            "marker": {
             "pattern": {
              "fillmode": "overlay",
              "size": 10,
              "solidity": 0.2
             }
            },
            "type": "histogram"
           }
          ],
          "histogram2d": [
           {
            "colorbar": {
             "outlinewidth": 0,
             "ticks": ""
            },
            "colorscale": [
             [
              0,
              "#0d0887"
             ],
             [
              0.1111111111111111,
              "#46039f"
             ],
             [
              0.2222222222222222,
              "#7201a8"
             ],
             [
              0.3333333333333333,
              "#9c179e"
             ],
             [
              0.4444444444444444,
              "#bd3786"
             ],
             [
              0.5555555555555556,
              "#d8576b"
             ],
             [
              0.6666666666666666,
              "#ed7953"
             ],
             [
              0.7777777777777778,
              "#fb9f3a"
             ],
             [
              0.8888888888888888,
              "#fdca26"
             ],
             [
              1,
              "#f0f921"
             ]
            ],
            "type": "histogram2d"
           }
          ],
          "histogram2dcontour": [
           {
            "colorbar": {
             "outlinewidth": 0,
             "ticks": ""
            },
            "colorscale": [
             [
              0,
              "#0d0887"
             ],
             [
              0.1111111111111111,
              "#46039f"
             ],
             [
              0.2222222222222222,
              "#7201a8"
             ],
             [
              0.3333333333333333,
              "#9c179e"
             ],
             [
              0.4444444444444444,
              "#bd3786"
             ],
             [
              0.5555555555555556,
              "#d8576b"
             ],
             [
              0.6666666666666666,
              "#ed7953"
             ],
             [
              0.7777777777777778,
              "#fb9f3a"
             ],
             [
              0.8888888888888888,
              "#fdca26"
             ],
             [
              1,
              "#f0f921"
             ]
            ],
            "type": "histogram2dcontour"
           }
          ],
          "mesh3d": [
           {
            "colorbar": {
             "outlinewidth": 0,
             "ticks": ""
            },
            "type": "mesh3d"
           }
          ],
          "parcoords": [
           {
            "line": {
             "colorbar": {
              "outlinewidth": 0,
              "ticks": ""
             }
            },
            "type": "parcoords"
           }
          ],
          "pie": [
           {
            "automargin": true,
            "type": "pie"
           }
          ],
          "scatter": [
           {
            "fillpattern": {
             "fillmode": "overlay",
             "size": 10,
             "solidity": 0.2
            },
            "type": "scatter"
           }
          ],
          "scatter3d": [
           {
            "line": {
             "colorbar": {
              "outlinewidth": 0,
              "ticks": ""
             }
            },
            "marker": {
             "colorbar": {
              "outlinewidth": 0,
              "ticks": ""
             }
            },
            "type": "scatter3d"
           }
          ],
          "scattercarpet": [
           {
            "marker": {
             "colorbar": {
              "outlinewidth": 0,
              "ticks": ""
             }
            },
            "type": "scattercarpet"
           }
          ],
          "scattergeo": [
           {
            "marker": {
             "colorbar": {
              "outlinewidth": 0,
              "ticks": ""
             }
            },
            "type": "scattergeo"
           }
          ],
          "scattergl": [
           {
            "marker": {
             "colorbar": {
              "outlinewidth": 0,
              "ticks": ""
             }
            },
            "type": "scattergl"
           }
          ],
          "scattermapbox": [
           {
            "marker": {
             "colorbar": {
              "outlinewidth": 0,
              "ticks": ""
             }
            },
            "type": "scattermapbox"
           }
          ],
          "scatterpolar": [
           {
            "marker": {
             "colorbar": {
              "outlinewidth": 0,
              "ticks": ""
             }
            },
            "type": "scatterpolar"
           }
          ],
          "scatterpolargl": [
           {
            "marker": {
             "colorbar": {
              "outlinewidth": 0,
              "ticks": ""
             }
            },
            "type": "scatterpolargl"
           }
          ],
          "scatterternary": [
           {
            "marker": {
             "colorbar": {
              "outlinewidth": 0,
              "ticks": ""
             }
            },
            "type": "scatterternary"
           }
          ],
          "surface": [
           {
            "colorbar": {
             "outlinewidth": 0,
             "ticks": ""
            },
            "colorscale": [
             [
              0,
              "#0d0887"
             ],
             [
              0.1111111111111111,
              "#46039f"
             ],
             [
              0.2222222222222222,
              "#7201a8"
             ],
             [
              0.3333333333333333,
              "#9c179e"
             ],
             [
              0.4444444444444444,
              "#bd3786"
             ],
             [
              0.5555555555555556,
              "#d8576b"
             ],
             [
              0.6666666666666666,
              "#ed7953"
             ],
             [
              0.7777777777777778,
              "#fb9f3a"
             ],
             [
              0.8888888888888888,
              "#fdca26"
             ],
             [
              1,
              "#f0f921"
             ]
            ],
            "type": "surface"
           }
          ],
          "table": [
           {
            "cells": {
             "fill": {
              "color": "#EBF0F8"
             },
             "line": {
              "color": "white"
             }
            },
            "header": {
             "fill": {
              "color": "#C8D4E3"
             },
             "line": {
              "color": "white"
             }
            },
            "type": "table"
           }
          ]
         },
         "layout": {
          "annotationdefaults": {
           "arrowcolor": "#2a3f5f",
           "arrowhead": 0,
           "arrowwidth": 1
          },
          "autotypenumbers": "strict",
          "coloraxis": {
           "colorbar": {
            "outlinewidth": 0,
            "ticks": ""
           }
          },
          "colorscale": {
           "diverging": [
            [
             0,
             "#8e0152"
            ],
            [
             0.1,
             "#c51b7d"
            ],
            [
             0.2,
             "#de77ae"
            ],
            [
             0.3,
             "#f1b6da"
            ],
            [
             0.4,
             "#fde0ef"
            ],
            [
             0.5,
             "#f7f7f7"
            ],
            [
             0.6,
             "#e6f5d0"
            ],
            [
             0.7,
             "#b8e186"
            ],
            [
             0.8,
             "#7fbc41"
            ],
            [
             0.9,
             "#4d9221"
            ],
            [
             1,
             "#276419"
            ]
           ],
           "sequential": [
            [
             0,
             "#0d0887"
            ],
            [
             0.1111111111111111,
             "#46039f"
            ],
            [
             0.2222222222222222,
             "#7201a8"
            ],
            [
             0.3333333333333333,
             "#9c179e"
            ],
            [
             0.4444444444444444,
             "#bd3786"
            ],
            [
             0.5555555555555556,
             "#d8576b"
            ],
            [
             0.6666666666666666,
             "#ed7953"
            ],
            [
             0.7777777777777778,
             "#fb9f3a"
            ],
            [
             0.8888888888888888,
             "#fdca26"
            ],
            [
             1,
             "#f0f921"
            ]
           ],
           "sequentialminus": [
            [
             0,
             "#0d0887"
            ],
            [
             0.1111111111111111,
             "#46039f"
            ],
            [
             0.2222222222222222,
             "#7201a8"
            ],
            [
             0.3333333333333333,
             "#9c179e"
            ],
            [
             0.4444444444444444,
             "#bd3786"
            ],
            [
             0.5555555555555556,
             "#d8576b"
            ],
            [
             0.6666666666666666,
             "#ed7953"
            ],
            [
             0.7777777777777778,
             "#fb9f3a"
            ],
            [
             0.8888888888888888,
             "#fdca26"
            ],
            [
             1,
             "#f0f921"
            ]
           ]
          },
          "colorway": [
           "#636efa",
           "#EF553B",
           "#00cc96",
           "#ab63fa",
           "#FFA15A",
           "#19d3f3",
           "#FF6692",
           "#B6E880",
           "#FF97FF",
           "#FECB52"
          ],
          "font": {
           "color": "#2a3f5f"
          },
          "geo": {
           "bgcolor": "white",
           "lakecolor": "white",
           "landcolor": "#E5ECF6",
           "showlakes": true,
           "showland": true,
           "subunitcolor": "white"
          },
          "hoverlabel": {
           "align": "left"
          },
          "hovermode": "closest",
          "mapbox": {
           "style": "light"
          },
          "paper_bgcolor": "white",
          "plot_bgcolor": "#E5ECF6",
          "polar": {
           "angularaxis": {
            "gridcolor": "white",
            "linecolor": "white",
            "ticks": ""
           },
           "bgcolor": "#E5ECF6",
           "radialaxis": {
            "gridcolor": "white",
            "linecolor": "white",
            "ticks": ""
           }
          },
          "scene": {
           "xaxis": {
            "backgroundcolor": "#E5ECF6",
            "gridcolor": "white",
            "gridwidth": 2,
            "linecolor": "white",
            "showbackground": true,
            "ticks": "",
            "zerolinecolor": "white"
           },
           "yaxis": {
            "backgroundcolor": "#E5ECF6",
            "gridcolor": "white",
            "gridwidth": 2,
            "linecolor": "white",
            "showbackground": true,
            "ticks": "",
            "zerolinecolor": "white"
           },
           "zaxis": {
            "backgroundcolor": "#E5ECF6",
            "gridcolor": "white",
            "gridwidth": 2,
            "linecolor": "white",
            "showbackground": true,
            "ticks": "",
            "zerolinecolor": "white"
           }
          },
          "shapedefaults": {
           "line": {
            "color": "#2a3f5f"
           }
          },
          "ternary": {
           "aaxis": {
            "gridcolor": "white",
            "linecolor": "white",
            "ticks": ""
           },
           "baxis": {
            "gridcolor": "white",
            "linecolor": "white",
            "ticks": ""
           },
           "bgcolor": "#E5ECF6",
           "caxis": {
            "gridcolor": "white",
            "linecolor": "white",
            "ticks": ""
           }
          },
          "title": {
           "x": 0.05
          },
          "xaxis": {
           "automargin": true,
           "gridcolor": "white",
           "linecolor": "white",
           "ticks": "",
           "title": {
            "standoff": 15
           },
           "zerolinecolor": "white",
           "zerolinewidth": 2
          },
          "yaxis": {
           "automargin": true,
           "gridcolor": "white",
           "linecolor": "white",
           "ticks": "",
           "title": {
            "standoff": 15
           },
           "zerolinecolor": "white",
           "zerolinewidth": 2
          }
         }
        },
        "xaxis": {
         "anchor": "y",
         "domain": [
          0,
          1
         ],
         "title": {
          "text": "dividendRate"
         }
        },
        "yaxis": {
         "anchor": "x",
         "domain": [
          0,
          1
         ],
         "title": {
          "text": "trailingPE"
         }
        }
       }
      }
     },
     "metadata": {},
     "output_type": "display_data"
    }
   ],
   "source": [
    "# Create another dataframe with the tickers and data from each stock\n",
    "clusters_df = sp_features_df\n",
    "\n",
    "# Bring the clusters information from the dataframe 'details_df'\n",
    "clusters_df['Cluster'] = details_df['Cluster']\n",
    "\n",
    "# Rename columns\n",
    "clusters_df.columns = ['Ticker', 'trailingPE', 'dividendRate', 'marketCap', 'Cluster']\n",
    "\n",
    "# Plot the clusters created using Plotly\n",
    "fig = px.scatter(clusters_df, x=\"dividendRate\", y=\"trailingPE\", color=\"Cluster\", hover_data=[\"Ticker\"])\n",
    "fig.update(layout_coloraxis_showscale=False)\n",
    "fig.show()"
   ]
  },
  {
   "cell_type": "markdown",
   "metadata": {},
   "source": [
    "We see results that are too scattered and an unclear clustering. Therefore, it will be necessary to eliminate outliers and normalize the data to achieve more accurate clusters."
   ]
  },
  {
   "cell_type": "code",
   "execution_count": 86,
   "metadata": {},
   "outputs": [],
   "source": [
    "df_mask = (sp_features_df['trailingPE'] < 200) & (sp_features_df['dividendRate'] < 5)\n",
    "sp_features_df = sp_features_df[df_mask]"
   ]
  },
  {
   "cell_type": "markdown",
   "metadata": {},
   "source": [
    "`MaxAbsScaler` scale each feature by its maximum absolute value.\n",
    "\n",
    "This estimator scales and translates each feature individually such that the maximal absolute value of each feature in the training set will be 1.0. It does not shift/center the data, and thus does not destroy any sparsity."
   ]
  },
  {
   "cell_type": "code",
   "execution_count": 117,
   "metadata": {},
   "outputs": [
    {
     "name": "stderr",
     "output_type": "stream",
     "text": [
      "C:\\Users\\Facundo Allia\\AppData\\Local\\Temp\\ipykernel_20136\\1732567014.py:7: SettingWithCopyWarning:\n",
      "\n",
      "\n",
      "A value is trying to be set on a copy of a slice from a DataFrame.\n",
      "Try using .loc[row_indexer,col_indexer] = value instead\n",
      "\n",
      "See the caveats in the documentation: https://pandas.pydata.org/pandas-docs/stable/user_guide/indexing.html#returning-a-view-versus-a-copy\n",
      "\n",
      "C:\\Users\\Facundo Allia\\AppData\\Local\\Temp\\ipykernel_20136\\1732567014.py:8: SettingWithCopyWarning:\n",
      "\n",
      "\n",
      "A value is trying to be set on a copy of a slice from a DataFrame.\n",
      "Try using .loc[row_indexer,col_indexer] = value instead\n",
      "\n",
      "See the caveats in the documentation: https://pandas.pydata.org/pandas-docs/stable/user_guide/indexing.html#returning-a-view-versus-a-copy\n",
      "\n",
      "C:\\Users\\Facundo Allia\\AppData\\Local\\Temp\\ipykernel_20136\\1732567014.py:9: SettingWithCopyWarning:\n",
      "\n",
      "\n",
      "A value is trying to be set on a copy of a slice from a DataFrame.\n",
      "Try using .loc[row_indexer,col_indexer] = value instead\n",
      "\n",
      "See the caveats in the documentation: https://pandas.pydata.org/pandas-docs/stable/user_guide/indexing.html#returning-a-view-versus-a-copy\n",
      "\n"
     ]
    },
    {
     "data": {
      "text/html": [
       "<div>\n",
       "<style scoped>\n",
       "    .dataframe tbody tr th:only-of-type {\n",
       "        vertical-align: middle;\n",
       "    }\n",
       "\n",
       "    .dataframe tbody tr th {\n",
       "        vertical-align: top;\n",
       "    }\n",
       "\n",
       "    .dataframe thead th {\n",
       "        text-align: right;\n",
       "    }\n",
       "</style>\n",
       "<table border=\"1\" class=\"dataframe\">\n",
       "  <thead>\n",
       "    <tr style=\"text-align: right;\">\n",
       "      <th></th>\n",
       "      <th>Ticker</th>\n",
       "      <th>trailingPE</th>\n",
       "      <th>dividendRate</th>\n",
       "      <th>marketCap</th>\n",
       "      <th>Cluster</th>\n",
       "      <th>trailingPE_norm</th>\n",
       "      <th>dividendRate_norm</th>\n",
       "      <th>marketCap_norm</th>\n",
       "    </tr>\n",
       "  </thead>\n",
       "  <tbody>\n",
       "    <tr>\n",
       "      <th>1</th>\n",
       "      <td>AOS</td>\n",
       "      <td>18.907642</td>\n",
       "      <td>1.20</td>\n",
       "      <td>9.155210e+09</td>\n",
       "      <td>1.0</td>\n",
       "      <td>0.104937</td>\n",
       "      <td>0.241935</td>\n",
       "      <td>0.003995</td>\n",
       "    </tr>\n",
       "    <tr>\n",
       "      <th>2</th>\n",
       "      <td>ABT</td>\n",
       "      <td>23.444696</td>\n",
       "      <td>1.88</td>\n",
       "      <td>1.856913e+11</td>\n",
       "      <td>0.0</td>\n",
       "      <td>0.130118</td>\n",
       "      <td>0.379032</td>\n",
       "      <td>0.081027</td>\n",
       "    </tr>\n",
       "    <tr>\n",
       "      <th>4</th>\n",
       "      <td>ABMD</td>\n",
       "      <td>64.828476</td>\n",
       "      <td>0.00</td>\n",
       "      <td>1.704222e+10</td>\n",
       "      <td>1.0</td>\n",
       "      <td>0.359798</td>\n",
       "      <td>0.000000</td>\n",
       "      <td>0.007436</td>\n",
       "    </tr>\n",
       "    <tr>\n",
       "      <th>5</th>\n",
       "      <td>ACN</td>\n",
       "      <td>26.648926</td>\n",
       "      <td>4.48</td>\n",
       "      <td>1.799761e+11</td>\n",
       "      <td>2.0</td>\n",
       "      <td>0.147901</td>\n",
       "      <td>0.903226</td>\n",
       "      <td>0.078533</td>\n",
       "    </tr>\n",
       "    <tr>\n",
       "      <th>6</th>\n",
       "      <td>ATVI</td>\n",
       "      <td>35.732390</td>\n",
       "      <td>0.47</td>\n",
       "      <td>5.956559e+10</td>\n",
       "      <td>1.0</td>\n",
       "      <td>0.198315</td>\n",
       "      <td>0.094758</td>\n",
       "      <td>0.025992</td>\n",
       "    </tr>\n",
       "    <tr>\n",
       "      <th>...</th>\n",
       "      <td>...</td>\n",
       "      <td>...</td>\n",
       "      <td>...</td>\n",
       "      <td>...</td>\n",
       "      <td>...</td>\n",
       "      <td>...</td>\n",
       "      <td>...</td>\n",
       "      <td>...</td>\n",
       "    </tr>\n",
       "    <tr>\n",
       "      <th>497</th>\n",
       "      <td>XYL</td>\n",
       "      <td>79.150000</td>\n",
       "      <td>1.20</td>\n",
       "      <td>1.998181e+10</td>\n",
       "      <td>NaN</td>\n",
       "      <td>0.439282</td>\n",
       "      <td>0.241935</td>\n",
       "      <td>0.008719</td>\n",
       "    </tr>\n",
       "    <tr>\n",
       "      <th>498</th>\n",
       "      <td>YUM</td>\n",
       "      <td>34.934470</td>\n",
       "      <td>2.28</td>\n",
       "      <td>3.828903e+10</td>\n",
       "      <td>NaN</td>\n",
       "      <td>0.193886</td>\n",
       "      <td>0.459677</td>\n",
       "      <td>0.016708</td>\n",
       "    </tr>\n",
       "    <tr>\n",
       "      <th>499</th>\n",
       "      <td>ZBRA</td>\n",
       "      <td>27.188234</td>\n",
       "      <td>0.00</td>\n",
       "      <td>1.358536e+10</td>\n",
       "      <td>NaN</td>\n",
       "      <td>0.150895</td>\n",
       "      <td>0.000000</td>\n",
       "      <td>0.005928</td>\n",
       "    </tr>\n",
       "    <tr>\n",
       "      <th>501</th>\n",
       "      <td>ZION</td>\n",
       "      <td>9.583248</td>\n",
       "      <td>1.64</td>\n",
       "      <td>7.375666e+09</td>\n",
       "      <td>NaN</td>\n",
       "      <td>0.053187</td>\n",
       "      <td>0.330645</td>\n",
       "      <td>0.003218</td>\n",
       "    </tr>\n",
       "    <tr>\n",
       "      <th>502</th>\n",
       "      <td>ZTS</td>\n",
       "      <td>44.751460</td>\n",
       "      <td>1.30</td>\n",
       "      <td>7.241194e+10</td>\n",
       "      <td>NaN</td>\n",
       "      <td>0.248370</td>\n",
       "      <td>0.262097</td>\n",
       "      <td>0.031597</td>\n",
       "    </tr>\n",
       "  </tbody>\n",
       "</table>\n",
       "<p>373 rows × 8 columns</p>\n",
       "</div>"
      ],
      "text/plain": [
       "    Ticker  trailingPE  dividendRate     marketCap  Cluster  trailingPE_norm  \\\n",
       "1      AOS   18.907642          1.20  9.155210e+09      1.0         0.104937   \n",
       "2      ABT   23.444696          1.88  1.856913e+11      0.0         0.130118   \n",
       "4     ABMD   64.828476          0.00  1.704222e+10      1.0         0.359798   \n",
       "5      ACN   26.648926          4.48  1.799761e+11      2.0         0.147901   \n",
       "6     ATVI   35.732390          0.47  5.956559e+10      1.0         0.198315   \n",
       "..     ...         ...           ...           ...      ...              ...   \n",
       "497    XYL   79.150000          1.20  1.998181e+10      NaN         0.439282   \n",
       "498    YUM   34.934470          2.28  3.828903e+10      NaN         0.193886   \n",
       "499   ZBRA   27.188234          0.00  1.358536e+10      NaN         0.150895   \n",
       "501   ZION    9.583248          1.64  7.375666e+09      NaN         0.053187   \n",
       "502    ZTS   44.751460          1.30  7.241194e+10      NaN         0.248370   \n",
       "\n",
       "     dividendRate_norm  marketCap_norm  \n",
       "1             0.241935        0.003995  \n",
       "2             0.379032        0.081027  \n",
       "4             0.000000        0.007436  \n",
       "5             0.903226        0.078533  \n",
       "6             0.094758        0.025992  \n",
       "..                 ...             ...  \n",
       "497           0.241935        0.008719  \n",
       "498           0.459677        0.016708  \n",
       "499           0.000000        0.005928  \n",
       "501           0.330645        0.003218  \n",
       "502           0.262097        0.031597  \n",
       "\n",
       "[373 rows x 8 columns]"
      ]
     },
     "execution_count": 117,
     "metadata": {},
     "output_type": "execute_result"
    }
   ],
   "source": [
    "max_abs_scaler = preprocessing.MaxAbsScaler()\n",
    "\n",
    "trailingPE_array = np.array(sp_features_df['trailingPE'].values).reshape(-1,1)\n",
    "dividendRate_array = np.array(sp_features_df['dividendRate'].values).reshape(-1,1)\n",
    "marketCap_array = np.array(sp_features_df['marketCap'].values).reshape(-1,1)\n",
    "\n",
    "sp_features_df['trailingPE_norm'] = max_abs_scaler.fit_transform(trailingPE_array)\n",
    "sp_features_df['dividendRate_norm'] = max_abs_scaler.fit_transform(dividendRate_array)\n",
    "sp_features_df['marketCap_norm'] = max_abs_scaler.fit_transform(marketCap_array)\n",
    "\n",
    "sp_features_df"
   ]
  },
  {
   "cell_type": "code",
   "execution_count": 118,
   "metadata": {},
   "outputs": [
    {
     "data": {
      "text/plain": [
       "Text(0.5, 1.0, 'Elbow curve')"
      ]
     },
     "execution_count": 118,
     "metadata": {},
     "output_type": "execute_result"
    },
    {
     "data": {
      "image/png": "[encoded data removed]",
      "text/plain": [
       "<Figure size 1500x500 with 1 Axes>"
      ]
     },
     "metadata": {},
     "output_type": "display_data"
    }
   ],
   "source": [
    "# Format the data as a numpy array to feed into the K-Means algorithm\n",
    "data = np.asarray([np.asarray(sp_features_df['trailingPE_norm']),np.asarray(sp_features_df['dividendRate_norm'])]).T\n",
    "X = data\n",
    "distorsions = []\n",
    "for k in range(2, 20):\n",
    "    k_means = KMeans(n_clusters=k)\n",
    "    k_means.fit(X)\n",
    "    distorsions.append(k_means.inertia_)\n",
    "fig = plt.figure(figsize=(15, 5))\n",
    "\n",
    "plt.plot(range(2, 20), distorsions)\n",
    "plt.grid(True)\n",
    "plt.title('Elbow curve')"
   ]
  },
  {
   "cell_type": "markdown",
   "metadata": {},
   "source": [
    "Now, the optimal number of cluster is 4"
   ]
  },
  {
   "cell_type": "code",
   "execution_count": 119,
   "metadata": {},
   "outputs": [
    {
     "data": {
      "text/html": [
       "<div>\n",
       "<style scoped>\n",
       "    .dataframe tbody tr th:only-of-type {\n",
       "        vertical-align: middle;\n",
       "    }\n",
       "\n",
       "    .dataframe tbody tr th {\n",
       "        vertical-align: top;\n",
       "    }\n",
       "\n",
       "    .dataframe thead th {\n",
       "        text-align: right;\n",
       "    }\n",
       "</style>\n",
       "<table border=\"1\" class=\"dataframe\">\n",
       "  <thead>\n",
       "    <tr style=\"text-align: right;\">\n",
       "      <th></th>\n",
       "      <th>Ticker</th>\n",
       "      <th>trailingPE_norm</th>\n",
       "      <th>dividendRate_norm</th>\n",
       "      <th>marketCap_norm</th>\n",
       "      <th>Cluster</th>\n",
       "    </tr>\n",
       "  </thead>\n",
       "  <tbody>\n",
       "    <tr>\n",
       "      <th>1</th>\n",
       "      <td>AOS</td>\n",
       "      <td>0.104937</td>\n",
       "      <td>0.241935</td>\n",
       "      <td>0.003995</td>\n",
       "      <td>1</td>\n",
       "    </tr>\n",
       "    <tr>\n",
       "      <th>2</th>\n",
       "      <td>ABT</td>\n",
       "      <td>0.130118</td>\n",
       "      <td>0.379032</td>\n",
       "      <td>0.081027</td>\n",
       "      <td>1</td>\n",
       "    </tr>\n",
       "    <tr>\n",
       "      <th>4</th>\n",
       "      <td>ABMD</td>\n",
       "      <td>0.359798</td>\n",
       "      <td>0.000000</td>\n",
       "      <td>0.007436</td>\n",
       "      <td>0</td>\n",
       "    </tr>\n",
       "    <tr>\n",
       "      <th>5</th>\n",
       "      <td>ACN</td>\n",
       "      <td>0.147901</td>\n",
       "      <td>0.903226</td>\n",
       "      <td>0.078533</td>\n",
       "      <td>2</td>\n",
       "    </tr>\n",
       "    <tr>\n",
       "      <th>6</th>\n",
       "      <td>ATVI</td>\n",
       "      <td>0.198315</td>\n",
       "      <td>0.094758</td>\n",
       "      <td>0.025992</td>\n",
       "      <td>0</td>\n",
       "    </tr>\n",
       "    <tr>\n",
       "      <th>...</th>\n",
       "      <td>...</td>\n",
       "      <td>...</td>\n",
       "      <td>...</td>\n",
       "      <td>...</td>\n",
       "      <td>...</td>\n",
       "    </tr>\n",
       "    <tr>\n",
       "      <th>497</th>\n",
       "      <td>XYL</td>\n",
       "      <td>0.439282</td>\n",
       "      <td>0.241935</td>\n",
       "      <td>0.008719</td>\n",
       "      <td>0</td>\n",
       "    </tr>\n",
       "    <tr>\n",
       "      <th>498</th>\n",
       "      <td>YUM</td>\n",
       "      <td>0.193886</td>\n",
       "      <td>0.459677</td>\n",
       "      <td>0.016708</td>\n",
       "      <td>3</td>\n",
       "    </tr>\n",
       "    <tr>\n",
       "      <th>499</th>\n",
       "      <td>ZBRA</td>\n",
       "      <td>0.150895</td>\n",
       "      <td>0.000000</td>\n",
       "      <td>0.005928</td>\n",
       "      <td>0</td>\n",
       "    </tr>\n",
       "    <tr>\n",
       "      <th>501</th>\n",
       "      <td>ZION</td>\n",
       "      <td>0.053187</td>\n",
       "      <td>0.330645</td>\n",
       "      <td>0.003218</td>\n",
       "      <td>1</td>\n",
       "    </tr>\n",
       "    <tr>\n",
       "      <th>502</th>\n",
       "      <td>ZTS</td>\n",
       "      <td>0.248370</td>\n",
       "      <td>0.262097</td>\n",
       "      <td>0.031597</td>\n",
       "      <td>1</td>\n",
       "    </tr>\n",
       "  </tbody>\n",
       "</table>\n",
       "<p>373 rows × 5 columns</p>\n",
       "</div>"
      ],
      "text/plain": [
       "    Ticker  trailingPE_norm  dividendRate_norm  marketCap_norm  Cluster\n",
       "1      AOS         0.104937           0.241935        0.003995        1\n",
       "2      ABT         0.130118           0.379032        0.081027        1\n",
       "4     ABMD         0.359798           0.000000        0.007436        0\n",
       "5      ACN         0.147901           0.903226        0.078533        2\n",
       "6     ATVI         0.198315           0.094758        0.025992        0\n",
       "..     ...              ...                ...             ...      ...\n",
       "497    XYL         0.439282           0.241935        0.008719        0\n",
       "498    YUM         0.193886           0.459677        0.016708        3\n",
       "499   ZBRA         0.150895           0.000000        0.005928        0\n",
       "501   ZION         0.053187           0.330645        0.003218        1\n",
       "502    ZTS         0.248370           0.262097        0.031597        1\n",
       "\n",
       "[373 rows x 5 columns]"
      ]
     },
     "execution_count": 119,
     "metadata": {},
     "output_type": "execute_result"
    }
   ],
   "source": [
    "# Computing K-Means with K = 4 (4 clusters)\n",
    "centroids,_ = kmeans(data,4)\n",
    "\n",
    "# Assign each sample to a cluster\n",
    "idx,_ = vq(data,centroids)\n",
    "\n",
    "# Create a dataframe with the tickers and the clusters that's belong to\n",
    "details = [(name,cluster) for name, cluster in zip(sp_features_df.index,idx)]\n",
    "details_df = pd.DataFrame(details)\n",
    "\n",
    "clusters_df = pd.DataFrame()\n",
    "clusters_df['Ticker'] = sp_features_df['Ticker']\n",
    "clusters_df['trailingPE_norm'] = sp_features_df['trailingPE_norm']\n",
    "clusters_df['dividendRate_norm'] = sp_features_df['dividendRate_norm']\n",
    "clusters_df['marketCap_norm'] = sp_features_df['marketCap_norm']\n",
    "clusters_df['Cluster'] = details_df[1].values\n",
    "clusters_df"
   ]
  },
  {
   "cell_type": "code",
   "execution_count": 120,
   "metadata": {},
   "outputs": [
    {
     "data": {
      "application/vnd.plotly.v1+json": {
       "config": {
        "plotlyServerURL": "https://plot.ly"
       },
       "data": [
        {
         "customdata": [
          [
           "AOS"
          ],
          [
           "ABT"
          ],
          [
           "ABMD"
          ],
          [
           "ACN"
          ],
          [
           "ATVI"
          ],
          [
           "ADM"
          ],
          [
           "ADBE"
          ],
          [
           "AFL"
          ],
          [
           "A"
          ],
          [
           "AKAM"
          ],
          [
           "ALK"
          ],
          [
           "ALB"
          ],
          [
           "ARE"
          ],
          [
           "ALGN"
          ],
          [
           "ALLE"
          ],
          [
           "LNT"
          ],
          [
           "ALL"
          ],
          [
           "GOOGL"
          ],
          [
           "GOOG"
          ],
          [
           "MO"
          ],
          [
           "AMZN"
          ],
          [
           "AMCR"
          ],
          [
           "AMD"
          ],
          [
           "AEE"
          ],
          [
           "AEP"
          ],
          [
           "AXP"
          ],
          [
           "AIG"
          ],
          [
           "AWK"
          ],
          [
           "ABC"
          ],
          [
           "AME"
          ],
          [
           "APH"
          ],
          [
           "ADI"
          ],
          [
           "ANSS"
          ],
          [
           "AON"
          ],
          [
           "APA"
          ],
          [
           "AAPL"
          ],
          [
           "AMAT"
          ],
          [
           "APTV"
          ],
          [
           "ACGL"
          ],
          [
           "ANET"
          ],
          [
           "AJG"
          ],
          [
           "AIZ"
          ],
          [
           "ATO"
          ],
          [
           "ADSK"
          ],
          [
           "AZO"
          ],
          [
           "AVY"
          ],
          [
           "BKR"
          ],
          [
           "BAC"
          ],
          [
           "BBWI"
          ],
          [
           "BAX"
          ],
          [
           "BDX"
          ],
          [
           "WRB"
          ],
          [
           "BRK-B"
          ],
          [
           "BBY"
          ],
          [
           "BIO"
          ],
          [
           "TECH"
          ],
          [
           "BIIB"
          ],
          [
           "BK"
          ],
          [
           "BWA"
          ],
          [
           "BXP"
          ],
          [
           "BSX"
          ],
          [
           "BR"
          ],
          [
           "BRO"
          ],
          [
           "BF-B"
          ],
          [
           "CHRW"
          ],
          [
           "CDNS"
          ],
          [
           "CPT"
          ],
          [
           "CPB"
          ],
          [
           "COF"
          ],
          [
           "CAH"
          ],
          [
           "KMX"
          ],
          [
           "CARR"
          ],
          [
           "CTLT"
          ],
          [
           "CAT"
          ],
          [
           "CBOE"
          ],
          [
           "CBRE"
          ],
          [
           "CDW"
          ],
          [
           "CE"
          ],
          [
           "CNC"
          ],
          [
           "CF"
          ],
          [
           "CRL"
          ],
          [
           "SCHW"
          ],
          [
           "CHTR"
          ],
          [
           "CMG"
          ],
          [
           "CB"
          ],
          [
           "CHD"
          ],
          [
           "CI"
          ],
          [
           "CINF"
          ],
          [
           "CTAS"
          ],
          [
           "CSCO"
          ],
          [
           "C"
          ],
          [
           "CFG"
          ],
          [
           "CLX"
          ],
          [
           "CME"
          ],
          [
           "CMS"
          ],
          [
           "KO"
          ],
          [
           "CTSH"
          ],
          [
           "CL"
          ],
          [
           "CMCSA"
          ],
          [
           "CMA"
          ],
          [
           "CAG"
          ],
          [
           "ED"
          ],
          [
           "STZ"
          ],
          [
           "COO"
          ],
          [
           "CPRT"
          ],
          [
           "GLW"
          ],
          [
           "CTVA"
          ],
          [
           "CSGP"
          ],
          [
           "COST"
          ],
          [
           "CTRA"
          ],
          [
           "CSX"
          ],
          [
           "CVS"
          ],
          [
           "DHI"
          ],
          [
           "DHR"
          ],
          [
           "DVA"
          ],
          [
           "DE"
          ],
          [
           "DXCM"
          ],
          [
           "DLR"
          ],
          [
           "DFS"
          ],
          [
           "DISH"
          ],
          [
           "DG"
          ],
          [
           "DLTR"
          ],
          [
           "DPZ"
          ],
          [
           "DOV"
          ],
          [
           "DOW"
          ],
          [
           "DTE"
          ],
          [
           "DUK"
          ],
          [
           "EMN"
          ],
          [
           "ETN"
          ],
          [
           "EBAY"
          ],
          [
           "EIX"
          ],
          [
           "EW"
          ],
          [
           "EA"
          ],
          [
           "LLY"
          ],
          [
           "EMR"
          ],
          [
           "ETR"
          ],
          [
           "EPAM"
          ],
          [
           "EFX"
          ],
          [
           "EQR"
          ],
          [
           "EL"
          ],
          [
           "ETSY"
          ],
          [
           "EVRG"
          ],
          [
           "ES"
          ],
          [
           "EXC"
          ],
          [
           "EXPD"
          ],
          [
           "FFIV"
          ],
          [
           "FDS"
          ],
          [
           "FAST"
          ],
          [
           "FRT"
          ],
          [
           "FDX"
          ],
          [
           "FITB"
          ],
          [
           "FRC"
          ],
          [
           "FE"
          ],
          [
           "FISV"
          ],
          [
           "FLT"
          ],
          [
           "FMC"
          ],
          [
           "F"
          ],
          [
           "FTNT"
          ],
          [
           "FTV"
          ],
          [
           "FBHS"
          ],
          [
           "FOXA"
          ],
          [
           "FOX"
          ],
          [
           "BEN"
          ],
          [
           "FCX"
          ],
          [
           "GRMN"
          ],
          [
           "IT"
          ],
          [
           "GNRC"
          ],
          [
           "GIS"
          ],
          [
           "GM"
          ],
          [
           "GL"
          ],
          [
           "GPN"
          ],
          [
           "HIG"
          ],
          [
           "HAS"
          ],
          [
           "HCA"
          ],
          [
           "PEAK"
          ],
          [
           "HSIC"
          ],
          [
           "HSY"
          ],
          [
           "HOLX"
          ],
          [
           "HON"
          ],
          [
           "HRL"
          ],
          [
           "HWM"
          ],
          [
           "HPQ"
          ],
          [
           "HUM"
          ],
          [
           "HBAN"
          ],
          [
           "HII"
          ],
          [
           "IEX"
          ],
          [
           "IDXX"
          ],
          [
           "ILMN"
          ],
          [
           "INTC"
          ],
          [
           "ICE"
          ],
          [
           "IP"
          ],
          [
           "IPG"
          ],
          [
           "IFF"
          ],
          [
           "INTU"
          ],
          [
           "ISRG"
          ],
          [
           "IVZ"
          ],
          [
           "INVH"
          ],
          [
           "IQV"
          ],
          [
           "IRM"
          ],
          [
           "JBHT"
          ],
          [
           "JKHY"
          ],
          [
           "J"
          ],
          [
           "JNJ"
          ],
          [
           "JCI"
          ],
          [
           "JPM"
          ],
          [
           "JNPR"
          ],
          [
           "K"
          ],
          [
           "KDP"
          ],
          [
           "KEY"
          ],
          [
           "KEYS"
          ],
          [
           "KMB"
          ],
          [
           "KIM"
          ],
          [
           "KMI"
          ],
          [
           "KHC"
          ],
          [
           "KR"
          ],
          [
           "LHX"
          ],
          [
           "LH"
          ],
          [
           "LW"
          ],
          [
           "LDOS"
          ],
          [
           "LEN"
          ],
          [
           "LNC"
          ],
          [
           "LIN"
          ],
          [
           "LKQ"
          ],
          [
           "LOW"
          ],
          [
           "LYB"
          ],
          [
           "MTB"
          ],
          [
           "MKTX"
          ],
          [
           "MMC"
          ],
          [
           "MLM"
          ],
          [
           "MAS"
          ],
          [
           "MA"
          ],
          [
           "MTCH"
          ],
          [
           "MKC"
          ],
          [
           "MDT"
          ],
          [
           "MRK"
          ],
          [
           "MET"
          ],
          [
           "MTD"
          ],
          [
           "MCHP"
          ],
          [
           "MU"
          ],
          [
           "MSFT"
          ],
          [
           "MHK"
          ],
          [
           "MOH"
          ],
          [
           "MDLZ"
          ],
          [
           "MPWR"
          ],
          [
           "MNST"
          ],
          [
           "MCO"
          ],
          [
           "MS"
          ],
          [
           "MOS"
          ],
          [
           "MSI"
          ],
          [
           "NDAQ"
          ],
          [
           "NTAP"
          ],
          [
           "NFLX"
          ],
          [
           "NWL"
          ],
          [
           "NEM"
          ],
          [
           "NWSA"
          ],
          [
           "NEE"
          ],
          [
           "NKE"
          ],
          [
           "NDSN"
          ],
          [
           "NSC"
          ],
          [
           "NTRS"
          ],
          [
           "NRG"
          ],
          [
           "NUE"
          ],
          [
           "NVDA"
          ],
          [
           "NVR"
          ],
          [
           "NXPI"
          ],
          [
           "ORLY"
          ],
          [
           "ODFL"
          ],
          [
           "OMC"
          ],
          [
           "ON"
          ],
          [
           "OKE"
          ],
          [
           "ORCL"
          ],
          [
           "OGN"
          ],
          [
           "OTIS"
          ],
          [
           "PCAR"
          ],
          [
           "PAYX"
          ],
          [
           "PAYC"
          ],
          [
           "PYPL"
          ],
          [
           "PNR"
          ],
          [
           "PEP"
          ],
          [
           "PKI"
          ],
          [
           "PFE"
          ],
          [
           "PNW"
          ],
          [
           "POOL"
          ],
          [
           "PPG"
          ],
          [
           "PPL"
          ],
          [
           "PFG"
          ],
          [
           "PG"
          ],
          [
           "PGR"
          ],
          [
           "PLD"
          ],
          [
           "PEG"
          ],
          [
           "PTC"
          ],
          [
           "PHM"
          ],
          [
           "QRVO"
          ],
          [
           "PWR"
          ],
          [
           "QCOM"
          ],
          [
           "DGX"
          ],
          [
           "RJF"
          ],
          [
           "RTX"
          ],
          [
           "O"
          ],
          [
           "REGN"
          ],
          [
           "RF"
          ],
          [
           "RSG"
          ],
          [
           "RMD"
          ],
          [
           "RHI"
          ],
          [
           "ROK"
          ],
          [
           "ROL"
          ],
          [
           "ROP"
          ],
          [
           "SPGI"
          ],
          [
           "CRM"
          ],
          [
           "STX"
          ],
          [
           "SEE"
          ],
          [
           "SRE"
          ],
          [
           "SHW"
          ],
          [
           "SBNY"
          ],
          [
           "SWKS"
          ],
          [
           "SJM"
          ],
          [
           "SEDG"
          ],
          [
           "SO"
          ],
          [
           "SWK"
          ],
          [
           "STT"
          ],
          [
           "STE"
          ],
          [
           "SYK"
          ],
          [
           "SIVB"
          ],
          [
           "SYF"
          ],
          [
           "SNPS"
          ],
          [
           "TMUS"
          ],
          [
           "TROW"
          ],
          [
           "TTWO"
          ],
          [
           "TGT"
          ],
          [
           "TEL"
          ],
          [
           "TDY"
          ],
          [
           "TFX"
          ],
          [
           "TER"
          ],
          [
           "TSLA"
          ],
          [
           "TXN"
          ],
          [
           "TXT"
          ],
          [
           "TMO"
          ],
          [
           "TSCO"
          ],
          [
           "TT"
          ],
          [
           "TDG"
          ],
          [
           "TRV"
          ],
          [
           "TRMB"
          ],
          [
           "TFC"
          ],
          [
           "TYL"
          ],
          [
           "TSN"
          ],
          [
           "USB"
          ],
          [
           "ULTA"
          ],
          [
           "URI"
          ],
          [
           "UHS"
          ],
          [
           "VTR"
          ],
          [
           "VRSN"
          ],
          [
           "VRSK"
          ],
          [
           "VZ"
          ],
          [
           "VRTX"
          ],
          [
           "VICI"
          ],
          [
           "VMC"
          ],
          [
           "WAB"
          ],
          [
           "WMT"
          ],
          [
           "WM"
          ],
          [
           "WAT"
          ],
          [
           "WEC"
          ],
          [
           "WFC"
          ],
          [
           "WELL"
          ],
          [
           "WST"
          ],
          [
           "WDC"
          ],
          [
           "WY"
          ],
          [
           "WMB"
          ],
          [
           "XEL"
          ],
          [
           "XYL"
          ],
          [
           "YUM"
          ],
          [
           "ZBRA"
          ],
          [
           "ZION"
          ],
          [
           "ZTS"
          ]
         ],
         "hovertemplate": "dividendRate_norm=%{x}<br>trailingPE_norm=%{y}<br>Ticker=%{customdata[0]}<br>Cluster=%{marker.color}<extra></extra>",
         "legendgroup": "",
         "marker": {
          "color": [
           1,
           1,
           0,
           2,
           0,
           1,
           0,
           1,
           1,
           0,
           0,
           1,
           2,
           0,
           1,
           1,
           2,
           0,
           0,
           2,
           0,
           1,
           0,
           3,
           3,
           3,
           1,
           3,
           3,
           1,
           1,
           3,
           0,
           3,
           1,
           1,
           1,
           0,
           0,
           0,
           3,
           3,
           3,
           0,
           0,
           3,
           0,
           1,
           1,
           1,
           2,
           0,
           0,
           2,
           0,
           1,
           0,
           1,
           1,
           2,
           0,
           3,
           0,
           1,
           3,
           0,
           2,
           1,
           3,
           3,
           0,
           1,
           0,
           2,
           3,
           0,
           3,
           3,
           0,
           1,
           0,
           1,
           0,
           0,
           3,
           1,
           2,
           3,
           2,
           1,
           3,
           1,
           2,
           2,
           1,
           1,
           1,
           3,
           1,
           3,
           1,
           3,
           3,
           0,
           0,
           1,
           1,
           0,
           2,
           3,
           1,
           3,
           1,
           1,
           0,
           2,
           0,
           2,
           3,
           0,
           3,
           0,
           2,
           3,
           3,
           2,
           2,
           3,
           3,
           1,
           3,
           0,
           1,
           2,
           3,
           2,
           0,
           1,
           3,
           3,
           0,
           3,
           3,
           1,
           1,
           0,
           2,
           1,
           2,
           2,
           1,
           1,
           1,
           0,
           0,
           3,
           1,
           0,
           0,
           1,
           1,
           1,
           1,
           0,
           3,
           0,
           0,
           3,
           1,
           1,
           1,
           1,
           3,
           3,
           1,
           0,
           2,
           0,
           2,
           1,
           0,
           1,
           3,
           1,
           2,
           3,
           0,
           0,
           1,
           1,
           1,
           1,
           3,
           3,
           0,
           1,
           0,
           0,
           3,
           1,
           3,
           1,
           2,
           1,
           2,
           0,
           3,
           1,
           1,
           0,
           2,
           1,
           1,
           1,
           1,
           2,
           3,
           1,
           1,
           1,
           1,
           2,
           1,
           2,
           2,
           2,
           3,
           3,
           3,
           1,
           3,
           0,
           1,
           3,
           3,
           3,
           0,
           1,
           1,
           3,
           0,
           0,
           1,
           3,
           0,
           3,
           3,
           1,
           3,
           1,
           3,
           0,
           1,
           3,
           0,
           1,
           1,
           3,
           2,
           3,
           1,
           3,
           0,
           0,
           2,
           0,
           1,
           3,
           0,
           2,
           1,
           1,
           1,
           1,
           3,
           0,
           0,
           1,
           2,
           0,
           1,
           2,
           2,
           3,
           1,
           3,
           2,
           1,
           3,
           3,
           0,
           1,
           0,
           0,
           3,
           3,
           1,
           3,
           3,
           0,
           1,
           3,
           3,
           1,
           2,
           0,
           3,
           2,
           0,
           3,
           1,
           2,
           3,
           3,
           3,
           2,
           0,
           3,
           3,
           3,
           3,
           3,
           0,
           1,
           0,
           0,
           2,
           0,
           2,
           3,
           0,
           1,
           0,
           0,
           2,
           0,
           1,
           2,
           3,
           0,
           2,
           0,
           3,
           0,
           1,
           3,
           0,
           0,
           1,
           1,
           0,
           1,
           3,
           0,
           1,
           1,
           0,
           3,
           3,
           0,
           3,
           1,
           3,
           0,
           0,
           1,
           1,
           3,
           0,
           3,
           0,
           1,
           1
          ],
          "coloraxis": "coloraxis",
          "symbol": "circle"
         },
         "mode": "markers",
         "name": "",
         "orientation": "v",
         "showlegend": false,
         "type": "scatter",
         "x": [
          0.24193548387096772,
          0.3790322580645161,
          0,
          0.903225806451613,
          0.09475806451612903,
          0.32258064516129037,
          0,
          0.3387096774193548,
          0.1814516129032258,
          0,
          0,
          0.3185483870967742,
          0.9516129032258064,
          0,
          0.33064516129032256,
          0.344758064516129,
          0.6854838709677419,
          0,
          0,
          0.7580645161290323,
          0,
          0.09879032258064516,
          0,
          0.4758064516129032,
          0.6693548387096774,
          0.41935483870967744,
          0.25806451612903225,
          0.5282258064516129,
          0.3911290322580645,
          0.1774193548387097,
          0.1693548387096774,
          0.6129032258064516,
          0,
          0.4516129032258065,
          0.20161290322580647,
          0.18548387096774194,
          0.20967741935483872,
          0,
          0,
          0,
          0.4112903225806452,
          0.5483870967741936,
          0.5483870967741936,
          0,
          0,
          0.6048387096774194,
          0.14516129032258063,
          0.1774193548387097,
          0.16129032258064518,
          0.23387096774193547,
          0.7016129032258065,
          0.08064516129032259,
          0,
          0.7096774193548387,
          0,
          0.25806451612903225,
          0,
          0.29838709677419356,
          0.1370967741935484,
          0.7903225806451613,
          0,
          0.5846774193548387,
          0.09274193548387097,
          0.15120967741935484,
          0.44354838709677424,
          0,
          0.7358870967741935,
          0.29838709677419356,
          0.48387096774193544,
          0.39919354838709675,
          0,
          0.12096774193548386,
          0,
          0.9677419354838709,
          0.40322580645161293,
          0,
          0.40322580645161293,
          0.564516129032258,
          0,
          0.32258064516129037,
          0,
          0.1774193548387097,
          0,
          0,
          0.6693548387096774,
          0.21169354838709678,
          0.903225806451613,
          0.5564516129032258,
          0.8467741935483871,
          0.3064516129032258,
          0.4112903225806452,
          0.3387096774193548,
          0.9516129032258064,
          0.8064516129032259,
          0.3709677419354839,
          0.3548387096774194,
          0.217741935483871,
          0.3790322580645161,
          0.217741935483871,
          0.5483870967741936,
          0.26612903225806456,
          0.6370967741935484,
          0.6451612903225807,
          0.012096774193548387,
          0,
          0.217741935483871,
          0.12096774193548386,
          0,
          0.7258064516129032,
          0.5241935483870968,
          0.08064516129032259,
          0.44354838709677424,
          0.1814516129032258,
          0.20161290322580647,
          0,
          0.9112903225806451,
          0,
          0.9838709677419355,
          0.48387096774193544,
          0,
          0.44354838709677424,
          0,
          0.8870967741935485,
          0.40725806451612906,
          0.564516129032258,
          0.7137096774193549,
          0.8104838709677419,
          0.6129032258064516,
          0.653225806451613,
          0.1774193548387097,
          0.564516129032258,
          0,
          0.1532258064516129,
          0.7903225806451613,
          0.4153225806451613,
          0.8145161290322581,
          0,
          0.31451612903225806,
          0.5040322580645161,
          0.48387096774193544,
          0,
          0.4616935483870968,
          0.5141129032258064,
          0.27217741935483875,
          0.2701612903225807,
          0,
          0.717741935483871,
          0.25,
          0.870967741935484,
          0.9274193548387096,
          0.26612903225806456,
          0.217741935483871,
          0.31451612903225806,
          0,
          0,
          0.4274193548387097,
          0.12096774193548386,
          0,
          0.05645161290322581,
          0.22580645161290325,
          0.10080645161290323,
          0.10080645161290323,
          0.23387096774193547,
          0.12096774193548386,
          0.5887096774193549,
          0,
          0,
          0.435483870967742,
          0.07258064516129031,
          0.16733870967741934,
          0.20161290322580647,
          0.31048387096774194,
          0.564516129032258,
          0.4516129032258065,
          0.24193548387096772,
          0,
          0.8346774193548386,
          0,
          0.8306451612903226,
          0.20967741935483872,
          0.03225806451612903,
          0.20161290322580647,
          0.6350806451612903,
          0.125,
          0.9516129032258064,
          0.48387096774193544,
          0,
          0,
          0.29435483870967744,
          0.3064516129032258,
          0.37298387096774194,
          0.23387096774193547,
          0.653225806451613,
          0.6290322580645161,
          0,
          0.15120967741935484,
          0.1774193548387097,
          0,
          0.497983870967742,
          0.32258064516129037,
          0.3951612903225806,
          0.18548387096774194,
          0.9112903225806451,
          0.282258064516129,
          0.8064516129032259,
          0.1693548387096774,
          0.4758064516129032,
          0.16129032258064518,
          0.15725806451612903,
          0,
          0.9354838709677419,
          0.1774193548387097,
          0.22379032258064518,
          0.32258064516129037,
          0.20967741935483872,
          0.903225806451613,
          0.5806451612903225,
          0.1975806451612903,
          0.29032258064516125,
          0.3024193548387097,
          0.3629032258064516,
          0.9435483870967741,
          0.20161290322580647,
          0.8467741935483871,
          0.9596774193548386,
          0.9677419354838709,
          0.564516129032258,
          0.4758064516129032,
          0.5322580645161291,
          0.22580645161290325,
          0.3951612903225806,
          0,
          0.29838709677419356,
          0.5483870967741936,
          0.5564516129032258,
          0.40322580645161293,
          0,
          0.24193548387096772,
          0.09274193548387097,
          0.5483870967741936,
          0,
          0,
          0.31048387096774194,
          0.6048387096774194,
          0,
          0.564516129032258,
          0.625,
          0.12096774193548386,
          0.6370967741935484,
          0.16129032258064518,
          0.40322580645161293,
          0,
          0.18548387096774194,
          0.44354838709677424,
          0.040322580645161296,
          0.34274193548387094,
          0.24596774193548387,
          0.5241935483870968,
          1,
          0.6048387096774194,
          0.282258064516129,
          0.40322580645161293,
          0.03225806451612903,
          0,
          0.6814516129032258,
          0,
          0.24193548387096772,
          0.564516129032258,
          0,
          0.7540322580645161,
          0.25806451612903225,
          0.22580645161290325,
          0.23387096774193547,
          0.29838709677419356,
          0.6370967741935484,
          0,
          0,
          0.1693548387096774,
          0.9274193548387096,
          0.05645161290322581,
          0.32258064516129037,
          0.6975806451612904,
          0.8064516129032259,
          0.5,
          0.1814516129032258,
          0.5161290322580645,
          0.7358870967741935,
          0.08064516129032259,
          0.6370967741935484,
          0.435483870967742,
          0,
          0.12096774193548386,
          0,
          0.05645161290322581,
          0.6048387096774194,
          0.5322580645161291,
          0.2741935483870968,
          0.44354838709677424,
          0.6008064516129032,
          0,
          0.16129032258064518,
          0.39919354838709675,
          0.3548387096774194,
          0.34677419354838707,
          0.903225806451613,
          0.10483870967741936,
          0.5,
          0.6854838709677419,
          0,
          0.564516129032258,
          0.16129032258064518,
          0.9233870967741936,
          0.48387096774193544,
          0.4516129032258065,
          0.5,
          0.8225806451612904,
          0,
          0.5483870967741936,
          0.6451612903225807,
          0.5080645161290323,
          0.3790322580645161,
          0.5604838709677419,
          0,
          0.18548387096774194,
          0,
          0,
          0.9677419354838709,
          0,
          0.870967741935484,
          0.4516129032258065,
          0,
          0.2741935483870968,
          0.08870967741935484,
          0,
          1,
          0.016129032258064516,
          0.24193548387096772,
          0.7419354838709677,
          0.5403225806451614,
          0,
          0.75,
          0,
          0.41935483870967744,
          0,
          0.3709677419354839,
          0.3870967741935484,
          0,
          0,
          0.16129032258064518,
          0.3629032258064516,
          0,
          0.25,
          0.5262096774193549,
          0,
          0.31451612903225806,
          0.32258064516129037,
          0.12096774193548386,
          0.4516129032258065,
          0.5241935483870968,
          0,
          0.5866935483870968,
          0.24193548387096772,
          0.49193548387096775,
          0.14516129032258063,
          0,
          0.14516129032258063,
          0.34274193548387094,
          0.39314516129032256,
          0.24193548387096772,
          0.4596774193548387,
          0,
          0.33064516129032256,
          0.2620967741935484
         ],
         "xaxis": "x",
         "y": [
          0.10493730837256623,
          0.13011793294230292,
          0.3597976827219126,
          0.14790139169441108,
          0.19831456658206256,
          0.06954716929192505,
          0.17338495716181274,
          0.050453845247062444,
          0.20095496534694457,
          0.1552788050817525,
          0.6267432810102055,
          0.10855519991191048,
          0.24488516395460636,
          0.15433795337072254,
          0.12339978119701836,
          0.11540233352847114,
          0.2253020972985069,
          0.1080800149361451,
          0.10844777976911579,
          0.09979192515765868,
          0.437309815564804,
          0.12260441704079178,
          0.24374880258869502,
          0.12141829997453661,
          0.11096534605658463,
          0.08611676100547251,
          0.020307184423429946,
          0.11841007532674483,
          0.11688122945253301,
          0.15869126912611342,
          0.14675609483741733,
          0.17602467882737052,
          0.23748134369361898,
          0.13321716639926792,
          0.023034841311228373,
          0.12981173974788374,
          0.07811020024602015,
          0.47298284896311665,
          0.10467186323748048,
          0.0896334483958185,
          0.24981347578615115,
          0.10262687897837476,
          0.12663520596806443,
          0.19854491910217076,
          0.1723923739524108,
          0.1411556731266382,
          0.8750490897010085,
          0.07860507660213355,
          0.04121168200574136,
          0.1381063840698287,
          0.2580599628061571,
          0.10293288347298228,
          0.000025826335345317324,
          0.06757361346153376,
          0.01632214521049908,
          0.10182352838011867,
          0.08385552121218982,
          0.06342004755679254,
          0.09724349535099162,
          0.12389361415417306,
          0.32592684352501017,
          0.1797696485898907,
          0.17400388699412078,
          0.21513532329494733,
          0.11953352740553963,
          0.3881676116087236,
          0.5680319986040654,
          0.11064492822636163,
          0.03411334620488049,
          0.09365985282746687,
          0.0805363137247589,
          0.09577246376908115,
          0.14826634823018445,
          0.20259164761353568,
          0.17030683033378333,
          0.17120094554145635,
          0.18812954974670934,
          0.032602562787642335,
          0.11390280272500287,
          0.3832138808025469,
          0.16280755571805938,
          0.19295685722905645,
          0.11642974850311098,
          0.5865759175972342,
          0.0980712381749043,
          0.14494856154133556,
          0.07968206967729446,
          0.031479601883357314,
          0.2749604340894868,
          0.11283440659126222,
          0.03424869558480181,
          0.06126495695757295,
          0.11332106340557872,
          0.18731492155970828,
          0.11273598298948896,
          0.21083333388833275,
          0.12879442576316308,
          0.1377861937893786,
          0.07627403452851354,
          0.059341556427126685,
          0.0857850988864713,
          0.1650784913516656,
          0.13310311401309222,
          0.03829058505599611,
          0.15367743187992297,
          0.13099561461637663,
          0.16045080607009554,
          0.07665089580240599,
          0.27307857526758184,
          0.16290085112495056,
          0.049004769443240094,
          0.10280138190422086,
          0.053987948520027376,
          0.2313369392757346,
          0.06334148738519559,
          0.22253294421212166,
          0.12457365497549233,
          0.3836704510968898,
          0.06482379100585657,
          0.02068543153093933,
          0.1282717661347774,
          0.14252189306315072,
          0.1663782057045507,
          0.15213233562192904,
          0.10703710437696982,
          0.08738658308819007,
          0.324508414790602,
          0.13088390987785792,
          0.2509583508435658,
          0.05835368516302221,
          0.16955604373306835,
          0.29732994761471226,
          0.1748145358350932,
          0.3061968685155252,
          0.15156063069249057,
          0.08154014122293905,
          0.33711260206162313,
          0.21842058701625414,
          0.19313855294772414,
          0.3483256998709515,
          0.2784484224584744,
          0.11930448468412427,
          0.13188662737714588,
          0.11837226876447578,
          0.15025894054157732,
          0.18449715607183823,
          0.251048793553304,
          0.1842892310793474,
          0.3656487310825664,
          0.08456691950221433,
          0.06573543032104054,
          0.1029115659442572,
          0.09348188670507705,
          0.43647485219809745,
          0.12670665104676224,
          0.16814262109366415,
          0.07414881954947808,
          0.09547266971827563,
          0.0788639727437552,
          0.07614963140266785,
          0.06808461810155114,
          0.06419720773118669,
          0.09475601003350198,
          0.1743895283592507,
          0.09591705777477634,
          0.6521242936799548,
          0.0734468784500153,
          0.11504213333795092,
          0.04873228691517766,
          0.08958900959016843,
          0.277926645279208,
          0.08883778453989104,
          0.11333888998778778,
          0.09813478561148396,
          0.12510511689509335,
          0.15887524034251013,
          0.19206945196468694,
          0.05656695879617511,
          0.18113951487276414,
          0.16047020885073157,
          0.3179701716657687,
          0.06680286908073665,
          0.1077095528058663,
          0.07134319189949448,
          0.07632376247888505,
          0.2549071941026203,
          0.3435785842585729,
          0.26709993808426175,
          0.03562159882464437,
          0.15674583511765655,
          0.03864833381396285,
          0.16354718127991308,
          0.18145541500749582,
          0.33012008079015936,
          0.15205956964454947,
          0.06718796099641491,
          0.4880911548850274,
          0.554655873703438,
          0.25518770747266795,
          0.19220005998434014,
          0.2626014733237296,
          0.21166734265599202,
          0.17264689669839708,
          0.25476014699937327,
          0.057930015235844796,
          0.28919339488499185,
          0.11171848585495112,
          0.19911265578556953,
          0.05386759134014384,
          0.29130469602791337,
          0.11320556247084865,
          0.05190490239890741,
          0.12509950585069315,
          0.4949791420108162,
          0.07863341487385195,
          0.16158061289254833,
          0.048320488426152546,
          0.28006374834637915,
          0.13937359765514953,
          0.04874189950558429,
          0.06417717780117654,
          0.3907865429950301,
          0.11959314544604084,
          0.14459347289571406,
          0.06520550297490803,
          0.07842277593406961,
          0.19775324014226633,
          0.21813063310562814,
          0.1683225796640655,
          0.08984645163324127,
          0.2959173796744551,
          0.49278947494610403,
          0.16495545352445737,
          0.18937298160576432,
          0.21833184260482105,
          0.07355696814014578,
          0.3239093650384537,
          0.3314996706633287,
          0.10594725751463699,
          0.18539311387767235,
          0.010683903062464743,
          0.1528844930712759,
          0.14146178862113495,
          0.5769774241765306,
          0.21325431917218945,
          0.15154241006067476,
          0.06352910494795326,
          0.09839846029833661,
          0.27105359873850843,
          0.060472378898565854,
          0.13266148430383864,
          0.20523493792553194,
          0.05032889267176511,
          0.08205702330709073,
          0.12789575956003196,
          0.224051444896658,
          0.2800425085175765,
          0.27577603907551296,
          0.14904243170565315,
          0.08763825868701783,
          0.09298252040344462,
          0.15755021801488242,
          0.12859094631623558,
          0.10280829719731939,
          0.6025919251132588,
          0.1728132189324075,
          0.25398698282099114,
          0.09368537170199905,
          0.4924384100464667,
          0.13644362237926486,
          0.10479782591176974,
          0.024289935373644496,
          0.15702181969222395,
          0.1416813464020163,
          0.22927937317918554,
          0.7054133424974841,
          0.11324183723464644,
          0.10024061445986676,
          0.1866059874672245,
          0.11726049387402711,
          0.16162285945038626,
          0.0889594626184563,
          0.16580633982527285,
          0.14615501378729623,
          0.08513865773161958,
          0.08475067981882153,
          0.15232636897828375,
          0.06609226443992008,
          0.350429369771489,
          0.08944938282951592,
          0.35778431123125737,
          0.04320092600547585,
          0.12776868688685047,
          0.27043115575970655,
          0.09519953229086676,
          0.06273009722036298,
          0.08604085095623074,
          0.2490686221295151,
          0.3595456241734671,
          0.13592575794609357,
          0.07881648699114598,
          0.2515874815656934,
          0.38619375607863143,
          0.1419207398631016,
          0.10503184142822225,
          0.34542107696976515,
          0.2554374683234066,
          0.19215176948253404,
          0.16886934846839022,
          0.07321448630694266,
          0.09090894812286976,
          0.07124934704315165,
          0.1818383646253121,
          0.05819269092369445,
          0.07086537622635453,
          0.10135605234665976,
          0.6925448478402418,
          0.1195168663221674,
          0.04382375859388892,
          0.0679897187462607,
          0.2025875073176677,
          0.3542671021414321,
          0.03658104357211851,
          0.054033669374397963,
          0.393623589163658,
          0.31322766254879275,
          0.05718247538188957,
          0.13165797315534278,
          0.09959799170120429,
          0.20704098937309262,
          0.2147959022836895,
          0.22227293252161331,
          0.11406639991173288,
          1,
          0.14653733070574396,
          0.2173034008812059,
          0.15374824425925224,
          0.16690724782656666,
          0.17274631929917333,
          0.5131421926340918,
          0.09457367051547681,
          0.2096107589084626,
          0.05485824870146779,
          0.39543710535376886,
          0.06426573351279795,
          0.06289700497878903,
          0.830857369804345,
          0.15192382788001976,
          0.06022063669980457,
          0.21360363582357145,
          0.19841507698175317,
          0.23441320685561956,
          0.04487928651047206,
          0.16495508167482847,
          0.08306418080194755,
          0.2252786374719198,
          0.25544729181360276,
          0.17513445971580918,
          0.2510538329482747,
          0.22411754533068975,
          0.13342918728767109,
          0.165432531048334,
          0.2160443013877872,
          0.23423011808834215,
          0.16455757442154073,
          0.096882856710909,
          0.19594760494429025,
          0.13270976925565028,
          0.4392820615965025,
          0.1938861150016572,
          0.15089454810724098,
          0.05318697331940062,
          0.24837035512638558
         ],
         "yaxis": "y"
        }
       ],
       "layout": {
        "coloraxis": {
         "colorbar": {
          "title": {
           "text": "Cluster"
          }
         },
         "colorscale": [
          [
           0,
           "#0d0887"
          ],
          [
           0.1111111111111111,
           "#46039f"
          ],
          [
           0.2222222222222222,
           "#7201a8"
          ],
          [
           0.3333333333333333,
           "#9c179e"
          ],
          [
           0.4444444444444444,
           "#bd3786"
          ],
          [
           0.5555555555555556,
           "#d8576b"
          ],
          [
           0.6666666666666666,
           "#ed7953"
          ],
          [
           0.7777777777777778,
           "#fb9f3a"
          ],
          [
           0.8888888888888888,
           "#fdca26"
          ],
          [
           1,
           "#f0f921"
          ]
         ],
         "showscale": false
        },
        "legend": {
         "tracegroupgap": 0
        },
        "margin": {
         "t": 60
        },
        "template": {
         "data": {
          "bar": [
           {
            "error_x": {
             "color": "#2a3f5f"
            },
            "error_y": {
             "color": "#2a3f5f"
            },
            "marker": {
             "line": {
              "color": "#E5ECF6",
              "width": 0.5
             },
             "pattern": {
              "fillmode": "overlay",
              "size": 10,
              "solidity": 0.2
             }
            },
            "type": "bar"
           }
          ],
          "barpolar": [
           {
            "marker": {
             "line": {
              "color": "#E5ECF6",
              "width": 0.5
             },
             "pattern": {
              "fillmode": "overlay",
              "size": 10,
              "solidity": 0.2
             }
            },
            "type": "barpolar"
           }
          ],
          "carpet": [
           {
            "aaxis": {
             "endlinecolor": "#2a3f5f",
             "gridcolor": "white",
             "linecolor": "white",
             "minorgridcolor": "white",
             "startlinecolor": "#2a3f5f"
            },
            "baxis": {
             "endlinecolor": "#2a3f5f",
             "gridcolor": "white",
             "linecolor": "white",
             "minorgridcolor": "white",
             "startlinecolor": "#2a3f5f"
            },
            "type": "carpet"
           }
          ],
          "choropleth": [
           {
            "colorbar": {
             "outlinewidth": 0,
             "ticks": ""
            },
            "type": "choropleth"
           }
          ],
          "contour": [
           {
            "colorbar": {
             "outlinewidth": 0,
             "ticks": ""
            },
            "colorscale": [
             [
              0,
              "#0d0887"
             ],
             [
              0.1111111111111111,
              "#46039f"
             ],
             [
              0.2222222222222222,
              "#7201a8"
             ],
             [
              0.3333333333333333,
              "#9c179e"
             ],
             [
              0.4444444444444444,
              "#bd3786"
             ],
             [
              0.5555555555555556,
              "#d8576b"
             ],
             [
              0.6666666666666666,
              "#ed7953"
             ],
             [
              0.7777777777777778,
              "#fb9f3a"
             ],
             [
              0.8888888888888888,
              "#fdca26"
             ],
             [
              1,
              "#f0f921"
             ]
            ],
            "type": "contour"
           }
          ],
          "contourcarpet": [
           {
            "colorbar": {
             "outlinewidth": 0,
             "ticks": ""
            },
            "type": "contourcarpet"
           }
          ],
          "heatmap": [
           {
            "colorbar": {
             "outlinewidth": 0,
             "ticks": ""
            },
            "colorscale": [
             [
              0,
              "#0d0887"
             ],
             [
              0.1111111111111111,
              "#46039f"
             ],
             [
              0.2222222222222222,
              "#7201a8"
             ],
             [
              0.3333333333333333,
              "#9c179e"
             ],
             [
              0.4444444444444444,
              "#bd3786"
             ],
             [
              0.5555555555555556,
              "#d8576b"
             ],
             [
              0.6666666666666666,
              "#ed7953"
             ],
             [
              0.7777777777777778,
              "#fb9f3a"
             ],
             [
              0.8888888888888888,
              "#fdca26"
             ],
             [
              1,
              "#f0f921"
             ]
            ],
            "type": "heatmap"
           }
          ],
          "heatmapgl": [
           {
            "colorbar": {
             "outlinewidth": 0,
             "ticks": ""
            },
            "colorscale": [
             [
              0,
              "#0d0887"
             ],
             [
              0.1111111111111111,
              "#46039f"
             ],
             [
              0.2222222222222222,
              "#7201a8"
             ],
             [
              0.3333333333333333,
              "#9c179e"
             ],
             [
              0.4444444444444444,
              "#bd3786"
             ],
             [
              0.5555555555555556,
              "#d8576b"
             ],
             [
              0.6666666666666666,
              "#ed7953"
             ],
             [
              0.7777777777777778,
              "#fb9f3a"
             ],
             [
              0.8888888888888888,
              "#fdca26"
             ],
             [
              1,
              "#f0f921"
             ]
            ],
            "type": "heatmapgl"
           }
          ],
          "histogram": [
           {
            "marker": {
             "pattern": {
              "fillmode": "overlay",
              "size": 10,
              "solidity": 0.2
             }
            },
            "type": "histogram"
           }
          ],
          "histogram2d": [
           {
            "colorbar": {
             "outlinewidth": 0,
             "ticks": ""
            },
            "colorscale": [
             [
              0,
              "#0d0887"
             ],
             [
              0.1111111111111111,
              "#46039f"
             ],
             [
              0.2222222222222222,
              "#7201a8"
             ],
             [
              0.3333333333333333,
              "#9c179e"
             ],
             [
              0.4444444444444444,
              "#bd3786"
             ],
             [
              0.5555555555555556,
              "#d8576b"
             ],
             [
              0.6666666666666666,
              "#ed7953"
             ],
             [
              0.7777777777777778,
              "#fb9f3a"
             ],
             [
              0.8888888888888888,
              "#fdca26"
             ],
             [
              1,
              "#f0f921"
             ]
            ],
            "type": "histogram2d"
           }
          ],
          "histogram2dcontour": [
           {
            "colorbar": {
             "outlinewidth": 0,
             "ticks": ""
            },
            "colorscale": [
             [
              0,
              "#0d0887"
             ],
             [
              0.1111111111111111,
              "#46039f"
             ],
             [
              0.2222222222222222,
              "#7201a8"
             ],
             [
              0.3333333333333333,
              "#9c179e"
             ],
             [
              0.4444444444444444,
              "#bd3786"
             ],
             [
              0.5555555555555556,
              "#d8576b"
             ],
             [
              0.6666666666666666,
              "#ed7953"
             ],
             [
              0.7777777777777778,
              "#fb9f3a"
             ],
             [
              0.8888888888888888,
              "#fdca26"
             ],
             [
              1,
              "#f0f921"
             ]
            ],
            "type": "histogram2dcontour"
           }
          ],
          "mesh3d": [
           {
            "colorbar": {
             "outlinewidth": 0,
             "ticks": ""
            },
            "type": "mesh3d"
           }
          ],
          "parcoords": [
           {
            "line": {
             "colorbar": {
              "outlinewidth": 0,
              "ticks": ""
             }
            },
            "type": "parcoords"
           }
          ],
          "pie": [
           {
            "automargin": true,
            "type": "pie"
           }
          ],
          "scatter": [
           {
            "fillpattern": {
             "fillmode": "overlay",
             "size": 10,
             "solidity": 0.2
            },
            "type": "scatter"
           }
          ],
          "scatter3d": [
           {
            "line": {
             "colorbar": {
              "outlinewidth": 0,
              "ticks": ""
             }
            },
            "marker": {
             "colorbar": {
              "outlinewidth": 0,
              "ticks": ""
             }
            },
            "type": "scatter3d"
           }
          ],
          "scattercarpet": [
           {
            "marker": {
             "colorbar": {
              "outlinewidth": 0,
              "ticks": ""
             }
            },
            "type": "scattercarpet"
           }
          ],
          "scattergeo": [
           {
            "marker": {
             "colorbar": {
              "outlinewidth": 0,
              "ticks": ""
             }
            },
            "type": "scattergeo"
           }
          ],
          "scattergl": [
           {
            "marker": {
             "colorbar": {
              "outlinewidth": 0,
              "ticks": ""
             }
            },
            "type": "scattergl"
           }
          ],
          "scattermapbox": [
           {
            "marker": {
             "colorbar": {
              "outlinewidth": 0,
              "ticks": ""
             }
            },
            "type": "scattermapbox"
           }
          ],
          "scatterpolar": [
           {
            "marker": {
             "colorbar": {
              "outlinewidth": 0,
              "ticks": ""
             }
            },
            "type": "scatterpolar"
           }
          ],
          "scatterpolargl": [
           {
            "marker": {
             "colorbar": {
              "outlinewidth": 0,
              "ticks": ""
             }
            },
            "type": "scatterpolargl"
           }
          ],
          "scatterternary": [
           {
            "marker": {
             "colorbar": {
              "outlinewidth": 0,
              "ticks": ""
             }
            },
            "type": "scatterternary"
           }
          ],
          "surface": [
           {
            "colorbar": {
             "outlinewidth": 0,
             "ticks": ""
            },
            "colorscale": [
             [
              0,
              "#0d0887"
             ],
             [
              0.1111111111111111,
              "#46039f"
             ],
             [
              0.2222222222222222,
              "#7201a8"
             ],
             [
              0.3333333333333333,
              "#9c179e"
             ],
             [
              0.4444444444444444,
              "#bd3786"
             ],
             [
              0.5555555555555556,
              "#d8576b"
             ],
             [
              0.6666666666666666,
              "#ed7953"
             ],
             [
              0.7777777777777778,
              "#fb9f3a"
             ],
             [
              0.8888888888888888,
              "#fdca26"
             ],
             [
              1,
              "#f0f921"
             ]
            ],
            "type": "surface"
           }
          ],
          "table": [
           {
            "cells": {
             "fill": {
              "color": "#EBF0F8"
             },
             "line": {
              "color": "white"
             }
            },
            "header": {
             "fill": {
              "color": "#C8D4E3"
             },
             "line": {
              "color": "white"
             }
            },
            "type": "table"
           }
          ]
         },
         "layout": {
          "annotationdefaults": {
           "arrowcolor": "#2a3f5f",
           "arrowhead": 0,
           "arrowwidth": 1
          },
          "autotypenumbers": "strict",
          "coloraxis": {
           "colorbar": {
            "outlinewidth": 0,
            "ticks": ""
           }
          },
          "colorscale": {
           "diverging": [
            [
             0,
             "#8e0152"
            ],
            [
             0.1,
             "#c51b7d"
            ],
            [
             0.2,
             "#de77ae"
            ],
            [
             0.3,
             "#f1b6da"
            ],
            [
             0.4,
             "#fde0ef"
            ],
            [
             0.5,
             "#f7f7f7"
            ],
            [
             0.6,
             "#e6f5d0"
            ],
            [
             0.7,
             "#b8e186"
            ],
            [
             0.8,
             "#7fbc41"
            ],
            [
             0.9,
             "#4d9221"
            ],
            [
             1,
             "#276419"
            ]
           ],
           "sequential": [
            [
             0,
             "#0d0887"
            ],
            [
             0.1111111111111111,
             "#46039f"
            ],
            [
             0.2222222222222222,
             "#7201a8"
            ],
            [
             0.3333333333333333,
             "#9c179e"
            ],
            [
             0.4444444444444444,
             "#bd3786"
            ],
            [
             0.5555555555555556,
             "#d8576b"
            ],
            [
             0.6666666666666666,
             "#ed7953"
            ],
            [
             0.7777777777777778,
             "#fb9f3a"
            ],
            [
             0.8888888888888888,
             "#fdca26"
            ],
            [
             1,
             "#f0f921"
            ]
           ],
           "sequentialminus": [
            [
             0,
             "#0d0887"
            ],
            [
             0.1111111111111111,
             "#46039f"
            ],
            [
             0.2222222222222222,
             "#7201a8"
            ],
            [
             0.3333333333333333,
             "#9c179e"
            ],
            [
             0.4444444444444444,
             "#bd3786"
            ],
            [
             0.5555555555555556,
             "#d8576b"
            ],
            [
             0.6666666666666666,
             "#ed7953"
            ],
            [
             0.7777777777777778,
             "#fb9f3a"
            ],
            [
             0.8888888888888888,
             "#fdca26"
            ],
            [
             1,
             "#f0f921"
            ]
           ]
          },
          "colorway": [
           "#636efa",
           "#EF553B",
           "#00cc96",
           "#ab63fa",
           "#FFA15A",
           "#19d3f3",
           "#FF6692",
           "#B6E880",
           "#FF97FF",
           "#FECB52"
          ],
          "font": {
           "color": "#2a3f5f"
          },
          "geo": {
           "bgcolor": "white",
           "lakecolor": "white",
           "landcolor": "#E5ECF6",
           "showlakes": true,
           "showland": true,
           "subunitcolor": "white"
          },
          "hoverlabel": {
           "align": "left"
          },
          "hovermode": "closest",
          "mapbox": {
           "style": "light"
          },
          "paper_bgcolor": "white",
          "plot_bgcolor": "#E5ECF6",
          "polar": {
           "angularaxis": {
            "gridcolor": "white",
            "linecolor": "white",
            "ticks": ""
           },
           "bgcolor": "#E5ECF6",
           "radialaxis": {
            "gridcolor": "white",
            "linecolor": "white",
            "ticks": ""
           }
          },
          "scene": {
           "xaxis": {
            "backgroundcolor": "#E5ECF6",
            "gridcolor": "white",
            "gridwidth": 2,
            "linecolor": "white",
            "showbackground": true,
            "ticks": "",
            "zerolinecolor": "white"
           },
           "yaxis": {
            "backgroundcolor": "#E5ECF6",
            "gridcolor": "white",
            "gridwidth": 2,
            "linecolor": "white",
            "showbackground": true,
            "ticks": "",
            "zerolinecolor": "white"
           },
           "zaxis": {
            "backgroundcolor": "#E5ECF6",
            "gridcolor": "white",
            "gridwidth": 2,
            "linecolor": "white",
            "showbackground": true,
            "ticks": "",
            "zerolinecolor": "white"
           }
          },
          "shapedefaults": {
           "line": {
            "color": "#2a3f5f"
           }
          },
          "ternary": {
           "aaxis": {
            "gridcolor": "white",
            "linecolor": "white",
            "ticks": ""
           },
           "baxis": {
            "gridcolor": "white",
            "linecolor": "white",
            "ticks": ""
           },
           "bgcolor": "#E5ECF6",
           "caxis": {
            "gridcolor": "white",
            "linecolor": "white",
            "ticks": ""
           }
          },
          "title": {
           "x": 0.05
          },
          "xaxis": {
           "automargin": true,
           "gridcolor": "white",
           "linecolor": "white",
           "ticks": "",
           "title": {
            "standoff": 15
           },
           "zerolinecolor": "white",
           "zerolinewidth": 2
          },
          "yaxis": {
           "automargin": true,
           "gridcolor": "white",
           "linecolor": "white",
           "ticks": "",
           "title": {
            "standoff": 15
           },
           "zerolinecolor": "white",
           "zerolinewidth": 2
          }
         }
        },
        "xaxis": {
         "anchor": "y",
         "domain": [
          0,
          1
         ],
         "title": {
          "text": "dividendRate_norm"
         }
        },
        "yaxis": {
         "anchor": "x",
         "domain": [
          0,
          1
         ],
         "title": {
          "text": "trailingPE_norm"
         }
        }
       }
      }
     },
     "metadata": {},
     "output_type": "display_data"
    }
   ],
   "source": [
    "# Plot the clusters created using Plotly\n",
    "fig = px.scatter(clusters_df, x=\"dividendRate_norm\", y=\"trailingPE_norm\", color=\"Cluster\", hover_data=[\"Ticker\"])\n",
    "fig.update(layout_coloraxis_showscale=False)\n",
    "fig.show()"
   ]
  },
  {
   "cell_type": "markdown",
   "metadata": {},
   "source": [
    "# 3 dimensional clustering with K-means++\n",
    "\n",
    "We can extend the analysis of S&P500 stocks applying k-means++ clustering. This algorithm ensures a smarter initialization of the centroids and improves the quality of the clustering. Apart from initialization, the rest of the algorithm is the same as the standard K-means algorithm. That is K-means++ is the standard K-means algorithm coupled with a smarter initialization of the centroids.\n",
    "\n",
    "It´s possible to take in count 3 variables for the clusterization:\n",
    "\n",
    "+ Average annualized return \n",
    "+ Average annualized volatility\n",
    "+ Price to Book\n",
    "\n"
   ]
  },
  {
   "cell_type": "code",
   "execution_count": 30,
   "metadata": {},
   "outputs": [
    {
     "data": {
      "text/html": [
       "<div>\n",
       "<style scoped>\n",
       "    .dataframe tbody tr th:only-of-type {\n",
       "        vertical-align: middle;\n",
       "    }\n",
       "\n",
       "    .dataframe tbody tr th {\n",
       "        vertical-align: top;\n",
       "    }\n",
       "\n",
       "    .dataframe thead th {\n",
       "        text-align: right;\n",
       "    }\n",
       "</style>\n",
       "<table border=\"1\" class=\"dataframe\">\n",
       "  <thead>\n",
       "    <tr style=\"text-align: right;\">\n",
       "      <th></th>\n",
       "      <th>Ticker</th>\n",
       "      <th>priceToBook</th>\n",
       "      <th>ebitda</th>\n",
       "      <th>marketCap</th>\n",
       "    </tr>\n",
       "  </thead>\n",
       "  <tbody>\n",
       "    <tr>\n",
       "      <th>0</th>\n",
       "      <td>MMM</td>\n",
       "      <td>4.985279</td>\n",
       "      <td>6.969000e+09</td>\n",
       "      <td>7.019283e+10</td>\n",
       "    </tr>\n",
       "    <tr>\n",
       "      <th>1</th>\n",
       "      <td>AOS</td>\n",
       "      <td>5.277972</td>\n",
       "      <td>7.158000e+08</td>\n",
       "      <td>9.224615e+09</td>\n",
       "    </tr>\n",
       "    <tr>\n",
       "      <th>2</th>\n",
       "      <td>ABT</td>\n",
       "      <td>5.282732</td>\n",
       "      <td>1.368800e+10</td>\n",
       "      <td>1.884625e+11</td>\n",
       "    </tr>\n",
       "    <tr>\n",
       "      <th>3</th>\n",
       "      <td>ABBV</td>\n",
       "      <td>18.095976</td>\n",
       "      <td>2.940100e+10</td>\n",
       "      <td>2.894295e+11</td>\n",
       "    </tr>\n",
       "    <tr>\n",
       "      <th>4</th>\n",
       "      <td>ABMD</td>\n",
       "      <td>11.065802</td>\n",
       "      <td>2.741840e+08</td>\n",
       "      <td>1.700840e+10</td>\n",
       "    </tr>\n",
       "    <tr>\n",
       "      <th>...</th>\n",
       "      <td>...</td>\n",
       "      <td>...</td>\n",
       "      <td>...</td>\n",
       "      <td>...</td>\n",
       "    </tr>\n",
       "    <tr>\n",
       "      <th>498</th>\n",
       "      <td>YUM</td>\n",
       "      <td>NaN</td>\n",
       "      <td>2.232000e+09</td>\n",
       "      <td>3.801349e+10</td>\n",
       "    </tr>\n",
       "    <tr>\n",
       "      <th>499</th>\n",
       "      <td>ZBRA</td>\n",
       "      <td>6.853851</td>\n",
       "      <td>1.148000e+09</td>\n",
       "      <td>1.468893e+10</td>\n",
       "    </tr>\n",
       "    <tr>\n",
       "      <th>500</th>\n",
       "      <td>ZBH</td>\n",
       "      <td>2.093498</td>\n",
       "      <td>2.431200e+09</td>\n",
       "      <td>2.568942e+10</td>\n",
       "    </tr>\n",
       "    <tr>\n",
       "      <th>501</th>\n",
       "      <td>ZION</td>\n",
       "      <td>1.161731</td>\n",
       "      <td>NaN</td>\n",
       "      <td>8.175192e+09</td>\n",
       "    </tr>\n",
       "    <tr>\n",
       "      <th>502</th>\n",
       "      <td>ZTS</td>\n",
       "      <td>19.853703</td>\n",
       "      <td>3.251000e+09</td>\n",
       "      <td>7.447949e+10</td>\n",
       "    </tr>\n",
       "  </tbody>\n",
       "</table>\n",
       "<p>503 rows × 4 columns</p>\n",
       "</div>"
      ],
      "text/plain": [
       "    Ticker  priceToBook        ebitda     marketCap\n",
       "0      MMM     4.985279  6.969000e+09  7.019283e+10\n",
       "1      AOS     5.277972  7.158000e+08  9.224615e+09\n",
       "2      ABT     5.282732  1.368800e+10  1.884625e+11\n",
       "3     ABBV    18.095976  2.940100e+10  2.894295e+11\n",
       "4     ABMD    11.065802  2.741840e+08  1.700840e+10\n",
       "..     ...          ...           ...           ...\n",
       "498    YUM          NaN  2.232000e+09  3.801349e+10\n",
       "499   ZBRA     6.853851  1.148000e+09  1.468893e+10\n",
       "500    ZBH     2.093498  2.431200e+09  2.568942e+10\n",
       "501   ZION     1.161731           NaN  8.175192e+09\n",
       "502    ZTS    19.853703  3.251000e+09  7.447949e+10\n",
       "\n",
       "[503 rows x 4 columns]"
      ]
     },
     "execution_count": 30,
     "metadata": {},
     "output_type": "execute_result"
    }
   ],
   "source": [
    "# Download priceToBook and marketCap\n",
    "priceToBook_list = []\n",
    "marketCap_list = []\n",
    "tickers_clean = tickers\n",
    "\n",
    "for t in tickers:\n",
    "\n",
    "    try:\n",
    "\n",
    "        tick = yf.Ticker(t)\n",
    "        ticker_info = tick.info\n",
    "\n",
    "        priceToBook = ticker_info['priceToBook']\n",
    "        marketCap = ticker_info['marketCap']\n",
    "\n",
    "        priceToBook_list.append(priceToBook)\n",
    "        marketCap_list.append(marketCap)\n",
    "\n",
    "    except:\n",
    "\n",
    "        tickers_clean = tickers.remove(ticker)\n",
    "        print('The stock ticker {} is not on database'.format(ticker))\n",
    "        \n",
    "priceToBook_df = pd.DataFrame()\n",
    "priceToBook_df['Ticker'] = tickers_clean\n",
    "\n",
    "priceToBook_df['priceToBook'] = priceToBook_list\n",
    "priceToBook_df['marketCap'] = marketCap_list\n",
    "\n",
    "priceToBook_df"
   ]
  },
  {
   "cell_type": "code",
   "execution_count": 109,
   "metadata": {},
   "outputs": [
    {
     "data": {
      "text/html": [
       "<div>\n",
       "<style scoped>\n",
       "    .dataframe tbody tr th:only-of-type {\n",
       "        vertical-align: middle;\n",
       "    }\n",
       "\n",
       "    .dataframe tbody tr th {\n",
       "        vertical-align: top;\n",
       "    }\n",
       "\n",
       "    .dataframe thead th {\n",
       "        text-align: right;\n",
       "    }\n",
       "</style>\n",
       "<table border=\"1\" class=\"dataframe\">\n",
       "  <thead>\n",
       "    <tr style=\"text-align: right;\">\n",
       "      <th></th>\n",
       "      <th>Ticker</th>\n",
       "      <th>marketCap</th>\n",
       "      <th>Returns</th>\n",
       "      <th>Volatility</th>\n",
       "      <th>priceToBook</th>\n",
       "    </tr>\n",
       "  </thead>\n",
       "  <tbody>\n",
       "    <tr>\n",
       "      <th>0</th>\n",
       "      <td>MMM</td>\n",
       "      <td>7.019283e+10</td>\n",
       "      <td>-0.039995</td>\n",
       "      <td>0.289597</td>\n",
       "      <td>4.985279</td>\n",
       "    </tr>\n",
       "    <tr>\n",
       "      <th>1</th>\n",
       "      <td>AOS</td>\n",
       "      <td>9.224615e+09</td>\n",
       "      <td>0.153573</td>\n",
       "      <td>0.329671</td>\n",
       "      <td>5.277972</td>\n",
       "    </tr>\n",
       "    <tr>\n",
       "      <th>2</th>\n",
       "      <td>ABT</td>\n",
       "      <td>1.884625e+11</td>\n",
       "      <td>0.136395</td>\n",
       "      <td>0.302041</td>\n",
       "      <td>5.282732</td>\n",
       "    </tr>\n",
       "    <tr>\n",
       "      <th>3</th>\n",
       "      <td>ABBV</td>\n",
       "      <td>2.894295e+11</td>\n",
       "      <td>0.290401</td>\n",
       "      <td>0.268504</td>\n",
       "      <td>18.095976</td>\n",
       "    </tr>\n",
       "    <tr>\n",
       "      <th>4</th>\n",
       "      <td>ABMD</td>\n",
       "      <td>1.700840e+10</td>\n",
       "      <td>0.395636</td>\n",
       "      <td>0.510413</td>\n",
       "      <td>11.065802</td>\n",
       "    </tr>\n",
       "    <tr>\n",
       "      <th>...</th>\n",
       "      <td>...</td>\n",
       "      <td>...</td>\n",
       "      <td>...</td>\n",
       "      <td>...</td>\n",
       "      <td>...</td>\n",
       "    </tr>\n",
       "    <tr>\n",
       "      <th>493</th>\n",
       "      <td>XYL</td>\n",
       "      <td>2.047230e+10</td>\n",
       "      <td>0.194196</td>\n",
       "      <td>0.359985</td>\n",
       "      <td>6.898584</td>\n",
       "    </tr>\n",
       "    <tr>\n",
       "      <th>495</th>\n",
       "      <td>ZBRA</td>\n",
       "      <td>1.468893e+10</td>\n",
       "      <td>0.111862</td>\n",
       "      <td>0.427071</td>\n",
       "      <td>6.853851</td>\n",
       "    </tr>\n",
       "    <tr>\n",
       "      <th>496</th>\n",
       "      <td>ZBH</td>\n",
       "      <td>2.568942e+10</td>\n",
       "      <td>0.017178</td>\n",
       "      <td>0.370376</td>\n",
       "      <td>2.093498</td>\n",
       "    </tr>\n",
       "    <tr>\n",
       "      <th>497</th>\n",
       "      <td>ZION</td>\n",
       "      <td>8.175192e+09</td>\n",
       "      <td>0.119896</td>\n",
       "      <td>0.459492</td>\n",
       "      <td>1.161731</td>\n",
       "    </tr>\n",
       "    <tr>\n",
       "      <th>498</th>\n",
       "      <td>ZTS</td>\n",
       "      <td>7.447949e+10</td>\n",
       "      <td>0.109322</td>\n",
       "      <td>0.315721</td>\n",
       "      <td>19.853703</td>\n",
       "    </tr>\n",
       "  </tbody>\n",
       "</table>\n",
       "<p>461 rows × 5 columns</p>\n",
       "</div>"
      ],
      "text/plain": [
       "    Ticker     marketCap   Returns  Volatility  priceToBook\n",
       "0      MMM  7.019283e+10 -0.039995    0.289597     4.985279\n",
       "1      AOS  9.224615e+09  0.153573    0.329671     5.277972\n",
       "2      ABT  1.884625e+11  0.136395    0.302041     5.282732\n",
       "3     ABBV  2.894295e+11  0.290401    0.268504    18.095976\n",
       "4     ABMD  1.700840e+10  0.395636    0.510413    11.065802\n",
       "..     ...           ...       ...         ...          ...\n",
       "493    XYL  2.047230e+10  0.194196    0.359985     6.898584\n",
       "495   ZBRA  1.468893e+10  0.111862    0.427071     6.853851\n",
       "496    ZBH  2.568942e+10  0.017178    0.370376     2.093498\n",
       "497   ZION  8.175192e+09  0.119896    0.459492     1.161731\n",
       "498    ZTS  7.447949e+10  0.109322    0.315721    19.853703\n",
       "\n",
       "[461 rows x 5 columns]"
      ]
     },
     "execution_count": 109,
     "metadata": {},
     "output_type": "execute_result"
    }
   ],
   "source": [
    "# Merge dataframes\n",
    "clusters3d_df = pd.merge(clusters_df, priceToBook_df)\n",
    "\n",
    "# Removes the rows that contains NULL values \n",
    "clusters3d_df.dropna(inplace=True)\n",
    "\n",
    "# Drop the column with the old clusterization\n",
    "clusters3d_df.drop(['Cluster'], axis=1, inplace=True)\n",
    "\n",
    "# Order columns\n",
    "clusters3d_df = clusters3d_df[['Ticker', 'marketCap', 'Returns', 'Volatility', 'priceToBook']]\n",
    "\n",
    "# Print Dataframe\n",
    "clusters3d_df"
   ]
  },
  {
   "cell_type": "code",
   "execution_count": 118,
   "metadata": {},
   "outputs": [
    {
     "data": {
      "image/png": "[encoded data removed]",
      "text/plain": [
       "<Figure size 1500x500 with 1 Axes>"
      ]
     },
     "metadata": {},
     "output_type": "display_data"
    }
   ],
   "source": [
    "# Format the data as a numpy array to feed into the K-Means algorithm\n",
    "data3d = np.asarray([np.asarray(clusters3d_df['Returns']), np.asarray(clusters3d_df['Volatility']), np.asarray(clusters3d_df['priceToBook'])]).T\n",
    "X = data3d\n",
    "\n",
    "#elbow method\n",
    "distorsions = []\n",
    "for i in range(1,20):\n",
    "    k_means = KMeans(n_clusters=i,init='k-means++', random_state=42)\n",
    "    k_means.fit(X)\n",
    "    distorsions.append(k_means.inertia_)\n",
    "    \n",
    "#plot elbow curve\n",
    "fig = plt.figure(figsize=(15, 5))\n",
    "\n",
    "plt.plot(np.arange(1,20),distorsions)\n",
    "plt.xlabel('Clusters')\n",
    "plt.ylabel('SSE')\n",
    "plt.title('Elbow curve')\n",
    "plt.grid(True)\n",
    "plt.show()"
   ]
  },
  {
   "cell_type": "markdown",
   "metadata": {},
   "source": [
    "The optimal number of clusters is 3"
   ]
  },
  {
   "cell_type": "code",
   "execution_count": 119,
   "metadata": {},
   "outputs": [
    {
     "name": "stdout",
     "output_type": "stream",
     "text": [
      "[0 0 0 0 0 0 0 0 0 2 0 0 0 0 0 0 0 0 0 0 0 0 0 0 0 0 0 0 0 0 0 0 0 0 0 0 2\n",
      " 0 0 0 0 2 0 0 0 0 0 0 0 0 2 0 0 0 0 0 0 0 0 0 0 0 0 0 0 0 0 0 0 0 0 0 0 0\n",
      " 0 0 0 0 0 0 0 0 0 0 0 0 0 0 0 0 0 0 0 0 0 0 0 0 0 0 0 0 0 0 0 0 0 0 0 0 0\n",
      " 0 0 1 0 0 0 0 0 0 0 0 0 0 0 0 0 0 0 0 0 0 0 0 0 0 2 0 0 0 0 0 0 0 0 0 0 0\n",
      " 0 0 0 0 0 0 0 0 0 0 0 0 0 2 0 0 0 0 0 0 0 0 0 0 0 0 0 0 0 0 0 0 0 0 0 0 0\n",
      " 0 0 0 0 0 0 0 0 0 0 0 0 0 0 0 0 0 0 0 0 0 0 0 0 0 0 0 0 0 0 0 0 0 0 0 1 0\n",
      " 0 0 0 0 0 0 0 0 2 0 0 0 0 0 0 0 0 0 0 0 0 0 0 2 0 0 0 0 0 0 0 0 0 0 0 2 0\n",
      " 0 0 0 0 0 0 0 0 0 0 0 0 0 0 0 0 0 0 0 0 0 0 2 0 0 2 0 0 0 0 0 0 0 0 0 0 0\n",
      " 0 0 0 0 0 0 0 0 0 0 0 0 0 0 0 0 0 0 0 0 0 0 0 0 0 0 0 0 0 0 0 0 0 0 0 0 0\n",
      " 0 0 0 0 0 0 0 0 0 0 0 0 0 0 0 0 0 0 0 0 0 0 0 0 0 0 0 0 0 0 0 0 0 0 0 0 0\n",
      " 0 0 0 0 0 0 0 0 0 2 0 0 0 0 0 0 0 0 0 0 0 0 0 0 0 0 0 0 2 0 0 0 0 0 0 0 0\n",
      " 0 0 0 0 0 0 0 0 0 0 0 0 0 0 0 0 0 0 0 0 0 0 0 0 0 0 0 0 0 0 0 0 0 0 0 0 0\n",
      " 2 0 0 0 0 0 0 0 0 0 0 0 0 0 0 0 0]\n"
     ]
    }
   ],
   "source": [
    "# Create clusters\n",
    "k_means_optimum = KMeans(n_clusters = 3, init = 'k-means++',  random_state=42)\n",
    "y = k_means_optimum.fit_predict(X)\n",
    "print(y)"
   ]
  },
  {
   "cell_type": "code",
   "execution_count": 123,
   "metadata": {},
   "outputs": [
    {
     "data": {
      "application/vnd.plotly.v1+json": {
       "config": {
        "plotlyServerURL": "https://plot.ly"
       },
       "data": [
        {
         "customdata": [
          [
           "MMM"
          ],
          [
           "AOS"
          ],
          [
           "ABT"
          ],
          [
           "ABBV"
          ],
          [
           "ABMD"
          ],
          [
           "ACN"
          ],
          [
           "ATVI"
          ],
          [
           "ADM"
          ],
          [
           "ADBE"
          ],
          [
           "ADP"
          ],
          [
           "AAP"
          ],
          [
           "AES"
          ],
          [
           "AFL"
          ],
          [
           "A"
          ],
          [
           "APD"
          ],
          [
           "AKAM"
          ],
          [
           "ALK"
          ],
          [
           "ALB"
          ],
          [
           "ARE"
          ],
          [
           "ALGN"
          ],
          [
           "ALLE"
          ],
          [
           "LNT"
          ],
          [
           "ALL"
          ],
          [
           "GOOGL"
          ],
          [
           "GOOG"
          ],
          [
           "AMZN"
          ],
          [
           "AMCR"
          ],
          [
           "AMD"
          ],
          [
           "AEE"
          ],
          [
           "AEP"
          ],
          [
           "AXP"
          ],
          [
           "AIG"
          ],
          [
           "AMT"
          ],
          [
           "AWK"
          ],
          [
           "AMP"
          ],
          [
           "AME"
          ],
          [
           "AMGN"
          ],
          [
           "APH"
          ],
          [
           "ADI"
          ],
          [
           "ANSS"
          ],
          [
           "APA"
          ],
          [
           "AAPL"
          ],
          [
           "AMAT"
          ],
          [
           "APTV"
          ],
          [
           "ACGL"
          ],
          [
           "ANET"
          ],
          [
           "AJG"
          ],
          [
           "AIZ"
          ],
          [
           "T"
          ],
          [
           "ATO"
          ],
          [
           "ADSK"
          ],
          [
           "AVB"
          ],
          [
           "AVY"
          ],
          [
           "BKR"
          ],
          [
           "BALL"
          ],
          [
           "BAC"
          ],
          [
           "BAX"
          ],
          [
           "BDX"
          ],
          [
           "WRB"
          ],
          [
           "BRK-B"
          ],
          [
           "BBY"
          ],
          [
           "BIO"
          ],
          [
           "TECH"
          ],
          [
           "BIIB"
          ],
          [
           "BLK"
          ],
          [
           "BK"
          ],
          [
           "BKNG"
          ],
          [
           "BWA"
          ],
          [
           "BXP"
          ],
          [
           "BSX"
          ],
          [
           "BMY"
          ],
          [
           "AVGO"
          ],
          [
           "BR"
          ],
          [
           "BRO"
          ],
          [
           "BF-B"
          ],
          [
           "CHRW"
          ],
          [
           "CDNS"
          ],
          [
           "CZR"
          ],
          [
           "CPT"
          ],
          [
           "CPB"
          ],
          [
           "COF"
          ],
          [
           "CAH"
          ],
          [
           "KMX"
          ],
          [
           "CCL"
          ],
          [
           "CARR"
          ],
          [
           "CTLT"
          ],
          [
           "CAT"
          ],
          [
           "CBOE"
          ],
          [
           "CBRE"
          ],
          [
           "CDW"
          ],
          [
           "CE"
          ],
          [
           "CNC"
          ],
          [
           "CNP"
          ],
          [
           "CDAY"
          ],
          [
           "CF"
          ],
          [
           "CRL"
          ],
          [
           "SCHW"
          ],
          [
           "CHTR"
          ],
          [
           "CVX"
          ],
          [
           "CMG"
          ],
          [
           "CB"
          ],
          [
           "CHD"
          ],
          [
           "CI"
          ],
          [
           "CINF"
          ],
          [
           "CTAS"
          ],
          [
           "CSCO"
          ],
          [
           "C"
          ],
          [
           "CFG"
          ],
          [
           "CLX"
          ],
          [
           "CME"
          ],
          [
           "CMS"
          ],
          [
           "KO"
          ],
          [
           "CTSH"
          ],
          [
           "CL"
          ],
          [
           "CMCSA"
          ],
          [
           "CMA"
          ],
          [
           "CAG"
          ],
          [
           "COP"
          ],
          [
           "ED"
          ],
          [
           "STZ"
          ],
          [
           "COO"
          ],
          [
           "CPRT"
          ],
          [
           "GLW"
          ],
          [
           "CTVA"
          ],
          [
           "CSGP"
          ],
          [
           "COST"
          ],
          [
           "CTRA"
          ],
          [
           "CCI"
          ],
          [
           "CSX"
          ],
          [
           "CMI"
          ],
          [
           "CVS"
          ],
          [
           "DHI"
          ],
          [
           "DHR"
          ],
          [
           "DRI"
          ],
          [
           "DVA"
          ],
          [
           "DE"
          ],
          [
           "DAL"
          ],
          [
           "XRAY"
          ],
          [
           "DVN"
          ],
          [
           "DXCM"
          ],
          [
           "FANG"
          ],
          [
           "DLR"
          ],
          [
           "DFS"
          ],
          [
           "DISH"
          ],
          [
           "DIS"
          ],
          [
           "DG"
          ],
          [
           "DLTR"
          ],
          [
           "D"
          ],
          [
           "DOV"
          ],
          [
           "DOW"
          ],
          [
           "DTE"
          ],
          [
           "DUK"
          ],
          [
           "DD"
          ],
          [
           "DXC"
          ],
          [
           "EMN"
          ],
          [
           "ETN"
          ],
          [
           "EBAY"
          ],
          [
           "ECL"
          ],
          [
           "EIX"
          ],
          [
           "EW"
          ],
          [
           "EA"
          ],
          [
           "LLY"
          ],
          [
           "EMR"
          ],
          [
           "ETR"
          ],
          [
           "EOG"
          ],
          [
           "EPAM"
          ],
          [
           "EQT"
          ],
          [
           "EFX"
          ],
          [
           "EQIX"
          ],
          [
           "EQR"
          ],
          [
           "ESS"
          ],
          [
           "EL"
          ],
          [
           "RE"
          ],
          [
           "EVRG"
          ],
          [
           "ES"
          ],
          [
           "EXC"
          ],
          [
           "EXPE"
          ],
          [
           "EXPD"
          ],
          [
           "EXR"
          ],
          [
           "XOM"
          ],
          [
           "FFIV"
          ],
          [
           "FDS"
          ],
          [
           "FAST"
          ],
          [
           "FRT"
          ],
          [
           "FDX"
          ],
          [
           "FITB"
          ],
          [
           "FRC"
          ],
          [
           "FE"
          ],
          [
           "FIS"
          ],
          [
           "FISV"
          ],
          [
           "FLT"
          ],
          [
           "FMC"
          ],
          [
           "F"
          ],
          [
           "FTV"
          ],
          [
           "FBHS"
          ],
          [
           "FOXA"
          ],
          [
           "FOX"
          ],
          [
           "BEN"
          ],
          [
           "FCX"
          ],
          [
           "GRMN"
          ],
          [
           "GEN"
          ],
          [
           "GNRC"
          ],
          [
           "GD"
          ],
          [
           "GE"
          ],
          [
           "GIS"
          ],
          [
           "GM"
          ],
          [
           "GPC"
          ],
          [
           "GILD"
          ],
          [
           "GL"
          ],
          [
           "GPN"
          ],
          [
           "GS"
          ],
          [
           "HAL"
          ],
          [
           "HIG"
          ],
          [
           "HAS"
          ],
          [
           "PEAK"
          ],
          [
           "HSIC"
          ],
          [
           "HSY"
          ],
          [
           "HES"
          ],
          [
           "HPE"
          ],
          [
           "HOLX"
          ],
          [
           "HD"
          ],
          [
           "HON"
          ],
          [
           "HRL"
          ],
          [
           "HST"
          ],
          [
           "HWM"
          ],
          [
           "HUM"
          ],
          [
           "HBAN"
          ],
          [
           "HII"
          ],
          [
           "IBM"
          ],
          [
           "IEX"
          ],
          [
           "IDXX"
          ],
          [
           "ITW"
          ],
          [
           "ILMN"
          ],
          [
           "INCY"
          ],
          [
           "IR"
          ],
          [
           "INTC"
          ],
          [
           "ICE"
          ],
          [
           "IP"
          ],
          [
           "IPG"
          ],
          [
           "IFF"
          ],
          [
           "INTU"
          ],
          [
           "ISRG"
          ],
          [
           "IVZ"
          ],
          [
           "INVH"
          ],
          [
           "IQV"
          ],
          [
           "IRM"
          ],
          [
           "JBHT"
          ],
          [
           "JKHY"
          ],
          [
           "J"
          ],
          [
           "JNJ"
          ],
          [
           "JCI"
          ],
          [
           "JPM"
          ],
          [
           "JNPR"
          ],
          [
           "K"
          ],
          [
           "KDP"
          ],
          [
           "KEY"
          ],
          [
           "KEYS"
          ],
          [
           "KMB"
          ],
          [
           "KIM"
          ],
          [
           "KMI"
          ],
          [
           "KLAC"
          ],
          [
           "KHC"
          ],
          [
           "KR"
          ],
          [
           "LHX"
          ],
          [
           "LH"
          ],
          [
           "LRCX"
          ],
          [
           "LW"
          ],
          [
           "LVS"
          ],
          [
           "LDOS"
          ],
          [
           "LEN"
          ],
          [
           "LNC"
          ],
          [
           "LIN"
          ],
          [
           "LKQ"
          ],
          [
           "LMT"
          ],
          [
           "L"
          ],
          [
           "LUMN"
          ],
          [
           "LYB"
          ],
          [
           "MTB"
          ],
          [
           "MRO"
          ],
          [
           "MPC"
          ],
          [
           "MKTX"
          ],
          [
           "MAR"
          ],
          [
           "MMC"
          ],
          [
           "MLM"
          ],
          [
           "MA"
          ],
          [
           "MKC"
          ],
          [
           "MDT"
          ],
          [
           "MRK"
          ],
          [
           "META"
          ],
          [
           "MET"
          ],
          [
           "MGM"
          ],
          [
           "MCHP"
          ],
          [
           "MU"
          ],
          [
           "MSFT"
          ],
          [
           "MAA"
          ],
          [
           "MHK"
          ],
          [
           "MOH"
          ],
          [
           "TAP"
          ],
          [
           "MDLZ"
          ],
          [
           "MPWR"
          ],
          [
           "MNST"
          ],
          [
           "MCO"
          ],
          [
           "MS"
          ],
          [
           "MOS"
          ],
          [
           "NDAQ"
          ],
          [
           "NTAP"
          ],
          [
           "NFLX"
          ],
          [
           "NWL"
          ],
          [
           "NEM"
          ],
          [
           "NWSA"
          ],
          [
           "NWS"
          ],
          [
           "NEE"
          ],
          [
           "NKE"
          ],
          [
           "NI"
          ],
          [
           "NDSN"
          ],
          [
           "NSC"
          ],
          [
           "NTRS"
          ],
          [
           "NOC"
          ],
          [
           "NCLH"
          ],
          [
           "NRG"
          ],
          [
           "NUE"
          ],
          [
           "NVDA"
          ],
          [
           "NVR"
          ],
          [
           "NXPI"
          ],
          [
           "OXY"
          ],
          [
           "ODFL"
          ],
          [
           "OMC"
          ],
          [
           "ON"
          ],
          [
           "OKE"
          ],
          [
           "PCAR"
          ],
          [
           "PKG"
          ],
          [
           "PARA"
          ],
          [
           "PH"
          ],
          [
           "PAYX"
          ],
          [
           "PAYC"
          ],
          [
           "PYPL"
          ],
          [
           "PNR"
          ],
          [
           "PEP"
          ],
          [
           "PKI"
          ],
          [
           "PFE"
          ],
          [
           "PCG"
          ],
          [
           "PSX"
          ],
          [
           "PNW"
          ],
          [
           "PXD"
          ],
          [
           "PNC"
          ],
          [
           "POOL"
          ],
          [
           "PPG"
          ],
          [
           "PPL"
          ],
          [
           "PFG"
          ],
          [
           "PG"
          ],
          [
           "PGR"
          ],
          [
           "PLD"
          ],
          [
           "PRU"
          ],
          [
           "PEG"
          ],
          [
           "PTC"
          ],
          [
           "PSA"
          ],
          [
           "PHM"
          ],
          [
           "QRVO"
          ],
          [
           "PWR"
          ],
          [
           "QCOM"
          ],
          [
           "DGX"
          ],
          [
           "RL"
          ],
          [
           "RJF"
          ],
          [
           "RTX"
          ],
          [
           "O"
          ],
          [
           "REG"
          ],
          [
           "REGN"
          ],
          [
           "RF"
          ],
          [
           "RSG"
          ],
          [
           "RMD"
          ],
          [
           "RHI"
          ],
          [
           "ROK"
          ],
          [
           "ROL"
          ],
          [
           "ROP"
          ],
          [
           "ROST"
          ],
          [
           "RCL"
          ],
          [
           "SPGI"
          ],
          [
           "CRM"
          ],
          [
           "SLB"
          ],
          [
           "SEE"
          ],
          [
           "SRE"
          ],
          [
           "NOW"
          ],
          [
           "SHW"
          ],
          [
           "SBNY"
          ],
          [
           "SPG"
          ],
          [
           "SWKS"
          ],
          [
           "SJM"
          ],
          [
           "SNA"
          ],
          [
           "SEDG"
          ],
          [
           "SO"
          ],
          [
           "LUV"
          ],
          [
           "SWK"
          ],
          [
           "STT"
          ],
          [
           "STE"
          ],
          [
           "SYK"
          ],
          [
           "SIVB"
          ],
          [
           "SYF"
          ],
          [
           "SNPS"
          ],
          [
           "SYY"
          ],
          [
           "TMUS"
          ],
          [
           "TROW"
          ],
          [
           "TTWO"
          ],
          [
           "TPR"
          ],
          [
           "TRGP"
          ],
          [
           "TGT"
          ],
          [
           "TEL"
          ],
          [
           "TDY"
          ],
          [
           "TFX"
          ],
          [
           "TER"
          ],
          [
           "TXN"
          ],
          [
           "TXT"
          ],
          [
           "TMO"
          ],
          [
           "TJX"
          ],
          [
           "TSCO"
          ],
          [
           "TT"
          ],
          [
           "TRV"
          ],
          [
           "TRMB"
          ],
          [
           "TFC"
          ],
          [
           "TYL"
          ],
          [
           "TSN"
          ],
          [
           "USB"
          ],
          [
           "UDR"
          ],
          [
           "ULTA"
          ],
          [
           "UNP"
          ],
          [
           "UAL"
          ],
          [
           "UPS"
          ],
          [
           "URI"
          ],
          [
           "UNH"
          ],
          [
           "UHS"
          ],
          [
           "VLO"
          ],
          [
           "VTR"
          ],
          [
           "VRSK"
          ],
          [
           "VZ"
          ],
          [
           "VRTX"
          ],
          [
           "VFC"
          ],
          [
           "VTRS"
          ],
          [
           "VICI"
          ],
          [
           "V"
          ],
          [
           "VNO"
          ],
          [
           "VMC"
          ],
          [
           "WAB"
          ],
          [
           "WBA"
          ],
          [
           "WMT"
          ],
          [
           "WM"
          ],
          [
           "WAT"
          ],
          [
           "WEC"
          ],
          [
           "WFC"
          ],
          [
           "WELL"
          ],
          [
           "WST"
          ],
          [
           "WDC"
          ],
          [
           "WRK"
          ],
          [
           "WY"
          ],
          [
           "WHR"
          ],
          [
           "WMB"
          ],
          [
           "GWW"
          ],
          [
           "XEL"
          ],
          [
           "XYL"
          ],
          [
           "ZBRA"
          ],
          [
           "ZBH"
          ],
          [
           "ZION"
          ],
          [
           "ZTS"
          ]
         ],
         "hovertemplate": "Returns=%{x}<br>Volatility=%{y}<br>priceToBook=%{z}<br>Ticker=%{customdata[0]}<br>cluster=%{marker.color}<extra></extra>",
         "legendgroup": "",
         "marker": {
          "color": [
           0,
           0,
           0,
           0,
           0,
           0,
           0,
           0,
           0,
           2,
           0,
           0,
           0,
           0,
           0,
           0,
           0,
           0,
           0,
           0,
           0,
           0,
           0,
           0,
           0,
           0,
           0,
           0,
           0,
           0,
           0,
           0,
           0,
           0,
           0,
           0,
           2,
           0,
           0,
           0,
           0,
           2,
           0,
           0,
           0,
           0,
           0,
           0,
           0,
           0,
           2,
           0,
           0,
           0,
           0,
           0,
           0,
           0,
           0,
           0,
           0,
           0,
           0,
           0,
           0,
           0,
           0,
           0,
           0,
           0,
           0,
           0,
           0,
           0,
           0,
           0,
           0,
           0,
           0,
           0,
           0,
           0,
           0,
           0,
           0,
           0,
           0,
           0,
           0,
           0,
           0,
           0,
           0,
           0,
           0,
           0,
           0,
           0,
           0,
           0,
           0,
           0,
           0,
           0,
           0,
           0,
           0,
           0,
           0,
           0,
           0,
           0,
           0,
           1,
           0,
           0,
           0,
           0,
           0,
           0,
           0,
           0,
           0,
           0,
           0,
           0,
           0,
           0,
           0,
           0,
           0,
           0,
           0,
           0,
           0,
           0,
           2,
           0,
           0,
           0,
           0,
           0,
           0,
           0,
           0,
           0,
           0,
           0,
           0,
           0,
           0,
           0,
           0,
           0,
           0,
           0,
           0,
           0,
           0,
           0,
           0,
           2,
           0,
           0,
           0,
           0,
           0,
           0,
           0,
           0,
           0,
           0,
           0,
           0,
           0,
           0,
           0,
           0,
           0,
           0,
           0,
           0,
           0,
           0,
           0,
           0,
           0,
           0,
           0,
           0,
           0,
           0,
           0,
           0,
           0,
           0,
           0,
           0,
           0,
           0,
           0,
           0,
           0,
           0,
           0,
           0,
           0,
           0,
           0,
           0,
           0,
           0,
           0,
           0,
           0,
           0,
           0,
           0,
           0,
           0,
           1,
           0,
           0,
           0,
           0,
           0,
           0,
           0,
           0,
           0,
           2,
           0,
           0,
           0,
           0,
           0,
           0,
           0,
           0,
           0,
           0,
           0,
           0,
           0,
           0,
           2,
           0,
           0,
           0,
           0,
           0,
           0,
           0,
           0,
           0,
           0,
           0,
           2,
           0,
           0,
           0,
           0,
           0,
           0,
           0,
           0,
           0,
           0,
           0,
           0,
           0,
           0,
           0,
           0,
           0,
           0,
           0,
           0,
           0,
           0,
           0,
           2,
           0,
           0,
           2,
           0,
           0,
           0,
           0,
           0,
           0,
           0,
           0,
           0,
           0,
           0,
           0,
           0,
           0,
           0,
           0,
           0,
           0,
           0,
           0,
           0,
           0,
           0,
           0,
           0,
           0,
           0,
           0,
           0,
           0,
           0,
           0,
           0,
           0,
           0,
           0,
           0,
           0,
           0,
           0,
           0,
           0,
           0,
           0,
           0,
           0,
           0,
           0,
           0,
           0,
           0,
           0,
           0,
           0,
           0,
           0,
           0,
           0,
           0,
           0,
           0,
           0,
           0,
           0,
           0,
           0,
           0,
           0,
           0,
           0,
           0,
           0,
           0,
           0,
           0,
           0,
           0,
           0,
           0,
           0,
           0,
           0,
           0,
           0,
           0,
           0,
           0,
           0,
           0,
           0,
           0,
           0,
           0,
           0,
           2,
           0,
           0,
           0,
           0,
           0,
           0,
           0,
           0,
           0,
           0,
           0,
           0,
           0,
           0,
           0,
           0,
           0,
           0,
           2,
           0,
           0,
           0,
           0,
           0,
           0,
           0,
           0,
           0,
           0,
           0,
           0,
           0,
           0,
           0,
           0,
           0,
           0,
           0,
           0,
           0,
           0,
           0,
           0,
           0,
           0,
           0,
           0,
           0,
           0,
           0,
           0,
           0,
           0,
           0,
           0,
           0,
           0,
           0,
           0,
           0,
           0,
           0,
           0,
           0,
           2,
           0,
           0,
           0,
           0,
           0,
           0,
           0,
           0,
           0,
           0,
           0,
           0,
           0,
           0,
           0,
           0
          ],
          "coloraxis": "coloraxis",
          "symbol": "circle"
         },
         "mode": "markers",
         "name": "",
         "scene": "scene",
         "showlegend": false,
         "type": "scatter3d",
         "x": [
          -0.03999484658952257,
          0.15357333359319025,
          0.13639500665522597,
          0.29040090573078253,
          0.3956361600980072,
          0.18965785630794085,
          0.1499084437138286,
          0.31265838160069864,
          0.09546337136216855,
          0.23038879790619016,
          0.07558209439654062,
          0.24647677647424068,
          0.20426223270104238,
          0.26049680160038696,
          0.18528887147274606,
          0.07399256539363333,
          0.03292112951806728,
          0.6261134794621396,
          0.06254037867436808,
          0.04693597986618878,
          0.042605299305867775,
          0.07858952100650453,
          0.13063501377305606,
          0.19134992977033252,
          0.19245350820936308,
          0.07383561737654522,
          0.1558850073140183,
          0.30039437621854,
          0.11974088787660842,
          0.07956749787862166,
          0.19137534896620173,
          0.21531693402396332,
          0.06202278486230207,
          0.1511148462539825,
          0.36363612014165,
          0.18246493701131095,
          0.12915023402904846,
          0.1932483039128156,
          0.21226843399540504,
          0.0776523977997553,
          0.6220082066468647,
          0.30754086052206053,
          0.33011273728977475,
          0.18282825337133138,
          0.1925310407637213,
          0.42224949206086815,
          0.3157808051360805,
          0.07174111336807,
          -0.020808008974844798,
          0.08896025519807527,
          0.12491531006861747,
          0.03172456721519359,
          0.21912187914398218,
          0.22459517948567165,
          0.02729898895739126,
          0.11433311571974117,
          -0.10480723180136102,
          0.03309549292234874,
          0.24551917738983375,
          0.1444567730299567,
          0.1252366526223526,
          0.10806763736973211,
          0.22373671990786287,
          0.15638605171094436,
          0.20829581074837666,
          0.058328098777580904,
          0.09640057787724741,
          0.0935841450961883,
          -0.10080464208062868,
          0.06506714194059013,
          0.1411294599985557,
          0.2930154319829227,
          0.12292799723757401,
          0.19623815274109066,
          0.09503546889097461,
          0.14616704017949259,
          0.3844801199429556,
          0.3581989367001171,
          0.12886024490764128,
          0.10417262958038673,
          0.13433478753558692,
          0.25823095688797254,
          0.03816697989426948,
          -0.15435251175535528,
          0.5894340822015729,
          0.08529618553684766,
          0.24375262133748515,
          0.07932923589754665,
          0.18541808791376038,
          0.175699737239608,
          0.07450184450700051,
          0.19418434248503258,
          0.14948773250294228,
          0.13688751437741592,
          0.4267855256213272,
          0.21700321165166345,
          0.2831949103865747,
          -0.022170552190691653,
          0.2778955499258994,
          0.2958873895337328,
          0.19406725978429043,
          0.10393454282587107,
          0.24275192081429126,
          0.12747788744102312,
          0.2616878887473175,
          0.08942189955122692,
          -0.05148146797247293,
          0.1823069172580779,
          0.05927480201341065,
          0.025417829817953153,
          0.05461334953012187,
          0.11701521698072985,
          0.07743709539254928,
          0.09249219277677921,
          -0.01877249516636303,
          0.16925491086779954,
          0.10329285352838591,
          0.3827894585020462,
          0.1033103393685033,
          0.17490708723500326,
          0.053544457955442534,
          0.18636998841174673,
          0.13645495453767348,
          0.3730309633376012,
          0.18106515689053443,
          0.23475204722771853,
          0.2650447829061593,
          0.07036798890068205,
          0.15752455695841897,
          0.18781134176620562,
          0.1783252480364649,
          0.28899905153251704,
          0.2463617867504137,
          0.2553578664872705,
          0.07429648016358943,
          0.39803193145713495,
          0.0010866036595350726,
          -0.12174024987422376,
          0.6313696805360527,
          0.38818568347437854,
          0.4503879711318029,
          0.05926055637759011,
          0.25951071270461884,
          -0.12662853037441144,
          -0.06331826313569755,
          0.19964350375089768,
          0.2521386362765216,
          -0.025610149222927356,
          0.1394315390287763,
          0.12211196530337076,
          0.09262894328043313,
          0.10600247350102937,
          0.13301430241349493,
          0.14860263127518808,
          0.13849900708196566,
          0.26599272411102076,
          0.14956641024516973,
          -0.005145066763604736,
          0.04118035558275253,
          0.06571476135104315,
          0.11742457883914681,
          0.42942608828088313,
          0.16673736087880336,
          0.07642304289566561,
          0.3707599365946676,
          0.3903819320842827,
          0.6912562235797928,
          0.19371060742486837,
          0.12821322502762542,
          0.013013692628486697,
          -0.021768172090036425,
          0.1258363182442726,
          0.14578695007159795,
          0.05239330309701489,
          0.0746217752456591,
          0.16899279508705328,
          0.1355257774823402,
          0.18123354895015475,
          0.22906493450733617,
          0.28355637411064244,
          0.09491369897104637,
          0.2545812203845937,
          0.17425166683538337,
          0.08276432507237762,
          0.1529762162164299,
          0.19823093234610822,
          0.10676084341317557,
          0.052175707604922475,
          -0.12550208957047534,
          0.032879036202058606,
          -0.05469536394644184,
          0.18732269314396008,
          0.2635286148613832,
          0.07893947629760742,
          0.09318791435246618,
          0.04121107600371208,
          0.020879943850696664,
          0.14772139130738307,
          0.5654285665250829,
          0.046701922807983354,
          0.06326581573881983,
          0.15837287098927658,
          0.18644321796626695,
          0.07422435189709804,
          0.22993546916899218,
          0.1473870062236988,
          0.28301476325941527,
          0.1680590425141573,
          0.12157594783981461,
          -0.10256724496492406,
          0.2538786142619954,
          0.39775399475917256,
          0.19312374673884916,
          -0.07639458177561152,
          0.026125766766483545,
          0.12975549053841584,
          0.21851764272261154,
          0.4472231260323461,
          0.12242315861195319,
          0.1948449507317495,
          0.20890776526377322,
          0.13269754958732136,
          0.07083661859357396,
          0.13511922305298218,
          0.21383923939103966,
          0.21508403113212723,
          0.14693506263246717,
          0.05364712288668583,
          0.13419657487901027,
          0.16606281034540163,
          0.24265609192865167,
          0.14085916914894211,
          -0.031123937118483044,
          0.04733188761115473,
          0.22541111293797939,
          -0.14556537555632496,
          0.10778746715560382,
          0.05440216508683106,
          0.2571173248291273,
          0.019901953312832246,
          0.240320621471776,
          0.18805768488260494,
          0.20461949102127283,
          0.11102374318302884,
          0.1858696479444945,
          0.32287797903787374,
          0.21561749440793027,
          0.14486532274017094,
          0.1727512869061105,
          0.11366868127012467,
          0.24265339331128397,
          0.0810353580124188,
          0.1712074237754625,
          0.0892544668372542,
          0.1537434460450637,
          0.13882468734398584,
          0.2489357648657327,
          0.05953519353525346,
          0.2039628966068054,
          0.09412560797995423,
          0.39634833322931695,
          0.15460787683536256,
          0.24180410535465174,
          0.10600355438049251,
          0.19433020960172964,
          0.30103300010392303,
          0.11529580529908527,
          0.015568487294475871,
          0.10338728964248332,
          0.29800447608527547,
          0.11818131531641805,
          0.2185746670355687,
          0.2524686689529543,
          0.14324466669246638,
          0.10958806614831801,
          -0.1265938138557777,
          0.1223873756286982,
          0.1277998500831147,
          0.5401470882249879,
          0.41686244983823995,
          -0.022065519962817953,
          0.1468935409255548,
          0.20111074910080926,
          0.18459122100146044,
          0.13423880810453728,
          0.061628489291653425,
          -0.06198308829526428,
          0.1336010819193384,
          -0.05804004112093744,
          0.2510138240682247,
          0.2598725290939911,
          0.2612558228527735,
          0.11709709351803221,
          0.22457896829187246,
          0.1610720530458549,
          0.05524297600951582,
          0.3940141986907679,
          0.087329003597018,
          0.12078731661591394,
          0.41731309501497915,
          0.21217672029417983,
          0.15168985027976012,
          0.3247384754604183,
          0.48079605417888294,
          0.2956878750026755,
          0.11833853140538649,
          0.1321271094268153,
          -0.0071485472507261255,
          0.1319383742616845,
          0.17892091593354753,
          0.17861964588823306,
          0.1914456148889193,
          0.10745288069230982,
          0.08181205127726454,
          0.19819025951463895,
          0.16199441387976216,
          0.03905095477803244,
          0.20941675272318608,
          0.014022524640759648,
          0.12888346363068673,
          0.47939105025040196,
          0.5115752894958095,
          0.17341114297747978,
          0.2265786759470174,
          0.5056006860811443,
          0.36605778585253884,
          0.0905505216614766,
          0.56738065899886,
          0.22249194544300455,
          0.15222683292213274,
          0.15298429876945654,
          -0.04688285936810886,
          0.22079026052349823,
          0.21163209041973527,
          0.21867592875328543,
          -0.005440058523890814,
          0.08208609111847383,
          0.15507868973728225,
          0.18043538940337273,
          0.18276114966231458,
          0.25937532112439576,
          0.1496598130236732,
          0.04113200161468075,
          0.3455890201981254,
          0.11620207390922366,
          0.23555438478925783,
          0.08977051234908533,
          0.023875033185988596,
          0.2987403246557873,
          0.1165512783389629,
          0.2741168407099374,
          0.17381776460825601,
          0.18827926246476948,
          0.07992168183687567,
          0.2577247290309265,
          0.18017395032527087,
          0.1831488293266168,
          0.05503708568005538,
          0.5365579528699498,
          0.23450021458729053,
          0.18358890975987327,
          0.12170153712157741,
          0.3334916819460812,
          0.11254299071934747,
          0.07056937220343439,
          0.15255531096134,
          0.3077763032688832,
          0.2547529033246248,
          0.19940071651956376,
          0.21225899801895415,
          0.15807492869074366,
          0.17343258661231503,
          0.2638050511550289,
          0.11715936175256514,
          0.11668089294003646,
          0.06778346926274141,
          0.15475462073442997,
          0.04754815698648583,
          0.28604122261168835,
          0.19875651366598665,
          0.11495506657516256,
          0.2347254789657944,
          0.16814183298377539,
          0.1662828162111611,
          0.15212446552921519,
          0.025191329524628263,
          0.20028194923848652,
          0.2102016463057546,
          0.648550638860842,
          0.10547088018156714,
          -0.0016047276474134907,
          -0.12745113665362848,
          0.10840126136560638,
          0.13819930993255683,
          0.12184278200424105,
          0.12105138823388821,
          0.161728908248672,
          0.38193095549804656,
          0.13019286992885437,
          0.2791595335248847,
          0.10142644733059851,
          0.038007255335614956,
          0.31762343658685893,
          0.5394326418596709,
          0.17442917524890095,
          0.1711186010241447,
          0.13142802903976683,
          -0.08146745643675729,
          0.22573328809062707,
          0.1843431424585188,
          0.26567401894538295,
          0.23863541252191134,
          0.17270308082880545,
          0.3673673075843606,
          0.25656940444398474,
          0.18486892481505462,
          0.22172635792423062,
          0.05585055612877645,
          0.10068926066714745,
          -0.026238769259045232,
          0.020795178533818324,
          0.05053673509298795,
          0.32305426453317143,
          0.12041347489494739,
          0.023365548459805197,
          0.24103712887312576,
          0.38548361664888114,
          0.2738088408615492,
          0.08263646525040881,
          0.3079274023485071,
          0.11704685014931014,
          0.12027191028499616,
          -0.10456780458589071,
          0.19593402123121265,
          -0.2589248012658629,
          -0.12187486690047251,
          0.23270772123886418,
          0.10605250207840891,
          -0.1719888043774051,
          0.17553575907679025,
          0.17036159289497133,
          -0.03125748594865573,
          0.13130947521997047,
          0.18071090872300946,
          0.18924101586819553,
          0.08869657553200781,
          0.06892232749361994,
          0.10994859259907397,
          0.23100241371543678,
          -0.05711362057680086,
          0.08592456589483498,
          0.17590990027575631,
          0.12176960451814453,
          0.27999410551875853,
          0.25621540403043574,
          0.0901219782175811,
          0.1941962597644178,
          0.11186155594368102,
          0.017177648892020496,
          0.1198956120273656,
          0.10932180499949522
         ],
         "y": [
          0.28959705903905025,
          0.32967120758626334,
          0.30204059286912793,
          0.2685037367723534,
          0.5104126525635765,
          0.3274817395383535,
          0.3397750334075733,
          0.3191447889099624,
          0.4186629596988279,
          0.32532904882921826,
          0.37847446247081074,
          0.43182511298100806,
          0.38484567311947127,
          0.3187345774422123,
          0.32838718972754455,
          0.3175446821657041,
          0.5645866255399414,
          0.5416348992841709,
          0.32042767531920197,
          0.5877663977732936,
          0.3505111238249276,
          0.2872529820414705,
          0.3277683964630941,
          0.34624891394566026,
          0.34466890540557016,
          0.39175332698881865,
          0.3408176895161305,
          0.5584425133332968,
          0.30067476810543986,
          0.2788351931606085,
          0.4579278197652981,
          0.4882273786252383,
          0.3366127031849875,
          0.31888166656230243,
          0.47702784081175825,
          0.32363996143434115,
          0.2818733584984675,
          0.31646866275083935,
          0.39423350833437515,
          0.4042999981612365,
          0.8558297970594878,
          0.37054936309753334,
          0.5178107779228662,
          0.5511770297861325,
          0.39432899230378715,
          0.4270064783719373,
          0.30186436303531905,
          0.35077363372467035,
          0.28410890108577014,
          0.3010569491683124,
          0.45024105871961967,
          0.35206775949565716,
          0.3696136209887893,
          0.5330370256687746,
          0.35649816079034613,
          0.41755185541786394,
          0.2971375915991204,
          0.27604235505991775,
          0.342694103162647,
          0.25745561507199066,
          0.4444236870014558,
          0.36695683984257244,
          0.37818069540382704,
          0.576934236443241,
          0.3754183497107967,
          0.36890273556605063,
          0.43634963385920555,
          0.414851800900244,
          0.4102886027797101,
          0.33194849981538077,
          0.23320907653628759,
          0.40390518943457887,
          0.29540911903805034,
          0.31292883836547114,
          0.295660302543996,
          0.305468054415145,
          0.406762280944343,
          0.8991475594784536,
          0.33236471710683324,
          0.2634500598786925,
          0.5213795318998703,
          0.34604471772312345,
          0.49295301080897164,
          0.8872134506285072,
          0.4354546100405346,
          0.4694611045984723,
          0.3581018891270811,
          0.3305029745826299,
          0.4440633471012523,
          0.3699504871962809,
          0.41843247800742966,
          0.4068918091696972,
          0.38886305681295025,
          0.5251332032281729,
          0.4938302447455461,
          0.4237732178240814,
          0.41602843665053224,
          0.32757658674312057,
          0.42837513456020543,
          0.40612985689181197,
          0.341182661751202,
          0.25853057261415474,
          0.3787623041066441,
          0.4202754242992251,
          0.3676238480317196,
          0.31831766487111895,
          0.46334253649572826,
          0.5264960834356838,
          0.2997167358210186,
          0.3355710436890152,
          0.28284694069087796,
          0.2484601202024468,
          0.3671165775741567,
          0.2361959546586931,
          0.31478345832086224,
          0.5304972359850048,
          0.27042657625956246,
          0.5321882607150792,
          0.28928681493186603,
          0.32111524337313113,
          0.3294678333101805,
          0.35310574524117383,
          0.3802360460428385,
          0.3732929819481135,
          0.40054773168479146,
          0.27215567967691573,
          0.4660450770547278,
          0.32664844947652627,
          0.33905869860708304,
          0.33257664760789546,
          0.30296294015936026,
          0.46963699567445333,
          0.30946576608280807,
          0.5531264085429318,
          0.3879774300096481,
          0.37815127406610377,
          0.5817796510511937,
          0.3855703397051806,
          0.7134171458128237,
          0.501762044726387,
          0.7323829015306661,
          0.3448330191111334,
          0.5767128419600095,
          0.5591934203011787,
          0.38365498236440787,
          0.289504756307547,
          0.42295967252793315,
          0.31494989048563815,
          0.3372283676029817,
          0.43556855759044266,
          0.3208284162773139,
          0.2883362094932288,
          0.39364135608324563,
          0.6779529884551954,
          0.39779525993661624,
          0.3650152181176959,
          0.3669330458907838,
          0.3669875130401534,
          0.3289945342319975,
          0.37274404825368856,
          0.29884215651732277,
          0.34721048426332457,
          0.37418167543676795,
          0.32947519167756517,
          0.5701561715225524,
          0.6200390542663049,
          0.6794508628492484,
          0.37216074174682207,
          0.3458436737688836,
          0.3553598991269606,
          0.3559304448031362,
          0.3732896140223188,
          0.36260593393661344,
          0.3342943069581518,
          0.3202727535036978,
          0.3404361932817904,
          0.5624958045094941,
          0.2909860097588738,
          0.3337649511058077,
          0.40764538261426025,
          0.3576762435388068,
          0.33336123955945157,
          0.3053508469541503,
          0.45162911351016904,
          0.42272066158243954,
          0.5116607266814516,
          0.39742886170674496,
          0.35695079758167375,
          0.40335287148140486,
          0.35670767147359506,
          0.40323311576580645,
          0.3807780153854047,
          0.49646949835733467,
          0.3421563701798041,
          0.4375539843601758,
          0.3966044451524483,
          0.38345035857393744,
          0.4382417572284971,
          0.6016531915325541,
          0.3124161548255607,
          0.40954988647085416,
          0.5677660377315338,
          0.29078449896860764,
          0.4592195329811558,
          0.247252724827393,
          0.49147751399720413,
          0.3595951197553992,
          0.28629662493337366,
          0.3686896975451357,
          0.4368015690599806,
          0.37901826293700974,
          0.6676516029366113,
          0.44480829020111423,
          0.397716357375763,
          0.3951519072118745,
          0.33436514359143255,
          0.26331489952369086,
          0.5885490202509693,
          0.4129695484189332,
          0.3522569422179096,
          0.3333732016317758,
          0.32076486796027986,
          0.24610208853738838,
          0.5012187145717171,
          0.5298447994295613,
          0.3743366717037666,
          0.4680235984041307,
          0.335503459691487,
          0.3056934644306279,
          0.2944083355385746,
          0.38132072947724177,
          0.307064967322202,
          0.46146038448696913,
          0.34316491412684974,
          0.39264858729324714,
          0.42403572506539877,
          0.2933874927957227,
          0.37518107921769084,
          0.4246617438756971,
          0.34795967115600945,
          0.42569251830545457,
          0.40182842037555766,
          0.5465162729349332,
          0.35184114193288074,
          0.3805202128683433,
          0.3745281672494258,
          0.345157413677558,
          0.30194628768978793,
          0.33185979472450644,
          0.22020759292726355,
          0.3359187839190254,
          0.3829966808529445,
          0.3150020257502494,
          0.25002404224800695,
          0.2741991619574313,
          0.5208151448469831,
          0.34895247377626526,
          0.2431576467896093,
          0.5091318494341637,
          0.3903514844938182,
          0.508932658808625,
          0.31919627011479024,
          0.3248549706149561,
          0.3193446165394414,
          0.3686853926099353,
          0.5416473647539369,
          0.4218923385868994,
          0.5335600850537534,
          0.3290307630114408,
          0.5157300935542393,
          0.680115745011727,
          0.3058376566304337,
          0.4579498805057989,
          0.3077814424715791,
          0.3892427237678519,
          0.5050398627643041,
          0.4908402063048149,
          0.46426454348207624,
          0.7072629851265821,
          0.561703035784915,
          0.3960264309003271,
          0.48152658383818914,
          0.2764338055971613,
          0.4066740231422853,
          0.37967002167239644,
          0.2852056863374068,
          0.3070679103961487,
          0.2581605888208665,
          0.48814769240454253,
          0.4107856834769829,
          0.6655001865746746,
          0.49721111923052314,
          0.49181374097056213,
          0.3494219089754852,
          0.3299356664480675,
          0.5467459787199883,
          0.39977402942425094,
          0.3614408332096533,
          0.24963093027602068,
          0.5561283445218713,
          0.29772225517967,
          0.37385212142257296,
          0.4142181872904633,
          0.6085274718921143,
          0.31237987128483685,
          0.40063876937896714,
          0.5198558396271915,
          0.44606022135813145,
          0.3822607451116809,
          0.38971137799379946,
          0.3962506541030043,
          0.3282031704983812,
          0.373969644055397,
          0.31756544035547724,
          0.35569359847637194,
          0.34958778852929845,
          0.3949384196971125,
          0.3158431432823721,
          0.9424576095341491,
          0.40256169958363935,
          0.4632306818207661,
          0.5595932970626933,
          0.43822238952271253,
          0.49388954579248234,
          0.7909048448096266,
          0.37227301313672795,
          0.3709886210202493,
          0.6328740673933057,
          0.6080630889779078,
          0.2975475031375927,
          0.3394050284866415,
          0.6294501778553021,
          0.4222326944719971,
          0.3428795420410864,
          0.5341273277180257,
          0.506404957370032,
          0.37047644240988437,
          0.2562521590491976,
          0.3502974067697403,
          0.300514829442278,
          0.5155656368764665,
          0.5102464941594619,
          0.32304928973015906,
          0.5586299485094783,
          0.4078585673455433,
          0.4025329045836985,
          0.3534139135137862,
          0.320139007623273,
          0.45423744187175247,
          0.2437437996266902,
          0.2878436596835115,
          0.35170027049783203,
          0.45444383581836667,
          0.29482124794240544,
          0.413399430136954,
          0.29119290932944186,
          0.5022875681393177,
          0.48022038283279034,
          0.4094457604259664,
          0.4551547753517258,
          0.30779672585677065,
          0.4934470692641039,
          0.41551305333149074,
          0.39194182010018624,
          0.37861477552068223,
          0.4659441180496921,
          0.35316377438912405,
          0.4973522786884165,
          0.2608317638680701,
          0.3711356059911247,
          0.39256470682153816,
          0.3802568832645546,
          0.32036252865388465,
          0.3031341733853484,
          0.46126182892822604,
          0.8199438061329942,
          0.34625306901863095,
          0.44283181703990254,
          0.5859211105842362,
          0.3985908420766216,
          0.32754649826838067,
          0.48101951754212074,
          0.34039710934758693,
          0.5648352838393759,
          0.5983391157434031,
          0.4618135507314052,
          0.2658262907424561,
          0.35483267394918805,
          0.7334536354235611,
          0.31266968766350217,
          0.4631968968758634,
          0.46065647027339107,
          0.450169078276927,
          0.31899397768615945,
          0.35940647179816515,
          0.5668843629085712,
          0.5424969123447616,
          0.3922752867116007,
          0.4652802403661985,
          0.3242504423073856,
          0.3995729593332919,
          0.3922062182172279,
          0.5999182061347255,
          0.7387539555345007,
          0.37099501181500216,
          0.36579285186032806,
          0.37109793826958065,
          0.3690415336170431,
          0.4992824838031268,
          0.34813562291252703,
          0.4698408483390573,
          0.3177368151771417,
          0.38665275588048986,
          0.34186592642928554,
          0.3434304561697839,
          0.3365423340949629,
          0.4307347873850269,
          0.46029061334766813,
          0.3537664310786524,
          0.3515139650697851,
          0.41065865872510227,
          0.35988695570663953,
          0.474473890430349,
          0.3115677303010259,
          0.7295647385759083,
          0.3324931220280899,
          0.5083663802086059,
          0.3337672782930947,
          0.4733970549262047,
          0.5778386799496259,
          0.5450270136723222,
          0.3058186430639626,
          0.21079768638557403,
          0.3583227697257952,
          0.44950409653078655,
          0.41046769954027973,
          0.4239902934440893,
          0.33760408201267794,
          0.5002646851732877,
          0.3917645880392154,
          0.4028771540110398,
          0.3710523484440282,
          0.25903076677923903,
          0.2559473594430556,
          0.3343848417769083,
          0.3043075761497729,
          0.45379450366992974,
          0.49219411084676223,
          0.36273152998950003,
          0.5438830949039303,
          0.4777345601641574,
          0.4700017836421764,
          0.45860081382895596,
          0.43067566746263847,
          0.32457489594003675,
          0.2863509386477756,
          0.3599854472224598,
          0.4270707852293673,
          0.3703755799063696,
          0.4594915952834818,
          0.315720776319138
         ],
         "z": [
          4.9852786,
          5.277972,
          5.2827325,
          18.095976,
          11.065802,
          8.569267,
          3.1522012,
          2.098147,
          11.096923,
          43.49718,
          3.337186,
          7.448688,
          1.8686228,
          8.682581,
          5.3745146,
          3.4979303,
          1.5481519,
          4.9464087,
          1.4153181,
          4.1947145,
          12.713143,
          2.1956887,
          2.2165194,
          5.136808,
          5.1567535,
          6.9819016,
          4.738438,
          2.2160487,
          2.2310069,
          2.0129087,
          4.891101,
          1.2166747,
          16.259264,
          3.6032531,
          10.815999,
          4.6490436,
          41.698555,
          7.299892,
          2.3552005,
          4.920936,
          25.409925,
          46.510384,
          7.4732122,
          3.4294312,
          2.0296748,
          9.40783,
          4.9492188,
          1.6578919,
          1.1072947,
          1.7432799,
          47.95184,
          2.1496818,
          7.7833905,
          2.0905356,
          5.034732,
          1.204393,
          4.8465533,
          2.8288648,
          3.169424,
          0.0010179991,
          6.5245233,
          1.4784317,
          1.8973475,
          3.369064,
          2.8867223,
          1.0473169,
          22.211996,
          1.4750812,
          1.8006569,
          3.7830815,
          5.2743464,
          10.491599,
          9.211699,
          3.911672,
          12.717187,
          6.952052,
          17.466572,
          2.8782701,
          2.5848463,
          5.6097054,
          0.79205114,
          12.064439,
          2.6016898,
          0.5713306,
          5.6116557,
          2.5724976,
          7.7851048,
          3.9134545,
          3.6086698,
          20.78766,
          3.4696474,
          1.897673,
          2.825426,
          4.9366283,
          7.643699,
          5.2402916,
          2.7911859,
          6.8771124,
          2.6465213,
          21.545195,
          1.6682146,
          6.34219,
          2.3068085,
          1.5959816,
          12.72995,
          5.362538,
          0.5357224,
          0.97845984,
          25.218409,
          2.3846362,
          3.059347,
          13.6277,
          3.051602,
          252.16129,
          1.9308636,
          1.2616277,
          2.2171812,
          4.3718467,
          1.7665311,
          3.712526,
          2.6421838,
          5.3927083,
          2.3589814,
          1.9868351,
          5.060022,
          10.605177,
          4.683849,
          6.78625,
          1.8458791,
          4.202918,
          1.9366044,
          2.4006565,
          5.263734,
          7.390774,
          6.377831,
          9.917651,
          47.23545,
          1.3949188,
          9.065148,
          6.0012197,
          2.4665945,
          1.8707281,
          2.6566517,
          0.6005867,
          2.1457088,
          8.818362,
          4.84367,
          2.0538688,
          5.902024,
          2.74992,
          1.7758365,
          1.6636298,
          1.364529,
          1.2982457,
          1.9134655,
          4.354585,
          8.164741,
          6.8796873,
          1.760998,
          10.217566,
          4.7915382,
          49.382,
          6.512269,
          2.110832,
          3.9946535,
          10.464307,
          1.2008662,
          7.386297,
          5.855994,
          2.3261974,
          2.3487277,
          15.4679,
          1.7002671,
          1.3974154,
          1.9030191,
          1.6756277,
          7.1544886,
          5.2789836,
          6.550488,
          2.4311228,
          3.732241,
          13.462968,
          9.318717,
          3.2420902,
          1.8777366,
          1.6548518,
          1.711174,
          2.203354,
          0.9770577,
          2.2117362,
          6.4091105,
          5.3085737,
          1.3227715,
          2.5709226,
          2.6908753,
          1.537989,
          1.446324,
          1.1863817,
          3.8432872,
          3.083663,
          9.264305,
          2.7513661,
          3.9701316,
          3.0166667,
          4.862313,
          0.8558559,
          7.204185,
          5.295937,
          2.6939158,
          1.2295874,
          1.2443477,
          4.6312404,
          1.92,
          2.9380918,
          2.1760452,
          3.119826,
          15.613276,
          5.843308,
          1.0762882,
          3.8771474,
          257.6512,
          8.318336,
          3.5343869,
          1.9487878,
          5.0276604,
          4.2588096,
          1.4901205,
          3.1506329,
          6.6953387,
          6.5168414,
          75.90235,
          23.275898,
          5.102512,
          4.375263,
          2.5241776,
          1.2151387,
          2.7289305,
          1.3904505,
          3.9247437,
          1.6300558,
          6.9951134,
          8.352764,
          0.7970107,
          1.9180843,
          7.565849,
          30.236135,
          5.4020205,
          9.560878,
          2.6295984,
          6.27495,
          2.8838747,
          1.5536168,
          2.457925,
          5.882869,
          2.185737,
          1.6038388,
          7.744412,
          106.50965,
          1.4411371,
          1.3898033,
          26.263062,
          1.0150356,
          3.5271,
          2.396832,
          2.1446962,
          8.420017,
          24.740553,
          9.394711,
          3.70461,
          1.1189255,
          2.9629064,
          4.432284,
          2.8261986,
          10.823609,
          0.99191606,
          0.4533114,
          2.2676888,
          1.2576419,
          1.7093918,
          2.1080503,
          10.387173,
          49.75368,
          9.028189,
          3.2746272,
          54.51325,
          5.0482144,
          2.0413816,
          6.270443,
          2.6520488,
          2.4148326,
          2.9773567,
          6.9673758,
          1.1986234,
          10.95635,
          3.1776676,
          0.8295683,
          6.37352,
          0.91432613,
          3.5061336,
          11.751663,
          7.9981546,
          24.508976,
          1.6910872,
          1.4495695,
          5.7675586,
          22.040478,
          6.9459558,
          1.422782,
          1.8188952,
          1.4055724,
          1.4283614,
          4.3829417,
          11.09134,
          1.9823123,
          6.2937717,
          4.5163183,
          1.8829476,
          6.029795,
          17.428873,
          1.8665158,
          2.2339084,
          19.509827,
          4.8807917,
          6.26823,
          3.2672317,
          9.4437,
          5.838901,
          5.584098,
          4.7581954,
          2.8534822,
          3.1941967,
          0.5840378,
          4.357791,
          14.472143,
          17.588884,
          4.2259583,
          2.907629,
          13.493933,
          2.4873605,
          3.084333,
          1.3999642,
          1.785523,
          1.4145511,
          2.4801104,
          1.6820984,
          10.836257,
          5.3478227,
          1.5478464,
          2.3898165,
          8.25396,
          5.4282904,
          2.4577036,
          2.4085176,
          2.2848997,
          6.470709,
          9.13555,
          1.2465405,
          2.2949777,
          4.2115836,
          7.8200264,
          2.750992,
          3.3967254,
          2.7451162,
          2.1157029,
          1.4753829,
          1.841354,
          3.81429,
          1.6014383,
          4.679165,
          9.936431,
          5.5469646,
          11.221047,
          16.658436,
          3.3968775,
          9.817672,
          4.8172917,
          3.1539545,
          2.4405313,
          4.352379,
          35.484085,
          1.9931052,
          26.84286,
          22.25244,
          1.1018034,
          13.07979,
          2.7522774,
          2.0650053,
          3.4156475,
          14.588017,
          2.5028803,
          2.5848615,
          1.3364214,
          1.1745682,
          4.235115,
          5.5883503,
          1.3777978,
          1.6146,
          10.865712,
          30.496782,
          2.8964274,
          3.5711048,
          3.7752092,
          3.7295792,
          6.4612875,
          5.6942663,
          4.2984076,
          4.7453957,
          3.3579736,
          6.637301,
          16.134775,
          2.6862075,
          6.3272643,
          16.561338,
          14.105474,
          6.5658007,
          1.6862688,
          4.2560315,
          0.9666209,
          6.7432513,
          1.539825,
          1.4947271,
          4.1156397,
          13.261584,
          8.787085,
          2.7279506,
          23.107613,
          5.438752,
          7.4027634,
          1.6835653,
          2.9178627,
          1.7015641,
          11.189959,
          2.2189934,
          9.262451,
          4.139048,
          0.63897943,
          1.9192374,
          13.532703,
          0.9039254,
          4.056152,
          1.9251038,
          1.6983294,
          5.3410954,
          9.944948,
          93.22866,
          2.6683333,
          1.1396959,
          1.8784356,
          9.859581,
          1.0903331,
          0.9090472,
          2.6023438,
          2.1803749,
          3.6378772,
          17.276823,
          2.5307467,
          6.898584,
          6.853851,
          2.0934985,
          1.1617306,
          19.853703
         ]
        }
       ],
       "layout": {
        "coloraxis": {
         "colorbar": {
          "title": {
           "text": "cluster"
          }
         },
         "colorscale": [
          [
           0,
           "#0d0887"
          ],
          [
           0.1111111111111111,
           "#46039f"
          ],
          [
           0.2222222222222222,
           "#7201a8"
          ],
          [
           0.3333333333333333,
           "#9c179e"
          ],
          [
           0.4444444444444444,
           "#bd3786"
          ],
          [
           0.5555555555555556,
           "#d8576b"
          ],
          [
           0.6666666666666666,
           "#ed7953"
          ],
          [
           0.7777777777777778,
           "#fb9f3a"
          ],
          [
           0.8888888888888888,
           "#fdca26"
          ],
          [
           1,
           "#f0f921"
          ]
         ]
        },
        "legend": {
         "tracegroupgap": 0
        },
        "margin": {
         "t": 60
        },
        "scene": {
         "domain": {
          "x": [
           0,
           1
          ],
          "y": [
           0,
           1
          ]
         },
         "xaxis": {
          "title": {
           "text": "Returns"
          }
         },
         "yaxis": {
          "title": {
           "text": "Volatility"
          }
         },
         "zaxis": {
          "title": {
           "text": "priceToBook"
          }
         }
        },
        "template": {
         "data": {
          "bar": [
           {
            "error_x": {
             "color": "#2a3f5f"
            },
            "error_y": {
             "color": "#2a3f5f"
            },
            "marker": {
             "line": {
              "color": "#E5ECF6",
              "width": 0.5
             },
             "pattern": {
              "fillmode": "overlay",
              "size": 10,
              "solidity": 0.2
             }
            },
            "type": "bar"
           }
          ],
          "barpolar": [
           {
            "marker": {
             "line": {
              "color": "#E5ECF6",
              "width": 0.5
             },
             "pattern": {
              "fillmode": "overlay",
              "size": 10,
              "solidity": 0.2
             }
            },
            "type": "barpolar"
           }
          ],
          "carpet": [
           {
            "aaxis": {
             "endlinecolor": "#2a3f5f",
             "gridcolor": "white",
             "linecolor": "white",
             "minorgridcolor": "white",
             "startlinecolor": "#2a3f5f"
            },
            "baxis": {
             "endlinecolor": "#2a3f5f",
             "gridcolor": "white",
             "linecolor": "white",
             "minorgridcolor": "white",
             "startlinecolor": "#2a3f5f"
            },
            "type": "carpet"
           }
          ],
          "choropleth": [
           {
            "colorbar": {
             "outlinewidth": 0,
             "ticks": ""
            },
            "type": "choropleth"
           }
          ],
          "contour": [
           {
            "colorbar": {
             "outlinewidth": 0,
             "ticks": ""
            },
            "colorscale": [
             [
              0,
              "#0d0887"
             ],
             [
              0.1111111111111111,
              "#46039f"
             ],
             [
              0.2222222222222222,
              "#7201a8"
             ],
             [
              0.3333333333333333,
              "#9c179e"
             ],
             [
              0.4444444444444444,
              "#bd3786"
             ],
             [
              0.5555555555555556,
              "#d8576b"
             ],
             [
              0.6666666666666666,
              "#ed7953"
             ],
             [
              0.7777777777777778,
              "#fb9f3a"
             ],
             [
              0.8888888888888888,
              "#fdca26"
             ],
             [
              1,
              "#f0f921"
             ]
            ],
            "type": "contour"
           }
          ],
          "contourcarpet": [
           {
            "colorbar": {
             "outlinewidth": 0,
             "ticks": ""
            },
            "type": "contourcarpet"
           }
          ],
          "heatmap": [
           {
            "colorbar": {
             "outlinewidth": 0,
             "ticks": ""
            },
            "colorscale": [
             [
              0,
              "#0d0887"
             ],
             [
              0.1111111111111111,
              "#46039f"
             ],
             [
              0.2222222222222222,
              "#7201a8"
             ],
             [
              0.3333333333333333,
              "#9c179e"
             ],
             [
              0.4444444444444444,
              "#bd3786"
             ],
             [
              0.5555555555555556,
              "#d8576b"
             ],
             [
              0.6666666666666666,
              "#ed7953"
             ],
             [
              0.7777777777777778,
              "#fb9f3a"
             ],
             [
              0.8888888888888888,
              "#fdca26"
             ],
             [
              1,
              "#f0f921"
             ]
            ],
            "type": "heatmap"
           }
          ],
          "heatmapgl": [
           {
            "colorbar": {
             "outlinewidth": 0,
             "ticks": ""
            },
            "colorscale": [
             [
              0,
              "#0d0887"
             ],
             [
              0.1111111111111111,
              "#46039f"
             ],
             [
              0.2222222222222222,
              "#7201a8"
             ],
             [
              0.3333333333333333,
              "#9c179e"
             ],
             [
              0.4444444444444444,
              "#bd3786"
             ],
             [
              0.5555555555555556,
              "#d8576b"
             ],
             [
              0.6666666666666666,
              "#ed7953"
             ],
             [
              0.7777777777777778,
              "#fb9f3a"
             ],
             [
              0.8888888888888888,
              "#fdca26"
             ],
             [
              1,
              "#f0f921"
             ]
            ],
            "type": "heatmapgl"
           }
          ],
          "histogram": [
           {
            "marker": {
             "pattern": {
              "fillmode": "overlay",
              "size": 10,
              "solidity": 0.2
             }
            },
            "type": "histogram"
           }
          ],
          "histogram2d": [
           {
            "colorbar": {
             "outlinewidth": 0,
             "ticks": ""
            },
            "colorscale": [
             [
              0,
              "#0d0887"
             ],
             [
              0.1111111111111111,
              "#46039f"
             ],
             [
              0.2222222222222222,
              "#7201a8"
             ],
             [
              0.3333333333333333,
              "#9c179e"
             ],
             [
              0.4444444444444444,
              "#bd3786"
             ],
             [
              0.5555555555555556,
              "#d8576b"
             ],
             [
              0.6666666666666666,
              "#ed7953"
             ],
             [
              0.7777777777777778,
              "#fb9f3a"
             ],
             [
              0.8888888888888888,
              "#fdca26"
             ],
             [
              1,
              "#f0f921"
             ]
            ],
            "type": "histogram2d"
           }
          ],
          "histogram2dcontour": [
           {
            "colorbar": {
             "outlinewidth": 0,
             "ticks": ""
            },
            "colorscale": [
             [
              0,
              "#0d0887"
             ],
             [
              0.1111111111111111,
              "#46039f"
             ],
             [
              0.2222222222222222,
              "#7201a8"
             ],
             [
              0.3333333333333333,
              "#9c179e"
             ],
             [
              0.4444444444444444,
              "#bd3786"
             ],
             [
              0.5555555555555556,
              "#d8576b"
             ],
             [
              0.6666666666666666,
              "#ed7953"
             ],
             [
              0.7777777777777778,
              "#fb9f3a"
             ],
             [
              0.8888888888888888,
              "#fdca26"
             ],
             [
              1,
              "#f0f921"
             ]
            ],
            "type": "histogram2dcontour"
           }
          ],
          "mesh3d": [
           {
            "colorbar": {
             "outlinewidth": 0,
             "ticks": ""
            },
            "type": "mesh3d"
           }
          ],
          "parcoords": [
           {
            "line": {
             "colorbar": {
              "outlinewidth": 0,
              "ticks": ""
             }
            },
            "type": "parcoords"
           }
          ],
          "pie": [
           {
            "automargin": true,
            "type": "pie"
           }
          ],
          "scatter": [
           {
            "fillpattern": {
             "fillmode": "overlay",
             "size": 10,
             "solidity": 0.2
            },
            "type": "scatter"
           }
          ],
          "scatter3d": [
           {
            "line": {
             "colorbar": {
              "outlinewidth": 0,
              "ticks": ""
             }
            },
            "marker": {
             "colorbar": {
              "outlinewidth": 0,
              "ticks": ""
             }
            },
            "type": "scatter3d"
           }
          ],
          "scattercarpet": [
           {
            "marker": {
             "colorbar": {
              "outlinewidth": 0,
              "ticks": ""
             }
            },
            "type": "scattercarpet"
           }
          ],
          "scattergeo": [
           {
            "marker": {
             "colorbar": {
              "outlinewidth": 0,
              "ticks": ""
             }
            },
            "type": "scattergeo"
           }
          ],
          "scattergl": [
           {
            "marker": {
             "colorbar": {
              "outlinewidth": 0,
              "ticks": ""
             }
            },
            "type": "scattergl"
           }
          ],
          "scattermapbox": [
           {
            "marker": {
             "colorbar": {
              "outlinewidth": 0,
              "ticks": ""
             }
            },
            "type": "scattermapbox"
           }
          ],
          "scatterpolar": [
           {
            "marker": {
             "colorbar": {
              "outlinewidth": 0,
              "ticks": ""
             }
            },
            "type": "scatterpolar"
           }
          ],
          "scatterpolargl": [
           {
            "marker": {
             "colorbar": {
              "outlinewidth": 0,
              "ticks": ""
             }
            },
            "type": "scatterpolargl"
           }
          ],
          "scatterternary": [
           {
            "marker": {
             "colorbar": {
              "outlinewidth": 0,
              "ticks": ""
             }
            },
            "type": "scatterternary"
           }
          ],
          "surface": [
           {
            "colorbar": {
             "outlinewidth": 0,
             "ticks": ""
            },
            "colorscale": [
             [
              0,
              "#0d0887"
             ],
             [
              0.1111111111111111,
              "#46039f"
             ],
             [
              0.2222222222222222,
              "#7201a8"
             ],
             [
              0.3333333333333333,
              "#9c179e"
             ],
             [
              0.4444444444444444,
              "#bd3786"
             ],
             [
              0.5555555555555556,
              "#d8576b"
             ],
             [
              0.6666666666666666,
              "#ed7953"
             ],
             [
              0.7777777777777778,
              "#fb9f3a"
             ],
             [
              0.8888888888888888,
              "#fdca26"
             ],
             [
              1,
              "#f0f921"
             ]
            ],
            "type": "surface"
           }
          ],
          "table": [
           {
            "cells": {
             "fill": {
              "color": "#EBF0F8"
             },
             "line": {
              "color": "white"
             }
            },
            "header": {
             "fill": {
              "color": "#C8D4E3"
             },
             "line": {
              "color": "white"
             }
            },
            "type": "table"
           }
          ]
         },
         "layout": {
          "annotationdefaults": {
           "arrowcolor": "#2a3f5f",
           "arrowhead": 0,
           "arrowwidth": 1
          },
          "autotypenumbers": "strict",
          "coloraxis": {
           "colorbar": {
            "outlinewidth": 0,
            "ticks": ""
           }
          },
          "colorscale": {
           "diverging": [
            [
             0,
             "#8e0152"
            ],
            [
             0.1,
             "#c51b7d"
            ],
            [
             0.2,
             "#de77ae"
            ],
            [
             0.3,
             "#f1b6da"
            ],
            [
             0.4,
             "#fde0ef"
            ],
            [
             0.5,
             "#f7f7f7"
            ],
            [
             0.6,
             "#e6f5d0"
            ],
            [
             0.7,
             "#b8e186"
            ],
            [
             0.8,
             "#7fbc41"
            ],
            [
             0.9,
             "#4d9221"
            ],
            [
             1,
             "#276419"
            ]
           ],
           "sequential": [
            [
             0,
             "#0d0887"
            ],
            [
             0.1111111111111111,
             "#46039f"
            ],
            [
             0.2222222222222222,
             "#7201a8"
            ],
            [
             0.3333333333333333,
             "#9c179e"
            ],
            [
             0.4444444444444444,
             "#bd3786"
            ],
            [
             0.5555555555555556,
             "#d8576b"
            ],
            [
             0.6666666666666666,
             "#ed7953"
            ],
            [
             0.7777777777777778,
             "#fb9f3a"
            ],
            [
             0.8888888888888888,
             "#fdca26"
            ],
            [
             1,
             "#f0f921"
            ]
           ],
           "sequentialminus": [
            [
             0,
             "#0d0887"
            ],
            [
             0.1111111111111111,
             "#46039f"
            ],
            [
             0.2222222222222222,
             "#7201a8"
            ],
            [
             0.3333333333333333,
             "#9c179e"
            ],
            [
             0.4444444444444444,
             "#bd3786"
            ],
            [
             0.5555555555555556,
             "#d8576b"
            ],
            [
             0.6666666666666666,
             "#ed7953"
            ],
            [
             0.7777777777777778,
             "#fb9f3a"
            ],
            [
             0.8888888888888888,
             "#fdca26"
            ],
            [
             1,
             "#f0f921"
            ]
           ]
          },
          "colorway": [
           "#636efa",
           "#EF553B",
           "#00cc96",
           "#ab63fa",
           "#FFA15A",
           "#19d3f3",
           "#FF6692",
           "#B6E880",
           "#FF97FF",
           "#FECB52"
          ],
          "font": {
           "color": "#2a3f5f"
          },
          "geo": {
           "bgcolor": "white",
           "lakecolor": "white",
           "landcolor": "#E5ECF6",
           "showlakes": true,
           "showland": true,
           "subunitcolor": "white"
          },
          "hoverlabel": {
           "align": "left"
          },
          "hovermode": "closest",
          "mapbox": {
           "style": "light"
          },
          "paper_bgcolor": "white",
          "plot_bgcolor": "#E5ECF6",
          "polar": {
           "angularaxis": {
            "gridcolor": "white",
            "linecolor": "white",
            "ticks": ""
           },
           "bgcolor": "#E5ECF6",
           "radialaxis": {
            "gridcolor": "white",
            "linecolor": "white",
            "ticks": ""
           }
          },
          "scene": {
           "xaxis": {
            "backgroundcolor": "#E5ECF6",
            "gridcolor": "white",
            "gridwidth": 2,
            "linecolor": "white",
            "showbackground": true,
            "ticks": "",
            "zerolinecolor": "white"
           },
           "yaxis": {
            "backgroundcolor": "#E5ECF6",
            "gridcolor": "white",
            "gridwidth": 2,
            "linecolor": "white",
            "showbackground": true,
            "ticks": "",
            "zerolinecolor": "white"
           },
           "zaxis": {
            "backgroundcolor": "#E5ECF6",
            "gridcolor": "white",
            "gridwidth": 2,
            "linecolor": "white",
            "showbackground": true,
            "ticks": "",
            "zerolinecolor": "white"
           }
          },
          "shapedefaults": {
           "line": {
            "color": "#2a3f5f"
           }
          },
          "ternary": {
           "aaxis": {
            "gridcolor": "white",
            "linecolor": "white",
            "ticks": ""
           },
           "baxis": {
            "gridcolor": "white",
            "linecolor": "white",
            "ticks": ""
           },
           "bgcolor": "#E5ECF6",
           "caxis": {
            "gridcolor": "white",
            "linecolor": "white",
            "ticks": ""
           }
          },
          "title": {
           "x": 0.05
          },
          "xaxis": {
           "automargin": true,
           "gridcolor": "white",
           "linecolor": "white",
           "ticks": "",
           "title": {
            "standoff": 15
           },
           "zerolinecolor": "white",
           "zerolinewidth": 2
          },
          "yaxis": {
           "automargin": true,
           "gridcolor": "white",
           "linecolor": "white",
           "ticks": "",
           "title": {
            "standoff": 15
           },
           "zerolinecolor": "white",
           "zerolinewidth": 2
          }
         }
        }
       }
      }
     },
     "metadata": {},
     "output_type": "display_data"
    }
   ],
   "source": [
    "# Plot 3D graph with plotly\n",
    "clusters3d_df['cluster'] = y \n",
    "\n",
    "fig = px.scatter_3d(clusters3d_df, x='Returns', y='Volatility', z='priceToBook',\n",
    "              color='cluster', hover_data=[\"Ticker\"])\n",
    "fig.show()"
   ]
  },
  {
   "cell_type": "markdown",
   "metadata": {},
   "source": [
    "Again, we note the presence of outliers. We remove them individually and repeat the steps to cluster again"
   ]
  },
  {
   "cell_type": "code",
   "execution_count": 131,
   "metadata": {},
   "outputs": [],
   "source": [
    "# Identify and remove the outliers stocks\n",
    "clusters3d_df.drop(clusters3d_df[(clusters3d_df['Ticker'] == 'HD')].index, inplace=True)\n",
    "clusters3d_df.drop(clusters3d_df[(clusters3d_df['Ticker'] == 'CL')].index, inplace=True)\n",
    "\n",
    "# Recreate data to feed into the algorithm\n",
    "data3d = np.asarray([np.asarray(clusters3d_df['Returns']), np.asarray(clusters3d_df['Volatility']), np.asarray(clusters3d_df['priceToBook'])]).T\n",
    "X = data3d"
   ]
  },
  {
   "cell_type": "code",
   "execution_count": 140,
   "metadata": {},
   "outputs": [
    {
     "data": {
      "image/png": "[encoded data removed]",
      "text/plain": [
       "<Figure size 1500x500 with 1 Axes>"
      ]
     },
     "metadata": {},
     "output_type": "display_data"
    }
   ],
   "source": [
    "#elbow method\n",
    "distorsions = []\n",
    "for i in range(1,20):\n",
    "    k_means = KMeans(n_clusters=i,init='k-means++', random_state=42)\n",
    "    k_means.fit(X)\n",
    "    distorsions.append(k_means.inertia_)\n",
    "    \n",
    "#plot elbow curve\n",
    "fig = plt.figure(figsize=(15, 5))\n",
    "\n",
    "plt.plot(np.arange(1,20),distorsions)\n",
    "plt.xlabel('Clusters')\n",
    "plt.ylabel('SSE')\n",
    "plt.title('Elbow curve')\n",
    "plt.grid(True)\n",
    "plt.show()"
   ]
  },
  {
   "cell_type": "markdown",
   "metadata": {},
   "source": [
    "The optimal number of clusters is 3"
   ]
  },
  {
   "cell_type": "code",
   "execution_count": 141,
   "metadata": {},
   "outputs": [
    {
     "data": {
      "application/vnd.plotly.v1+json": {
       "config": {
        "plotlyServerURL": "https://plot.ly"
       },
       "data": [
        {
         "customdata": [
          [
           "MMM"
          ],
          [
           "AOS"
          ],
          [
           "ABT"
          ],
          [
           "ABBV"
          ],
          [
           "ABMD"
          ],
          [
           "ACN"
          ],
          [
           "ATVI"
          ],
          [
           "ADM"
          ],
          [
           "ADBE"
          ],
          [
           "ADP"
          ],
          [
           "AAP"
          ],
          [
           "AES"
          ],
          [
           "AFL"
          ],
          [
           "A"
          ],
          [
           "APD"
          ],
          [
           "AKAM"
          ],
          [
           "ALK"
          ],
          [
           "ALB"
          ],
          [
           "ARE"
          ],
          [
           "ALGN"
          ],
          [
           "ALLE"
          ],
          [
           "LNT"
          ],
          [
           "ALL"
          ],
          [
           "GOOGL"
          ],
          [
           "GOOG"
          ],
          [
           "AMZN"
          ],
          [
           "AMCR"
          ],
          [
           "AMD"
          ],
          [
           "AEE"
          ],
          [
           "AEP"
          ],
          [
           "AXP"
          ],
          [
           "AIG"
          ],
          [
           "AMT"
          ],
          [
           "AWK"
          ],
          [
           "AMP"
          ],
          [
           "AME"
          ],
          [
           "AMGN"
          ],
          [
           "APH"
          ],
          [
           "ADI"
          ],
          [
           "ANSS"
          ],
          [
           "APA"
          ],
          [
           "AAPL"
          ],
          [
           "AMAT"
          ],
          [
           "APTV"
          ],
          [
           "ACGL"
          ],
          [
           "ANET"
          ],
          [
           "AJG"
          ],
          [
           "AIZ"
          ],
          [
           "T"
          ],
          [
           "ATO"
          ],
          [
           "ADSK"
          ],
          [
           "AVB"
          ],
          [
           "AVY"
          ],
          [
           "BKR"
          ],
          [
           "BALL"
          ],
          [
           "BAC"
          ],
          [
           "BAX"
          ],
          [
           "BDX"
          ],
          [
           "WRB"
          ],
          [
           "BRK-B"
          ],
          [
           "BBY"
          ],
          [
           "BIO"
          ],
          [
           "TECH"
          ],
          [
           "BIIB"
          ],
          [
           "BLK"
          ],
          [
           "BK"
          ],
          [
           "BKNG"
          ],
          [
           "BWA"
          ],
          [
           "BXP"
          ],
          [
           "BSX"
          ],
          [
           "BMY"
          ],
          [
           "AVGO"
          ],
          [
           "BR"
          ],
          [
           "BRO"
          ],
          [
           "BF-B"
          ],
          [
           "CHRW"
          ],
          [
           "CDNS"
          ],
          [
           "CZR"
          ],
          [
           "CPT"
          ],
          [
           "CPB"
          ],
          [
           "COF"
          ],
          [
           "CAH"
          ],
          [
           "KMX"
          ],
          [
           "CCL"
          ],
          [
           "CARR"
          ],
          [
           "CTLT"
          ],
          [
           "CAT"
          ],
          [
           "CBOE"
          ],
          [
           "CBRE"
          ],
          [
           "CDW"
          ],
          [
           "CE"
          ],
          [
           "CNC"
          ],
          [
           "CNP"
          ],
          [
           "CDAY"
          ],
          [
           "CF"
          ],
          [
           "CRL"
          ],
          [
           "SCHW"
          ],
          [
           "CHTR"
          ],
          [
           "CVX"
          ],
          [
           "CMG"
          ],
          [
           "CB"
          ],
          [
           "CHD"
          ],
          [
           "CI"
          ],
          [
           "CINF"
          ],
          [
           "CTAS"
          ],
          [
           "CSCO"
          ],
          [
           "C"
          ],
          [
           "CFG"
          ],
          [
           "CLX"
          ],
          [
           "CME"
          ],
          [
           "CMS"
          ],
          [
           "KO"
          ],
          [
           "CTSH"
          ],
          [
           "CMCSA"
          ],
          [
           "CMA"
          ],
          [
           "CAG"
          ],
          [
           "COP"
          ],
          [
           "ED"
          ],
          [
           "STZ"
          ],
          [
           "COO"
          ],
          [
           "CPRT"
          ],
          [
           "GLW"
          ],
          [
           "CTVA"
          ],
          [
           "CSGP"
          ],
          [
           "COST"
          ],
          [
           "CTRA"
          ],
          [
           "CCI"
          ],
          [
           "CSX"
          ],
          [
           "CMI"
          ],
          [
           "CVS"
          ],
          [
           "DHI"
          ],
          [
           "DHR"
          ],
          [
           "DRI"
          ],
          [
           "DVA"
          ],
          [
           "DE"
          ],
          [
           "DAL"
          ],
          [
           "XRAY"
          ],
          [
           "DVN"
          ],
          [
           "DXCM"
          ],
          [
           "FANG"
          ],
          [
           "DLR"
          ],
          [
           "DFS"
          ],
          [
           "DISH"
          ],
          [
           "DIS"
          ],
          [
           "DG"
          ],
          [
           "DLTR"
          ],
          [
           "D"
          ],
          [
           "DOV"
          ],
          [
           "DOW"
          ],
          [
           "DTE"
          ],
          [
           "DUK"
          ],
          [
           "DD"
          ],
          [
           "DXC"
          ],
          [
           "EMN"
          ],
          [
           "ETN"
          ],
          [
           "EBAY"
          ],
          [
           "ECL"
          ],
          [
           "EIX"
          ],
          [
           "EW"
          ],
          [
           "EA"
          ],
          [
           "LLY"
          ],
          [
           "EMR"
          ],
          [
           "ETR"
          ],
          [
           "EOG"
          ],
          [
           "EPAM"
          ],
          [
           "EQT"
          ],
          [
           "EFX"
          ],
          [
           "EQIX"
          ],
          [
           "EQR"
          ],
          [
           "ESS"
          ],
          [
           "EL"
          ],
          [
           "RE"
          ],
          [
           "EVRG"
          ],
          [
           "ES"
          ],
          [
           "EXC"
          ],
          [
           "EXPE"
          ],
          [
           "EXPD"
          ],
          [
           "EXR"
          ],
          [
           "XOM"
          ],
          [
           "FFIV"
          ],
          [
           "FDS"
          ],
          [
           "FAST"
          ],
          [
           "FRT"
          ],
          [
           "FDX"
          ],
          [
           "FITB"
          ],
          [
           "FRC"
          ],
          [
           "FE"
          ],
          [
           "FIS"
          ],
          [
           "FISV"
          ],
          [
           "FLT"
          ],
          [
           "FMC"
          ],
          [
           "F"
          ],
          [
           "FTV"
          ],
          [
           "FBHS"
          ],
          [
           "FOXA"
          ],
          [
           "FOX"
          ],
          [
           "BEN"
          ],
          [
           "FCX"
          ],
          [
           "GRMN"
          ],
          [
           "GEN"
          ],
          [
           "GNRC"
          ],
          [
           "GD"
          ],
          [
           "GE"
          ],
          [
           "GIS"
          ],
          [
           "GM"
          ],
          [
           "GPC"
          ],
          [
           "GILD"
          ],
          [
           "GL"
          ],
          [
           "GPN"
          ],
          [
           "GS"
          ],
          [
           "HAL"
          ],
          [
           "HIG"
          ],
          [
           "HAS"
          ],
          [
           "PEAK"
          ],
          [
           "HSIC"
          ],
          [
           "HSY"
          ],
          [
           "HES"
          ],
          [
           "HPE"
          ],
          [
           "HOLX"
          ],
          [
           "HON"
          ],
          [
           "HRL"
          ],
          [
           "HST"
          ],
          [
           "HWM"
          ],
          [
           "HUM"
          ],
          [
           "HBAN"
          ],
          [
           "HII"
          ],
          [
           "IBM"
          ],
          [
           "IEX"
          ],
          [
           "IDXX"
          ],
          [
           "ITW"
          ],
          [
           "ILMN"
          ],
          [
           "INCY"
          ],
          [
           "IR"
          ],
          [
           "INTC"
          ],
          [
           "ICE"
          ],
          [
           "IP"
          ],
          [
           "IPG"
          ],
          [
           "IFF"
          ],
          [
           "INTU"
          ],
          [
           "ISRG"
          ],
          [
           "IVZ"
          ],
          [
           "INVH"
          ],
          [
           "IQV"
          ],
          [
           "IRM"
          ],
          [
           "JBHT"
          ],
          [
           "JKHY"
          ],
          [
           "J"
          ],
          [
           "JNJ"
          ],
          [
           "JCI"
          ],
          [
           "JPM"
          ],
          [
           "JNPR"
          ],
          [
           "K"
          ],
          [
           "KDP"
          ],
          [
           "KEY"
          ],
          [
           "KEYS"
          ],
          [
           "KMB"
          ],
          [
           "KIM"
          ],
          [
           "KMI"
          ],
          [
           "KLAC"
          ],
          [
           "KHC"
          ],
          [
           "KR"
          ],
          [
           "LHX"
          ],
          [
           "LH"
          ],
          [
           "LRCX"
          ],
          [
           "LW"
          ],
          [
           "LVS"
          ],
          [
           "LDOS"
          ],
          [
           "LEN"
          ],
          [
           "LNC"
          ],
          [
           "LIN"
          ],
          [
           "LKQ"
          ],
          [
           "LMT"
          ],
          [
           "L"
          ],
          [
           "LUMN"
          ],
          [
           "LYB"
          ],
          [
           "MTB"
          ],
          [
           "MRO"
          ],
          [
           "MPC"
          ],
          [
           "MKTX"
          ],
          [
           "MAR"
          ],
          [
           "MMC"
          ],
          [
           "MLM"
          ],
          [
           "MA"
          ],
          [
           "MKC"
          ],
          [
           "MDT"
          ],
          [
           "MRK"
          ],
          [
           "META"
          ],
          [
           "MET"
          ],
          [
           "MGM"
          ],
          [
           "MCHP"
          ],
          [
           "MU"
          ],
          [
           "MSFT"
          ],
          [
           "MAA"
          ],
          [
           "MHK"
          ],
          [
           "MOH"
          ],
          [
           "TAP"
          ],
          [
           "MDLZ"
          ],
          [
           "MPWR"
          ],
          [
           "MNST"
          ],
          [
           "MCO"
          ],
          [
           "MS"
          ],
          [
           "MOS"
          ],
          [
           "NDAQ"
          ],
          [
           "NTAP"
          ],
          [
           "NFLX"
          ],
          [
           "NWL"
          ],
          [
           "NEM"
          ],
          [
           "NWSA"
          ],
          [
           "NWS"
          ],
          [
           "NEE"
          ],
          [
           "NKE"
          ],
          [
           "NI"
          ],
          [
           "NDSN"
          ],
          [
           "NSC"
          ],
          [
           "NTRS"
          ],
          [
           "NOC"
          ],
          [
           "NCLH"
          ],
          [
           "NRG"
          ],
          [
           "NUE"
          ],
          [
           "NVDA"
          ],
          [
           "NVR"
          ],
          [
           "NXPI"
          ],
          [
           "OXY"
          ],
          [
           "ODFL"
          ],
          [
           "OMC"
          ],
          [
           "ON"
          ],
          [
           "OKE"
          ],
          [
           "PCAR"
          ],
          [
           "PKG"
          ],
          [
           "PARA"
          ],
          [
           "PH"
          ],
          [
           "PAYX"
          ],
          [
           "PAYC"
          ],
          [
           "PYPL"
          ],
          [
           "PNR"
          ],
          [
           "PEP"
          ],
          [
           "PKI"
          ],
          [
           "PFE"
          ],
          [
           "PCG"
          ],
          [
           "PSX"
          ],
          [
           "PNW"
          ],
          [
           "PXD"
          ],
          [
           "PNC"
          ],
          [
           "POOL"
          ],
          [
           "PPG"
          ],
          [
           "PPL"
          ],
          [
           "PFG"
          ],
          [
           "PG"
          ],
          [
           "PGR"
          ],
          [
           "PLD"
          ],
          [
           "PRU"
          ],
          [
           "PEG"
          ],
          [
           "PTC"
          ],
          [
           "PSA"
          ],
          [
           "PHM"
          ],
          [
           "QRVO"
          ],
          [
           "PWR"
          ],
          [
           "QCOM"
          ],
          [
           "DGX"
          ],
          [
           "RL"
          ],
          [
           "RJF"
          ],
          [
           "RTX"
          ],
          [
           "O"
          ],
          [
           "REG"
          ],
          [
           "REGN"
          ],
          [
           "RF"
          ],
          [
           "RSG"
          ],
          [
           "RMD"
          ],
          [
           "RHI"
          ],
          [
           "ROK"
          ],
          [
           "ROL"
          ],
          [
           "ROP"
          ],
          [
           "ROST"
          ],
          [
           "RCL"
          ],
          [
           "SPGI"
          ],
          [
           "CRM"
          ],
          [
           "SLB"
          ],
          [
           "SEE"
          ],
          [
           "SRE"
          ],
          [
           "NOW"
          ],
          [
           "SHW"
          ],
          [
           "SBNY"
          ],
          [
           "SPG"
          ],
          [
           "SWKS"
          ],
          [
           "SJM"
          ],
          [
           "SNA"
          ],
          [
           "SEDG"
          ],
          [
           "SO"
          ],
          [
           "LUV"
          ],
          [
           "SWK"
          ],
          [
           "STT"
          ],
          [
           "STE"
          ],
          [
           "SYK"
          ],
          [
           "SIVB"
          ],
          [
           "SYF"
          ],
          [
           "SNPS"
          ],
          [
           "SYY"
          ],
          [
           "TMUS"
          ],
          [
           "TROW"
          ],
          [
           "TTWO"
          ],
          [
           "TPR"
          ],
          [
           "TRGP"
          ],
          [
           "TGT"
          ],
          [
           "TEL"
          ],
          [
           "TDY"
          ],
          [
           "TFX"
          ],
          [
           "TER"
          ],
          [
           "TXN"
          ],
          [
           "TXT"
          ],
          [
           "TMO"
          ],
          [
           "TJX"
          ],
          [
           "TSCO"
          ],
          [
           "TT"
          ],
          [
           "TRV"
          ],
          [
           "TRMB"
          ],
          [
           "TFC"
          ],
          [
           "TYL"
          ],
          [
           "TSN"
          ],
          [
           "USB"
          ],
          [
           "UDR"
          ],
          [
           "ULTA"
          ],
          [
           "UNP"
          ],
          [
           "UAL"
          ],
          [
           "UPS"
          ],
          [
           "URI"
          ],
          [
           "UNH"
          ],
          [
           "UHS"
          ],
          [
           "VLO"
          ],
          [
           "VTR"
          ],
          [
           "VRSK"
          ],
          [
           "VZ"
          ],
          [
           "VRTX"
          ],
          [
           "VFC"
          ],
          [
           "VTRS"
          ],
          [
           "VICI"
          ],
          [
           "V"
          ],
          [
           "VNO"
          ],
          [
           "VMC"
          ],
          [
           "WAB"
          ],
          [
           "WBA"
          ],
          [
           "WMT"
          ],
          [
           "WM"
          ],
          [
           "WAT"
          ],
          [
           "WEC"
          ],
          [
           "WFC"
          ],
          [
           "WELL"
          ],
          [
           "WST"
          ],
          [
           "WDC"
          ],
          [
           "WRK"
          ],
          [
           "WY"
          ],
          [
           "WHR"
          ],
          [
           "WMB"
          ],
          [
           "GWW"
          ],
          [
           "XEL"
          ],
          [
           "XYL"
          ],
          [
           "ZBRA"
          ],
          [
           "ZBH"
          ],
          [
           "ZION"
          ],
          [
           "ZTS"
          ]
         ],
         "hovertemplate": "priceToBook=%{x}<br>Returns=%{y}<br>Volatility=%{z}<br>Ticker=%{customdata[0]}<br>cluster=%{marker.color}<extra></extra>",
         "legendgroup": "",
         "marker": {
          "color": [
           0,
           0,
           0,
           1,
           1,
           0,
           0,
           0,
           1,
           2,
           0,
           0,
           0,
           0,
           0,
           0,
           0,
           0,
           0,
           0,
           1,
           0,
           0,
           0,
           0,
           0,
           0,
           0,
           0,
           0,
           0,
           0,
           1,
           0,
           1,
           0,
           2,
           0,
           0,
           0,
           1,
           2,
           0,
           0,
           0,
           0,
           0,
           0,
           0,
           0,
           2,
           0,
           0,
           0,
           0,
           0,
           0,
           0,
           0,
           0,
           0,
           0,
           0,
           0,
           0,
           0,
           1,
           0,
           0,
           0,
           0,
           1,
           0,
           0,
           1,
           0,
           1,
           0,
           0,
           0,
           0,
           1,
           0,
           0,
           0,
           0,
           0,
           0,
           0,
           1,
           0,
           0,
           0,
           0,
           0,
           0,
           0,
           0,
           0,
           1,
           0,
           0,
           0,
           0,
           1,
           0,
           0,
           0,
           1,
           0,
           0,
           1,
           0,
           0,
           0,
           0,
           0,
           0,
           0,
           0,
           0,
           0,
           0,
           0,
           1,
           0,
           0,
           0,
           0,
           0,
           0,
           0,
           0,
           0,
           0,
           2,
           0,
           0,
           0,
           0,
           0,
           0,
           0,
           0,
           0,
           0,
           0,
           0,
           0,
           0,
           0,
           0,
           0,
           0,
           0,
           0,
           0,
           0,
           0,
           0,
           2,
           0,
           0,
           0,
           1,
           0,
           0,
           0,
           0,
           0,
           1,
           0,
           0,
           0,
           0,
           0,
           0,
           0,
           0,
           0,
           1,
           0,
           0,
           0,
           0,
           0,
           0,
           0,
           0,
           0,
           0,
           0,
           0,
           0,
           0,
           0,
           0,
           0,
           0,
           0,
           0,
           0,
           0,
           0,
           0,
           0,
           0,
           0,
           0,
           0,
           0,
           0,
           0,
           0,
           0,
           1,
           0,
           0,
           0,
           0,
           0,
           0,
           0,
           0,
           0,
           0,
           0,
           0,
           2,
           1,
           0,
           0,
           0,
           0,
           0,
           0,
           0,
           0,
           0,
           0,
           0,
           0,
           0,
           1,
           0,
           0,
           0,
           0,
           0,
           0,
           0,
           0,
           0,
           0,
           0,
           2,
           0,
           0,
           1,
           0,
           0,
           0,
           0,
           0,
           1,
           0,
           0,
           0,
           0,
           0,
           0,
           1,
           0,
           0,
           0,
           0,
           0,
           0,
           1,
           2,
           0,
           0,
           2,
           0,
           0,
           0,
           0,
           0,
           0,
           0,
           0,
           1,
           0,
           0,
           0,
           0,
           0,
           1,
           0,
           1,
           0,
           0,
           0,
           1,
           0,
           0,
           0,
           0,
           0,
           0,
           1,
           0,
           0,
           0,
           0,
           0,
           1,
           0,
           0,
           1,
           0,
           0,
           0,
           0,
           0,
           0,
           0,
           0,
           0,
           0,
           0,
           1,
           1,
           0,
           0,
           1,
           0,
           0,
           0,
           0,
           0,
           0,
           0,
           1,
           0,
           0,
           0,
           0,
           0,
           0,
           0,
           0,
           0,
           0,
           0,
           0,
           0,
           0,
           0,
           0,
           0,
           0,
           0,
           0,
           0,
           0,
           0,
           0,
           0,
           1,
           1,
           0,
           0,
           0,
           0,
           0,
           0,
           1,
           0,
           1,
           1,
           0,
           1,
           0,
           0,
           0,
           1,
           0,
           0,
           0,
           0,
           0,
           0,
           0,
           0,
           1,
           1,
           0,
           0,
           0,
           0,
           0,
           0,
           0,
           0,
           0,
           0,
           1,
           0,
           0,
           1,
           1,
           0,
           0,
           0,
           0,
           0,
           0,
           0,
           0,
           1,
           0,
           0,
           1,
           0,
           0,
           0,
           0,
           0,
           1,
           0,
           0,
           0,
           0,
           0,
           1,
           0,
           0,
           0,
           0,
           0,
           0,
           2,
           0,
           0,
           0,
           0,
           0,
           0,
           0,
           0,
           0,
           1,
           0,
           0,
           0,
           0,
           0,
           1
          ],
          "coloraxis": "coloraxis",
          "symbol": "circle"
         },
         "mode": "markers",
         "name": "",
         "scene": "scene",
         "showlegend": false,
         "type": "scatter3d",
         "x": [
          4.9852786,
          5.277972,
          5.2827325,
          18.095976,
          11.065802,
          8.569267,
          3.1522012,
          2.098147,
          11.096923,
          43.49718,
          3.337186,
          7.448688,
          1.8686228,
          8.682581,
          5.3745146,
          3.4979303,
          1.5481519,
          4.9464087,
          1.4153181,
          4.1947145,
          12.713143,
          2.1956887,
          2.2165194,
          5.136808,
          5.1567535,
          6.9819016,
          4.738438,
          2.2160487,
          2.2310069,
          2.0129087,
          4.891101,
          1.2166747,
          16.259264,
          3.6032531,
          10.815999,
          4.6490436,
          41.698555,
          7.299892,
          2.3552005,
          4.920936,
          25.409925,
          46.510384,
          7.4732122,
          3.4294312,
          2.0296748,
          9.40783,
          4.9492188,
          1.6578919,
          1.1072947,
          1.7432799,
          47.95184,
          2.1496818,
          7.7833905,
          2.0905356,
          5.034732,
          1.204393,
          4.8465533,
          2.8288648,
          3.169424,
          0.0010179991,
          6.5245233,
          1.4784317,
          1.8973475,
          3.369064,
          2.8867223,
          1.0473169,
          22.211996,
          1.4750812,
          1.8006569,
          3.7830815,
          5.2743464,
          10.491599,
          9.211699,
          3.911672,
          12.717187,
          6.952052,
          17.466572,
          2.8782701,
          2.5848463,
          5.6097054,
          0.79205114,
          12.064439,
          2.6016898,
          0.5713306,
          5.6116557,
          2.5724976,
          7.7851048,
          3.9134545,
          3.6086698,
          20.78766,
          3.4696474,
          1.897673,
          2.825426,
          4.9366283,
          7.643699,
          5.2402916,
          2.7911859,
          6.8771124,
          2.6465213,
          21.545195,
          1.6682146,
          6.34219,
          2.3068085,
          1.5959816,
          12.72995,
          5.362538,
          0.5357224,
          0.97845984,
          25.218409,
          2.3846362,
          3.059347,
          13.6277,
          3.051602,
          1.9308636,
          1.2616277,
          2.2171812,
          4.3718467,
          1.7665311,
          3.712526,
          2.6421838,
          5.3927083,
          2.3589814,
          1.9868351,
          5.060022,
          10.605177,
          4.683849,
          6.78625,
          1.8458791,
          4.202918,
          1.9366044,
          2.4006565,
          5.263734,
          7.390774,
          6.377831,
          9.917651,
          47.23545,
          1.3949188,
          9.065148,
          6.0012197,
          2.4665945,
          1.8707281,
          2.6566517,
          0.6005867,
          2.1457088,
          8.818362,
          4.84367,
          2.0538688,
          5.902024,
          2.74992,
          1.7758365,
          1.6636298,
          1.364529,
          1.2982457,
          1.9134655,
          4.354585,
          8.164741,
          6.8796873,
          1.760998,
          10.217566,
          4.7915382,
          49.382,
          6.512269,
          2.110832,
          3.9946535,
          10.464307,
          1.2008662,
          7.386297,
          5.855994,
          2.3261974,
          2.3487277,
          15.4679,
          1.7002671,
          1.3974154,
          1.9030191,
          1.6756277,
          7.1544886,
          5.2789836,
          6.550488,
          2.4311228,
          3.732241,
          13.462968,
          9.318717,
          3.2420902,
          1.8777366,
          1.6548518,
          1.711174,
          2.203354,
          0.9770577,
          2.2117362,
          6.4091105,
          5.3085737,
          1.3227715,
          2.5709226,
          2.6908753,
          1.537989,
          1.446324,
          1.1863817,
          3.8432872,
          3.083663,
          9.264305,
          2.7513661,
          3.9701316,
          3.0166667,
          4.862313,
          0.8558559,
          7.204185,
          5.295937,
          2.6939158,
          1.2295874,
          1.2443477,
          4.6312404,
          1.92,
          2.9380918,
          2.1760452,
          3.119826,
          15.613276,
          5.843308,
          1.0762882,
          3.8771474,
          8.318336,
          3.5343869,
          1.9487878,
          5.0276604,
          4.2588096,
          1.4901205,
          3.1506329,
          6.6953387,
          6.5168414,
          75.90235,
          23.275898,
          5.102512,
          4.375263,
          2.5241776,
          1.2151387,
          2.7289305,
          1.3904505,
          3.9247437,
          1.6300558,
          6.9951134,
          8.352764,
          0.7970107,
          1.9180843,
          7.565849,
          30.236135,
          5.4020205,
          9.560878,
          2.6295984,
          6.27495,
          2.8838747,
          1.5536168,
          2.457925,
          5.882869,
          2.185737,
          1.6038388,
          7.744412,
          106.50965,
          1.4411371,
          1.3898033,
          26.263062,
          1.0150356,
          3.5271,
          2.396832,
          2.1446962,
          8.420017,
          24.740553,
          9.394711,
          3.70461,
          1.1189255,
          2.9629064,
          4.432284,
          2.8261986,
          10.823609,
          0.99191606,
          0.4533114,
          2.2676888,
          1.2576419,
          1.7093918,
          2.1080503,
          10.387173,
          49.75368,
          9.028189,
          3.2746272,
          54.51325,
          5.0482144,
          2.0413816,
          6.270443,
          2.6520488,
          2.4148326,
          2.9773567,
          6.9673758,
          1.1986234,
          10.95635,
          3.1776676,
          0.8295683,
          6.37352,
          0.91432613,
          3.5061336,
          11.751663,
          7.9981546,
          24.508976,
          1.6910872,
          1.4495695,
          5.7675586,
          22.040478,
          6.9459558,
          1.422782,
          1.8188952,
          1.4055724,
          1.4283614,
          4.3829417,
          11.09134,
          1.9823123,
          6.2937717,
          4.5163183,
          1.8829476,
          6.029795,
          17.428873,
          1.8665158,
          2.2339084,
          19.509827,
          4.8807917,
          6.26823,
          3.2672317,
          9.4437,
          5.838901,
          5.584098,
          4.7581954,
          2.8534822,
          3.1941967,
          0.5840378,
          4.357791,
          14.472143,
          17.588884,
          4.2259583,
          2.907629,
          13.493933,
          2.4873605,
          3.084333,
          1.3999642,
          1.785523,
          1.4145511,
          2.4801104,
          1.6820984,
          10.836257,
          5.3478227,
          1.5478464,
          2.3898165,
          8.25396,
          5.4282904,
          2.4577036,
          2.4085176,
          2.2848997,
          6.470709,
          9.13555,
          1.2465405,
          2.2949777,
          4.2115836,
          7.8200264,
          2.750992,
          3.3967254,
          2.7451162,
          2.1157029,
          1.4753829,
          1.841354,
          3.81429,
          1.6014383,
          4.679165,
          9.936431,
          5.5469646,
          11.221047,
          16.658436,
          3.3968775,
          9.817672,
          4.8172917,
          3.1539545,
          2.4405313,
          4.352379,
          35.484085,
          1.9931052,
          26.84286,
          22.25244,
          1.1018034,
          13.07979,
          2.7522774,
          2.0650053,
          3.4156475,
          14.588017,
          2.5028803,
          2.5848615,
          1.3364214,
          1.1745682,
          4.235115,
          5.5883503,
          1.3777978,
          1.6146,
          10.865712,
          30.496782,
          2.8964274,
          3.5711048,
          3.7752092,
          3.7295792,
          6.4612875,
          5.6942663,
          4.2984076,
          4.7453957,
          3.3579736,
          6.637301,
          16.134775,
          2.6862075,
          6.3272643,
          16.561338,
          14.105474,
          6.5658007,
          1.6862688,
          4.2560315,
          0.9666209,
          6.7432513,
          1.539825,
          1.4947271,
          4.1156397,
          13.261584,
          8.787085,
          2.7279506,
          23.107613,
          5.438752,
          7.4027634,
          1.6835653,
          2.9178627,
          1.7015641,
          11.189959,
          2.2189934,
          9.262451,
          4.139048,
          0.63897943,
          1.9192374,
          13.532703,
          0.9039254,
          4.056152,
          1.9251038,
          1.6983294,
          5.3410954,
          9.944948,
          93.22866,
          2.6683333,
          1.1396959,
          1.8784356,
          9.859581,
          1.0903331,
          0.9090472,
          2.6023438,
          2.1803749,
          3.6378772,
          17.276823,
          2.5307467,
          6.898584,
          6.853851,
          2.0934985,
          1.1617306,
          19.853703
         ],
         "y": [
          -0.03999484658952257,
          0.15357333359319025,
          0.13639500665522597,
          0.29040090573078253,
          0.3956361600980072,
          0.18965785630794085,
          0.1499084437138286,
          0.31265838160069864,
          0.09546337136216855,
          0.23038879790619016,
          0.07558209439654062,
          0.24647677647424068,
          0.20426223270104238,
          0.26049680160038696,
          0.18528887147274606,
          0.07399256539363333,
          0.03292112951806728,
          0.6261134794621396,
          0.06254037867436808,
          0.04693597986618878,
          0.042605299305867775,
          0.07858952100650453,
          0.13063501377305606,
          0.19134992977033252,
          0.19245350820936308,
          0.07383561737654522,
          0.1558850073140183,
          0.30039437621854,
          0.11974088787660842,
          0.07956749787862166,
          0.19137534896620173,
          0.21531693402396332,
          0.06202278486230207,
          0.1511148462539825,
          0.36363612014165,
          0.18246493701131095,
          0.12915023402904846,
          0.1932483039128156,
          0.21226843399540504,
          0.0776523977997553,
          0.6220082066468647,
          0.30754086052206053,
          0.33011273728977475,
          0.18282825337133138,
          0.1925310407637213,
          0.42224949206086815,
          0.3157808051360805,
          0.07174111336807,
          -0.020808008974844798,
          0.08896025519807527,
          0.12491531006861747,
          0.03172456721519359,
          0.21912187914398218,
          0.22459517948567165,
          0.02729898895739126,
          0.11433311571974117,
          -0.10480723180136102,
          0.03309549292234874,
          0.24551917738983375,
          0.1444567730299567,
          0.1252366526223526,
          0.10806763736973211,
          0.22373671990786287,
          0.15638605171094436,
          0.20829581074837666,
          0.058328098777580904,
          0.09640057787724741,
          0.0935841450961883,
          -0.10080464208062868,
          0.06506714194059013,
          0.1411294599985557,
          0.2930154319829227,
          0.12292799723757401,
          0.19623815274109066,
          0.09503546889097461,
          0.14616704017949259,
          0.3844801199429556,
          0.3581989367001171,
          0.12886024490764128,
          0.10417262958038673,
          0.13433478753558692,
          0.25823095688797254,
          0.03816697989426948,
          -0.15435251175535528,
          0.5894340822015729,
          0.08529618553684766,
          0.24375262133748515,
          0.07932923589754665,
          0.18541808791376038,
          0.175699737239608,
          0.07450184450700051,
          0.19418434248503258,
          0.14948773250294228,
          0.13688751437741592,
          0.4267855256213272,
          0.21700321165166345,
          0.2831949103865747,
          -0.022170552190691653,
          0.2778955499258994,
          0.2958873895337328,
          0.19406725978429043,
          0.10393454282587107,
          0.24275192081429126,
          0.12747788744102312,
          0.2616878887473175,
          0.08942189955122692,
          -0.05148146797247293,
          0.1823069172580779,
          0.05927480201341065,
          0.025417829817953153,
          0.05461334953012187,
          0.11701521698072985,
          0.07743709539254928,
          -0.01877249516636303,
          0.16925491086779954,
          0.10329285352838591,
          0.3827894585020462,
          0.1033103393685033,
          0.17490708723500326,
          0.053544457955442534,
          0.18636998841174673,
          0.13645495453767348,
          0.3730309633376012,
          0.18106515689053443,
          0.23475204722771853,
          0.2650447829061593,
          0.07036798890068205,
          0.15752455695841897,
          0.18781134176620562,
          0.1783252480364649,
          0.28899905153251704,
          0.2463617867504137,
          0.2553578664872705,
          0.07429648016358943,
          0.39803193145713495,
          0.0010866036595350726,
          -0.12174024987422376,
          0.6313696805360527,
          0.38818568347437854,
          0.4503879711318029,
          0.05926055637759011,
          0.25951071270461884,
          -0.12662853037441144,
          -0.06331826313569755,
          0.19964350375089768,
          0.2521386362765216,
          -0.025610149222927356,
          0.1394315390287763,
          0.12211196530337076,
          0.09262894328043313,
          0.10600247350102937,
          0.13301430241349493,
          0.14860263127518808,
          0.13849900708196566,
          0.26599272411102076,
          0.14956641024516973,
          -0.005145066763604736,
          0.04118035558275253,
          0.06571476135104315,
          0.11742457883914681,
          0.42942608828088313,
          0.16673736087880336,
          0.07642304289566561,
          0.3707599365946676,
          0.3903819320842827,
          0.6912562235797928,
          0.19371060742486837,
          0.12821322502762542,
          0.013013692628486697,
          -0.021768172090036425,
          0.1258363182442726,
          0.14578695007159795,
          0.05239330309701489,
          0.0746217752456591,
          0.16899279508705328,
          0.1355257774823402,
          0.18123354895015475,
          0.22906493450733617,
          0.28355637411064244,
          0.09491369897104637,
          0.2545812203845937,
          0.17425166683538337,
          0.08276432507237762,
          0.1529762162164299,
          0.19823093234610822,
          0.10676084341317557,
          0.052175707604922475,
          -0.12550208957047534,
          0.032879036202058606,
          -0.05469536394644184,
          0.18732269314396008,
          0.2635286148613832,
          0.07893947629760742,
          0.09318791435246618,
          0.04121107600371208,
          0.020879943850696664,
          0.14772139130738307,
          0.5654285665250829,
          0.046701922807983354,
          0.06326581573881983,
          0.15837287098927658,
          0.18644321796626695,
          0.07422435189709804,
          0.22993546916899218,
          0.1473870062236988,
          0.28301476325941527,
          0.1680590425141573,
          0.12157594783981461,
          -0.10256724496492406,
          0.2538786142619954,
          0.39775399475917256,
          0.19312374673884916,
          -0.07639458177561152,
          0.026125766766483545,
          0.12975549053841584,
          0.21851764272261154,
          0.4472231260323461,
          0.12242315861195319,
          0.1948449507317495,
          0.13269754958732136,
          0.07083661859357396,
          0.13511922305298218,
          0.21383923939103966,
          0.21508403113212723,
          0.14693506263246717,
          0.05364712288668583,
          0.13419657487901027,
          0.16606281034540163,
          0.24265609192865167,
          0.14085916914894211,
          -0.031123937118483044,
          0.04733188761115473,
          0.22541111293797939,
          -0.14556537555632496,
          0.10778746715560382,
          0.05440216508683106,
          0.2571173248291273,
          0.019901953312832246,
          0.240320621471776,
          0.18805768488260494,
          0.20461949102127283,
          0.11102374318302884,
          0.1858696479444945,
          0.32287797903787374,
          0.21561749440793027,
          0.14486532274017094,
          0.1727512869061105,
          0.11366868127012467,
          0.24265339331128397,
          0.0810353580124188,
          0.1712074237754625,
          0.0892544668372542,
          0.1537434460450637,
          0.13882468734398584,
          0.2489357648657327,
          0.05953519353525346,
          0.2039628966068054,
          0.09412560797995423,
          0.39634833322931695,
          0.15460787683536256,
          0.24180410535465174,
          0.10600355438049251,
          0.19433020960172964,
          0.30103300010392303,
          0.11529580529908527,
          0.015568487294475871,
          0.10338728964248332,
          0.29800447608527547,
          0.11818131531641805,
          0.2185746670355687,
          0.2524686689529543,
          0.14324466669246638,
          0.10958806614831801,
          -0.1265938138557777,
          0.1223873756286982,
          0.1277998500831147,
          0.5401470882249879,
          0.41686244983823995,
          -0.022065519962817953,
          0.1468935409255548,
          0.20111074910080926,
          0.18459122100146044,
          0.13423880810453728,
          0.061628489291653425,
          -0.06198308829526428,
          0.1336010819193384,
          -0.05804004112093744,
          0.2510138240682247,
          0.2598725290939911,
          0.2612558228527735,
          0.11709709351803221,
          0.22457896829187246,
          0.1610720530458549,
          0.05524297600951582,
          0.3940141986907679,
          0.087329003597018,
          0.12078731661591394,
          0.41731309501497915,
          0.21217672029417983,
          0.15168985027976012,
          0.3247384754604183,
          0.48079605417888294,
          0.2956878750026755,
          0.11833853140538649,
          0.1321271094268153,
          -0.0071485472507261255,
          0.1319383742616845,
          0.17892091593354753,
          0.17861964588823306,
          0.1914456148889193,
          0.10745288069230982,
          0.08181205127726454,
          0.19819025951463895,
          0.16199441387976216,
          0.03905095477803244,
          0.20941675272318608,
          0.014022524640759648,
          0.12888346363068673,
          0.47939105025040196,
          0.5115752894958095,
          0.17341114297747978,
          0.2265786759470174,
          0.5056006860811443,
          0.36605778585253884,
          0.0905505216614766,
          0.56738065899886,
          0.22249194544300455,
          0.15222683292213274,
          0.15298429876945654,
          -0.04688285936810886,
          0.22079026052349823,
          0.21163209041973527,
          0.21867592875328543,
          -0.005440058523890814,
          0.08208609111847383,
          0.15507868973728225,
          0.18043538940337273,
          0.18276114966231458,
          0.25937532112439576,
          0.1496598130236732,
          0.04113200161468075,
          0.3455890201981254,
          0.11620207390922366,
          0.23555438478925783,
          0.08977051234908533,
          0.023875033185988596,
          0.2987403246557873,
          0.1165512783389629,
          0.2741168407099374,
          0.17381776460825601,
          0.18827926246476948,
          0.07992168183687567,
          0.2577247290309265,
          0.18017395032527087,
          0.1831488293266168,
          0.05503708568005538,
          0.5365579528699498,
          0.23450021458729053,
          0.18358890975987327,
          0.12170153712157741,
          0.3334916819460812,
          0.11254299071934747,
          0.07056937220343439,
          0.15255531096134,
          0.3077763032688832,
          0.2547529033246248,
          0.19940071651956376,
          0.21225899801895415,
          0.15807492869074366,
          0.17343258661231503,
          0.2638050511550289,
          0.11715936175256514,
          0.11668089294003646,
          0.06778346926274141,
          0.15475462073442997,
          0.04754815698648583,
          0.28604122261168835,
          0.19875651366598665,
          0.11495506657516256,
          0.2347254789657944,
          0.16814183298377539,
          0.1662828162111611,
          0.15212446552921519,
          0.025191329524628263,
          0.20028194923848652,
          0.2102016463057546,
          0.648550638860842,
          0.10547088018156714,
          -0.0016047276474134907,
          -0.12745113665362848,
          0.10840126136560638,
          0.13819930993255683,
          0.12184278200424105,
          0.12105138823388821,
          0.161728908248672,
          0.38193095549804656,
          0.13019286992885437,
          0.2791595335248847,
          0.10142644733059851,
          0.038007255335614956,
          0.31762343658685893,
          0.5394326418596709,
          0.17442917524890095,
          0.1711186010241447,
          0.13142802903976683,
          -0.08146745643675729,
          0.22573328809062707,
          0.1843431424585188,
          0.26567401894538295,
          0.23863541252191134,
          0.17270308082880545,
          0.3673673075843606,
          0.25656940444398474,
          0.18486892481505462,
          0.22172635792423062,
          0.05585055612877645,
          0.10068926066714745,
          -0.026238769259045232,
          0.020795178533818324,
          0.05053673509298795,
          0.32305426453317143,
          0.12041347489494739,
          0.023365548459805197,
          0.24103712887312576,
          0.38548361664888114,
          0.2738088408615492,
          0.08263646525040881,
          0.3079274023485071,
          0.11704685014931014,
          0.12027191028499616,
          -0.10456780458589071,
          0.19593402123121265,
          -0.2589248012658629,
          -0.12187486690047251,
          0.23270772123886418,
          0.10605250207840891,
          -0.1719888043774051,
          0.17553575907679025,
          0.17036159289497133,
          -0.03125748594865573,
          0.13130947521997047,
          0.18071090872300946,
          0.18924101586819553,
          0.08869657553200781,
          0.06892232749361994,
          0.10994859259907397,
          0.23100241371543678,
          -0.05711362057680086,
          0.08592456589483498,
          0.17590990027575631,
          0.12176960451814453,
          0.27999410551875853,
          0.25621540403043574,
          0.0901219782175811,
          0.1941962597644178,
          0.11186155594368102,
          0.017177648892020496,
          0.1198956120273656,
          0.10932180499949522
         ],
         "z": [
          0.28959705903905025,
          0.32967120758626334,
          0.30204059286912793,
          0.2685037367723534,
          0.5104126525635765,
          0.3274817395383535,
          0.3397750334075733,
          0.3191447889099624,
          0.4186629596988279,
          0.32532904882921826,
          0.37847446247081074,
          0.43182511298100806,
          0.38484567311947127,
          0.3187345774422123,
          0.32838718972754455,
          0.3175446821657041,
          0.5645866255399414,
          0.5416348992841709,
          0.32042767531920197,
          0.5877663977732936,
          0.3505111238249276,
          0.2872529820414705,
          0.3277683964630941,
          0.34624891394566026,
          0.34466890540557016,
          0.39175332698881865,
          0.3408176895161305,
          0.5584425133332968,
          0.30067476810543986,
          0.2788351931606085,
          0.4579278197652981,
          0.4882273786252383,
          0.3366127031849875,
          0.31888166656230243,
          0.47702784081175825,
          0.32363996143434115,
          0.2818733584984675,
          0.31646866275083935,
          0.39423350833437515,
          0.4042999981612365,
          0.8558297970594878,
          0.37054936309753334,
          0.5178107779228662,
          0.5511770297861325,
          0.39432899230378715,
          0.4270064783719373,
          0.30186436303531905,
          0.35077363372467035,
          0.28410890108577014,
          0.3010569491683124,
          0.45024105871961967,
          0.35206775949565716,
          0.3696136209887893,
          0.5330370256687746,
          0.35649816079034613,
          0.41755185541786394,
          0.2971375915991204,
          0.27604235505991775,
          0.342694103162647,
          0.25745561507199066,
          0.4444236870014558,
          0.36695683984257244,
          0.37818069540382704,
          0.576934236443241,
          0.3754183497107967,
          0.36890273556605063,
          0.43634963385920555,
          0.414851800900244,
          0.4102886027797101,
          0.33194849981538077,
          0.23320907653628759,
          0.40390518943457887,
          0.29540911903805034,
          0.31292883836547114,
          0.295660302543996,
          0.305468054415145,
          0.406762280944343,
          0.8991475594784536,
          0.33236471710683324,
          0.2634500598786925,
          0.5213795318998703,
          0.34604471772312345,
          0.49295301080897164,
          0.8872134506285072,
          0.4354546100405346,
          0.4694611045984723,
          0.3581018891270811,
          0.3305029745826299,
          0.4440633471012523,
          0.3699504871962809,
          0.41843247800742966,
          0.4068918091696972,
          0.38886305681295025,
          0.5251332032281729,
          0.4938302447455461,
          0.4237732178240814,
          0.41602843665053224,
          0.32757658674312057,
          0.42837513456020543,
          0.40612985689181197,
          0.341182661751202,
          0.25853057261415474,
          0.3787623041066441,
          0.4202754242992251,
          0.3676238480317196,
          0.31831766487111895,
          0.46334253649572826,
          0.5264960834356838,
          0.2997167358210186,
          0.3355710436890152,
          0.28284694069087796,
          0.2484601202024468,
          0.3671165775741567,
          0.31478345832086224,
          0.5304972359850048,
          0.27042657625956246,
          0.5321882607150792,
          0.28928681493186603,
          0.32111524337313113,
          0.3294678333101805,
          0.35310574524117383,
          0.3802360460428385,
          0.3732929819481135,
          0.40054773168479146,
          0.27215567967691573,
          0.4660450770547278,
          0.32664844947652627,
          0.33905869860708304,
          0.33257664760789546,
          0.30296294015936026,
          0.46963699567445333,
          0.30946576608280807,
          0.5531264085429318,
          0.3879774300096481,
          0.37815127406610377,
          0.5817796510511937,
          0.3855703397051806,
          0.7134171458128237,
          0.501762044726387,
          0.7323829015306661,
          0.3448330191111334,
          0.5767128419600095,
          0.5591934203011787,
          0.38365498236440787,
          0.289504756307547,
          0.42295967252793315,
          0.31494989048563815,
          0.3372283676029817,
          0.43556855759044266,
          0.3208284162773139,
          0.2883362094932288,
          0.39364135608324563,
          0.6779529884551954,
          0.39779525993661624,
          0.3650152181176959,
          0.3669330458907838,
          0.3669875130401534,
          0.3289945342319975,
          0.37274404825368856,
          0.29884215651732277,
          0.34721048426332457,
          0.37418167543676795,
          0.32947519167756517,
          0.5701561715225524,
          0.6200390542663049,
          0.6794508628492484,
          0.37216074174682207,
          0.3458436737688836,
          0.3553598991269606,
          0.3559304448031362,
          0.3732896140223188,
          0.36260593393661344,
          0.3342943069581518,
          0.3202727535036978,
          0.3404361932817904,
          0.5624958045094941,
          0.2909860097588738,
          0.3337649511058077,
          0.40764538261426025,
          0.3576762435388068,
          0.33336123955945157,
          0.3053508469541503,
          0.45162911351016904,
          0.42272066158243954,
          0.5116607266814516,
          0.39742886170674496,
          0.35695079758167375,
          0.40335287148140486,
          0.35670767147359506,
          0.40323311576580645,
          0.3807780153854047,
          0.49646949835733467,
          0.3421563701798041,
          0.4375539843601758,
          0.3966044451524483,
          0.38345035857393744,
          0.4382417572284971,
          0.6016531915325541,
          0.3124161548255607,
          0.40954988647085416,
          0.5677660377315338,
          0.29078449896860764,
          0.4592195329811558,
          0.247252724827393,
          0.49147751399720413,
          0.3595951197553992,
          0.28629662493337366,
          0.3686896975451357,
          0.4368015690599806,
          0.37901826293700974,
          0.6676516029366113,
          0.44480829020111423,
          0.397716357375763,
          0.3951519072118745,
          0.33436514359143255,
          0.26331489952369086,
          0.5885490202509693,
          0.4129695484189332,
          0.3522569422179096,
          0.32076486796027986,
          0.24610208853738838,
          0.5012187145717171,
          0.5298447994295613,
          0.3743366717037666,
          0.4680235984041307,
          0.335503459691487,
          0.3056934644306279,
          0.2944083355385746,
          0.38132072947724177,
          0.307064967322202,
          0.46146038448696913,
          0.34316491412684974,
          0.39264858729324714,
          0.42403572506539877,
          0.2933874927957227,
          0.37518107921769084,
          0.4246617438756971,
          0.34795967115600945,
          0.42569251830545457,
          0.40182842037555766,
          0.5465162729349332,
          0.35184114193288074,
          0.3805202128683433,
          0.3745281672494258,
          0.345157413677558,
          0.30194628768978793,
          0.33185979472450644,
          0.22020759292726355,
          0.3359187839190254,
          0.3829966808529445,
          0.3150020257502494,
          0.25002404224800695,
          0.2741991619574313,
          0.5208151448469831,
          0.34895247377626526,
          0.2431576467896093,
          0.5091318494341637,
          0.3903514844938182,
          0.508932658808625,
          0.31919627011479024,
          0.3248549706149561,
          0.3193446165394414,
          0.3686853926099353,
          0.5416473647539369,
          0.4218923385868994,
          0.5335600850537534,
          0.3290307630114408,
          0.5157300935542393,
          0.680115745011727,
          0.3058376566304337,
          0.4579498805057989,
          0.3077814424715791,
          0.3892427237678519,
          0.5050398627643041,
          0.4908402063048149,
          0.46426454348207624,
          0.7072629851265821,
          0.561703035784915,
          0.3960264309003271,
          0.48152658383818914,
          0.2764338055971613,
          0.4066740231422853,
          0.37967002167239644,
          0.2852056863374068,
          0.3070679103961487,
          0.2581605888208665,
          0.48814769240454253,
          0.4107856834769829,
          0.6655001865746746,
          0.49721111923052314,
          0.49181374097056213,
          0.3494219089754852,
          0.3299356664480675,
          0.5467459787199883,
          0.39977402942425094,
          0.3614408332096533,
          0.24963093027602068,
          0.5561283445218713,
          0.29772225517967,
          0.37385212142257296,
          0.4142181872904633,
          0.6085274718921143,
          0.31237987128483685,
          0.40063876937896714,
          0.5198558396271915,
          0.44606022135813145,
          0.3822607451116809,
          0.38971137799379946,
          0.3962506541030043,
          0.3282031704983812,
          0.373969644055397,
          0.31756544035547724,
          0.35569359847637194,
          0.34958778852929845,
          0.3949384196971125,
          0.3158431432823721,
          0.9424576095341491,
          0.40256169958363935,
          0.4632306818207661,
          0.5595932970626933,
          0.43822238952271253,
          0.49388954579248234,
          0.7909048448096266,
          0.37227301313672795,
          0.3709886210202493,
          0.6328740673933057,
          0.6080630889779078,
          0.2975475031375927,
          0.3394050284866415,
          0.6294501778553021,
          0.4222326944719971,
          0.3428795420410864,
          0.5341273277180257,
          0.506404957370032,
          0.37047644240988437,
          0.2562521590491976,
          0.3502974067697403,
          0.300514829442278,
          0.5155656368764665,
          0.5102464941594619,
          0.32304928973015906,
          0.5586299485094783,
          0.4078585673455433,
          0.4025329045836985,
          0.3534139135137862,
          0.320139007623273,
          0.45423744187175247,
          0.2437437996266902,
          0.2878436596835115,
          0.35170027049783203,
          0.45444383581836667,
          0.29482124794240544,
          0.413399430136954,
          0.29119290932944186,
          0.5022875681393177,
          0.48022038283279034,
          0.4094457604259664,
          0.4551547753517258,
          0.30779672585677065,
          0.4934470692641039,
          0.41551305333149074,
          0.39194182010018624,
          0.37861477552068223,
          0.4659441180496921,
          0.35316377438912405,
          0.4973522786884165,
          0.2608317638680701,
          0.3711356059911247,
          0.39256470682153816,
          0.3802568832645546,
          0.32036252865388465,
          0.3031341733853484,
          0.46126182892822604,
          0.8199438061329942,
          0.34625306901863095,
          0.44283181703990254,
          0.5859211105842362,
          0.3985908420766216,
          0.32754649826838067,
          0.48101951754212074,
          0.34039710934758693,
          0.5648352838393759,
          0.5983391157434031,
          0.4618135507314052,
          0.2658262907424561,
          0.35483267394918805,
          0.7334536354235611,
          0.31266968766350217,
          0.4631968968758634,
          0.46065647027339107,
          0.450169078276927,
          0.31899397768615945,
          0.35940647179816515,
          0.5668843629085712,
          0.5424969123447616,
          0.3922752867116007,
          0.4652802403661985,
          0.3242504423073856,
          0.3995729593332919,
          0.3922062182172279,
          0.5999182061347255,
          0.7387539555345007,
          0.37099501181500216,
          0.36579285186032806,
          0.37109793826958065,
          0.3690415336170431,
          0.4992824838031268,
          0.34813562291252703,
          0.4698408483390573,
          0.3177368151771417,
          0.38665275588048986,
          0.34186592642928554,
          0.3434304561697839,
          0.3365423340949629,
          0.4307347873850269,
          0.46029061334766813,
          0.3537664310786524,
          0.3515139650697851,
          0.41065865872510227,
          0.35988695570663953,
          0.474473890430349,
          0.3115677303010259,
          0.7295647385759083,
          0.3324931220280899,
          0.5083663802086059,
          0.3337672782930947,
          0.4733970549262047,
          0.5778386799496259,
          0.5450270136723222,
          0.3058186430639626,
          0.21079768638557403,
          0.3583227697257952,
          0.44950409653078655,
          0.41046769954027973,
          0.4239902934440893,
          0.33760408201267794,
          0.5002646851732877,
          0.3917645880392154,
          0.4028771540110398,
          0.3710523484440282,
          0.25903076677923903,
          0.2559473594430556,
          0.3343848417769083,
          0.3043075761497729,
          0.45379450366992974,
          0.49219411084676223,
          0.36273152998950003,
          0.5438830949039303,
          0.4777345601641574,
          0.4700017836421764,
          0.45860081382895596,
          0.43067566746263847,
          0.32457489594003675,
          0.2863509386477756,
          0.3599854472224598,
          0.4270707852293673,
          0.3703755799063696,
          0.4594915952834818,
          0.315720776319138
         ]
        }
       ],
       "layout": {
        "coloraxis": {
         "colorbar": {
          "title": {
           "text": "cluster"
          }
         },
         "colorscale": [
          [
           0,
           "#0d0887"
          ],
          [
           0.1111111111111111,
           "#46039f"
          ],
          [
           0.2222222222222222,
           "#7201a8"
          ],
          [
           0.3333333333333333,
           "#9c179e"
          ],
          [
           0.4444444444444444,
           "#bd3786"
          ],
          [
           0.5555555555555556,
           "#d8576b"
          ],
          [
           0.6666666666666666,
           "#ed7953"
          ],
          [
           0.7777777777777778,
           "#fb9f3a"
          ],
          [
           0.8888888888888888,
           "#fdca26"
          ],
          [
           1,
           "#f0f921"
          ]
         ]
        },
        "legend": {
         "tracegroupgap": 0
        },
        "margin": {
         "t": 60
        },
        "scene": {
         "domain": {
          "x": [
           0,
           1
          ],
          "y": [
           0,
           1
          ]
         },
         "xaxis": {
          "title": {
           "text": "priceToBook"
          }
         },
         "yaxis": {
          "title": {
           "text": "Returns"
          }
         },
         "zaxis": {
          "title": {
           "text": "Volatility"
          }
         }
        },
        "template": {
         "data": {
          "bar": [
           {
            "error_x": {
             "color": "#2a3f5f"
            },
            "error_y": {
             "color": "#2a3f5f"
            },
            "marker": {
             "line": {
              "color": "#E5ECF6",
              "width": 0.5
             },
             "pattern": {
              "fillmode": "overlay",
              "size": 10,
              "solidity": 0.2
             }
            },
            "type": "bar"
           }
          ],
          "barpolar": [
           {
            "marker": {
             "line": {
              "color": "#E5ECF6",
              "width": 0.5
             },
             "pattern": {
              "fillmode": "overlay",
              "size": 10,
              "solidity": 0.2
             }
            },
            "type": "barpolar"
           }
          ],
          "carpet": [
           {
            "aaxis": {
             "endlinecolor": "#2a3f5f",
             "gridcolor": "white",
             "linecolor": "white",
             "minorgridcolor": "white",
             "startlinecolor": "#2a3f5f"
            },
            "baxis": {
             "endlinecolor": "#2a3f5f",
             "gridcolor": "white",
             "linecolor": "white",
             "minorgridcolor": "white",
             "startlinecolor": "#2a3f5f"
            },
            "type": "carpet"
           }
          ],
          "choropleth": [
           {
            "colorbar": {
             "outlinewidth": 0,
             "ticks": ""
            },
            "type": "choropleth"
           }
          ],
          "contour": [
           {
            "colorbar": {
             "outlinewidth": 0,
             "ticks": ""
            },
            "colorscale": [
             [
              0,
              "#0d0887"
             ],
             [
              0.1111111111111111,
              "#46039f"
             ],
             [
              0.2222222222222222,
              "#7201a8"
             ],
             [
              0.3333333333333333,
              "#9c179e"
             ],
             [
              0.4444444444444444,
              "#bd3786"
             ],
             [
              0.5555555555555556,
              "#d8576b"
             ],
             [
              0.6666666666666666,
              "#ed7953"
             ],
             [
              0.7777777777777778,
              "#fb9f3a"
             ],
             [
              0.8888888888888888,
              "#fdca26"
             ],
             [
              1,
              "#f0f921"
             ]
            ],
            "type": "contour"
           }
          ],
          "contourcarpet": [
           {
            "colorbar": {
             "outlinewidth": 0,
             "ticks": ""
            },
            "type": "contourcarpet"
           }
          ],
          "heatmap": [
           {
            "colorbar": {
             "outlinewidth": 0,
             "ticks": ""
            },
            "colorscale": [
             [
              0,
              "#0d0887"
             ],
             [
              0.1111111111111111,
              "#46039f"
             ],
             [
              0.2222222222222222,
              "#7201a8"
             ],
             [
              0.3333333333333333,
              "#9c179e"
             ],
             [
              0.4444444444444444,
              "#bd3786"
             ],
             [
              0.5555555555555556,
              "#d8576b"
             ],
             [
              0.6666666666666666,
              "#ed7953"
             ],
             [
              0.7777777777777778,
              "#fb9f3a"
             ],
             [
              0.8888888888888888,
              "#fdca26"
             ],
             [
              1,
              "#f0f921"
             ]
            ],
            "type": "heatmap"
           }
          ],
          "heatmapgl": [
           {
            "colorbar": {
             "outlinewidth": 0,
             "ticks": ""
            },
            "colorscale": [
             [
              0,
              "#0d0887"
             ],
             [
              0.1111111111111111,
              "#46039f"
             ],
             [
              0.2222222222222222,
              "#7201a8"
             ],
             [
              0.3333333333333333,
              "#9c179e"
             ],
             [
              0.4444444444444444,
              "#bd3786"
             ],
             [
              0.5555555555555556,
              "#d8576b"
             ],
             [
              0.6666666666666666,
              "#ed7953"
             ],
             [
              0.7777777777777778,
              "#fb9f3a"
             ],
             [
              0.8888888888888888,
              "#fdca26"
             ],
             [
              1,
              "#f0f921"
             ]
            ],
            "type": "heatmapgl"
           }
          ],
          "histogram": [
           {
            "marker": {
             "pattern": {
              "fillmode": "overlay",
              "size": 10,
              "solidity": 0.2
             }
            },
            "type": "histogram"
           }
          ],
          "histogram2d": [
           {
            "colorbar": {
             "outlinewidth": 0,
             "ticks": ""
            },
            "colorscale": [
             [
              0,
              "#0d0887"
             ],
             [
              0.1111111111111111,
              "#46039f"
             ],
             [
              0.2222222222222222,
              "#7201a8"
             ],
             [
              0.3333333333333333,
              "#9c179e"
             ],
             [
              0.4444444444444444,
              "#bd3786"
             ],
             [
              0.5555555555555556,
              "#d8576b"
             ],
             [
              0.6666666666666666,
              "#ed7953"
             ],
             [
              0.7777777777777778,
              "#fb9f3a"
             ],
             [
              0.8888888888888888,
              "#fdca26"
             ],
             [
              1,
              "#f0f921"
             ]
            ],
            "type": "histogram2d"
           }
          ],
          "histogram2dcontour": [
           {
            "colorbar": {
             "outlinewidth": 0,
             "ticks": ""
            },
            "colorscale": [
             [
              0,
              "#0d0887"
             ],
             [
              0.1111111111111111,
              "#46039f"
             ],
             [
              0.2222222222222222,
              "#7201a8"
             ],
             [
              0.3333333333333333,
              "#9c179e"
             ],
             [
              0.4444444444444444,
              "#bd3786"
             ],
             [
              0.5555555555555556,
              "#d8576b"
             ],
             [
              0.6666666666666666,
              "#ed7953"
             ],
             [
              0.7777777777777778,
              "#fb9f3a"
             ],
             [
              0.8888888888888888,
              "#fdca26"
             ],
             [
              1,
              "#f0f921"
             ]
            ],
            "type": "histogram2dcontour"
           }
          ],
          "mesh3d": [
           {
            "colorbar": {
             "outlinewidth": 0,
             "ticks": ""
            },
            "type": "mesh3d"
           }
          ],
          "parcoords": [
           {
            "line": {
             "colorbar": {
              "outlinewidth": 0,
              "ticks": ""
             }
            },
            "type": "parcoords"
           }
          ],
          "pie": [
           {
            "automargin": true,
            "type": "pie"
           }
          ],
          "scatter": [
           {
            "fillpattern": {
             "fillmode": "overlay",
             "size": 10,
             "solidity": 0.2
            },
            "type": "scatter"
           }
          ],
          "scatter3d": [
           {
            "line": {
             "colorbar": {
              "outlinewidth": 0,
              "ticks": ""
             }
            },
            "marker": {
             "colorbar": {
              "outlinewidth": 0,
              "ticks": ""
             }
            },
            "type": "scatter3d"
           }
          ],
          "scattercarpet": [
           {
            "marker": {
             "colorbar": {
              "outlinewidth": 0,
              "ticks": ""
             }
            },
            "type": "scattercarpet"
           }
          ],
          "scattergeo": [
           {
            "marker": {
             "colorbar": {
              "outlinewidth": 0,
              "ticks": ""
             }
            },
            "type": "scattergeo"
           }
          ],
          "scattergl": [
           {
            "marker": {
             "colorbar": {
              "outlinewidth": 0,
              "ticks": ""
             }
            },
            "type": "scattergl"
           }
          ],
          "scattermapbox": [
           {
            "marker": {
             "colorbar": {
              "outlinewidth": 0,
              "ticks": ""
             }
            },
            "type": "scattermapbox"
           }
          ],
          "scatterpolar": [
           {
            "marker": {
             "colorbar": {
              "outlinewidth": 0,
              "ticks": ""
             }
            },
            "type": "scatterpolar"
           }
          ],
          "scatterpolargl": [
           {
            "marker": {
             "colorbar": {
              "outlinewidth": 0,
              "ticks": ""
             }
            },
            "type": "scatterpolargl"
           }
          ],
          "scatterternary": [
           {
            "marker": {
             "colorbar": {
              "outlinewidth": 0,
              "ticks": ""
             }
            },
            "type": "scatterternary"
           }
          ],
          "surface": [
           {
            "colorbar": {
             "outlinewidth": 0,
             "ticks": ""
            },
            "colorscale": [
             [
              0,
              "#0d0887"
             ],
             [
              0.1111111111111111,
              "#46039f"
             ],
             [
              0.2222222222222222,
              "#7201a8"
             ],
             [
              0.3333333333333333,
              "#9c179e"
             ],
             [
              0.4444444444444444,
              "#bd3786"
             ],
             [
              0.5555555555555556,
              "#d8576b"
             ],
             [
              0.6666666666666666,
              "#ed7953"
             ],
             [
              0.7777777777777778,
              "#fb9f3a"
             ],
             [
              0.8888888888888888,
              "#fdca26"
             ],
             [
              1,
              "#f0f921"
             ]
            ],
            "type": "surface"
           }
          ],
          "table": [
           {
            "cells": {
             "fill": {
              "color": "#EBF0F8"
             },
             "line": {
              "color": "white"
             }
            },
            "header": {
             "fill": {
              "color": "#C8D4E3"
             },
             "line": {
              "color": "white"
             }
            },
            "type": "table"
           }
          ]
         },
         "layout": {
          "annotationdefaults": {
           "arrowcolor": "#2a3f5f",
           "arrowhead": 0,
           "arrowwidth": 1
          },
          "autotypenumbers": "strict",
          "coloraxis": {
           "colorbar": {
            "outlinewidth": 0,
            "ticks": ""
           }
          },
          "colorscale": {
           "diverging": [
            [
             0,
             "#8e0152"
            ],
            [
             0.1,
             "#c51b7d"
            ],
            [
             0.2,
             "#de77ae"
            ],
            [
             0.3,
             "#f1b6da"
            ],
            [
             0.4,
             "#fde0ef"
            ],
            [
             0.5,
             "#f7f7f7"
            ],
            [
             0.6,
             "#e6f5d0"
            ],
            [
             0.7,
             "#b8e186"
            ],
            [
             0.8,
             "#7fbc41"
            ],
            [
             0.9,
             "#4d9221"
            ],
            [
             1,
             "#276419"
            ]
           ],
           "sequential": [
            [
             0,
             "#0d0887"
            ],
            [
             0.1111111111111111,
             "#46039f"
            ],
            [
             0.2222222222222222,
             "#7201a8"
            ],
            [
             0.3333333333333333,
             "#9c179e"
            ],
            [
             0.4444444444444444,
             "#bd3786"
            ],
            [
             0.5555555555555556,
             "#d8576b"
            ],
            [
             0.6666666666666666,
             "#ed7953"
            ],
            [
             0.7777777777777778,
             "#fb9f3a"
            ],
            [
             0.8888888888888888,
             "#fdca26"
            ],
            [
             1,
             "#f0f921"
            ]
           ],
           "sequentialminus": [
            [
             0,
             "#0d0887"
            ],
            [
             0.1111111111111111,
             "#46039f"
            ],
            [
             0.2222222222222222,
             "#7201a8"
            ],
            [
             0.3333333333333333,
             "#9c179e"
            ],
            [
             0.4444444444444444,
             "#bd3786"
            ],
            [
             0.5555555555555556,
             "#d8576b"
            ],
            [
             0.6666666666666666,
             "#ed7953"
            ],
            [
             0.7777777777777778,
             "#fb9f3a"
            ],
            [
             0.8888888888888888,
             "#fdca26"
            ],
            [
             1,
             "#f0f921"
            ]
           ]
          },
          "colorway": [
           "#636efa",
           "#EF553B",
           "#00cc96",
           "#ab63fa",
           "#FFA15A",
           "#19d3f3",
           "#FF6692",
           "#B6E880",
           "#FF97FF",
           "#FECB52"
          ],
          "font": {
           "color": "#2a3f5f"
          },
          "geo": {
           "bgcolor": "white",
           "lakecolor": "white",
           "landcolor": "#E5ECF6",
           "showlakes": true,
           "showland": true,
           "subunitcolor": "white"
          },
          "hoverlabel": {
           "align": "left"
          },
          "hovermode": "closest",
          "mapbox": {
           "style": "light"
          },
          "paper_bgcolor": "white",
          "plot_bgcolor": "#E5ECF6",
          "polar": {
           "angularaxis": {
            "gridcolor": "white",
            "linecolor": "white",
            "ticks": ""
           },
           "bgcolor": "#E5ECF6",
           "radialaxis": {
            "gridcolor": "white",
            "linecolor": "white",
            "ticks": ""
           }
          },
          "scene": {
           "xaxis": {
            "backgroundcolor": "#E5ECF6",
            "gridcolor": "white",
            "gridwidth": 2,
            "linecolor": "white",
            "showbackground": true,
            "ticks": "",
            "zerolinecolor": "white"
           },
           "yaxis": {
            "backgroundcolor": "#E5ECF6",
            "gridcolor": "white",
            "gridwidth": 2,
            "linecolor": "white",
            "showbackground": true,
            "ticks": "",
            "zerolinecolor": "white"
           },
           "zaxis": {
            "backgroundcolor": "#E5ECF6",
            "gridcolor": "white",
            "gridwidth": 2,
            "linecolor": "white",
            "showbackground": true,
            "ticks": "",
            "zerolinecolor": "white"
           }
          },
          "shapedefaults": {
           "line": {
            "color": "#2a3f5f"
           }
          },
          "ternary": {
           "aaxis": {
            "gridcolor": "white",
            "linecolor": "white",
            "ticks": ""
           },
           "baxis": {
            "gridcolor": "white",
            "linecolor": "white",
            "ticks": ""
           },
           "bgcolor": "#E5ECF6",
           "caxis": {
            "gridcolor": "white",
            "linecolor": "white",
            "ticks": ""
           }
          },
          "title": {
           "x": 0.05
          },
          "xaxis": {
           "automargin": true,
           "gridcolor": "white",
           "linecolor": "white",
           "ticks": "",
           "title": {
            "standoff": 15
           },
           "zerolinecolor": "white",
           "zerolinewidth": 2
          },
          "yaxis": {
           "automargin": true,
           "gridcolor": "white",
           "linecolor": "white",
           "ticks": "",
           "title": {
            "standoff": 15
           },
           "zerolinecolor": "white",
           "zerolinewidth": 2
          }
         }
        }
       }
      }
     },
     "metadata": {},
     "output_type": "display_data"
    }
   ],
   "source": [
    "k_means_optimum = KMeans(n_clusters = 3, init = 'k-means++',  random_state=42)\n",
    "y = k_means_optimum.fit_predict(X)\n",
    "clusters3d_df['cluster'] = y \n",
    "\n",
    "fig = px.scatter_3d(clusters3d_df, x='priceToBook', y='Returns', z='Volatility',\n",
    "              color='cluster', hover_data=[\"Ticker\"])\n",
    "fig.show()"
   ]
  },
  {
   "cell_type": "markdown",
   "metadata": {},
   "source": [
    "Now we achieve a more accurate clusterization"
   ]
  }
 ],
 "metadata": {
  "kernelspec": {
   "display_name": "Python 3.10.7 64-bit",
   "language": "python",
   "name": "python3"
  },
  "language_info": {
   "codemirror_mode": {
    "name": "ipython",
    "version": 3
   },
   "file_extension": ".py",
   "mimetype": "text/x-python",
   "name": "python",
   "nbconvert_exporter": "python",
   "pygments_lexer": "ipython3",
   "version": "3.10.7"
  },
  "orig_nbformat": 4,
  "vscode": {
   "interpreter": {
    "hash": "b1896fd924129e7fd2d4d004268bb9f63a53b23ae7875be394e789ef8193cc30"
   }
  }
 },
 "nbformat": 4,
 "nbformat_minor": 2
}
